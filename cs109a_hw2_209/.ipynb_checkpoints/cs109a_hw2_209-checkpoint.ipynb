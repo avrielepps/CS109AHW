{
 "cells": [
  {
   "cell_type": "markdown",
   "metadata": {},
   "source": [
    "# <img style=\"float: left; padding-right: 10px; width: 45px\" src=\"https://raw.githubusercontent.com/Harvard-IACS/2018-CS109A/master/content/styles/iacs.png\"> CS109A Introduction to Data Science: \n",
    "\n",
    "## Homework 2  AC 209 : Linear and k-NN Regression\n",
    "\n",
    "\n",
    "**Harvard University**<br/>\n",
    "**Fall 2018**<br/>\n",
    "**Instructors**: Pavlos Protopapas, Kevin Rader\n",
    "\n",
    "<hr style=\"height:2pt\">\n"
   ]
  },
  {
   "cell_type": "code",
   "execution_count": 1,
   "metadata": {},
   "outputs": [
    {
     "data": {
      "text/html": [
       "<style>\n",
       "h1 { \n",
       "    padding-top: 25px;\n",
       "    padding-bottom: 25px;\n",
       "    text-align: left; \n",
       "    padding-left: 10px;\n",
       "    background-color: #DDDDDD; \n",
       "    color: black;\n",
       "}\n",
       "h2 { \n",
       "    padding-top: 10px;\n",
       "    padding-bottom: 10px;\n",
       "    text-align: left; \n",
       "    padding-left: 5px;\n",
       "    background-color: #EEEEEE; \n",
       "    color: black;\n",
       "}\n",
       "\n",
       "div.exercise {\n",
       "\tbackground-color: #ffcccc;\n",
       "\tborder-color: #E9967A; \t\n",
       "\tborder-left: 5px solid #800080; \n",
       "\tpadding: 0.5em;\n",
       "}\n",
       "div.theme {\n",
       "\tbackground-color: #DDDDDD;\n",
       "\tborder-color: #E9967A; \t\n",
       "\tborder-left: 5px solid #800080; \n",
       "\tpadding: 0.5em;\n",
       "\tfont-size: 18pt;\n",
       "}\n",
       "p.q1 { \n",
       "    padding-top: 5px;\n",
       "    padding-bottom: 5px;\n",
       "    text-align: left; \n",
       "    padding-left: 5px;\n",
       "    background-color: #EEEEEE; \n",
       "    color: black;\n",
       "}\n",
       "header {\n",
       "   padding-top: 35px;\n",
       "    padding-bottom: 35px;\n",
       "    text-align: left; \n",
       "    padding-left: 10px;\n",
       "    background-color: #DDDDDD; \n",
       "    color: black;\n",
       "}\n",
       "</style>\n",
       "\n"
      ],
      "text/plain": [
       "<IPython.core.display.HTML object>"
      ]
     },
     "execution_count": 1,
     "metadata": {},
     "output_type": "execute_result"
    }
   ],
   "source": [
    "#RUN THIS CELL \n",
    "import requests\n",
    "from IPython.core.display import HTML\n",
    "styles = requests.get(\"https://raw.githubusercontent.com/Harvard-IACS/2018-CS109A/master/content/styles/cs109.css\").text\n",
    "HTML(styles)"
   ]
  },
  {
   "cell_type": "markdown",
   "metadata": {},
   "source": [
    "### INSTRUCTIONS\n",
    "\n",
    "- To submit your assignment follow the instructions given in canvas.\n",
    "- Restart the kernel and run the whole notebook again before you submit. \n",
    "- If you submit individually and you have worked with someone, please include the name of your [one] partner below. \n",
    "- As much as possible, try and stick to the hints and functions we import at the top of the homework, as those are the ideas and tools the class supports and is aiming to teach. And if a problem specifies a particular library you're required to use that library, and possibly others from the import list."
   ]
  },
  {
   "cell_type": "markdown",
   "metadata": {},
   "source": [
    "Names of people you have worked with goes here: "
   ]
  },
  {
   "cell_type": "markdown",
   "metadata": {},
   "source": [
    "<hr style=\"height:2pt\">"
   ]
  },
  {
   "cell_type": "code",
   "execution_count": 2,
   "metadata": {
    "scrolled": true
   },
   "outputs": [
    {
     "name": "stderr",
     "output_type": "stream",
     "text": [
      "/anaconda3/lib/python3.6/site-packages/statsmodels/compat/pandas.py:56: FutureWarning: The pandas.core.datetools module is deprecated and will be removed in a future version. Please use the pandas.tseries module instead.\n",
      "  from pandas.core import datetools\n"
     ]
    }
   ],
   "source": [
    "import numpy as np\n",
    "import pandas as pd\n",
    "import matplotlib\n",
    "import matplotlib.pyplot as plt\n",
    "from sklearn.metrics import r2_score\n",
    "from sklearn.neighbors import KNeighborsRegressor\n",
    "from sklearn.linear_model import LinearRegression\n",
    "from sklearn.model_selection import train_test_split\n",
    "import statsmodels.api as sm\n",
    "from statsmodels.api import OLS\n",
    "from pandas.core import datetools\n",
    "%matplotlib inline"
   ]
  },
  {
   "cell_type": "markdown",
   "metadata": {},
   "source": [
    "<hr style=\"height:2pt\">\n",
    "\n",
    "\n",
    "<div class='theme'>Linear Algebra, Accuracy, and Confidence Intervals </div>\n",
    "In this part of the homework, you will see how _uncertainty_ in the beta coefficients can directly impact our ability to make predictions with a linear regression model and how in general we can do inference on the predictors. You will explore a linear-algebra formula that tells us how accurately we've learned the beta parameters, going beyond simple SEs to describe the joint distribution of the betas. You'll see that the structure of the $X$ data can strongly impact how well we can learn the betas, and you'll determine desirable prroperties of the $X$ data.\n",
    "\n",
    "The data for this supplement are the same as in lab1, and are imported for you in the cells below."
   ]
  },
  {
   "cell_type": "code",
   "execution_count": 3,
   "metadata": {},
   "outputs": [
    {
     "data": {
      "text/html": [
       "<div>\n",
       "<style>\n",
       "    .dataframe thead tr:only-child th {\n",
       "        text-align: right;\n",
       "    }\n",
       "\n",
       "    .dataframe thead th {\n",
       "        text-align: left;\n",
       "    }\n",
       "\n",
       "    .dataframe tbody tr th {\n",
       "        vertical-align: top;\n",
       "    }\n",
       "</style>\n",
       "<table border=\"1\" class=\"dataframe\">\n",
       "  <thead>\n",
       "    <tr style=\"text-align: right;\">\n",
       "      <th></th>\n",
       "      <th>name</th>\n",
       "      <th>mpg</th>\n",
       "      <th>cyl</th>\n",
       "      <th>disp</th>\n",
       "      <th>hp</th>\n",
       "      <th>drat</th>\n",
       "      <th>wt</th>\n",
       "      <th>qsec</th>\n",
       "      <th>vs</th>\n",
       "      <th>am</th>\n",
       "      <th>gear</th>\n",
       "      <th>carb</th>\n",
       "    </tr>\n",
       "  </thead>\n",
       "  <tbody>\n",
       "    <tr>\n",
       "      <th>0</th>\n",
       "      <td>Mazda RX4</td>\n",
       "      <td>21.0</td>\n",
       "      <td>6</td>\n",
       "      <td>160.0</td>\n",
       "      <td>110</td>\n",
       "      <td>3.90</td>\n",
       "      <td>2.620</td>\n",
       "      <td>16.46</td>\n",
       "      <td>0</td>\n",
       "      <td>1</td>\n",
       "      <td>4</td>\n",
       "      <td>4</td>\n",
       "    </tr>\n",
       "    <tr>\n",
       "      <th>1</th>\n",
       "      <td>Mazda RX4 Wag</td>\n",
       "      <td>21.0</td>\n",
       "      <td>6</td>\n",
       "      <td>160.0</td>\n",
       "      <td>110</td>\n",
       "      <td>3.90</td>\n",
       "      <td>2.875</td>\n",
       "      <td>17.02</td>\n",
       "      <td>0</td>\n",
       "      <td>1</td>\n",
       "      <td>4</td>\n",
       "      <td>4</td>\n",
       "    </tr>\n",
       "    <tr>\n",
       "      <th>2</th>\n",
       "      <td>Datsun 710</td>\n",
       "      <td>22.8</td>\n",
       "      <td>4</td>\n",
       "      <td>108.0</td>\n",
       "      <td>93</td>\n",
       "      <td>3.85</td>\n",
       "      <td>2.320</td>\n",
       "      <td>18.61</td>\n",
       "      <td>1</td>\n",
       "      <td>1</td>\n",
       "      <td>4</td>\n",
       "      <td>1</td>\n",
       "    </tr>\n",
       "    <tr>\n",
       "      <th>3</th>\n",
       "      <td>Hornet 4 Drive</td>\n",
       "      <td>21.4</td>\n",
       "      <td>6</td>\n",
       "      <td>258.0</td>\n",
       "      <td>110</td>\n",
       "      <td>3.08</td>\n",
       "      <td>3.215</td>\n",
       "      <td>19.44</td>\n",
       "      <td>1</td>\n",
       "      <td>0</td>\n",
       "      <td>3</td>\n",
       "      <td>1</td>\n",
       "    </tr>\n",
       "    <tr>\n",
       "      <th>4</th>\n",
       "      <td>Hornet Sportabout</td>\n",
       "      <td>18.7</td>\n",
       "      <td>8</td>\n",
       "      <td>360.0</td>\n",
       "      <td>175</td>\n",
       "      <td>3.15</td>\n",
       "      <td>3.440</td>\n",
       "      <td>17.02</td>\n",
       "      <td>0</td>\n",
       "      <td>0</td>\n",
       "      <td>3</td>\n",
       "      <td>2</td>\n",
       "    </tr>\n",
       "  </tbody>\n",
       "</table>\n",
       "</div>"
      ],
      "text/plain": [
       "                name   mpg  cyl   disp   hp  drat     wt   qsec  vs  am  gear  \\\n",
       "0          Mazda RX4  21.0    6  160.0  110  3.90  2.620  16.46   0   1     4   \n",
       "1      Mazda RX4 Wag  21.0    6  160.0  110  3.90  2.875  17.02   0   1     4   \n",
       "2         Datsun 710  22.8    4  108.0   93  3.85  2.320  18.61   1   1     4   \n",
       "3     Hornet 4 Drive  21.4    6  258.0  110  3.08  3.215  19.44   1   0     3   \n",
       "4  Hornet Sportabout  18.7    8  360.0  175  3.15  3.440  17.02   0   0     3   \n",
       "\n",
       "   carb  \n",
       "0     4  \n",
       "1     4  \n",
       "2     1  \n",
       "3     1  \n",
       "4     2  "
      ]
     },
     "execution_count": 3,
     "metadata": {},
     "output_type": "execute_result"
    }
   ],
   "source": [
    "import pandas as pd\n",
    "import statsmodels.api as sm\n",
    "import numpy as np\n",
    "import matplotlib.pyplot as plt\n",
    "\n",
    "df=pd.read_csv(\"data/cleaned_mtcars.csv\")\n",
    "df.head()"
   ]
  },
  {
   "cell_type": "code",
   "execution_count": 4,
   "metadata": {
    "collapsed": true
   },
   "outputs": [],
   "source": [
    "y = df[['mpg']].values\n",
    "X = df[['cyl','disp','hp','wt','qsec']]\n",
    "\n",
    "\n",
    "X = sm.add_constant(X)"
   ]
  },
  {
   "cell_type": "markdown",
   "metadata": {},
   "source": [
    "---- \n"
   ]
  },
  {
   "cell_type": "markdown",
   "metadata": {},
   "source": [
    "<div class='exercise'> <b> Question 5 [4 pts] </b> </div>\n",
    "\n",
    "**5.1** Fit a simple linear regression model predicting `mpg` via `disp`. Use the `FittedOLS.get_prediction().summary_frame()` method to access the confidence intervals for our prediction at various values of `disp` and make a well-labeled plot showing\n",
    " 1. The observed values of `disp` and `mpg`.\n",
    " 2. The regression line.\n",
    " 3. The upper and lower bounds of the 95% confidence interval for the _predicted_ (not the observed) `mpg` at any given displacement.\n",
    " \n",
    "**5.2** Why do we have a confidence interval for our predicted value? Why isn't the prediction just a single number?\n",
    "\n",
    "**5.3** Someone asks what `mpg` you would predict for a `disp` value of 400. What do you tell them? paying attention to the confidence interval (5.1.3) above?\n",
    "\n",
    "**5.4** Why does the 95% confidence interval for the predicted `mpg` appear to curve as we move away from the data's center? "
   ]
  },
  {
   "cell_type": "markdown",
   "metadata": {},
   "source": [
    "### Answers"
   ]
  },
  {
   "cell_type": "markdown",
   "metadata": {},
   "source": [
    "**5.1 Fit a linear regression model predicting `mpg` via `disp`. Use the `FittedOLS.get_prediction().summary_frame()` method to access the confidence intervals for our prediction at various levels of `disp` and make a well-labled plot showing**\n",
    " 1. **The observed values of weight and mpg**\n",
    " 2. **The regression line**\n",
    " 3. **The upper and lower bounds of the 95% confidence interval for the _mean/predicted mpg_ at any given displacement**\n",
    " "
   ]
  },
  {
   "cell_type": "code",
   "execution_count": 87,
   "metadata": {},
   "outputs": [
    {
     "data": {
      "image/png": "[encoded data removed]",
      "text/plain": [
       "<matplotlib.figure.Figure at 0x1c20004fd0>"
      ]
     },
     "metadata": {},
     "output_type": "display_data"
    }
   ],
   "source": [
    "#First let's plot the data\n",
    "import seaborn as sns; sns.set(color_codes=True)\n",
    "fig, ax = plt.subplots(figsize=(10, 8))\n",
    "ax.scatter(df.disp, df.mpg, alpha=0.5, color='navy')\n",
    "fig.suptitle('MPG via DISP Scatter Plot')\n",
    "fig.tight_layout(pad=2);\n",
    "ax.set_xlabel('Car Disp')\n",
    "ax.set_ylabel('Car MPG')\n",
    "ax.grid(True)"
   ]
  },
  {
   "cell_type": "code",
   "execution_count": 88,
   "metadata": {},
   "outputs": [
    {
     "data": {
      "text/html": [
       "<table class=\"simpletable\">\n",
       "<caption>OLS Regression Results</caption>\n",
       "<tr>\n",
       "  <th>Dep. Variable:</th>           <td>mpg</td>       <th>  R-squared:         </th> <td>   0.718</td>\n",
       "</tr>\n",
       "<tr>\n",
       "  <th>Model:</th>                   <td>OLS</td>       <th>  Adj. R-squared:    </th> <td>   0.709</td>\n",
       "</tr>\n",
       "<tr>\n",
       "  <th>Method:</th>             <td>Least Squares</td>  <th>  F-statistic:       </th> <td>   76.51</td>\n",
       "</tr>\n",
       "<tr>\n",
       "  <th>Date:</th>             <td>Wed, 26 Sep 2018</td> <th>  Prob (F-statistic):</th> <td>9.38e-10</td>\n",
       "</tr>\n",
       "<tr>\n",
       "  <th>Time:</th>                 <td>20:43:28</td>     <th>  Log-Likelihood:    </th> <td> -82.105</td>\n",
       "</tr>\n",
       "<tr>\n",
       "  <th>No. Observations:</th>      <td>    32</td>      <th>  AIC:               </th> <td>   168.2</td>\n",
       "</tr>\n",
       "<tr>\n",
       "  <th>Df Residuals:</th>          <td>    30</td>      <th>  BIC:               </th> <td>   171.1</td>\n",
       "</tr>\n",
       "<tr>\n",
       "  <th>Df Model:</th>              <td>     1</td>      <th>                     </th>     <td> </td>   \n",
       "</tr>\n",
       "<tr>\n",
       "  <th>Covariance Type:</th>      <td>nonrobust</td>    <th>                     </th>     <td> </td>   \n",
       "</tr>\n",
       "</table>\n",
       "<table class=\"simpletable\">\n",
       "<tr>\n",
       "    <td></td>       <th>coef</th>     <th>std err</th>      <th>t</th>      <th>P>|t|</th>  <th>[0.025</th>    <th>0.975]</th>  \n",
       "</tr>\n",
       "<tr>\n",
       "  <th>const</th> <td>   29.5999</td> <td>    1.230</td> <td>   24.070</td> <td> 0.000</td> <td>   27.088</td> <td>   32.111</td>\n",
       "</tr>\n",
       "<tr>\n",
       "  <th>disp</th>  <td>   -0.0412</td> <td>    0.005</td> <td>   -8.747</td> <td> 0.000</td> <td>   -0.051</td> <td>   -0.032</td>\n",
       "</tr>\n",
       "</table>\n",
       "<table class=\"simpletable\">\n",
       "<tr>\n",
       "  <th>Omnibus:</th>       <td> 3.368</td> <th>  Durbin-Watson:     </th> <td>   1.250</td>\n",
       "</tr>\n",
       "<tr>\n",
       "  <th>Prob(Omnibus):</th> <td> 0.186</td> <th>  Jarque-Bera (JB):  </th> <td>   3.049</td>\n",
       "</tr>\n",
       "<tr>\n",
       "  <th>Skew:</th>          <td> 0.719</td> <th>  Prob(JB):          </th> <td>   0.218</td>\n",
       "</tr>\n",
       "<tr>\n",
       "  <th>Kurtosis:</th>      <td> 2.532</td> <th>  Cond. No.          </th> <td>    558.</td>\n",
       "</tr>\n",
       "</table>"
      ],
      "text/plain": [
       "<class 'statsmodels.iolib.summary.Summary'>\n",
       "\"\"\"\n",
       "                            OLS Regression Results                            \n",
       "==============================================================================\n",
       "Dep. Variable:                    mpg   R-squared:                       0.718\n",
       "Model:                            OLS   Adj. R-squared:                  0.709\n",
       "Method:                 Least Squares   F-statistic:                     76.51\n",
       "Date:                Wed, 26 Sep 2018   Prob (F-statistic):           9.38e-10\n",
       "Time:                        20:43:28   Log-Likelihood:                -82.105\n",
       "No. Observations:                  32   AIC:                             168.2\n",
       "Df Residuals:                      30   BIC:                             171.1\n",
       "Df Model:                           1                                         \n",
       "Covariance Type:            nonrobust                                         \n",
       "==============================================================================\n",
       "                 coef    std err          t      P>|t|      [0.025      0.975]\n",
       "------------------------------------------------------------------------------\n",
       "const         29.5999      1.230     24.070      0.000      27.088      32.111\n",
       "disp          -0.0412      0.005     -8.747      0.000      -0.051      -0.032\n",
       "==============================================================================\n",
       "Omnibus:                        3.368   Durbin-Watson:                   1.250\n",
       "Prob(Omnibus):                  0.186   Jarque-Bera (JB):                3.049\n",
       "Skew:                           0.719   Prob(JB):                        0.218\n",
       "Kurtosis:                       2.532   Cond. No.                         558.\n",
       "==============================================================================\n",
       "\n",
       "Warnings:\n",
       "[1] Standard Errors assume that the covariance matrix of the errors is correctly specified.\n",
       "\"\"\""
      ]
     },
     "metadata": {},
     "output_type": "display_data"
    }
   ],
   "source": [
    "#Then must first create the linear regression object from stats model\n",
    "x_disp = sm.add_constant(df.disp)\n",
    "OLSmodel = sm.OLS(df.mpg, x_disp)\n",
    "results = OLSmodel.fit()\n",
    "predicted_y = results.predict(x_disp)\n",
    "display(results.summary())"
   ]
  },
  {
   "cell_type": "code",
   "execution_count": 93,
   "metadata": {
    "scrolled": true
   },
   "outputs": [
    {
     "data": {
      "text/html": [
       "<div>\n",
       "<style>\n",
       "    .dataframe thead tr:only-child th {\n",
       "        text-align: right;\n",
       "    }\n",
       "\n",
       "    .dataframe thead th {\n",
       "        text-align: left;\n",
       "    }\n",
       "\n",
       "    .dataframe tbody tr th {\n",
       "        vertical-align: top;\n",
       "    }\n",
       "</style>\n",
       "<table border=\"1\" class=\"dataframe\">\n",
       "  <thead>\n",
       "    <tr style=\"text-align: right;\">\n",
       "      <th></th>\n",
       "      <th>mean</th>\n",
       "      <th>mean_se</th>\n",
       "      <th>mean_ci_lower</th>\n",
       "      <th>mean_ci_upper</th>\n",
       "      <th>obs_ci_lower</th>\n",
       "      <th>obs_ci_upper</th>\n",
       "    </tr>\n",
       "  </thead>\n",
       "  <tbody>\n",
       "    <tr>\n",
       "      <th>0</th>\n",
       "      <td>23.005436</td>\n",
       "      <td>0.664391</td>\n",
       "      <td>21.648568</td>\n",
       "      <td>24.362303</td>\n",
       "      <td>16.227868</td>\n",
       "      <td>29.783003</td>\n",
       "    </tr>\n",
       "    <tr>\n",
       "      <th>1</th>\n",
       "      <td>23.005436</td>\n",
       "      <td>0.664391</td>\n",
       "      <td>21.648568</td>\n",
       "      <td>24.362303</td>\n",
       "      <td>16.227868</td>\n",
       "      <td>29.783003</td>\n",
       "    </tr>\n",
       "    <tr>\n",
       "      <th>2</th>\n",
       "      <td>25.148622</td>\n",
       "      <td>0.815316</td>\n",
       "      <td>23.483523</td>\n",
       "      <td>26.813720</td>\n",
       "      <td>18.302683</td>\n",
       "      <td>31.994561</td>\n",
       "    </tr>\n",
       "    <tr>\n",
       "      <th>3</th>\n",
       "      <td>18.966354</td>\n",
       "      <td>0.588977</td>\n",
       "      <td>17.763503</td>\n",
       "      <td>20.169205</td>\n",
       "      <td>12.217933</td>\n",
       "      <td>25.714774</td>\n",
       "    </tr>\n",
       "    <tr>\n",
       "      <th>4</th>\n",
       "      <td>14.762412</td>\n",
       "      <td>0.837509</td>\n",
       "      <td>13.051990</td>\n",
       "      <td>16.472833</td>\n",
       "      <td>7.905308</td>\n",
       "      <td>21.619515</td>\n",
       "    </tr>\n",
       "    <tr>\n",
       "      <th>5</th>\n",
       "      <td>20.326453</td>\n",
       "      <td>0.575413</td>\n",
       "      <td>19.151302</td>\n",
       "      <td>21.501604</td>\n",
       "      <td>13.582915</td>\n",
       "      <td>27.069991</td>\n",
       "    </tr>\n",
       "    <tr>\n",
       "      <th>6</th>\n",
       "      <td>14.762412</td>\n",
       "      <td>0.837509</td>\n",
       "      <td>13.051990</td>\n",
       "      <td>16.472833</td>\n",
       "      <td>7.905308</td>\n",
       "      <td>21.619515</td>\n",
       "    </tr>\n",
       "    <tr>\n",
       "      <th>7</th>\n",
       "      <td>23.553597</td>\n",
       "      <td>0.697931</td>\n",
       "      <td>22.128231</td>\n",
       "      <td>24.978963</td>\n",
       "      <td>16.761985</td>\n",
       "      <td>30.345209</td>\n",
       "    </tr>\n",
       "    <tr>\n",
       "      <th>8</th>\n",
       "      <td>23.796766</td>\n",
       "      <td>0.714068</td>\n",
       "      <td>22.338445</td>\n",
       "      <td>25.255087</td>\n",
       "      <td>16.998161</td>\n",
       "      <td>30.595371</td>\n",
       "    </tr>\n",
       "    <tr>\n",
       "      <th>9</th>\n",
       "      <td>22.692201</td>\n",
       "      <td>0.647172</td>\n",
       "      <td>21.370498</td>\n",
       "      <td>24.013903</td>\n",
       "      <td>15.921586</td>\n",
       "      <td>29.462815</td>\n",
       "    </tr>\n",
       "    <tr>\n",
       "      <th>10</th>\n",
       "      <td>22.692201</td>\n",
       "      <td>0.647172</td>\n",
       "      <td>21.370498</td>\n",
       "      <td>24.013903</td>\n",
       "      <td>15.921586</td>\n",
       "      <td>29.462815</td>\n",
       "    </tr>\n",
       "    <tr>\n",
       "      <th>11</th>\n",
       "      <td>18.232725</td>\n",
       "      <td>0.612770</td>\n",
       "      <td>16.981280</td>\n",
       "      <td>19.484169</td>\n",
       "      <td>11.475474</td>\n",
       "      <td>24.989976</td>\n",
       "    </tr>\n",
       "    <tr>\n",
       "      <th>12</th>\n",
       "      <td>18.232725</td>\n",
       "      <td>0.612770</td>\n",
       "      <td>16.981280</td>\n",
       "      <td>19.484169</td>\n",
       "      <td>11.475474</td>\n",
       "      <td>24.989976</td>\n",
       "    </tr>\n",
       "    <tr>\n",
       "      <th>13</th>\n",
       "      <td>18.232725</td>\n",
       "      <td>0.612770</td>\n",
       "      <td>16.981280</td>\n",
       "      <td>19.484169</td>\n",
       "      <td>11.475474</td>\n",
       "      <td>24.989976</td>\n",
       "    </tr>\n",
       "    <tr>\n",
       "      <th>14</th>\n",
       "      <td>10.146318</td>\n",
       "      <td>1.273903</td>\n",
       "      <td>7.544661</td>\n",
       "      <td>12.747976</td>\n",
       "      <td>3.014492</td>\n",
       "      <td>17.278145</td>\n",
       "    </tr>\n",
       "    <tr>\n",
       "      <th>15</th>\n",
       "      <td>10.640900</td>\n",
       "      <td>1.223710</td>\n",
       "      <td>8.141751</td>\n",
       "      <td>13.140048</td>\n",
       "      <td>3.545826</td>\n",
       "      <td>17.735973</td>\n",
       "    </tr>\n",
       "    <tr>\n",
       "      <th>16</th>\n",
       "      <td>11.465202</td>\n",
       "      <td>1.141374</td>\n",
       "      <td>9.134205</td>\n",
       "      <td>13.796199</td>\n",
       "      <td>4.427598</td>\n",
       "      <td>18.502806</td>\n",
       "    </tr>\n",
       "    <tr>\n",
       "      <th>17</th>\n",
       "      <td>26.356225</td>\n",
       "      <td>0.918402</td>\n",
       "      <td>24.480598</td>\n",
       "      <td>28.231851</td>\n",
       "      <td>19.456058</td>\n",
       "      <td>33.256392</td>\n",
       "    </tr>\n",
       "    <tr>\n",
       "      <th>18</th>\n",
       "      <td>26.479870</td>\n",
       "      <td>0.929469</td>\n",
       "      <td>24.581642</td>\n",
       "      <td>28.378099</td>\n",
       "      <td>19.573525</td>\n",
       "      <td>33.386215</td>\n",
       "    </tr>\n",
       "    <tr>\n",
       "      <th>19</th>\n",
       "      <td>26.669460</td>\n",
       "      <td>0.946597</td>\n",
       "      <td>24.736251</td>\n",
       "      <td>28.602668</td>\n",
       "      <td>19.753419</td>\n",
       "      <td>33.585501</td>\n",
       "    </tr>\n",
       "    <tr>\n",
       "      <th>20</th>\n",
       "      <td>24.649919</td>\n",
       "      <td>0.775923</td>\n",
       "      <td>23.065273</td>\n",
       "      <td>26.234565</td>\n",
       "      <td>17.823102</td>\n",
       "      <td>31.476736</td>\n",
       "    </tr>\n",
       "    <tr>\n",
       "      <th>21</th>\n",
       "      <td>16.493447</td>\n",
       "      <td>0.706747</td>\n",
       "      <td>15.050076</td>\n",
       "      <td>17.936817</td>\n",
       "      <td>9.698033</td>\n",
       "      <td>23.288860</td>\n",
       "    </tr>\n",
       "    <tr>\n",
       "      <th>22</th>\n",
       "      <td>17.070458</td>\n",
       "      <td>0.670513</td>\n",
       "      <td>15.701088</td>\n",
       "      <td>18.439829</td>\n",
       "      <td>10.290377</td>\n",
       "      <td>23.850540</td>\n",
       "    </tr>\n",
       "    <tr>\n",
       "      <th>23</th>\n",
       "      <td>15.174563</td>\n",
       "      <td>0.803890</td>\n",
       "      <td>13.532801</td>\n",
       "      <td>16.816324</td>\n",
       "      <td>8.334262</td>\n",
       "      <td>22.014863</td>\n",
       "    </tr>\n",
       "    <tr>\n",
       "      <th>24</th>\n",
       "      <td>13.113807</td>\n",
       "      <td>0.983136</td>\n",
       "      <td>11.105976</td>\n",
       "      <td>15.121638</td>\n",
       "      <td>6.176537</td>\n",
       "      <td>20.051077</td>\n",
       "    </tr>\n",
       "    <tr>\n",
       "      <th>25</th>\n",
       "      <td>26.343860</td>\n",
       "      <td>0.917300</td>\n",
       "      <td>24.470484</td>\n",
       "      <td>28.217236</td>\n",
       "      <td>19.444305</td>\n",
       "      <td>33.243416</td>\n",
       "    </tr>\n",
       "    <tr>\n",
       "      <th>26</th>\n",
       "      <td>24.641676</td>\n",
       "      <td>0.775290</td>\n",
       "      <td>23.058322</td>\n",
       "      <td>26.225029</td>\n",
       "      <td>17.815159</td>\n",
       "      <td>31.468193</td>\n",
       "    </tr>\n",
       "    <tr>\n",
       "      <th>27</th>\n",
       "      <td>25.680297</td>\n",
       "      <td>0.859494</td>\n",
       "      <td>23.924976</td>\n",
       "      <td>27.435618</td>\n",
       "      <td>18.811856</td>\n",
       "      <td>32.548738</td>\n",
       "    </tr>\n",
       "    <tr>\n",
       "      <th>28</th>\n",
       "      <td>15.133348</td>\n",
       "      <td>0.807191</td>\n",
       "      <td>13.484844</td>\n",
       "      <td>16.781851</td>\n",
       "      <td>8.291426</td>\n",
       "      <td>21.975269</td>\n",
       "    </tr>\n",
       "    <tr>\n",
       "      <th>29</th>\n",
       "      <td>23.623662</td>\n",
       "      <td>0.702506</td>\n",
       "      <td>22.188954</td>\n",
       "      <td>25.058371</td>\n",
       "      <td>16.830083</td>\n",
       "      <td>30.417241</td>\n",
       "    </tr>\n",
       "    <tr>\n",
       "      <th>30</th>\n",
       "      <td>17.194104</td>\n",
       "      <td>0.663345</td>\n",
       "      <td>15.839372</td>\n",
       "      <td>18.548835</td>\n",
       "      <td>10.416964</td>\n",
       "      <td>23.971243</td>\n",
       "    </tr>\n",
       "    <tr>\n",
       "      <th>31</th>\n",
       "      <td>24.612825</td>\n",
       "      <td>0.773081</td>\n",
       "      <td>23.033984</td>\n",
       "      <td>26.191666</td>\n",
       "      <td>17.787353</td>\n",
       "      <td>31.438297</td>\n",
       "    </tr>\n",
       "  </tbody>\n",
       "</table>\n",
       "</div>"
      ],
      "text/plain": [
       "         mean   mean_se  mean_ci_lower  mean_ci_upper  obs_ci_lower  \\\n",
       "0   23.005436  0.664391      21.648568      24.362303     16.227868   \n",
       "1   23.005436  0.664391      21.648568      24.362303     16.227868   \n",
       "2   25.148622  0.815316      23.483523      26.813720     18.302683   \n",
       "3   18.966354  0.588977      17.763503      20.169205     12.217933   \n",
       "4   14.762412  0.837509      13.051990      16.472833      7.905308   \n",
       "5   20.326453  0.575413      19.151302      21.501604     13.582915   \n",
       "6   14.762412  0.837509      13.051990      16.472833      7.905308   \n",
       "7   23.553597  0.697931      22.128231      24.978963     16.761985   \n",
       "8   23.796766  0.714068      22.338445      25.255087     16.998161   \n",
       "9   22.692201  0.647172      21.370498      24.013903     15.921586   \n",
       "10  22.692201  0.647172      21.370498      24.013903     15.921586   \n",
       "11  18.232725  0.612770      16.981280      19.484169     11.475474   \n",
       "12  18.232725  0.612770      16.981280      19.484169     11.475474   \n",
       "13  18.232725  0.612770      16.981280      19.484169     11.475474   \n",
       "14  10.146318  1.273903       7.544661      12.747976      3.014492   \n",
       "15  10.640900  1.223710       8.141751      13.140048      3.545826   \n",
       "16  11.465202  1.141374       9.134205      13.796199      4.427598   \n",
       "17  26.356225  0.918402      24.480598      28.231851     19.456058   \n",
       "18  26.479870  0.929469      24.581642      28.378099     19.573525   \n",
       "19  26.669460  0.946597      24.736251      28.602668     19.753419   \n",
       "20  24.649919  0.775923      23.065273      26.234565     17.823102   \n",
       "21  16.493447  0.706747      15.050076      17.936817      9.698033   \n",
       "22  17.070458  0.670513      15.701088      18.439829     10.290377   \n",
       "23  15.174563  0.803890      13.532801      16.816324      8.334262   \n",
       "24  13.113807  0.983136      11.105976      15.121638      6.176537   \n",
       "25  26.343860  0.917300      24.470484      28.217236     19.444305   \n",
       "26  24.641676  0.775290      23.058322      26.225029     17.815159   \n",
       "27  25.680297  0.859494      23.924976      27.435618     18.811856   \n",
       "28  15.133348  0.807191      13.484844      16.781851      8.291426   \n",
       "29  23.623662  0.702506      22.188954      25.058371     16.830083   \n",
       "30  17.194104  0.663345      15.839372      18.548835     10.416964   \n",
       "31  24.612825  0.773081      23.033984      26.191666     17.787353   \n",
       "\n",
       "    obs_ci_upper  \n",
       "0      29.783003  \n",
       "1      29.783003  \n",
       "2      31.994561  \n",
       "3      25.714774  \n",
       "4      21.619515  \n",
       "5      27.069991  \n",
       "6      21.619515  \n",
       "7      30.345209  \n",
       "8      30.595371  \n",
       "9      29.462815  \n",
       "10     29.462815  \n",
       "11     24.989976  \n",
       "12     24.989976  \n",
       "13     24.989976  \n",
       "14     17.278145  \n",
       "15     17.735973  \n",
       "16     18.502806  \n",
       "17     33.256392  \n",
       "18     33.386215  \n",
       "19     33.585501  \n",
       "20     31.476736  \n",
       "21     23.288860  \n",
       "22     23.850540  \n",
       "23     22.014863  \n",
       "24     20.051077  \n",
       "25     33.243416  \n",
       "26     31.468193  \n",
       "27     32.548738  \n",
       "28     21.975269  \n",
       "29     30.417241  \n",
       "30     23.971243  \n",
       "31     31.438297  "
      ]
     },
     "metadata": {},
     "output_type": "display_data"
    }
   ],
   "source": [
    "#Great, now let's get the CI for all predicted values\n",
    "predictions = results.get_prediction().summary_frame()\n",
    "display(predictions)"
   ]
  },
  {
   "cell_type": "code",
   "execution_count": 90,
   "metadata": {},
   "outputs": [
    {
     "data": {
      "text/plain": [
       "Text(0,0.5,'Car MPG')"
      ]
     },
     "execution_count": 90,
     "metadata": {},
     "output_type": "execute_result"
    },
    {
     "data": {
      "image/png": "[encoded data removed]",
      "text/plain": [
       "<matplotlib.figure.Figure at 0x1c1e989b38>"
      ]
     },
     "metadata": {},
     "output_type": "display_data"
    }
   ],
   "source": [
    "#Ok, let's put it all together and make it pretty.\n",
    "fig = plt.subplots(figsize=(10,8))\n",
    "ax = sns.regplot(x='disp', y='mpg', data=df)\n",
    "ax.set_title('MPG via DISP Scatter Plot')\n",
    "ax.set_xlabel('Car Disp')\n",
    "ax.set_ylabel('Car MPG')"
   ]
  },
  {
   "cell_type": "markdown",
   "metadata": {},
   "source": [
    "**5.2 Why do we have a confidience interval for our predicted value? Why isn't the prediction just a single number?**"
   ]
  },
  {
   "attachments": {},
   "cell_type": "markdown",
   "metadata": {},
   "source": [
    "Because we have to test lots of different possible coeficients to rule out the coefficients that will not work (because they equal zero), which leaves us with an interval of values that _do_ work (and do not equal/contain zero). This helps us gain more certainty about the predictive value of our model, because we now know that if we were to repeatedly re-collect the data and build 95% CIs, 95% of the intervals would contain the true value."
   ]
  },
  {
   "cell_type": "markdown",
   "metadata": {},
   "source": [
    "**5.3 Someone asks what `mpg` you would predict for a `disp` value of 400. What do you tell them, paying attention to the confidence interval (5.2.3) above?**"
   ]
  },
  {
   "cell_type": "markdown",
   "metadata": {},
   "source": [
    "The estimated value of y for x=400 is about 13.1 miles per gallon, with a 95% confidence interval of [11.105976,\t15.121638], meaning that if we were to construct 100 confidence intervals with re-collected data, then about 95 of these CIs would contain the true value. However, we don't know if our confidence interval reported above is one of those 95 (nor if our predicted y is in one of those hypothetical 95 CIs), although the odds are in our favor."
   ]
  },
  {
   "cell_type": "markdown",
   "metadata": {},
   "source": [
    "**5.4 Why does the 95% confidence interval for the predicted `mpg` appear to curve as we move away from the data's center?**"
   ]
  },
  {
   "cell_type": "markdown",
   "metadata": {},
   "source": [
    "So, in this model we need to remember that both the intercept and the slope are uncertain -- which is why we're estimating for them. We don't know what the population values really are, and if we were to resample, our regression line would look different, because our estimated values would be different. The regression line will presumably pass through the mean of $x$ and $y$ in the population though, so even if the slope changes, you'll see most of the diffference in slopes towards the min and max, not in the middle of the data.\n",
    "\n",
    "Similarly, if you were to resample again and again, the constant would change each time, moving the regression line up and down. So, imagine that the constant changes with repeated sampling and you'll see some amount of spread at the mean of $x$. Then imagine that the slope changes with repeated sampling at the same time as the constant is changing, and you see larger spread at the min and max of $x$, which makes the CI appear to curve as we move away from the mean."
   ]
  },
  {
   "cell_type": "markdown",
   "metadata": {},
   "source": [
    "<div class='exercise'><b> Question 6 [8 pts] </b></div>\n",
    "Hopefully, in the question above you recognized that uncertainty in the beta coefficients could impact the certainty of our predictions. In this question and the next, we're going to explore properties of the data that can make us more or less certain of the values of the betas.\n",
    "\n",
    "**6.1** Fit a multiple linear regression to the full X matrix (on the car data). That is, predict `mpg` using `cyl`,`disp`,`hp`,`wt`, and `qsec`.\n",
    "\n",
    "**6.2** The formula for the covariance of the vector of betas, assuming the linear regression model holds, is:\n",
    "$${\\rm Cov}(\\beta) = \\sigma^2\\left(X^TX\\right)^{-1}.$$\n",
    "Compute and display this matrix for the car data. \n",
    "\n",
    "**6.3** Verify that the SE reported by statsmodels matches the square root of the variance listed for that variable in your calculated covariance matrix.\n",
    "\n",
    "**6.4** Interpret the matrix formula above. At a minimum, discuss what affects our ability to estimate the betas accurately. When would you expect two betas to have large/small covariances? [This is intended as an open-ended question. You will be graded only on the specified minimum].\n",
    "\n",
    "**Hint**: we don't know $\\sigma^2$, but we can estimate them.<BR>\n",
    "**Hint**: remember that numpy's normal distribution expects a standard deviation and not a variance."
   ]
  },
  {
   "cell_type": "markdown",
   "metadata": {},
   "source": [
    "### Answers"
   ]
  },
  {
   "cell_type": "markdown",
   "metadata": {},
   "source": [
    "**6.1 Fit a multiple linear regression to the full X matrix (on the car data). That is, predict `mpg` using `cyl`,`disp`,`hp`,`wt`, and `qsec`.**"
   ]
  },
  {
   "cell_type": "code",
   "execution_count": 95,
   "metadata": {},
   "outputs": [
    {
     "data": {
      "text/html": [
       "<table class=\"simpletable\">\n",
       "<caption>OLS Regression Results</caption>\n",
       "<tr>\n",
       "  <th>Dep. Variable:</th>            <td>y</td>        <th>  R-squared:         </th> <td>   0.850</td>\n",
       "</tr>\n",
       "<tr>\n",
       "  <th>Model:</th>                   <td>OLS</td>       <th>  Adj. R-squared:    </th> <td>   0.821</td>\n",
       "</tr>\n",
       "<tr>\n",
       "  <th>Method:</th>             <td>Least Squares</td>  <th>  F-statistic:       </th> <td>   29.51</td>\n",
       "</tr>\n",
       "<tr>\n",
       "  <th>Date:</th>             <td>Wed, 26 Sep 2018</td> <th>  Prob (F-statistic):</th> <td>6.18e-10</td>\n",
       "</tr>\n",
       "<tr>\n",
       "  <th>Time:</th>                 <td>21:27:37</td>     <th>  Log-Likelihood:    </th> <td> -72.003</td>\n",
       "</tr>\n",
       "<tr>\n",
       "  <th>No. Observations:</th>      <td>    32</td>      <th>  AIC:               </th> <td>   156.0</td>\n",
       "</tr>\n",
       "<tr>\n",
       "  <th>Df Residuals:</th>          <td>    26</td>      <th>  BIC:               </th> <td>   164.8</td>\n",
       "</tr>\n",
       "<tr>\n",
       "  <th>Df Model:</th>              <td>     5</td>      <th>                     </th>     <td> </td>   \n",
       "</tr>\n",
       "<tr>\n",
       "  <th>Covariance Type:</th>      <td>nonrobust</td>    <th>                     </th>     <td> </td>   \n",
       "</tr>\n",
       "</table>\n",
       "<table class=\"simpletable\">\n",
       "<tr>\n",
       "    <td></td>       <th>coef</th>     <th>std err</th>      <th>t</th>      <th>P>|t|</th>  <th>[0.025</th>    <th>0.975]</th>  \n",
       "</tr>\n",
       "<tr>\n",
       "  <th>const</th> <td>   35.8736</td> <td>    9.918</td> <td>    3.617</td> <td> 0.001</td> <td>   15.487</td> <td>   56.261</td>\n",
       "</tr>\n",
       "<tr>\n",
       "  <th>cyl</th>   <td>   -1.1561</td> <td>    0.715</td> <td>   -1.616</td> <td> 0.118</td> <td>   -2.626</td> <td>    0.314</td>\n",
       "</tr>\n",
       "<tr>\n",
       "  <th>disp</th>  <td>    0.0119</td> <td>    0.012</td> <td>    1.004</td> <td> 0.325</td> <td>   -0.013</td> <td>    0.036</td>\n",
       "</tr>\n",
       "<tr>\n",
       "  <th>hp</th>    <td>   -0.0158</td> <td>    0.015</td> <td>   -1.037</td> <td> 0.309</td> <td>   -0.047</td> <td>    0.016</td>\n",
       "</tr>\n",
       "<tr>\n",
       "  <th>wt</th>    <td>   -4.2253</td> <td>    1.252</td> <td>   -3.374</td> <td> 0.002</td> <td>   -6.800</td> <td>   -1.651</td>\n",
       "</tr>\n",
       "<tr>\n",
       "  <th>qsec</th>  <td>    0.2538</td> <td>    0.487</td> <td>    0.521</td> <td> 0.607</td> <td>   -0.748</td> <td>    1.256</td>\n",
       "</tr>\n",
       "</table>\n",
       "<table class=\"simpletable\">\n",
       "<tr>\n",
       "  <th>Omnibus:</th>       <td> 4.925</td> <th>  Durbin-Watson:     </th> <td>   1.682</td>\n",
       "</tr>\n",
       "<tr>\n",
       "  <th>Prob(Omnibus):</th> <td> 0.085</td> <th>  Jarque-Bera (JB):  </th> <td>   3.534</td>\n",
       "</tr>\n",
       "<tr>\n",
       "  <th>Skew:</th>          <td> 0.782</td> <th>  Prob(JB):          </th> <td>   0.171</td>\n",
       "</tr>\n",
       "<tr>\n",
       "  <th>Kurtosis:</th>      <td> 3.453</td> <th>  Cond. No.          </th> <td>6.73e+03</td>\n",
       "</tr>\n",
       "</table>"
      ],
      "text/plain": [
       "<class 'statsmodels.iolib.summary.Summary'>\n",
       "\"\"\"\n",
       "                            OLS Regression Results                            \n",
       "==============================================================================\n",
       "Dep. Variable:                      y   R-squared:                       0.850\n",
       "Model:                            OLS   Adj. R-squared:                  0.821\n",
       "Method:                 Least Squares   F-statistic:                     29.51\n",
       "Date:                Wed, 26 Sep 2018   Prob (F-statistic):           6.18e-10\n",
       "Time:                        21:27:37   Log-Likelihood:                -72.003\n",
       "No. Observations:                  32   AIC:                             156.0\n",
       "Df Residuals:                      26   BIC:                             164.8\n",
       "Df Model:                           5                                         \n",
       "Covariance Type:            nonrobust                                         \n",
       "==============================================================================\n",
       "                 coef    std err          t      P>|t|      [0.025      0.975]\n",
       "------------------------------------------------------------------------------\n",
       "const         35.8736      9.918      3.617      0.001      15.487      56.261\n",
       "cyl           -1.1561      0.715     -1.616      0.118      -2.626       0.314\n",
       "disp           0.0119      0.012      1.004      0.325      -0.013       0.036\n",
       "hp            -0.0158      0.015     -1.037      0.309      -0.047       0.016\n",
       "wt            -4.2253      1.252     -3.374      0.002      -6.800      -1.651\n",
       "qsec           0.2538      0.487      0.521      0.607      -0.748       1.256\n",
       "==============================================================================\n",
       "Omnibus:                        4.925   Durbin-Watson:                   1.682\n",
       "Prob(Omnibus):                  0.085   Jarque-Bera (JB):                3.534\n",
       "Skew:                           0.782   Prob(JB):                        0.171\n",
       "Kurtosis:                       3.453   Cond. No.                     6.73e+03\n",
       "==============================================================================\n",
       "\n",
       "Warnings:\n",
       "[1] Standard Errors assume that the covariance matrix of the errors is correctly specified.\n",
       "[2] The condition number is large, 6.73e+03. This might indicate that there are\n",
       "strong multicollinearity or other numerical problems.\n",
       "\"\"\""
      ]
     },
     "execution_count": 95,
     "metadata": {},
     "output_type": "execute_result"
    }
   ],
   "source": [
    "model = sm.OLS(y, X).fit()\n",
    "predictions = model.predict(X)\n",
    "model.summary()"
   ]
  },
  {
   "cell_type": "markdown",
   "metadata": {},
   "source": [
    "**6.2 The formula for the covariance of the vector of betas, assuming the linear regression model holds, is:\n",
    "$${\\rm Cov}(\\beta) = \\sigma^2\\left(X^TX\\right)^{-1}.$$\n",
    "Compute and display this matrix for the car data. **"
   ]
  },
  {
   "cell_type": "code",
   "execution_count": 112,
   "metadata": {},
   "outputs": [
    {
     "name": "stdout",
     "output_type": "stream",
     "text": [
      "[[  4680.84698667   4674.78062      3329.83198667 ...,   5142.29276\n",
      "   10516.68809333   3807.38824   ]\n",
      " [  4674.78062      4668.7678375    3325.869695   ...,   5134.790195\n",
      "   10500.489245     3802.64823   ]\n",
      " [  3329.83198667   3325.869695     2419.76873667 ...,   3839.23891\n",
      "    7778.75874333   2775.57534   ]\n",
      " ..., \n",
      " [  5142.29276      5134.790195     3839.23891    ...,   6413.27215\n",
      "   12878.61425      4437.5227    ]\n",
      " [ 10516.68809333  10500.489245     7778.75874333 ...,  12878.61425\n",
      "   25963.56601667   8982.6461    ]\n",
      " [  3807.38824      3802.64823      2775.57534    ...,   4437.5227\n",
      "    8982.6461       3187.5142    ]]\n"
     ]
    }
   ],
   "source": [
    "print(np.cov(X))"
   ]
  },
  {
   "cell_type": "markdown",
   "metadata": {},
   "source": [
    "**6.3 Verify that the SE reported by statsmodels matches the square root of the variance listed for that variable in your calculated covariance matrix.**"
   ]
  },
  {
   "cell_type": "code",
   "execution_count": 113,
   "metadata": {},
   "outputs": [
    {
     "data": {
      "text/plain": [
       "68.32838237145674"
      ]
     },
     "execution_count": 113,
     "metadata": {},
     "output_type": "execute_result"
    }
   ],
   "source": [
    "math.sqrt(4668.7678375)"
   ]
  },
  {
   "cell_type": "markdown",
   "metadata": {},
   "source": [
    "*your answer here*\n"
   ]
  },
  {
   "cell_type": "markdown",
   "metadata": {},
   "source": [
    "**6.4 Interpret the matrix formula above. At a minimum, discuss what affects our ability to accurately estimate the betas. When would you expect two betas to have large/small covariances? [This is intended as an open-ended question. You will only be graded on the specified minimum].**"
   ]
  },
  {
   "cell_type": "markdown",
   "metadata": {},
   "source": [
    "*your answer here*\n"
   ]
  },
  {
   "cell_type": "markdown",
   "metadata": {},
   "source": [
    "<div class='exercise'> <b> Question 7 [12 pts]: What affects our knowledge of the betas? </b></div> \n",
    "\n",
    "\n",
    "**7.1** Create a separate dataset `edit1` with a new column `noise` that is totally independent of the other columns (random values from an exponential distribution). What effects do you see on our ability to estimate the betas?\n",
    "\n",
    "**7.2** Create a separate dataset `edit2` with a new column `ratio` that is the ratio of a car's horsepower to its weight. What change do you see in our certainty about weight's effect on mpg?\n",
    "\n",
    "**7.3** Create a separate dataset `edit3` with a new column `combo` that is horsepower+displacement+weight+ Normal(0,.01) noise. How well can we estimate the betas for this dataset, and which ones are correlated?\n",
    "\n",
    "**7.4** If you could choose the different features in your data (either because you're running a lab experiment manipulating the X values, or by deciding which columns to measure/keep), how would you like your features to relate? Specifically, how can you get as good an estimate of the betas as possible?\n",
    "\n",
    "**Hint**: Should introducing pure noise give us meaningfully more accurate beta values? <br>\n",
    "**Hint**: What happens if $X^TX$ is diagonal?"
   ]
  },
  {
   "cell_type": "markdown",
   "metadata": {
    "collapsed": true
   },
   "source": [
    "### Answers\n",
    "\n",
    "**7.1  Create a separate dataset `edit1` with a new column `noise` that is totally independent of the other columns (random values from an exponential distribution) ... **"
   ]
  },
  {
   "cell_type": "code",
   "execution_count": 124,
   "metadata": {
    "scrolled": true
   },
   "outputs": [
    {
     "data": {
      "text/plain": [
       "array([[ 3.78527727],\n",
       "       [ 1.32606479],\n",
       "       [ 0.04036472],\n",
       "       [ 3.11063345],\n",
       "       [ 0.47382524],\n",
       "       [ 0.16183466],\n",
       "       [ 2.52575388],\n",
       "       [ 0.00881527],\n",
       "       [ 0.12197284],\n",
       "       [ 0.61085548],\n",
       "       [ 1.68975282],\n",
       "       [ 0.47405618],\n",
       "       [ 0.78816576],\n",
       "       [ 0.21811969],\n",
       "       [ 0.48308652],\n",
       "       [ 0.11943382],\n",
       "       [ 0.80944364],\n",
       "       [ 1.3553712 ],\n",
       "       [ 1.50578711],\n",
       "       [ 0.92760782],\n",
       "       [ 0.83176852],\n",
       "       [ 1.51904611],\n",
       "       [ 0.46068594],\n",
       "       [ 0.66727656],\n",
       "       [ 0.77610801],\n",
       "       [ 1.16309501],\n",
       "       [ 2.9304465 ],\n",
       "       [ 0.5383665 ],\n",
       "       [ 0.38072146],\n",
       "       [ 1.17204607],\n",
       "       [ 0.46192949],\n",
       "       [ 0.00794046]])"
      ]
     },
     "metadata": {},
     "output_type": "display_data"
    },
    {
     "data": {
      "text/plain": [
       "(32, 1)"
      ]
     },
     "execution_count": 124,
     "metadata": {},
     "output_type": "execute_result"
    }
   ],
   "source": [
    "noise = np.random.exponential(size=32)[...,None]\n",
    "display(noise)\n",
    "noise.shape"
   ]
  },
  {
   "cell_type": "code",
   "execution_count": 133,
   "metadata": {
    "scrolled": true
   },
   "outputs": [
    {
     "data": {
      "text/plain": [
       "array([['Mazda RX4', 21.0, 6, 160.0, 110, 3.9, 2.62, 16.46, 0, 1, 4, 4,\n",
       "        3.785277265980566],\n",
       "       ['Mazda RX4 Wag', 21.0, 6, 160.0, 110, 3.9, 2.875, 17.02, 0, 1, 4,\n",
       "        4, 1.326064793761874],\n",
       "       ['Datsun 710', 22.8, 4, 108.0, 93, 3.85, 2.32, 18.61, 1, 1, 4, 1,\n",
       "        0.04036471620037718],\n",
       "       ['Hornet 4 Drive', 21.4, 6, 258.0, 110, 3.08, 3.215, 19.44, 1, 0, 3,\n",
       "        1, 3.110633448388044],\n",
       "       ['Hornet Sportabout', 18.7, 8, 360.0, 175, 3.15, 3.44, 17.02, 0, 0,\n",
       "        3, 2, 0.47382523825419276],\n",
       "       ['Valiant', 18.1, 6, 225.0, 105, 2.76, 3.46, 20.22, 1, 0, 3, 1,\n",
       "        0.16183465941831582],\n",
       "       ['Duster 360', 14.3, 8, 360.0, 245, 3.21, 3.57, 15.84, 0, 0, 3, 4,\n",
       "        2.5257538835698807],\n",
       "       ['Merc 240D', 24.4, 4, 146.7, 62, 3.69, 3.19, 20.0, 1, 0, 4, 2,\n",
       "        0.008815265137403057],\n",
       "       ['Merc 230', 22.8, 4, 140.8, 95, 3.92, 3.15, 22.9, 1, 0, 4, 2,\n",
       "        0.12197283575631233],\n",
       "       ['Merc 280', 19.2, 6, 167.6, 123, 3.92, 3.44, 18.3, 1, 0, 4, 4,\n",
       "        0.6108554824447382],\n",
       "       ['Merc 280C', 17.8, 6, 167.6, 123, 3.92, 3.44, 18.9, 1, 0, 4, 4,\n",
       "        1.6897528189378697],\n",
       "       ['Merc 450SE', 16.4, 8, 275.8, 180, 3.07, 4.07, 17.4, 0, 0, 3, 3,\n",
       "        0.47405618424598794],\n",
       "       ['Merc 450SL', 17.3, 8, 275.8, 180, 3.07, 3.73, 17.6, 0, 0, 3, 3,\n",
       "        0.7881657598549455],\n",
       "       ['Merc 450SLC', 15.2, 8, 275.8, 180, 3.07, 3.78, 18.0, 0, 0, 3, 3,\n",
       "        0.21811969419368157],\n",
       "       ['Cadillac Fleetwood', 10.4, 8, 472.0, 205, 2.93, 5.25, 17.98, 0, 0,\n",
       "        3, 4, 0.48308652385593454],\n",
       "       ['Lincoln Continental', 10.4, 8, 460.0, 215, 3.0, 5.424, 17.82, 0,\n",
       "        0, 3, 4, 0.11943382331757564],\n",
       "       ['Chrysler Imperial', 14.7, 8, 440.0, 230, 3.23, 5.345, 17.42, 0, 0,\n",
       "        3, 4, 0.8094436395896029],\n",
       "       ['Fiat 128', 32.4, 4, 78.7, 66, 4.08, 2.2, 19.47, 1, 1, 4, 1,\n",
       "        1.3553712039406638],\n",
       "       ['Honda Civic', 30.4, 4, 75.7, 52, 4.93, 1.615, 18.52, 1, 1, 4, 2,\n",
       "        1.505787107468395],\n",
       "       ['Toyota Corolla', 33.9, 4, 71.1, 65, 4.22, 1.835, 19.9, 1, 1, 4, 1,\n",
       "        0.9276078211354025],\n",
       "       ['Toyota Corona', 21.5, 4, 120.1, 97, 3.7, 2.465, 20.01, 1, 0, 3, 1,\n",
       "        0.8317685176946378],\n",
       "       ['Dodge Challenger', 15.5, 8, 318.0, 150, 2.76, 3.52, 16.87, 0, 0,\n",
       "        3, 2, 1.5190461138713205],\n",
       "       ['AMC Javelin', 15.2, 8, 304.0, 150, 3.15, 3.435, 17.3, 0, 0, 3, 2,\n",
       "        0.4606859356593533],\n",
       "       ['Camaro Z28', 13.3, 8, 350.0, 245, 3.73, 3.84, 15.41, 0, 0, 3, 4,\n",
       "        0.6672765565934964],\n",
       "       ['Pontiac Firebird', 19.2, 8, 400.0, 175, 3.08, 3.845, 17.05, 0, 0,\n",
       "        3, 2, 0.7761080113544893],\n",
       "       ['Fiat X1-9', 27.3, 4, 79.0, 66, 4.08, 1.935, 18.9, 1, 1, 4, 1,\n",
       "        1.1630950084191067],\n",
       "       ['Porsche 914-2', 26.0, 4, 120.3, 91, 4.43, 2.14, 16.7, 0, 1, 5, 2,\n",
       "        2.93044650157702],\n",
       "       ['Lotus Europa', 30.4, 4, 95.1, 113, 3.77, 1.513, 16.9, 1, 1, 5, 2,\n",
       "        0.5383664956252957],\n",
       "       ['Ford Pantera L', 15.8, 8, 351.0, 264, 4.22, 3.17, 14.5, 0, 1, 5,\n",
       "        4, 0.3807214599360488],\n",
       "       ['Ferrari Dino', 19.7, 6, 145.0, 175, 3.62, 2.77, 15.5, 0, 1, 5, 6,\n",
       "        1.172046069556896],\n",
       "       ['Maserati Bora', 15.0, 8, 301.0, 335, 3.54, 3.57, 14.6, 0, 1, 5, 8,\n",
       "        0.4619294915089207],\n",
       "       ['Volvo 142E', 21.4, 4, 121.0, 109, 4.11, 2.78, 18.6, 1, 1, 4, 2,\n",
       "        0.00794046498153789]], dtype=object)"
      ]
     },
     "metadata": {},
     "output_type": "display_data"
    }
   ],
   "source": [
    "edit1 = np.append(df, noise, 1)\n",
    "edit1.shape\n",
    "display(edit1)"
   ]
  },
  {
   "cell_type": "markdown",
   "metadata": {},
   "source": [
    "Our ability to estimate the betas is unchanged, as adding pure noise shouldn't give us meaningfully more accurate betas."
   ]
  },
  {
   "cell_type": "markdown",
   "metadata": {},
   "source": [
    "**7.2 Create a separate dataset `edit2` with a new column `ratio` that is the ratio of a car's horsepower to its weight ... **"
   ]
  },
  {
   "cell_type": "code",
   "execution_count": 20,
   "metadata": {
    "collapsed": true
   },
   "outputs": [],
   "source": [
    "# your code here\n"
   ]
  },
  {
   "cell_type": "markdown",
   "metadata": {},
   "source": [
    "**7.3 Create a separate dataset `edit3` with a new column `combo` that is horsepower+displacement+weight+ Normal(0,.01) noise... **"
   ]
  },
  {
   "cell_type": "code",
   "execution_count": 21,
   "metadata": {
    "collapsed": true
   },
   "outputs": [],
   "source": [
    "# your code here\n"
   ]
  },
  {
   "cell_type": "markdown",
   "metadata": {},
   "source": [
    "**7.4 If you could choose the different features in your data (either because you're running a lab experiment manipulating the X values, ... **"
   ]
  },
  {
   "cell_type": "markdown",
   "metadata": {},
   "source": [
    "*your answer here*\n"
   ]
  },
  {
   "cell_type": "code",
   "execution_count": null,
   "metadata": {
    "collapsed": true
   },
   "outputs": [],
   "source": []
  }
 ],
 "metadata": {
  "anaconda-cloud": {},
  "kernelspec": {
   "display_name": "Python 3",
   "language": "python",
   "name": "python3"
  },
  "language_info": {
   "codemirror_mode": {
    "name": "ipython",
    "version": 3
   },
   "file_extension": ".py",
   "mimetype": "text/x-python",
   "name": "python",
   "nbconvert_exporter": "python",
   "pygments_lexer": "ipython3",
   "version": "3.6.3"
  }
 },
 "nbformat": 4,
 "nbformat_minor": 2
}
