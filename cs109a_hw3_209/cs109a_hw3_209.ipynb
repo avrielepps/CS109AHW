{
 "cells": [
  {
   "cell_type": "markdown",
   "metadata": {},
   "source": [
    "# <img style=\"float: left; padding-right: 10px; width: 45px\" src=\"https://raw.githubusercontent.com/Harvard-IACS/2018-CS109A/master/content/styles/iacs.png\"> CS109A Introduction to Data Science: \n",
    "\n",
    "## Homework 3  AC 209 : From MLE to AIC\n",
    "\n",
    "\n",
    "**Harvard University**<br/>\n",
    "**Fall 2018**<br/>\n",
    "**Instructors**: Pavlos Protopapas, Kevin Rader\n",
    "\n",
    "<hr style=\"height:2pt\">\n"
   ]
  },
  {
   "cell_type": "code",
<<<<<<< HEAD
   "execution_count": 2,
||||||| merged common ancestors
   "execution_count": 3,
=======
   "execution_count": 19,
>>>>>>> f5014302a9ced92eb6a2cfb1947760dc77d57fe9
   "metadata": {},
   "outputs": [
    {
     "data": {
      "text/html": [
       "<style>\n",
       "h1 { \n",
       "    padding-top: 25px;\n",
       "    padding-bottom: 25px;\n",
       "    text-align: left; \n",
       "    padding-left: 10px;\n",
       "    background-color: #DDDDDD; \n",
       "    color: black;\n",
       "}\n",
       "h2 { \n",
       "    padding-top: 10px;\n",
       "    padding-bottom: 10px;\n",
       "    text-align: left; \n",
       "    padding-left: 5px;\n",
       "    background-color: #EEEEEE; \n",
       "    color: black;\n",
       "}\n",
       "\n",
       "div.exercise {\n",
       "\tbackground-color: #ffcccc;\n",
       "\tborder-color: #E9967A; \t\n",
       "\tborder-left: 5px solid #800080; \n",
       "\tpadding: 0.5em;\n",
       "}\n",
       "div.theme {\n",
       "\tbackground-color: #DDDDDD;\n",
       "\tborder-color: #E9967A; \t\n",
       "\tborder-left: 5px solid #800080; \n",
       "\tpadding: 0.5em;\n",
       "\tfont-size: 18pt;\n",
       "}\n",
       "p.q1 { \n",
       "    padding-top: 5px;\n",
       "    padding-bottom: 5px;\n",
       "    text-align: left; \n",
       "    padding-left: 5px;\n",
       "    background-color: #EEEEEE; \n",
       "    color: black;\n",
       "}\n",
       "header {\n",
       "   padding-top: 35px;\n",
       "    padding-bottom: 35px;\n",
       "    text-align: left; \n",
       "    padding-left: 10px;\n",
       "    background-color: #DDDDDD; \n",
       "    color: black;\n",
       "}\n",
       "</style>\n",
       "\n"
      ],
      "text/plain": [
       "<IPython.core.display.HTML object>"
      ]
     },
<<<<<<< HEAD
     "execution_count": 2,
||||||| merged common ancestors
     "execution_count": 3,
=======
     "execution_count": 19,
>>>>>>> f5014302a9ced92eb6a2cfb1947760dc77d57fe9
     "metadata": {},
     "output_type": "execute_result"
    }
   ],
   "source": [
    "#RUN THIS CELL \n",
    "import requests\n",
    "from IPython.core.display import HTML\n",
    "styles = requests.get(\"https://raw.githubusercontent.com/Harvard-IACS/2018-CS109A/master/content/styles/cs109.css\").text\n",
    "HTML(styles)"
   ]
  },
  {
   "cell_type": "code",
<<<<<<< HEAD
   "execution_count": 3,
   "metadata": {},
   "outputs": [
    {
     "name": "stderr",
     "output_type": "stream",
     "text": [
      "/anaconda3/lib/python3.6/site-packages/statsmodels/compat/pandas.py:56: FutureWarning: The pandas.core.datetools module is deprecated and will be removed in a future version. Please use the pandas.tseries module instead.\n",
      "  from pandas.core import datetools\n"
     ]
    }
   ],
||||||| merged common ancestors
   "execution_count": 4,
   "metadata": {},
   "outputs": [],
=======
   "execution_count": 20,
   "metadata": {
    "collapsed": true
   },
   "outputs": [],
>>>>>>> f5014302a9ced92eb6a2cfb1947760dc77d57fe9
   "source": [
    "import numpy as np\n",
    "import pandas as pd\n",
    "import matplotlib.pyplot as plt\n",
    "import seaborn as sns; sns.set()\n",
    "from scipy.stats import t\n",
    "from scipy.optimize import minimize\n",
    "\n",
    "from statsmodels.api import OLS\n",
    "import statsmodels.api as sm\n",
    "from scipy.stats import norm\n",
    "%matplotlib inline"
   ]
  },
  {
   "cell_type": "markdown",
   "metadata": {},
   "source": [
    "\n",
    "<div class='exercise'> <b>  Question 7: Student's t MLE </b> </div>\n",
    "\n",
    "**7.1** Fit a simple linear regression model using Maximum Likelihood Estimation on the data provided in `data/beerdata.csv`.  Consider two statistical models the for noise: a) Normal and b) Student's $\\textit{t}$-distribution with $\\nu=5$ and scale factor $\\sigma=\\sqrt{3/5}$.  \n",
    "\n",
    "**7.2** Compare the two models performances (visualize the prediction lines and estimate the KL divergence between the data and each model) and comment why it is perhaps appropriate to use the Student's t-distribution instead of the Normal.\n",
    "\n",
    "**Hints:**\n",
    "1. Use the probability density function for the Student's t distribution  with location $t$,  $\\nu$ degrees of freedom and scale factor $\\sigma$.\n",
    "2. If the MLE regression coefficients cannot be derived analytically consider numerical methods.\n",
    "3. For _convenience_, you can use sklearn or statsmodel for the Normal case.\n"
   ]
  },
  {
   "cell_type": "markdown",
   "metadata": {},
   "source": [
    "### Answers\n",
    "\n",
    "**7.1 Fit a simple linear regression model using Maximum Likelihood Estimation on the data provided in `data/beerdata.csv`.  Consider two statistical models the for noise: a) Normal and b) Student's $\\textit{t}$-distribution with $\\nu=5$ and scale factor $\\sigma=\\sqrt{3/5}$.   **\n",
    "\n",
    "*your answer here*\n"
   ]
  },
  {
   "cell_type": "code",
<<<<<<< HEAD
   "execution_count": 4,
||||||| merged common ancestors
   "execution_count": 3,
   "metadata": {},
   "outputs": [],
   "source": [
    "#Read and show the data\n",
    "# your code here\n"
   ]
  },
  {
   "cell_type": "code",
   "execution_count": 4,
=======
   "execution_count": 21,
   "metadata": {},
   "outputs": [
    {
     "data": {
      "text/html": [
       "<div>\n",
       "<style>\n",
       "    .dataframe thead tr:only-child th {\n",
       "        text-align: right;\n",
       "    }\n",
       "\n",
       "    .dataframe thead th {\n",
       "        text-align: left;\n",
       "    }\n",
       "\n",
       "    .dataframe tbody tr th {\n",
       "        vertical-align: top;\n",
       "    }\n",
       "</style>\n",
       "<table border=\"1\" class=\"dataframe\">\n",
       "  <thead>\n",
       "    <tr style=\"text-align: right;\">\n",
       "      <th></th>\n",
       "      <th>Unnamed: 0</th>\n",
       "      <th>x</th>\n",
       "      <th>y</th>\n",
       "    </tr>\n",
       "  </thead>\n",
       "  <tbody>\n",
       "    <tr>\n",
       "      <th>0</th>\n",
       "      <td>0</td>\n",
       "      <td>0.760083</td>\n",
       "      <td>9.616565</td>\n",
       "    </tr>\n",
       "    <tr>\n",
       "      <th>1</th>\n",
       "      <td>1</td>\n",
       "      <td>0.766794</td>\n",
       "      <td>8.652492</td>\n",
       "    </tr>\n",
       "    <tr>\n",
       "      <th>2</th>\n",
       "      <td>2</td>\n",
       "      <td>0.504173</td>\n",
       "      <td>7.653462</td>\n",
       "    </tr>\n",
       "    <tr>\n",
       "      <th>3</th>\n",
       "      <td>3</td>\n",
       "      <td>0.357411</td>\n",
       "      <td>7.984081</td>\n",
       "    </tr>\n",
       "    <tr>\n",
       "      <th>4</th>\n",
       "      <td>4</td>\n",
       "      <td>0.730932</td>\n",
       "      <td>9.080448</td>\n",
       "    </tr>\n",
       "  </tbody>\n",
       "</table>\n",
       "</div>"
      ],
      "text/plain": [
       "   Unnamed: 0         x         y\n",
       "0           0  0.760083  9.616565\n",
       "1           1  0.766794  8.652492\n",
       "2           2  0.504173  7.653462\n",
       "3           3  0.357411  7.984081\n",
       "4           4  0.730932  9.080448"
      ]
     },
     "metadata": {},
     "output_type": "display_data"
    }
   ],
   "source": [
    "df = pd.read_csv('data/beerdata.csv', sep=\",\")\n",
    "display(df.head())"
   ]
  },
  {
   "cell_type": "code",
   "execution_count": 35,
>>>>>>> f5014302a9ced92eb6a2cfb1947760dc77d57fe9
   "metadata": {},
<<<<<<< HEAD
   "outputs": [
    {
     "data": {
      "text/html": [
       "<div>\n",
       "<style>\n",
       "    .dataframe thead tr:only-child th {\n",
       "        text-align: right;\n",
       "    }\n",
       "\n",
       "    .dataframe thead th {\n",
       "        text-align: left;\n",
       "    }\n",
       "\n",
       "    .dataframe tbody tr th {\n",
       "        vertical-align: top;\n",
       "    }\n",
       "</style>\n",
       "<table border=\"1\" class=\"dataframe\">\n",
       "  <thead>\n",
       "    <tr style=\"text-align: right;\">\n",
       "      <th></th>\n",
       "      <th>Unnamed: 0</th>\n",
       "      <th>x</th>\n",
       "      <th>y</th>\n",
       "    </tr>\n",
       "  </thead>\n",
       "  <tbody>\n",
       "    <tr>\n",
       "      <th>0</th>\n",
       "      <td>0</td>\n",
       "      <td>0.760083</td>\n",
       "      <td>9.616565</td>\n",
       "    </tr>\n",
       "    <tr>\n",
       "      <th>1</th>\n",
       "      <td>1</td>\n",
       "      <td>0.766794</td>\n",
       "      <td>8.652492</td>\n",
       "    </tr>\n",
       "    <tr>\n",
       "      <th>2</th>\n",
       "      <td>2</td>\n",
       "      <td>0.504173</td>\n",
       "      <td>7.653462</td>\n",
       "    </tr>\n",
       "    <tr>\n",
       "      <th>3</th>\n",
       "      <td>3</td>\n",
       "      <td>0.357411</td>\n",
       "      <td>7.984081</td>\n",
       "    </tr>\n",
       "    <tr>\n",
       "      <th>4</th>\n",
       "      <td>4</td>\n",
       "      <td>0.730932</td>\n",
       "      <td>9.080448</td>\n",
       "    </tr>\n",
       "  </tbody>\n",
       "</table>\n",
       "</div>"
      ],
      "text/plain": [
       "   Unnamed: 0         x         y\n",
       "0           0  0.760083  9.616565\n",
       "1           1  0.766794  8.652492\n",
       "2           2  0.504173  7.653462\n",
       "3           3  0.357411  7.984081\n",
       "4           4  0.730932  9.080448"
      ]
     },
     "metadata": {},
     "output_type": "display_data"
    }
   ],
||||||| merged common ancestors
   "outputs": [],
=======
   "outputs": [
    {
     "data": {
      "image/png": "iVBORw0KGgoAAAANSUhEUgAAArwAAAI4CAYAAACImzqNAAAABHNCSVQICAgIfAhkiAAAAAlwSFlz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\nxUTengAAAABJRU5ErkJggg==\n",
      "text/plain": [
       "<matplotlib.figure.Figure at 0x110d002e8>"
      ]
     },
     "metadata": {},
     "output_type": "display_data"
    }
   ],
>>>>>>> f5014302a9ced92eb6a2cfb1947760dc77d57fe9
   "source": [
<<<<<<< HEAD
    "df = pd.read_csv('data/beerdata.csv', sep=\",\")\n",
    "display(df.head())"
||||||| merged common ancestors
    "#### Plot the data\n",
    "# your code here\n"
=======
    "#### Plot the data\n",
    "sns.set(color_codes=True)\n",
    "fig, ax = plt.subplots(figsize=(10, 8))\n",
    "ax.scatter(df.x, df.y, alpha=0.5, color='navy')\n",
    "fig.suptitle('y via x Scatter Plot')\n",
    "fig.tight_layout(pad=2);\n",
    "ax.set_xlabel('x')\n",
    "ax.set_ylabel('y')\n",
    "ax.grid(True)"
>>>>>>> f5014302a9ced92eb6a2cfb1947760dc77d57fe9
   ]
  },
  {
   "cell_type": "code",
   "execution_count": 27,
   "metadata": {},
<<<<<<< HEAD
   "outputs": [
    {
     "data": {
      "image/png": "iVBORw0KGgoAAAANSUhEUgAAArwAAAI4CAYAAACImzqNAAAABHNCSVQICAgIfAhkiAAAAAlwSFlz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\nxUTengAAAABJRU5ErkJggg==\n",
      "text/plain": [
       "<matplotlib.figure.Figure at 0x1c1539a6a0>"
      ]
     },
     "metadata": {},
     "output_type": "display_data"
    }
   ],
||||||| merged common ancestors
   "outputs": [],
=======
   "outputs": [
    {
     "data": {
      "text/html": [
       "<table class=\"simpletable\">\n",
       "<caption>OLS Regression Results</caption>\n",
       "<tr>\n",
       "  <th>Dep. Variable:</th>            <td>y</td>        <th>  R-squared:         </th> <td>   0.795</td>\n",
       "</tr>\n",
       "<tr>\n",
       "  <th>Model:</th>                   <td>OLS</td>       <th>  Adj. R-squared:    </th> <td>   0.788</td>\n",
       "</tr>\n",
       "<tr>\n",
       "  <th>Method:</th>             <td>Least Squares</td>  <th>  F-statistic:       </th> <td>   108.7</td>\n",
       "</tr>\n",
       "<tr>\n",
       "  <th>Date:</th>             <td>Tue, 02 Oct 2018</td> <th>  Prob (F-statistic):</th> <td>3.78e-11</td>\n",
       "</tr>\n",
       "<tr>\n",
       "  <th>Time:</th>                 <td>17:05:59</td>     <th>  Log-Likelihood:    </th> <td> -43.960</td>\n",
       "</tr>\n",
       "<tr>\n",
       "  <th>No. Observations:</th>      <td>    30</td>      <th>  AIC:               </th> <td>   91.92</td>\n",
       "</tr>\n",
       "<tr>\n",
       "  <th>Df Residuals:</th>          <td>    28</td>      <th>  BIC:               </th> <td>   94.72</td>\n",
       "</tr>\n",
       "<tr>\n",
       "  <th>Df Model:</th>              <td>     1</td>      <th>                     </th>     <td> </td>   \n",
       "</tr>\n",
       "<tr>\n",
       "  <th>Covariance Type:</th>      <td>nonrobust</td>    <th>                     </th>     <td> </td>   \n",
       "</tr>\n",
       "</table>\n",
       "<table class=\"simpletable\">\n",
       "<tr>\n",
       "    <td></td>       <th>coef</th>     <th>std err</th>      <th>t</th>      <th>P>|t|</th>  <th>[0.025</th>    <th>0.975]</th>  \n",
       "</tr>\n",
       "<tr>\n",
       "  <th>const</th> <td>    4.5309</td> <td>    0.357</td> <td>   12.697</td> <td> 0.000</td> <td>    3.800</td> <td>    5.262</td>\n",
       "</tr>\n",
       "<tr>\n",
       "  <th>x</th>     <td>    7.0341</td> <td>    0.675</td> <td>   10.428</td> <td> 0.000</td> <td>    5.652</td> <td>    8.416</td>\n",
       "</tr>\n",
       "</table>\n",
       "<table class=\"simpletable\">\n",
       "<tr>\n",
       "  <th>Omnibus:</th>       <td>37.057</td> <th>  Durbin-Watson:     </th> <td>   2.299</td>\n",
       "</tr>\n",
       "<tr>\n",
       "  <th>Prob(Omnibus):</th> <td> 0.000</td> <th>  Jarque-Bera (JB):  </th> <td> 129.520</td>\n",
       "</tr>\n",
       "<tr>\n",
       "  <th>Skew:</th>          <td> 2.451</td> <th>  Prob(JB):          </th> <td>7.50e-29</td>\n",
       "</tr>\n",
       "<tr>\n",
       "  <th>Kurtosis:</th>      <td>11.921</td> <th>  Cond. No.          </th> <td>    4.12</td>\n",
       "</tr>\n",
       "</table>"
      ],
      "text/plain": [
       "<class 'statsmodels.iolib.summary.Summary'>\n",
       "\"\"\"\n",
       "                            OLS Regression Results                            \n",
       "==============================================================================\n",
       "Dep. Variable:                      y   R-squared:                       0.795\n",
       "Model:                            OLS   Adj. R-squared:                  0.788\n",
       "Method:                 Least Squares   F-statistic:                     108.7\n",
       "Date:                Tue, 02 Oct 2018   Prob (F-statistic):           3.78e-11\n",
       "Time:                        17:05:59   Log-Likelihood:                -43.960\n",
       "No. Observations:                  30   AIC:                             91.92\n",
       "Df Residuals:                      28   BIC:                             94.72\n",
       "Df Model:                           1                                         \n",
       "Covariance Type:            nonrobust                                         \n",
       "==============================================================================\n",
       "                 coef    std err          t      P>|t|      [0.025      0.975]\n",
       "------------------------------------------------------------------------------\n",
       "const          4.5309      0.357     12.697      0.000       3.800       5.262\n",
       "x              7.0341      0.675     10.428      0.000       5.652       8.416\n",
       "==============================================================================\n",
       "Omnibus:                       37.057   Durbin-Watson:                   2.299\n",
       "Prob(Omnibus):                  0.000   Jarque-Bera (JB):              129.520\n",
       "Skew:                           2.451   Prob(JB):                     7.50e-29\n",
       "Kurtosis:                      11.921   Cond. No.                         4.12\n",
       "==============================================================================\n",
       "\n",
       "Warnings:\n",
       "[1] Standard Errors assume that the covariance matrix of the errors is correctly specified.\n",
       "\"\"\""
      ]
     },
     "execution_count": 27,
     "metadata": {},
     "output_type": "execute_result"
    }
   ],
>>>>>>> f5014302a9ced92eb6a2cfb1947760dc77d57fe9
   "source": [
<<<<<<< HEAD
    "#### Plot the data\n",
    "sns.set(color_codes=True)\n",
    "fig, ax = plt.subplots(figsize=(10, 8))\n",
    "ax.scatter(df.x, df.y, alpha=0.5, color='navy')\n",
    "fig.suptitle('y via x Scatter Plot')\n",
    "fig.tight_layout(pad=2);\n",
    "ax.set_xlabel('x')\n",
    "ax.set_ylabel('y')\n",
    "ax.grid(True)"
||||||| merged common ancestors
    "#### Generate the ordinary least squares model (OLS)\n",
    "# your code here\n"
=======
    "#### Generate the ordinary least squares model (OLS)\n",
    "model = sm.OLS(\n",
    "    df.y,\n",
    "    sm.add_constant(df['x'])\n",
    ").fit()\n",
    "model.summary()"
>>>>>>> f5014302a9ced92eb6a2cfb1947760dc77d57fe9
   ]
  },
  {
   "cell_type": "code",
   "execution_count": 34,
   "metadata": {},
<<<<<<< HEAD
   "outputs": [
    {
     "data": {
      "text/html": [
       "<table class=\"simpletable\">\n",
       "<caption>OLS Regression Results</caption>\n",
       "<tr>\n",
       "  <th>Dep. Variable:</th>            <td>y</td>        <th>  R-squared:         </th> <td>   0.795</td>\n",
       "</tr>\n",
       "<tr>\n",
       "  <th>Model:</th>                   <td>OLS</td>       <th>  Adj. R-squared:    </th> <td>   0.788</td>\n",
       "</tr>\n",
       "<tr>\n",
       "  <th>Method:</th>             <td>Least Squares</td>  <th>  F-statistic:       </th> <td>   108.7</td>\n",
       "</tr>\n",
       "<tr>\n",
       "  <th>Date:</th>             <td>Wed, 03 Oct 2018</td> <th>  Prob (F-statistic):</th> <td>3.78e-11</td>\n",
       "</tr>\n",
       "<tr>\n",
       "  <th>Time:</th>                 <td>11:29:10</td>     <th>  Log-Likelihood:    </th> <td> -43.960</td>\n",
       "</tr>\n",
       "<tr>\n",
       "  <th>No. Observations:</th>      <td>    30</td>      <th>  AIC:               </th> <td>   91.92</td>\n",
       "</tr>\n",
       "<tr>\n",
       "  <th>Df Residuals:</th>          <td>    28</td>      <th>  BIC:               </th> <td>   94.72</td>\n",
       "</tr>\n",
       "<tr>\n",
       "  <th>Df Model:</th>              <td>     1</td>      <th>                     </th>     <td> </td>   \n",
       "</tr>\n",
       "<tr>\n",
       "  <th>Covariance Type:</th>      <td>nonrobust</td>    <th>                     </th>     <td> </td>   \n",
       "</tr>\n",
       "</table>\n",
       "<table class=\"simpletable\">\n",
       "<tr>\n",
       "    <td></td>       <th>coef</th>     <th>std err</th>      <th>t</th>      <th>P>|t|</th>  <th>[0.025</th>    <th>0.975]</th>  \n",
       "</tr>\n",
       "<tr>\n",
       "  <th>const</th> <td>    4.5309</td> <td>    0.357</td> <td>   12.697</td> <td> 0.000</td> <td>    3.800</td> <td>    5.262</td>\n",
       "</tr>\n",
       "<tr>\n",
       "  <th>x</th>     <td>    7.0341</td> <td>    0.675</td> <td>   10.428</td> <td> 0.000</td> <td>    5.652</td> <td>    8.416</td>\n",
       "</tr>\n",
       "</table>\n",
       "<table class=\"simpletable\">\n",
       "<tr>\n",
       "  <th>Omnibus:</th>       <td>37.057</td> <th>  Durbin-Watson:     </th> <td>   2.299</td>\n",
       "</tr>\n",
       "<tr>\n",
       "  <th>Prob(Omnibus):</th> <td> 0.000</td> <th>  Jarque-Bera (JB):  </th> <td> 129.520</td>\n",
       "</tr>\n",
       "<tr>\n",
       "  <th>Skew:</th>          <td> 2.451</td> <th>  Prob(JB):          </th> <td>7.50e-29</td>\n",
       "</tr>\n",
       "<tr>\n",
       "  <th>Kurtosis:</th>      <td>11.921</td> <th>  Cond. No.          </th> <td>    4.12</td>\n",
       "</tr>\n",
       "</table>"
      ],
      "text/plain": [
       "<class 'statsmodels.iolib.summary.Summary'>\n",
       "\"\"\"\n",
       "                            OLS Regression Results                            \n",
       "==============================================================================\n",
       "Dep. Variable:                      y   R-squared:                       0.795\n",
       "Model:                            OLS   Adj. R-squared:                  0.788\n",
       "Method:                 Least Squares   F-statistic:                     108.7\n",
       "Date:                Wed, 03 Oct 2018   Prob (F-statistic):           3.78e-11\n",
       "Time:                        11:29:10   Log-Likelihood:                -43.960\n",
       "No. Observations:                  30   AIC:                             91.92\n",
       "Df Residuals:                      28   BIC:                             94.72\n",
       "Df Model:                           1                                         \n",
       "Covariance Type:            nonrobust                                         \n",
       "==============================================================================\n",
       "                 coef    std err          t      P>|t|      [0.025      0.975]\n",
       "------------------------------------------------------------------------------\n",
       "const          4.5309      0.357     12.697      0.000       3.800       5.262\n",
       "x              7.0341      0.675     10.428      0.000       5.652       8.416\n",
       "==============================================================================\n",
       "Omnibus:                       37.057   Durbin-Watson:                   2.299\n",
       "Prob(Omnibus):                  0.000   Jarque-Bera (JB):              129.520\n",
       "Skew:                           2.451   Prob(JB):                     7.50e-29\n",
       "Kurtosis:                      11.921   Cond. No.                         4.12\n",
       "==============================================================================\n",
       "\n",
       "Warnings:\n",
       "[1] Standard Errors assume that the covariance matrix of the errors is correctly specified.\n",
       "\"\"\""
      ]
     },
     "execution_count": 6,
     "metadata": {},
     "output_type": "execute_result"
    }
   ],
||||||| merged common ancestors
   "outputs": [],
=======
   "outputs": [
    {
     "data": {
      "image/png": "iVBORw0KGgoAAAANSUhEUgAAAlwAAAHtCAYAAADMYqD9AAAABHNCSVQICAgIfAhkiAAAAAlwSFlz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\nxQhcAAAAFiNwAQAAWOz/AYRoeLJFJKSmAAAAAElFTkSuQmCC\n",
      "text/plain": [
       "<matplotlib.figure.Figure at 0x110a47630>"
      ]
     },
     "metadata": {},
     "output_type": "display_data"
    }
   ],
>>>>>>> f5014302a9ced92eb6a2cfb1947760dc77d57fe9
   "source": [
<<<<<<< HEAD
    "#### Generate the ordinary least squares model (OLS)\n",
    "model = sm.OLS(\n",
    "    df.y,\n",
    "    sm.add_constant(df['x'])\n",
    ").fit()\n",
    "model.summary()"
||||||| merged common ancestors
    "#### Plot the data along with OLS fit line\n",
    "# your code here\n"
=======
    "#### Plot the data along with OLS fit line\n",
    "fig = plt.subplots(figsize=(10,8));\n",
    "ax = sns.regplot(x='x', y='y', data=df);\n",
    "ax.set_title('y via x Scatter Plot');\n",
    "ax.set_xlabel('x');\n",
    "ax.set_ylabel('y');"
>>>>>>> f5014302a9ced92eb6a2cfb1947760dc77d57fe9
   ]
  },
  {
   "cell_type": "code",
   "execution_count": 36,
   "metadata": {},
<<<<<<< HEAD
   "outputs": [
    {
     "data": {
      "image/png": "iVBORw0KGgoAAAANSUhEUgAAAlwAAAHtCAYAAADMYqD9AAAABHNCSVQICAgIfAhkiAAAAAlwSFlz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\n",
      "text/plain": [
       "<matplotlib.figure.Figure at 0x1c1d84e860>"
      ]
     },
     "metadata": {},
     "output_type": "display_data"
    }
   ],
||||||| merged common ancestors
   "outputs": [],
=======
   "outputs": [
    {
     "data": {
      "text/plain": [
       "<bound method rv_continuous.pdf of <scipy.stats._continuous_distns.t_gen object at 0x10cb51f28>>"
      ]
     },
     "execution_count": 36,
     "metadata": {},
     "output_type": "execute_result"
    }
   ],
>>>>>>> f5014302a9ced92eb6a2cfb1947760dc77d57fe9
   "source": [
    "#### Plot the data along with OLS fit line\n",
    "fig = plt.subplots(figsize=(10,8));\n",
    "ax = sns.regplot(x='x', y='y', data=df);\n",
    "ax.set_title('y via x Scatter Plot');\n",
    "ax.set_xlabel('x');\n",
    "ax.set_ylabel('y');"
   ]
  },
  {
   "cell_type": "code",
<<<<<<< HEAD
   "execution_count": 16,
   "metadata": {},
   "outputs": [
    {
     "data": {
      "text/plain": [
       " final_simplex: (array([[ 7.03412785,  4.53094595,  1.04748663],\n",
       "       [ 7.03410577,  4.53094871,  1.04747633],\n",
       "       [ 7.03420808,  4.53089697,  1.04748659],\n",
       "       [ 7.03419889,  4.53092027,  1.04748667]]), array([ 43.95981042,  43.95981042,  43.95981043,  43.95981043]))\n",
       "           fun: 43.959810422142574\n",
       "       message: 'Optimization terminated successfully.'\n",
       "          nfev: 199\n",
       "           nit: 106\n",
       "        status: 0\n",
       "       success: True\n",
       "             x: array([ 7.03412785,  4.53094595,  1.04748663])"
      ]
     },
     "metadata": {},
     "output_type": "display_data"
    },
    {
     "data": {
      "text/plain": [
       "[<matplotlib.lines.Line2D at 0x1c1e3819b0>]"
      ]
     },
     "execution_count": 16,
     "metadata": {},
     "output_type": "execute_result"
    },
    {
     "data": {
      "image/png": "iVBORw0KGgoAAAANSUhEUgAAAk4AAAHRCAYAAACcgTb+AAAABHNCSVQICAgIfAhkiAAAAAlwSFlz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\nJYITAACASwQnAAAAl/4/+DotH686vGsAAAAASUVORK5CYII=\n",
      "text/plain": [
       "<matplotlib.figure.Figure at 0x1c1dd1c668>"
      ]
     },
     "metadata": {},
     "output_type": "display_data"
    }
   ],
||||||| merged common ancestors
   "execution_count": 8,
   "metadata": {},
   "outputs": [],
=======
   "execution_count": 8,
   "metadata": {
    "collapsed": true
   },
   "outputs": [],
>>>>>>> f5014302a9ced92eb6a2cfb1947760dc77d57fe9
   "source": [
    "def like (parameters):\n",
    "    m = parameters[0]; \n",
    "    b = parameters[1]; \n",
    "    sigma = parameters[2]\n",
    "    for i in range(len(df.x)):\n",
    "        y_hat = m * df.x + b\n",
    "    MLE_norm = -np.sum(norm.logpdf(df.y, loc=y_hat, scale = sigma))\n",
    "    return MLE_norm\n",
    "\n",
    "like_model = minimize(like, np.array([1,1,1]), method='Nelder-Mead')\n",
    "\n",
    "display(like_model)\n",
    "\n",
    "fig = plt.subplots(figsize=(10,8));\n",
    "plt.scatter(df.x,df.y, alpha=0.3);\n",
    "plt.plot(df.x, like_model['x'][0]*df.x + like_model['x'][1]);\n",
    "plt.plot(df.x, model.predict()); #this should be the same line from the OLS"
   ]
  },
  {
   "cell_type": "code",
<<<<<<< HEAD
   "execution_count": 20,
   "metadata": {},
   "outputs": [
    {
     "data": {
      "text/plain": [
       " final_simplex: (array([[ 6.17293117,  4.77381329],\n",
       "       [ 6.17286715,  4.77385332],\n",
       "       [ 6.17302074,  4.77379452]]), array([ 37.03276058,  37.03276059,  37.03276059]))\n",
       "           fun: 37.03276058323295\n",
       "       message: 'Optimization terminated successfully.'\n",
       "          nfev: 114\n",
       "           nit: 59\n",
       "        status: 0\n",
       "       success: True\n",
       "             x: array([ 6.17293117,  4.77381329])"
      ]
     },
     "metadata": {},
     "output_type": "display_data"
    },
    {
     "data": {
      "image/png": "iVBORw0KGgoAAAANSUhEUgAAAk4AAAHRCAYAAACcgTb+AAAABHNCSVQICAgIfAhkiAAAAAlwSFlz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\ngg==\n",
      "text/plain": [
       "<matplotlib.figure.Figure at 0x1c1e367748>"
      ]
     },
     "metadata": {},
     "output_type": "display_data"
    }
   ],
||||||| merged common ancestors
   "execution_count": 9,
   "metadata": {},
   "outputs": [],
=======
   "execution_count": 9,
   "metadata": {
    "collapsed": true
   },
   "outputs": [],
>>>>>>> f5014302a9ced92eb6a2cfb1947760dc77d57fe9
   "source": [
    "#RUN THIS REGRESSION USING THE T-STUDENTS DIST\n",
    "def like_t (parameters):\n",
    "    m = parameters[0]; \n",
    "    b = parameters[1]; \n",
    "    sigma = np.sqrt(3/5)\n",
    "    for i in range(len(df.x)):\n",
    "        y_hat = m * df.x + b\n",
    "    MLE_t = -np.sum(t.logpdf(df.y, loc=y_hat, df = 5, scale = sigma))\n",
    "    return MLE_t\n",
    "\n",
    "like_model_t = minimize(like_t, np.array([1,1]), method='Nelder-Mead')\n",
    "\n",
    "display(like_model_t)\n",
    "\n",
    "fig = plt.subplots(figsize=(10,8));\n",
    "plt.scatter(df.x,df.y, alpha=0.3);\n",
    "plt.plot(df.x, like_model_t['x'][0]*df.x + like_model_t['x'][1], label = \"T Dist Reg\");\n",
    "plt.plot(df.x, model.predict(), label = \"Norm Dist Reg\");#this should be the same line from the OLS\n",
    "plt.legend();"
   ]
  },
  {
   "cell_type": "markdown",
   "metadata": {},
   "source": [
    "**7.2 Compare the two models performances (visualize the prediction lines and estimate the KL divergence between the data and each model) and comment why it is perhaps appropriate to use the Student's t-distribution instead of the Normal. **\n",
    "\n",
    "\n",
    "*your answer here*\n"
   ]
  },
  {
   "cell_type": "code",
<<<<<<< HEAD
   "execution_count": 24,
   "metadata": {},
   "outputs": [
    {
     "data": {
      "text/plain": [
       "0.1137297763637137"
      ]
     },
     "metadata": {},
     "output_type": "display_data"
    },
    {
     "name": "stdout",
     "output_type": "stream",
     "text": [
      "The difference in the KL divergence between the data and the t-dist and Normal distribution models is: 0.114\n"
     ]
    }
   ],
||||||| merged common ancestors
   "execution_count": 10,
   "metadata": {},
   "outputs": [],
=======
   "execution_count": 10,
   "metadata": {
    "collapsed": true
   },
   "outputs": [],
>>>>>>> f5014302a9ced92eb6a2cfb1947760dc77d57fe9
   "source": [
    "kl = np.log(np.sum(model.predict()/(like_model_t['x'][0]*df.x + like_model_t['x'][1])))/30\n",
    "display(kl)\n",
    "print(\"The difference in the KL divergence between the data and the t-dist and Normal distribution models is: {:.3f}\" .format(kl))\n"
   ]
  },
  {
   "cell_type": "markdown",
   "metadata": {},
   "source": [
    "The t-distribution model is less divergent by 0.114 from the true model than the normal distribution model. This makes sense, because the t distribution is more robust with respect to outliers and therefore skewed less by outliers than the normal distribution model."
   ]
  },
  {
   "cell_type": "markdown",
   "metadata": {},
   "source": [
    "\n",
    "<div class='exercise'> <b>  Question 8: Akaike Information Criterion (AIC) </b> </div>\n",
    "\n",
    "Perform a simple numerical experiment to understand and demonstrate the AIC by using the given `generate_data` function to generate your data.\n",
    " \n",
    "\n",
    "**8.1**\n",
    "Generate data for different number of parameters $k$, in the range 1 to 10. For each of the six models generate 1000 training and 1000 testing datasets with each one containing $n=50$ observations.\n",
    "\n",
    "**8.2** \n",
    "Use the training set to estimate the OLS coefficients and  calculate the predicted values, $\\hat y_{tr}$, on the training set and the log-likelihood. \n",
    " Use the OLS coefficients to calculate the predicted values  for the testing set, $\\hat y_{te}$, and the associated log-likelihood. \n",
    "\n",
    "**8.3** \n",
    "For each $k$ compute the average and standard deviation of the log-likelihoods across the 1000 simulations.  Plot the average  log-likelihoods (with error bars) and the average AIC as function of $k$, the number of parameters. What is the best $k$ based on AIC?\n",
    "\n",
    "**8.4**\n",
    "Verify the results in 8.3 by plotting the average log-likelihoods for each of the training and testing datasets as a function of $k$. What is the best $k$ based on this plot?\n",
    "\n",
    "\n",
    "**Comment:**\n",
    "1. The function \"generate_data\" uses an interesting trick to generate data directly using the regression coefficients as proxies for the correlations with the response variable. It generates data from a Normal distribution, hence $y_i \\sim \\mathcal{N}(\\mu_i= 0.15 x_{1,i} - 0.4 x_{2,i},\\sigma^2=1)$."
   ]
  },
  {
   "cell_type": "code",
<<<<<<< HEAD
   "execution_count": null,
   "metadata": {
    "collapsed": true
   },
||||||| merged common ancestors
   "execution_count": 11,
   "metadata": {},
=======
   "execution_count": 37,
   "metadata": {
    "collapsed": true
   },
>>>>>>> f5014302a9ced92eb6a2cfb1947760dc77d57fe9
   "outputs": [],
   "source": [
    "def generate_data(N,k,beta=[0.15 , -0.4]):\n",
    "    \n",
    "    ## N: The number of observations\n",
    "    ## k: The number of parameters\n",
    "    ## beta is the weights vector for the covariates x1, x2\n",
    "    ##\n",
    "    ## Make d_min be greater or equal to k\n",
    "    n_dim = 1+len(beta)\n",
    "    if (n_dim <= k):\n",
    "        n_dim = k\n",
    "\n",
    "    Rho = np.eye(n_dim)\n",
    "    \n",
    "    # Add beta in the first row or Rho\n",
    "    for i,r in enumerate(beta):\n",
    "        Rho[0,i+1] = r\n",
    "    \n",
    "    index_lower = np.tril_indices(n_dim, -1)\n",
    "    \n",
    "    Rho[index_lower] = Rho.T[index_lower]\n",
    "    mean = n_dim * [0.]        \n",
    "    Xtrain = np.random.multivariate_normal(mean, Rho, size=N)\n",
    "    Xtest = np.random.multivariate_normal(mean, Rho, size=N)\n",
    "    ytrain = Xtrain[:,0].copy()\n",
    "    Xtrain[:,0]=1.\n",
    "    ytest = Xtest[:,0].copy()\n",
    "    Xtest[:,0]=1.\n",
    "    return Xtrain[:,:k], ytrain, Xtest[:,:k], ytest"
   ]
  },
  {
   "cell_type": "markdown",
   "metadata": {},
   "source": [
    "### Answers\n",
    "\n",
    "**8.1 Generate data for different number of parameters $k$, in the range 1 to 10. For each of the six models generate 1000 training and 1000 testing datasets with each one containing $n=50$ observations. **\n"
   ]
  },
  {
   "cell_type": "code",
<<<<<<< HEAD
   "execution_count": null,
   "metadata": {
    "collapsed": true
   },
||||||| merged common ancestors
   "execution_count": 12,
   "metadata": {},
=======
   "execution_count": 12,
   "metadata": {
    "collapsed": true
   },
>>>>>>> f5014302a9ced92eb6a2cfb1947760dc77d57fe9
   "outputs": [],
   "source": [
    "#### Be familiar with the generated data by printing them:\n",
    "# your code here\n"
   ]
  },
  {
   "cell_type": "markdown",
   "metadata": {},
   "source": [
    "**8.2 Use the training set to estimate the OLS coefficients and  calculate the predicted values, $\\hat y_{tr}$, on the training set and the log-likelihood. \n",
    " Use the OLS coefficients to calculate the predicted values  for the testing set, $\\hat y_{te}$, and the associated log-likelihood. **\n"
   ]
  },
  {
   "cell_type": "code",
<<<<<<< HEAD
   "execution_count": null,
   "metadata": {
    "collapsed": true
   },
||||||| merged common ancestors
   "execution_count": 13,
   "metadata": {},
=======
   "execution_count": 13,
   "metadata": {
    "collapsed": true
   },
>>>>>>> f5014302a9ced92eb6a2cfb1947760dc77d57fe9
   "outputs": [],
   "source": [
    "#### Generate the datasets:\n",
    "# your code here\n"
   ]
  },
  {
   "cell_type": "markdown",
   "metadata": {},
   "source": [
    "**8.3\n",
    "For each $k$ compute the average and standard deviation of the log-likelihoods across the 2000 simulations.  Plot the average  log-likelihoods (with error bars) and the average AIC as function of $k$, the number of parameters. What is the best $k$ based on AIC?**"
   ]
  },
  {
   "cell_type": "code",
<<<<<<< HEAD
   "execution_count": null,
   "metadata": {
    "collapsed": true
   },
||||||| merged common ancestors
   "execution_count": 14,
   "metadata": {},
=======
   "execution_count": 14,
   "metadata": {
    "collapsed": true
   },
>>>>>>> f5014302a9ced92eb6a2cfb1947760dc77d57fe9
   "outputs": [],
   "source": [
    "# your code here\n"
   ]
  },
  {
   "cell_type": "code",
<<<<<<< HEAD
   "execution_count": null,
   "metadata": {
    "collapsed": true
   },
||||||| merged common ancestors
   "execution_count": 15,
   "metadata": {},
=======
   "execution_count": 15,
   "metadata": {
    "collapsed": true
   },
>>>>>>> f5014302a9ced92eb6a2cfb1947760dc77d57fe9
   "outputs": [],
   "source": [
    "#### Plot the log-likelihood for the traing and testing:\n",
    "# your code here\n"
   ]
  },
  {
   "cell_type": "markdown",
   "metadata": {},
   "source": [
    "\n",
    "**8.4\n",
    "Verify the results in 8.3 by plotting the average log-likelihoods for each of the training and testing datasets as a function of $k$. What is the best $k$ based on this plot?\n",
    "**\n"
   ]
  },
  {
   "cell_type": "code",
<<<<<<< HEAD
   "execution_count": null,
   "metadata": {
    "collapsed": true
   },
||||||| merged common ancestors
   "execution_count": 16,
   "metadata": {},
=======
   "execution_count": 16,
   "metadata": {
    "collapsed": true
   },
>>>>>>> f5014302a9ced92eb6a2cfb1947760dc77d57fe9
   "outputs": [],
   "source": [
    "#### Plot the log-likelihood for the traing and testing:\n",
    "# your code here\n"
   ]
  },
  {
   "cell_type": "code",
   "execution_count": null,
   "metadata": {
    "collapsed": true
   },
   "outputs": [],
   "source": []
  }
 ],
 "metadata": {
  "kernelspec": {
   "display_name": "Python 3",
   "language": "python",
   "name": "python3"
  }
 },
 "nbformat": 4,
 "nbformat_minor": 2
}
