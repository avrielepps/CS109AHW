{
 "cells": [
  {
   "cell_type": "code",
   "execution_count": 42,
   "metadata": {},
   "outputs": [],
   "source": [
    "import numpy as np\n",
    "import pandas as pd\n",
    "\n",
    "import statsmodels.api as sm\n",
    "from statsmodels.api import OLS\n",
    "\n",
    "from sklearn.decomposition import PCA\n",
    "from sklearn.linear_model import LogisticRegression\n",
    "from sklearn.linear_model import LogisticRegressionCV\n",
    "from sklearn.discriminant_analysis import LinearDiscriminantAnalysis\n",
    "from sklearn.discriminant_analysis import QuadraticDiscriminantAnalysis\n",
    "from sklearn.preprocessing import PolynomialFeatures\n",
    "from sklearn.neighbors import KNeighborsClassifier\n",
    "from sklearn.model_selection import cross_val_score\n",
    "from sklearn.metrics import accuracy_score\n",
    "from sklearn.model_selection import KFold\n",
    "from sklearn.preprocessing import MinMaxScaler\n",
    "\n",
    "import math\n",
    "from scipy.special import gamma\n",
    "\n",
    "import matplotlib\n",
    "import matplotlib.pyplot as plt\n",
    "%matplotlib inline\n",
    "\n",
    "import seaborn as sns\n",
    "sns.set()\n",
    "\n",
    "from IPython.display import display\n"
   ]
  },
  {
   "cell_type": "code",
   "execution_count": 43,
   "metadata": {},
   "outputs": [],
   "source": [
    "#ASVB_scores_off = [27,34,62,89,91, 93, 97]"
   ]
  },
  {
   "cell_type": "code",
   "execution_count": 44,
   "metadata": {},
   "outputs": [
    {
     "name": "stderr",
     "output_type": "stream",
     "text": [
      "C:\\Users\\erina\\Anaconda3\\lib\\site-packages\\ipykernel_launcher.py:1: DeprecationWarning: This function is deprecated. Please call randint(1, 99 + 1) instead\n",
      "  \"\"\"Entry point for launching an IPython kernel.\n",
      "C:\\Users\\erina\\Anaconda3\\lib\\site-packages\\ipykernel_launcher.py:3: DeprecationWarning: This function is deprecated. Please call randint(1, 99 + 1) instead\n",
      "  This is separate from the ipykernel package so we can avoid doing imports until\n"
     ]
    },
    {
     "data": {
      "text/plain": [
       "array([[ 1.],\n",
       "       [ 2.],\n",
       "       [ 3.],\n",
       "       [ 4.],\n",
       "       [ 5.],\n",
       "       [ 6.],\n",
       "       [ 7.],\n",
       "       [ 8.],\n",
       "       [ 9.],\n",
       "       [10.],\n",
       "       [11.],\n",
       "       [12.],\n",
       "       [13.],\n",
       "       [14.],\n",
       "       [15.],\n",
       "       [16.],\n",
       "       [17.],\n",
       "       [18.],\n",
       "       [19.],\n",
       "       [20.],\n",
       "       [21.],\n",
       "       [22.],\n",
       "       [23.],\n",
       "       [24.],\n",
       "       [25.],\n",
       "       [26.],\n",
       "       [27.],\n",
       "       [28.],\n",
       "       [29.],\n",
       "       [30.],\n",
       "       [31.],\n",
       "       [32.],\n",
       "       [33.],\n",
       "       [34.],\n",
       "       [35.],\n",
       "       [36.],\n",
       "       [37.],\n",
       "       [38.],\n",
       "       [39.],\n",
       "       [40.],\n",
       "       [41.],\n",
       "       [42.],\n",
       "       [43.],\n",
       "       [44.],\n",
       "       [45.],\n",
       "       [46.],\n",
       "       [47.],\n",
       "       [48.],\n",
       "       [49.],\n",
       "       [50.],\n",
       "       [51.],\n",
       "       [52.],\n",
       "       [53.],\n",
       "       [54.],\n",
       "       [55.],\n",
       "       [56.],\n",
       "       [57.],\n",
       "       [58.],\n",
       "       [59.],\n",
       "       [60.],\n",
       "       [61.],\n",
       "       [62.],\n",
       "       [63.],\n",
       "       [64.],\n",
       "       [65.],\n",
       "       [66.],\n",
       "       [67.],\n",
       "       [68.],\n",
       "       [69.],\n",
       "       [70.],\n",
       "       [71.],\n",
       "       [72.],\n",
       "       [73.],\n",
       "       [74.],\n",
       "       [75.],\n",
       "       [76.],\n",
       "       [77.],\n",
       "       [78.],\n",
       "       [79.],\n",
       "       [80.],\n",
       "       [81.],\n",
       "       [82.],\n",
       "       [83.],\n",
       "       [84.],\n",
       "       [85.],\n",
       "       [86.],\n",
       "       [87.],\n",
       "       [88.],\n",
       "       [89.],\n",
       "       [90.],\n",
       "       [91.],\n",
       "       [92.],\n",
       "       [93.],\n",
       "       [94.],\n",
       "       [95.],\n",
       "       [96.],\n",
       "       [97.],\n",
       "       [98.],\n",
       "       [99.]])"
      ]
     },
     "metadata": {},
     "output_type": "display_data"
    }
   ],
   "source": [
    "x_values_off = np.random.random_integers(1,99,10).reshape(-1,1)\n",
    "y_values_off = [12,14,18,21,23,8,12,17,20,22]\n",
    "x_values_enl = np.random.random_integers(1,99,10).reshape(-1,1)\n",
    "y_values_enl = [9,12,17,26,28,30,7,19,12,13]\n",
    "x_val = np.linspace(1,99,99).reshape(-1,1)\n",
    "# y_values = fitted_logit.predict_proba(x_values)[:,1]\n",
    "display(x_val)"
   ]
  },
  {
   "cell_type": "code",
   "execution_count": 45,
   "metadata": {},
   "outputs": [],
   "source": [
    "from sklearn.linear_model import LinearRegression"
   ]
  },
  {
   "cell_type": "code",
   "execution_count": 46,
   "metadata": {},
   "outputs": [],
   "source": [
    "x_values_off = sm.add_constant(x_values_off)\n",
    "x_vales_enl = sm.add_constant(x_values_enl)"
   ]
  },
  {
   "cell_type": "code",
   "execution_count": 47,
   "metadata": {},
   "outputs": [],
   "source": [
    "regr = LinearRegression()\n",
    "\n",
    "regr_off = regr.fit(x_values_off, y_values_off)\n",
    "y_pred_off = regr.predict(x_values_off)\n",
    "\n",
    "regr2= LinearRegression()\n",
    "\n",
    "regr_enl = regr2.fit(x_values_enl, y_values_enl)\n",
    "y_pred_enl = regr2.predict(x_val)"
   ]
  },
  {
   "cell_type": "code",
   "execution_count": 48,
   "metadata": {},
   "outputs": [],
   "source": [
    "y1= regr.predict(sm.add_constant(x_val))"
   ]
  },
  {
   "cell_type": "code",
   "execution_count": 50,
   "metadata": {},
   "outputs": [
    {
     "ename": "SyntaxError",
     "evalue": "invalid syntax (<ipython-input-50-3eb71743a54b>, line 13)",
     "output_type": "error",
     "traceback": [
      "\u001b[1;36m  File \u001b[1;32m\"<ipython-input-50-3eb71743a54b>\"\u001b[1;36m, line \u001b[1;32m13\u001b[0m\n\u001b[1;33m    plt.title('Comparison of Regressions',fontsize = 16)\u001b[0m\n\u001b[1;37m      ^\u001b[0m\n\u001b[1;31mSyntaxError\u001b[0m\u001b[1;31m:\u001b[0m invalid syntax\n"
     ]
    }
   ],
   "source": [
    "plt.figure(figsize = [16,10])\n",
    "\n",
    "# Officer regression\n",
    "plt.plot(x_val, y1, color = 'b', alpha = 0.5, label = 'Officer')\n",
    "plt.plot(x_val, regr2.predict(sm.add_constant(x_val), color = 'r', alpha =0.5, label = 'Enlisted')\n",
    "\n",
    "# True Data\n",
    "# plt.scatter(x_values_off, y_values_off, color = 'tab:orange',alpha = 0.8, s=100, marker = 's', label = 'Officer Data')\n",
    "# plt.scatter(x_values_enl, y_values_enl, color ='tab:green', alpha = 0.8,s=150, marker = '.', label = \"Enlisted Data\")\n",
    "\n",
    "\n",
    "#Add title and labels\n",
    "plt.title('Comparison of Regressions',fontsize = 16)\n",
    "plt.xlabel('Expression level of DD29963_at', fontsize = 12)\n",
    "plt.ylabel('Probability of Cancer Type', fontsize = 12)\n",
    "plt.legend(fontsize = 12)"
   ]
  },
  {
   "cell_type": "code",
   "execution_count": null,
   "metadata": {},
   "outputs": [],
   "source": []
  }
 ],
 "metadata": {
  "kernelspec": {
   "display_name": "Python 3",
   "language": "python",
   "name": "python3"
  },
  "language_info": {
   "codemirror_mode": {
    "name": "ipython",
    "version": 3
   },
   "file_extension": ".py",
   "mimetype": "text/x-python",
   "name": "python",
   "nbconvert_exporter": "python",
   "pygments_lexer": "ipython3",
   "version": "3.6.5"
  }
 },
 "nbformat": 4,
 "nbformat_minor": 2
}
