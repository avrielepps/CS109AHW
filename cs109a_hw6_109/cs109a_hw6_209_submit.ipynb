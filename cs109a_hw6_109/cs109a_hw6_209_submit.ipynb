{
 "cells": [
  {
   "cell_type": "markdown",
   "metadata": {},
   "source": [
    "# <img style=\"float: left; padding-right: 10px; width: 45px\" src=\"https://raw.githubusercontent.com/Harvard-IACS/2018-CS109A/master/content/styles/iacs.png\"> CS109A Introduction to Data Science: \n",
    "\n",
    "## Homework 6  AC 209 : GLMs\n",
    "\n",
    "\n",
    "**Harvard University**<br/>\n",
    "**Fall 2018**<br/>\n",
    "**Instructors**: Pavlos Protopapas, Kevin Rader\n",
    "\n",
    "Names of people you have worked with goes here: "
   ]
  },
  {
   "cell_type": "code",
   "execution_count": null,
   "metadata": {},
   "outputs": [],
   "source": []
  },
  {
   "cell_type": "markdown",
   "metadata": {},
   "source": [
    "<hr style=\"height:2pt\">"
   ]
  },
  {
   "cell_type": "code",
   "execution_count": 1,
   "metadata": {},
   "outputs": [
    {
     "data": {
      "text/html": [
       "<style>\n",
       "h1 { \n",
       "    padding-top: 25px;\n",
       "    padding-bottom: 25px;\n",
       "    text-align: left; \n",
       "    padding-left: 10px;\n",
       "    background-color: #DDDDDD; \n",
       "    color: black;\n",
       "}\n",
       "h2 { \n",
       "    padding-top: 10px;\n",
       "    padding-bottom: 10px;\n",
       "    text-align: left; \n",
       "    padding-left: 5px;\n",
       "    background-color: #EEEEEE; \n",
       "    color: black;\n",
       "}\n",
       "\n",
       "div.exercise {\n",
       "\tbackground-color: #ffcccc;\n",
       "\tborder-color: #E9967A; \t\n",
       "\tborder-left: 5px solid #800080; \n",
       "\tpadding: 0.5em;\n",
       "}\n",
       "div.theme {\n",
       "\tbackground-color: #DDDDDD;\n",
       "\tborder-color: #E9967A; \t\n",
       "\tborder-left: 5px solid #800080; \n",
       "\tpadding: 0.5em;\n",
       "\tfont-size: 18pt;\n",
       "}\n",
       "p.q1 { \n",
       "    padding-top: 5px;\n",
       "    padding-bottom: 5px;\n",
       "    text-align: left; \n",
       "    padding-left: 5px;\n",
       "    background-color: #EEEEEE; \n",
       "    color: black;\n",
       "}\n",
       "header {\n",
       "   padding-top: 35px;\n",
       "    padding-bottom: 35px;\n",
       "    text-align: left; \n",
       "    padding-left: 10px;\n",
       "    background-color: #DDDDDD; \n",
       "    color: black;\n",
       "}\n",
       "</style>\n",
       "\n"
      ],
      "text/plain": [
       "<IPython.core.display.HTML object>"
      ]
     },
     "execution_count": 1,
     "metadata": {},
     "output_type": "execute_result"
    }
   ],
   "source": [
    "# RUN THIS CELL FOR FORMAT\n",
    "import requests\n",
    "from IPython.core.display import HTML\n",
    "styles = requests.get(\"https://raw.githubusercontent.com/Harvard-IACS/2018-CS109A/master/content/styles/cs109.css\").text\n",
    "HTML(styles)"
   ]
  },
  {
   "cell_type": "code",
   "execution_count": 2,
   "metadata": {},
   "outputs": [],
   "source": [
    "# Imports\n",
    "import numpy as np\n",
    "import matplotlib.pyplot as plt\n",
    "from sklearn.datasets import make_regression\n",
    "from scipy.optimize import minimize\n",
    "\n",
    "%matplotlib inline"
   ]
  },
  {
   "cell_type": "markdown",
   "metadata": {},
   "source": [
    "<div class='exercise'> <b> Question 5 [25 pts] </b> </div>\n",
    "\n",
    "The probability density function of Poisson distribution is given by:\n",
    "$$ p(y|\\mu) =  \\frac{\\lambda^{y}}{y!} e^{-\\lambda}.$$\n",
    "\n",
    "\n",
    "**5.1** Show that Poisson distribution belongs to the general exponential distribution family with probability density:\n",
    "\n",
    "$$f(y|\\theta)= \\exp\\left( \\frac{y  \\,\\theta-b(\\theta)}{\\phi}+c(y,\\phi)\\right).$$\n",
    "\n",
    "**5.2** For the Poisson distribution calculate the canonical parameter $\\theta$ in terms of $\\lambda$, the cumulant function $b(\\theta)$, the dispersion parameter $\\phi$, and the normalization function $c(y,\\phi)$.\n",
    "\n",
    "**5.3**  Show that the canonical link $g(.)$ for the Poisson regression model is given by:\n",
    "$$\\eta = g(\\lambda) = \\log(\\lambda).$$\n",
    "\n",
    "**5.4** Derive to the *normal equations* that maximizes the likelihood in the Poisson regression model.\n"
   ]
  },
  {
   "cell_type": "markdown",
   "metadata": {},
   "source": [
    "### Answers\n",
    "\n"
   ]
  },
  {
   "cell_type": "markdown",
   "metadata": {},
   "source": [
    "**5.1** Show that Poisson distribution belongs to the general exponential distribution family with probability density:\n",
    "\n",
    "$$f(y|\\theta)= \\exp\\left( \\frac{y  \\,\\theta-b(\\theta)}{\\phi}+c(y,\\phi)\\right).$$\n"
   ]
  },
  {
   "cell_type": "markdown",
   "metadata": {},
   "source": [
    "Since the poisson distribution can be rewritten as a general exponential distribution with probability density, we can show that it belongs to that family. I will demonstrate below:\n",
    "\n",
    "$$ p(y|\\mu) =  \\frac{\\lambda^{y}}{y!} e^{-\\lambda}.$$\n",
    "$$ = \\frac {\\lambda^y}{y!}\\exp(-\\lambda)$$\n",
    "$$ = \\frac {1}{y!}\\exp(-\\lambda + \\log(\\lambda^y))$$\n",
    "$$ = \\exp(y \\log \\lambda - \\lambda + \\log(y!)^{-1})$$\n",
    "$$ = \\exp \\left(\\frac{y \\log \\lambda - \\lambda}{1} - \\log(y!)\\right) . $$"
   ]
  },
  {
   "cell_type": "markdown",
   "metadata": {},
   "source": [
    "**5.2** For the Poisson distribution calculate the canonical parameter $\\theta$ in terms of $\\lambda$, the cumulant function $b(\\theta)$, the dispersion parameter $\\phi$, and the normalization function $c(y,\\phi)$.\n"
   ]
  },
  {
   "cell_type": "markdown",
   "metadata": {},
   "source": [
    "The canonical paramater $\\theta$ in terms of $\\lambda$ is:\n",
    "\n",
    "$$\\theta = log\\lambda$$\n",
    "\n",
    "The cumulant function $\\beta(\\theta)$ is:\n",
    "\n",
    "$$b(\\theta) = \\lambda = exp(\\theta)$$\n",
    "\n",
    "The dispersion parameter $phi$ is:\n",
    "$$\\phi = 1$$\n",
    "\n",
    "The normalization function $c(y,\\phi)$ is:\n",
    "$$c(y,\\phi) = log(y!)$$"
   ]
  },
  {
   "cell_type": "markdown",
   "metadata": {},
   "source": [
    "**5.3**  Show that the canonical link $g(.)$ for the Poisson regression model is given by:\n",
    "$$\\eta = g(\\lambda) = \\log(\\lambda).$$\n",
    "\n",
    "Given that the first moment of the poisson distribution, as described in the notes, is:\n",
    "\n",
    "$$\\mu_i = \\mathbb E\\left[y_i \\right] = b'(\\theta_i)$$\n",
    "\n",
    "then, we get:\n",
    "$$\\mu = b' = \\frac{db}{d\\theta} = exp(\\theta) = \\lambda$$\n",
    "\n",
    "The link function is then applied to make the mean $\\mu$ equal to the canonical function:\n",
    "\n",
    "$$\\theta = g(\\mu)$$\n",
    "\n",
    "Thus,\n",
    "$$g(\\mu) = g(\\lambda) = log(\\lambda)$$"
   ]
  },
  {
   "cell_type": "markdown",
   "metadata": {},
   "source": [
    "**5.4** Derive to the *normal equations* that maximizes the likelihood in the Poisson regression model.\n",
    "\n",
    "The normal equations for MLE are:\n",
    "\n",
    "$$\\sum^{n}_{i=1} \\frac{1}{\\phi_i} (y_i-\\mu_i)x^T_i = 0$$\n",
    "\n",
    "So, in the poisson regression model, we can rewrite this as:\n",
    "\n",
    "$$\\sum^{n}_{i=1} \\frac{1}{\\phi_i} (y_i-g^{-1}(x^T_i\\beta))x^T_i = 0$$\n",
    "\n",
    "or...\n",
    "\n",
    "$$\\sum^{n}_{i=1} \\frac{1}{\\phi_i} (y_i-exp(x^T_i\\beta))x^T_i = 0$$\n"
   ]
  }
 ],
 "metadata": {
  "kernelspec": {
   "display_name": "Python 3",
   "language": "python",
   "name": "python3"
  },
  "language_info": {
   "codemirror_mode": {
    "name": "ipython",
    "version": 3
   },
   "file_extension": ".py",
   "mimetype": "text/x-python",
   "name": "python",
   "nbconvert_exporter": "python",
   "pygments_lexer": "ipython3",
   "version": "3.6.6"
  }
 },
 "nbformat": 4,
 "nbformat_minor": 2
}
