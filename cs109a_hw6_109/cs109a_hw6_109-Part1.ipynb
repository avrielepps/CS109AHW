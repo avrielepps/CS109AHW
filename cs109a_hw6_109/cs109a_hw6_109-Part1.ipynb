{
 "cells": [
  {
   "cell_type": "markdown",
   "metadata": {},
   "source": [
    "# <img style=\"float: left; padding-right: 10px; width: 45px\" src=\"https://raw.githubusercontent.com/Harvard-IACS/2018-CS109A/master/content/styles/iacs.png\"> CS109A Introduction to Data Science \n",
    "\n",
    "\n",
    "\n",
    "## Homework 6: Multilayer Feedforward Network - Dealing with Missing Data\n",
    "\n",
    "\n",
    "**Harvard University**<br/>\n",
    "**Fall 2018**<br/>\n",
    "**Instructors**: Pavlos Protopapas, Kevin Rader\n",
    "\n",
    "<hr style=\"height:2pt\">"
   ]
  },
  {
   "cell_type": "code",
   "execution_count": 1,
   "metadata": {},
   "outputs": [
    {
     "data": {
      "text/html": [
       "<style>\n",
       "h1 { \n",
       "    padding-top: 25px;\n",
       "    padding-bottom: 25px;\n",
       "    text-align: left; \n",
       "    padding-left: 10px;\n",
       "    background-color: #DDDDDD; \n",
       "    color: black;\n",
       "}\n",
       "h2 { \n",
       "    padding-top: 10px;\n",
       "    padding-bottom: 10px;\n",
       "    text-align: left; \n",
       "    padding-left: 5px;\n",
       "    background-color: #EEEEEE; \n",
       "    color: black;\n",
       "}\n",
       "\n",
       "div.exercise {\n",
       "\tbackground-color: #ffcccc;\n",
       "\tborder-color: #E9967A; \t\n",
       "\tborder-left: 5px solid #800080; \n",
       "\tpadding: 0.5em;\n",
       "}\n",
       "div.theme {\n",
       "\tbackground-color: #DDDDDD;\n",
       "\tborder-color: #E9967A; \t\n",
       "\tborder-left: 5px solid #800080; \n",
       "\tpadding: 0.5em;\n",
       "\tfont-size: 18pt;\n",
       "}\n",
       "p.q1 { \n",
       "    padding-top: 5px;\n",
       "    padding-bottom: 5px;\n",
       "    text-align: left; \n",
       "    padding-left: 5px;\n",
       "    background-color: #EEEEEE; \n",
       "    color: black;\n",
       "}\n",
       "header {\n",
       "   padding-top: 35px;\n",
       "    padding-bottom: 35px;\n",
       "    text-align: left; \n",
       "    padding-left: 10px;\n",
       "    background-color: #DDDDDD; \n",
       "    color: black;\n",
       "}\n",
       "</style>\n",
       "\n"
      ],
      "text/plain": [
       "<IPython.core.display.HTML object>"
      ]
     },
     "execution_count": 1,
     "metadata": {},
     "output_type": "execute_result"
    }
   ],
   "source": [
    "#RUN THIS CELL \n",
    "import requests\n",
    "from IPython.core.display import HTML\n",
    "styles = requests.get(\"https://raw.githubusercontent.com/Harvard-IACS/2018-CS109A/master/content/styles/cs109.css\").text\n",
    "HTML(styles)"
   ]
  },
  {
   "cell_type": "markdown",
   "metadata": {},
   "source": [
    "### INSTRUCTIONS\n",
    "\n",
    "- To submit your assignment follow the [instructions given in canvas](https://canvas.harvard.edu/courses/42693/pages/homework-policies-and-submission-instructions).\n",
    "\n",
    "- This homework can be submitted in pairs.\n",
    "\n",
    "- If you submit individually but you have worked with someone, please include the name of your **one** partner below. \n",
    "\n",
    "\n",
    "**Names of person you have worked with goes here:**\n",
    "<br><BR>"
   ]
  },
  {
   "cell_type": "code",
   "execution_count": 2,
   "metadata": {},
   "outputs": [],
   "source": [
    "%matplotlib inline\n",
    "import numpy as np\n",
    "import numpy.random as nd\n",
    "import pandas as pd\n",
    "import math\n",
    "import matplotlib.pyplot as plt\n",
    "\n",
    "import os\n",
    "import seaborn as sns\n",
    "sns.set(style=\"darkgrid\")\n",
    "\n",
    "from sklearn.linear_model import LogisticRegressionCV\n",
    "from sklearn.model_selection import cross_val_score\n",
    "from sklearn.metrics import accuracy_score\n",
    "from sklearn.metrics import confusion_matrix\n",
    "from sklearn.preprocessing import Imputer\n",
    "from sklearn.metrics import mean_squared_error\n",
    "from sklearn.model_selection import train_test_split\n",
    "from IPython.display import display\n",
    "\n"
   ]
  },
  {
   "cell_type": "markdown",
   "metadata": {},
   "source": [
    "<div class=\"theme\"> Overview </div>\n",
    "\n",
    "In this homework, you are free to explore different ways of solving the problems -within the restrictions of the questions. Your solutions should read like a report with figures to support your statements. Please include your code cells as usual but augment your solutions with written answers. We will also check for code readability and efficiency as we feel you have some experience now. In particular, for Q1, we expect you to write appropriate functions, such as your code can be generalized beyond the specified network architectures of his homework.\n",
    "\n",
    "For this homework you may **not** use a machine learning library such as `keras` or `tensorflow` to build and fit the network. The objective is to build the network equations from scratch.\n",
    "\n",
    "- Q1 explores approximating a function using a **Multilayer Feedforward Network** with one input layer, one hidden layer, and one output layer. \n",
    "\n",
    "- Q2 deals with missing data in a medical dataset."
   ]
  },
  {
   "cell_type": "markdown",
   "metadata": {},
   "source": [
    "<div class=\"exercise\"> <b> Question 1: Construct a feed forward neural network [50 pts]</b> </div>\n",
    "    \n",
    "In this part of the homework you are to construct three feed forward neural networks consisting of an input layer, one hidden layer with 1, 2 and 4 nodes respectively, and an output layer.  The hidden layer uses the sigmoid as the activation function and use a linear  output node. \n",
    "You should code the equations from scratch. \n",
    "\n",
    "You are given three datasets containing ($x,y$) points where $y=f(x)$:\n",
    "\n",
    "- In the first dataset, $f(x)$ is a **single step** function (data in`data/step_df.csv`), \n",
    "- In the second dataset, $f(x)$ is a **one hump** function (data in `data/one_hump_df.csv`),\n",
    "- In the third dataset, $f(x)$ is a **two equal humps** function (data in `data/two_hump_df.csv`).\n",
    "\n",
    "**1.1** Create a plot of each dataset and explore the structure of the data. \n",
    "\n",
    "**1.2**  Give values to the weights **manually**, perform a forward pass using the data for the **single step** function and a hidden layer of **one** node, and plot the output from the network, in the same plot as the true $y$ values. Adjust the weigths (again manualy) until the plots match as closely as possible.\n",
    "\n",
    "**1.3** Do the same for the **one hump** function data, this time using a hidden layer consisting of **two** nodes.\n",
    "\n",
    "**1.4** Do the same for the **two hump** function data but this time increase the number of hidden nodes to **four**.  \n",
    "\n",
    "**1.5** Choose the appropriate loss function and calculate and report the loss from all three cases. Derive the gradient of the output layer's weights for all three cases (step, one hump and two humps). Use the weights for the hidden layers you found in the previous question and perform gradient descent on the weights of this layer (output layer). What is the optimised weight value and loss you obtained? How many steps did you take to reach this value? What is the threshold value you used to stop? "
   ]
  },
  {
   "cell_type": "markdown",
   "metadata": {},
   "source": [
    "### Answers"
   ]
  },
  {
   "cell_type": "markdown",
   "metadata": {},
   "source": [
    "**1.1** "
   ]
  },
  {
   "cell_type": "code",
   "execution_count": 3,
   "metadata": {},
   "outputs": [
    {
     "data": {
      "text/html": [
       "<div>\n",
       "<style scoped>\n",
       "    .dataframe tbody tr th:only-of-type {\n",
       "        vertical-align: middle;\n",
       "    }\n",
       "\n",
       "    .dataframe tbody tr th {\n",
       "        vertical-align: top;\n",
       "    }\n",
       "\n",
       "    .dataframe thead th {\n",
       "        text-align: right;\n",
       "    }\n",
       "</style>\n",
       "<table border=\"1\" class=\"dataframe\">\n",
       "  <thead>\n",
       "    <tr style=\"text-align: right;\">\n",
       "      <th></th>\n",
       "      <th>x</th>\n",
       "      <th>y</th>\n",
       "    </tr>\n",
       "  </thead>\n",
       "  <tbody>\n",
       "    <tr>\n",
       "      <th>0</th>\n",
       "      <td>3.734197</td>\n",
       "      <td>1.000226</td>\n",
       "    </tr>\n",
       "    <tr>\n",
       "      <th>1</th>\n",
       "      <td>6.890217</td>\n",
       "      <td>-0.000877</td>\n",
       "    </tr>\n",
       "    <tr>\n",
       "      <th>2</th>\n",
       "      <td>3.330365</td>\n",
       "      <td>0.999072</td>\n",
       "    </tr>\n",
       "    <tr>\n",
       "      <th>3</th>\n",
       "      <td>-4.250132</td>\n",
       "      <td>-0.000071</td>\n",
       "    </tr>\n",
       "    <tr>\n",
       "      <th>4</th>\n",
       "      <td>3.700311</td>\n",
       "      <td>1.002423</td>\n",
       "    </tr>\n",
       "  </tbody>\n",
       "</table>\n",
       "</div>"
      ],
      "text/plain": [
       "          x         y\n",
       "0  3.734197  1.000226\n",
       "1  6.890217 -0.000877\n",
       "2  3.330365  0.999072\n",
       "3 -4.250132 -0.000071\n",
       "4  3.700311  1.002423"
      ]
     },
     "metadata": {},
     "output_type": "display_data"
    }
   ],
   "source": [
    "# your code here\n",
    "step_df = pd.read_csv('data/step_df.csv')\n",
    "one_hump_df = pd.read_csv('data/one_hump_df.csv')\n",
    "two_hump_df = pd.read_csv('data/two_hump_df.csv')\n",
    "display(one_hump_df.head())"
   ]
  },
  {
   "cell_type": "code",
   "execution_count": 4,
   "metadata": {},
   "outputs": [
    {
     "data": {
      "image/png": "[encoded data removed]",
      "text/plain": [
       "<Figure size 432x288 with 1 Axes>"
      ]
     },
     "metadata": {},
     "output_type": "display_data"
    }
   ],
   "source": [
    "plt.scatter(step_df['x'],step_df['y'])\n",
    "plt.title(\"Single Step DF\");"
   ]
  },
  {
   "cell_type": "code",
   "execution_count": 5,
   "metadata": {},
   "outputs": [
    {
     "data": {
      "image/png": "[encoded data removed]",
      "text/plain": [
       "<Figure size 432x288 with 1 Axes>"
      ]
     },
     "metadata": {},
     "output_type": "display_data"
    }
   ],
   "source": [
    "plt.scatter(one_hump_df['x'],one_hump_df['y'])\n",
    "plt.title(\"One Hump DF\");"
   ]
  },
  {
   "cell_type": "code",
   "execution_count": 6,
   "metadata": {},
   "outputs": [
    {
     "data": {
      "image/png": "[encoded data removed]",
      "text/plain": [
       "<Figure size 432x288 with 1 Axes>"
      ]
     },
     "metadata": {},
     "output_type": "display_data"
    }
   ],
   "source": [
    "plt.scatter(two_hump_df['x'],two_hump_df['y'])\n",
    "plt.title(\"Two Hump DF\");"
   ]
  },
  {
   "cell_type": "markdown",
   "metadata": {},
   "source": [
    "**1.2** Give values to the weights **manually**, perform a forward pass using the data for the **single step** function and a hidden layer of **one** node, and plot the output from the network, in the same plot as the true $y$ values. Adjust the weigths (again manualy) until the plots match as closely as possible."
   ]
  },
  {
   "cell_type": "code",
   "execution_count": 7,
   "metadata": {},
   "outputs": [
    {
     "data": {
      "image/png": "[encoded data removed]",
      "text/plain": [
       "<Figure size 792x504 with 1 Axes>"
      ]
     },
     "metadata": {},
     "output_type": "display_data"
    }
   ],
   "source": [
    "# your code here\n",
    "def affine(x, w, b):\n",
    "    return w * x + b\n",
    "\n",
    "def sigmoid(z):\n",
    "    return 1.0 / (1.0 + np.exp(-z))\n",
    "\n",
    "x = np.linspace(-5.0, 10.0, 100) # input points\n",
    "sorted_step_df = step_df.sort_values('x') # data\n",
    "\n",
    "w = 5.0\n",
    "b = -10\n",
    "\n",
    "y_step = sigmoid(affine(x, w, b))\n",
    "\n",
    "# Plot\n",
    "fig, ax = plt.subplots(1,1, figsize=(11,7))\n",
    "ax.plot(sorted_step_df['x'],sorted_step_df['y'], ls='-.', lw=4, label='True function')\n",
    "ax.plot(x, y_step, lw=4, label=r'Single Neuron')\n",
    "ax.axhline(y=0.5, linestyle='-.')\n",
    "# Create labels (very important!)\n",
    "ax.set_xlabel('$x$', fontsize=12) # Notice we make the labels big enough to read\n",
    "ax.set_ylabel('$y$', fontsize=12)\n",
    "ax.set_title('Single Step DF', fontsize = 16)\n",
    "ax.legend(fontsize = 12, loc = 2)\n",
    "\n",
    "ax.tick_params(labelsize=12) # Make the tick labels big enough to read\n"
   ]
  },
  {
   "cell_type": "markdown",
   "metadata": {},
   "source": [
    "**1.3** Do the same for the **one hump** function data, this time using a hidden layer consisting of **two** nodes."
   ]
  },
  {
   "cell_type": "code",
   "execution_count": 8,
   "metadata": {},
   "outputs": [],
   "source": [
    "x = np.linspace(-5.0, 10.0, 100) # input points\n",
    "sorted_one_hump_df = one_hump_df.sort_values('x') # data\n",
    "\n",
    "# Set weights\n",
    "w = np.array([-20, -20])\n",
    "b = np.array([40, 120])\n",
    "\n",
    "# Affine transformations\n",
    "z1 = w[0] * x + b[0]\n",
    "z2 = w[1] * x + b[1]\n",
    "\n",
    "# Node outputs\n",
    "h1 = 1.0 / (1.0 + np.exp(-z1))\n",
    "h2 = 1.0 / (1.0 + np.exp(-z2))\n",
    "\n",
    "# Network output\n",
    "wout = np.array([-1, 1])\n",
    "bout = np.array(0)\n",
    "\n",
    "y_one = wout[0] * h1 + wout[1] * h2 + bout"
   ]
  },
  {
   "cell_type": "code",
   "execution_count": 9,
   "metadata": {},
   "outputs": [
    {
     "data": {
      "image/png": "[encoded data removed]",
      "text/plain": [
       "<Figure size 792x504 with 1 Axes>"
      ]
     },
     "metadata": {},
     "output_type": "display_data"
    }
   ],
   "source": [
    "# Plot\n",
    "fig, ax = plt.subplots(1,1, figsize=(11,7))\n",
    "ax.plot(sorted_one_hump_df['x'],sorted_one_hump_df['y'], ls='-.', lw=4, label='True function')\n",
    "ax.plot(x, y_one, lw=4, label=r'Single Neuron', alpha = 0.8)\n",
    "ax.axhline(y=0.5, linestyle='-.')\n",
    "# Create labels (very important!)\n",
    "ax.set_xlabel('$x$', fontsize=12) # Notice we make the labels big enough to read\n",
    "ax.set_ylabel('$y$', fontsize=12)\n",
    "ax.set_title('One Hump Dataframe with Two Nodes', fontsize = 16)\n",
    "ax.legend(fontsize = 12, loc = 2)\n",
    "\n",
    "ax.tick_params(labelsize=12) # Make the tick labels big enough to read"
   ]
  },
  {
   "cell_type": "markdown",
   "metadata": {},
   "source": [
    "**1.4**"
   ]
  },
  {
   "cell_type": "code",
   "execution_count": 10,
   "metadata": {},
   "outputs": [],
   "source": [
    "x = np.linspace(-5.0, 10.0, 100) # input points\n",
    "sorted_two_hump_df = two_hump_df.sort_values('x') # data\n",
    "\n",
    "# Set weights\n",
    "w = [-20, -20, -20, -20]\n",
    "b = [20, 60, 100, 140]\n",
    "\n",
    "# Affine transformations\n",
    "z1 = w[0] * x + b[0]\n",
    "z2 = w[1] * x + b[1]\n",
    "z3 = w[2] * x + b[2]\n",
    "z4 = w[3] * x + b[3]\n",
    "\n",
    "# Node outputs\n",
    "h1 = 1.0 / (1.0 + np.exp(-z1))\n",
    "h2 = 1.0 / (1.0 + np.exp(-z2))\n",
    "h3 = 1.0 / (1.0 + np.exp(-z3))\n",
    "h4 = 1.0 / (1.0 + np.exp(-z4))\n",
    "\n",
    "# Network output\n",
    "wout = [-1, 1, -1 , 1]\n",
    "bout = [0]\n",
    "\n",
    "y_two = wout[0] * h1 + wout[1] * h2 + wout[2] * h3 + wout[3] * h4 + bout"
   ]
  },
  {
   "cell_type": "code",
   "execution_count": 11,
   "metadata": {},
   "outputs": [
    {
     "data": {
      "image/png": "[encoded data removed]",
      "text/plain": [
       "<Figure size 792x504 with 1 Axes>"
      ]
     },
     "metadata": {},
     "output_type": "display_data"
    }
   ],
   "source": [
    "fig, ax = plt.subplots(1,1, figsize=(11,7))\n",
    "ax.plot(sorted_two_hump_df['x'],sorted_two_hump_df['y'], ls='-.', lw=4, label='True function')\n",
    "ax.plot(x, y_two, lw=4, label=r'Single Neuron')\n",
    "ax.axhline(y=0.5, linestyle='-.')\n",
    "# Create labels (very important!)\n",
    "ax.set_xlabel('$x$', fontsize=12) # Notice we make the labels big enough to read\n",
    "ax.set_ylabel('$y$', fontsize=12)\n",
    "ax.set_title('Two Hump Dataframe with Four Hidden Nodes', fontsize = 16)\n",
    "ax.legend(fontsize = 12, loc = 2)\n",
    "\n",
    "ax.tick_params(labelsize=12) # Make the tick labels big enough to read"
   ]
  },
  {
   "cell_type": "markdown",
   "metadata": {},
   "source": [
    "**1.5** Choose the appropriate loss function and calculate and report the loss from all three cases. Derive the gradient of the output layer's weights for all three cases (step, one hump and two humps). Use the weights for the hidden layers you found in the previous question and perform gradient descent on the weights of this layer (output layer). What is the optimised weight value and loss you obtained? How many steps did you take to reach this value? What is the threshold value you used to stop? "
   ]
  },
  {
   "cell_type": "markdown",
   "metadata": {},
   "source": [
    "Print MSE for each of the three cases"
   ]
  },
  {
   "cell_type": "code",
   "execution_count": 14,
   "metadata": {},
   "outputs": [
    {
     "name": "stdout",
     "output_type": "stream",
     "text": [
      "MSE for the single step data:  0.5212282026118956\n",
      "MSE for the one hump data:  0.45762761768005944\n",
      "MSE for the two hump data:  0.3048771896664801\n"
     ]
    }
   ],
   "source": [
    "# your code here\n",
    "MSE_step = mean_squared_error(step_df['y'].values, y_step)\n",
    "MSE_one = mean_squared_error(one_hump_df['y'].values, y_one)\n",
    "MSE_two = mean_squared_error(two_hump_df['y'].values, y_two)\n",
    "\n",
    "print(\"MSE for the single step data: \",MSE_step)\n",
    "print(\"MSE for the one hump data: \", MSE_one)\n",
    "print(\"MSE for the two hump data: \",MSE_two)"
   ]
  },
  {
   "cell_type": "markdown",
   "metadata": {},
   "source": [
    "*Calculate the partial derivative of MSE and place into a function*\n",
    "\n",
    "$E(w) = \\frac{1}{n}\\sum_{i=1}^{n}(h_w(x_i)-y_i)^2$  \n",
    "  \n",
    "$\\frac{dE(w)}{dw_j} = \\frac{1}{n}\\sum_{i=1}^{n}2(h_w(x_i)-y_i)h'_w(x_i)$\n",
    "  \n",
    "$\\frac{dE(w)}{dw_j} = \\frac{2}{n}\\sum_{i=1}^{n}2(w_j(x_{ij})-y_i)x_{ij}$\n",
    "\n",
    "We will set out threshold value equal to $10e^{-10}$"
   ]
  },
  {
   "cell_type": "code",
   "execution_count": 28,
   "metadata": {},
   "outputs": [],
   "source": [
    "def MSEgrad(X,Y, start_value, w_i, b_i, eta = 1e-6, thresh = 10e-10):\n",
    "    run = True\n",
    "    cost = 1\n",
    "    step = 0\n",
    "    w_n = start_value[:-1]\n",
    "    b_n = start_value[-1];\n",
    "    try:\n",
    "        n = len(w_i)\n",
    "    except:\n",
    "        n = 1\n",
    "    \n",
    "    #Manipulate the dataframes in order to run them through the loop as arrays    \n",
    "    X = np.array(X); w_i = np.reshape(np.array(w_i),(n,1))\n",
    "    w_n = np.reshape(np.array(w_n), (n,1))\n",
    "    b_i = np.array([b_i]*100).T\n",
    "    Y = np.reshape(np.array(Y), (1,-1))\n",
    "    y_i = np.dot(w_i, np.reshape(X,(1,-1))) + b_i\n",
    "    hw = 1.0/(1.0+np.exp(-y_i))\n",
    "    hw = np.reshape(np.array(hw), (n, -1))\n",
    "    \n",
    "    #Run loss function\n",
    "    while run:\n",
    "        prev = cost\n",
    "        w_n = w_n - eta*np.sum((np.dot(w_n.T, hw)-Y)*hw)\n",
    "        y_new = np.dot(w_n.T, hw) + b_n\n",
    "        cost = mean_squared_error(Y, y_new)\n",
    "        step = step +1\n",
    "        if abs(prev-cost) < thresh:\n",
    "            run = False\n",
    "    return w_n, step, cost"
   ]
  },
  {
   "cell_type": "code",
   "execution_count": 27,
   "metadata": {},
   "outputs": [
    {
     "name": "stdout",
     "output_type": "stream",
     "text": [
      "Single step coefficients: [[-0.99902099]]\n",
      "Number of steps: 19\n",
      "Cost: 1.83546084213659e-06\n"
     ]
    }
   ],
   "source": [
    "w_n_step, step_step, cost_step = MSEgrad(step_df['x'], step_df['y'], start_value = [-1.0001, 0.999], w_i = [-20], b_i = [40])\n",
    "print(\"Single step coefficients:\", w_n_step)\n",
    "print(\"Number of steps:\", step_step)\n",
    "print(\"Cost:\", cost_step)"
   ]
  },
  {
   "cell_type": "code",
   "execution_count": 26,
   "metadata": {},
   "outputs": [
    {
     "name": "stdout",
     "output_type": "stream",
     "text": [
      "One hump coefficients: [[-1.00009971]\n",
      " [ 0.99900029]]\n",
      "One hump steps: 2\n",
      "Cost: 2.1474757062995616e-06\n"
     ]
    }
   ],
   "source": [
    "w_n_one, step_one, cost_one = MSEgrad(one_hump_df['x'], one_hump_df['y'], start_value = [-1.0001, 0.999, 0.0], w_i = [-20, -20], b_i = [40, 120])\n",
    "print(\"One hump coefficients:\",w_n_one)\n",
    "print(\"One hump steps:\", step_one)\n",
    "print(\"Cost:\",cost_one)"
   ]
  },
  {
   "cell_type": "code",
   "execution_count": 25,
   "metadata": {},
   "outputs": [
    {
     "name": "stdout",
     "output_type": "stream",
     "text": [
      "Two hump coefficients: [[-0.98129359]\n",
      " [ 1.01780641]\n",
      " [-0.98219359]\n",
      " [ 1.01780641]]\n",
      "Two hump steps: 5943\n",
      "Cost: 0.024452033257127335\n"
     ]
    }
   ],
   "source": [
    "w_n_two, step_two, cost_two = MSEgrad(two_hump_df['x'], two_hump_df['y'], start_value = [-1.0001, 0.999, -1.001, 0.999, 0], w_i = [-20, -20, -20, -20], b_i = [40, 60, 100, 140])\n",
    "print(\"Two hump coefficients:\" ,w_n_two)\n",
    "print(\"Two hump steps:\", step_two)\n",
    "print(\"Cost:\" ,cost_two)"
   ]
  },
  {
   "cell_type": "code",
   "execution_count": null,
   "metadata": {},
   "outputs": [],
   "source": []
  },
  {
   "cell_type": "markdown",
   "metadata": {},
   "source": [
    "### Answers"
   ]
  },
  {
   "cell_type": "markdown",
   "metadata": {},
   "source": [
    "**2.1** "
   ]
  },
  {
   "cell_type": "code",
   "execution_count": null,
   "metadata": {},
   "outputs": [],
   "source": [
    "# your code here\n"
   ]
  },
  {
   "cell_type": "markdown",
   "metadata": {},
   "source": [
    "**2.2** "
   ]
  },
  {
   "cell_type": "code",
   "execution_count": null,
   "metadata": {},
   "outputs": [],
   "source": [
    "# your code here\n"
   ]
  },
  {
   "cell_type": "markdown",
   "metadata": {},
   "source": [
    "**2.3** "
   ]
  },
  {
   "cell_type": "code",
   "execution_count": null,
   "metadata": {},
   "outputs": [],
   "source": [
    "# your code here\n"
   ]
  },
  {
   "cell_type": "markdown",
   "metadata": {},
   "source": [
    "**2.4** "
   ]
  },
  {
   "cell_type": "code",
   "execution_count": null,
   "metadata": {},
   "outputs": [],
   "source": [
    "# your code here\n"
   ]
  },
  {
   "cell_type": "markdown",
   "metadata": {},
   "source": [
    "**2.5** "
   ]
  },
  {
   "cell_type": "markdown",
   "metadata": {},
   "source": [
    "*your answer here*\n"
   ]
  },
  {
   "cell_type": "markdown",
   "metadata": {},
   "source": [
    "**2.6** "
   ]
  },
  {
   "cell_type": "code",
   "execution_count": null,
   "metadata": {},
   "outputs": [],
   "source": []
  }
 ],
 "metadata": {
  "anaconda-cloud": {},
  "kernelspec": {
   "display_name": "Python 3",
   "language": "python",
   "name": "python3"
  },
  "language_info": {
   "codemirror_mode": {
    "name": "ipython",
    "version": 3
   },
   "file_extension": ".py",
   "mimetype": "text/x-python",
   "name": "python",
   "nbconvert_exporter": "python",
   "pygments_lexer": "ipython3",
   "version": "3.6.5"
  }
 },
 "nbformat": 4,
 "nbformat_minor": 2
}
