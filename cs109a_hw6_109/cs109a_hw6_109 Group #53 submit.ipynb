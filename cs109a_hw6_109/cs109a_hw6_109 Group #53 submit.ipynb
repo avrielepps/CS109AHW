<<<<<<< HEAD
{
 "cells": [
  {
   "cell_type": "markdown",
   "metadata": {},
   "source": [
    "# <img style=\"float: left; padding-right: 10px; width: 45px\" src=\"https://raw.githubusercontent.com/Harvard-IACS/2018-CS109A/master/content/styles/iacs.png\"> CS109A Introduction to Data Science \n",
    "\n",
    "\n",
    "\n",
    "## Homework 6: Multilayer Feedforward Network - Dealing with Missing Data\n",
    "\n",
    "\n",
    "**Harvard University**<br/>\n",
    "**Fall 2018**<br/>\n",
    "**Instructors**: Pavlos Protopapas, Kevin Rader\n",
    "\n",
    "<hr style=\"height:2pt\">"
   ]
  },
  {
   "cell_type": "code",
   "execution_count": 2,
   "metadata": {},
   "outputs": [
    {
     "data": {
      "text/html": [
       "<style>\n",
       "h1 { \n",
       "    padding-top: 25px;\n",
       "    padding-bottom: 25px;\n",
       "    text-align: left; \n",
       "    padding-left: 10px;\n",
       "    background-color: #DDDDDD; \n",
       "    color: black;\n",
       "}\n",
       "h2 { \n",
       "    padding-top: 10px;\n",
       "    padding-bottom: 10px;\n",
       "    text-align: left; \n",
       "    padding-left: 5px;\n",
       "    background-color: #EEEEEE; \n",
       "    color: black;\n",
       "}\n",
       "\n",
       "div.exercise {\n",
       "\tbackground-color: #ffcccc;\n",
       "\tborder-color: #E9967A; \t\n",
       "\tborder-left: 5px solid #800080; \n",
       "\tpadding: 0.5em;\n",
       "}\n",
       "div.theme {\n",
       "\tbackground-color: #DDDDDD;\n",
       "\tborder-color: #E9967A; \t\n",
       "\tborder-left: 5px solid #800080; \n",
       "\tpadding: 0.5em;\n",
       "\tfont-size: 18pt;\n",
       "}\n",
       "p.q1 { \n",
       "    padding-top: 5px;\n",
       "    padding-bottom: 5px;\n",
       "    text-align: left; \n",
       "    padding-left: 5px;\n",
       "    background-color: #EEEEEE; \n",
       "    color: black;\n",
       "}\n",
       "header {\n",
       "   padding-top: 35px;\n",
       "    padding-bottom: 35px;\n",
       "    text-align: left; \n",
       "    padding-left: 10px;\n",
       "    background-color: #DDDDDD; \n",
       "    color: black;\n",
       "}\n",
       "</style>\n",
       "\n"
      ],
      "text/plain": [
       "<IPython.core.display.HTML object>"
      ]
     },
     "execution_count": 2,
     "metadata": {},
     "output_type": "execute_result"
    }
   ],
   "source": [
    "#RUN THIS CELL \n",
    "import requests\n",
    "from IPython.core.display import HTML\n",
    "styles = requests.get(\"https://raw.githubusercontent.com/Harvard-IACS/2018-CS109A/master/content/styles/cs109.css\").text\n",
    "HTML(styles)"
   ]
  },
  {
   "cell_type": "markdown",
   "metadata": {},
   "source": [
    "### INSTRUCTIONS\n",
    "\n",
    "- To submit your assignment follow the [instructions given in canvas](https://canvas.harvard.edu/courses/42693/pages/homework-policies-and-submission-instructions).\n",
    "\n",
    "- This homework can be submitted in pairs.\n",
    "\n",
    "- If you submit individually but you have worked with someone, please include the name of your **one** partner below. \n",
    "\n",
    "\n",
    "**Names of person you have worked with goes here:**\n",
    "<br><BR>"
   ]
  },
  {
   "cell_type": "code",
   "execution_count": 3,
   "metadata": {},
   "outputs": [],
   "source": [
    "%matplotlib inline\n",
    "import numpy as np\n",
    "import numpy.random as nd\n",
    "import pandas as pd\n",
    "import math\n",
    "import matplotlib.pyplot as plt\n",
    "\n",
    "import os\n",
    "import seaborn as sns\n",
    "sns.set(style=\"darkgrid\")\n",
    "\n",
    "from sklearn.linear_model import LogisticRegressionCV\n",
    "from sklearn.model_selection import cross_val_score\n",
    "from sklearn.metrics import accuracy_score\n",
    "from sklearn.metrics import confusion_matrix\n",
    "from sklearn.preprocessing import Imputer\n",
    "from sklearn.metrics import mean_squared_error\n",
    "from sklearn.model_selection import train_test_split\n",
    "from IPython.display import display\n",
    "import sklearn\n",
    "sklearn.__version__\n",
    "\n",
    "import warnings\n",
    "warnings.filterwarnings(\"ignore\")"
   ]
  },
  {
   "cell_type": "markdown",
   "metadata": {},
   "source": [
    "<div class=\"theme\"> Overview </div>\n",
    "\n",
    "In this homework, you are free to explore different ways of solving the problems -within the restrictions of the questions. Your solutions should read like a report with figures to support your statements. Please include your code cells as usual but augment your solutions with written answers. We will also check for code readability and efficiency as we feel you have some experience now. In particular, for Q1, we expect you to write appropriate functions, such as your code can be generalized beyond the specified network architectures of his homework.\n",
    "\n",
    "For this homework you may **not** use a machine learning library such as `keras` or `tensorflow` to build and fit the network. The objective is to build the network equations from scratch.\n",
    "\n",
    "- Q1 explores approximating a function using a **Multilayer Feedforward Network** with one input layer, one hidden layer, and one output layer. \n",
    "\n",
    "- Q2 deals with missing data in a medical dataset."
   ]
  },
  {
   "cell_type": "markdown",
   "metadata": {},
   "source": [
    "<div class=\"exercise\"> <b> Question 1: Construct a feed forward neural network [50 pts]</b> </div>\n",
    "    \n",
    "In this part of the homework you are to construct three feed forward neural networks consisting of an input layer, one hidden layer with 1, 2 and 4 nodes respectively, and an output layer.  The hidden layer uses the sigmoid as the activation function and use a linear  output node. \n",
    "You should code the equations from scratch. \n",
    "\n",
    "You are given three datasets containing ($x,y$) points where $y=f(x)$:\n",
    "\n",
    "- In the first dataset, $f(x)$ is a **single step** function (data in`data/step_df.csv`), \n",
    "- In the second dataset, $f(x)$ is a **one hump** function (data in `data/one_hump_df.csv`),\n",
    "- In the third dataset, $f(x)$ is a **two equal humps** function (data in `data/two_hump_df.csv`).\n",
    "\n",
    "**1.1** Create a plot of each dataset and explore the structure of the data. \n",
    "\n",
    "**1.2**  Give values to the weights **manually**, perform a forward pass using the data for the **single step** function and a hidden layer of **one** node, and plot the output from the network, in the same plot as the true $y$ values. Adjust the weigths (again manualy) until the plots match as closely as possible.\n",
    "\n",
    "**1.3** Do the same for the **one hump** function data, this time using a hidden layer consisting of **two** nodes.\n",
    "\n",
    "**1.4** Do the same for the **two hump** function data but this time increase the number of hidden nodes to **four**.  \n",
    "\n",
    "**1.5** Choose the appropriate loss function and calculate and report the loss from all three cases. Derive the gradient of the output layer's weights for all three cases (step, one hump and two humps). Use the weights for the hidden layers you found in the previous question and perform gradient descent on the weights of this layer (output layer). What is the optimised weight value and loss you obtained? How many steps did you take to reach this value? What is the threshold value you used to stop? "
   ]
  },
  {
   "cell_type": "markdown",
   "metadata": {},
   "source": [
    "### Answers"
   ]
  },
  {
   "cell_type": "markdown",
   "metadata": {},
   "source": [
    "**1.1** "
   ]
  },
  {
   "cell_type": "code",
   "execution_count": 96,
   "metadata": {},
   "outputs": [
    {
     "data": {
      "text/html": [
       "<div>\n",
       "<style scoped>\n",
       "    .dataframe tbody tr th:only-of-type {\n",
       "        vertical-align: middle;\n",
       "    }\n",
       "\n",
       "    .dataframe tbody tr th {\n",
       "        vertical-align: top;\n",
       "    }\n",
       "\n",
       "    .dataframe thead th {\n",
       "        text-align: right;\n",
       "    }\n",
       "</style>\n",
       "<table border=\"1\" class=\"dataframe\">\n",
       "  <thead>\n",
       "    <tr style=\"text-align: right;\">\n",
       "      <th></th>\n",
       "      <th>x</th>\n",
       "      <th>y</th>\n",
       "    </tr>\n",
       "  </thead>\n",
       "  <tbody>\n",
       "    <tr>\n",
       "      <th>0</th>\n",
       "      <td>3.734197</td>\n",
       "      <td>1.000226</td>\n",
       "    </tr>\n",
       "    <tr>\n",
       "      <th>1</th>\n",
       "      <td>6.890217</td>\n",
       "      <td>-0.000877</td>\n",
       "    </tr>\n",
       "    <tr>\n",
       "      <th>2</th>\n",
       "      <td>3.330365</td>\n",
       "      <td>0.999072</td>\n",
       "    </tr>\n",
       "    <tr>\n",
       "      <th>3</th>\n",
       "      <td>-4.250132</td>\n",
       "      <td>-0.000071</td>\n",
       "    </tr>\n",
       "    <tr>\n",
       "      <th>4</th>\n",
       "      <td>3.700311</td>\n",
       "      <td>1.002423</td>\n",
       "    </tr>\n",
       "  </tbody>\n",
       "</table>\n",
       "</div>"
      ],
      "text/plain": [
       "          x         y\n",
       "0  3.734197  1.000226\n",
       "1  6.890217 -0.000877\n",
       "2  3.330365  0.999072\n",
       "3 -4.250132 -0.000071\n",
       "4  3.700311  1.002423"
      ]
     },
     "metadata": {},
     "output_type": "display_data"
    }
   ],
   "source": [
    "# your code here\n",
    "step_df = pd.read_csv('data/step_df.csv')\n",
    "one_hump_df = pd.read_csv('data/one_hump_df.csv')\n",
    "two_hump_df = pd.read_csv('data/two_hump_df.csv')\n",
    "display(one_hump_df.head())"
   ]
  },
  {
   "cell_type": "code",
   "execution_count": 97,
   "metadata": {},
   "outputs": [
    {
     "data": {
      "image/png": "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\n",
      "text/plain": [
       "<Figure size 432x288 with 1 Axes>"
      ]
     },
     "metadata": {},
     "output_type": "display_data"
    }
   ],
   "source": [
    "plt.scatter(step_df['x'],step_df['y'])\n",
    "plt.title(\"Single Step DF\");"
   ]
  },
  {
   "cell_type": "code",
   "execution_count": 98,
   "metadata": {},
   "outputs": [
    {
     "data": {
      "image/png": "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\n",
      "text/plain": [
       "<Figure size 432x288 with 1 Axes>"
      ]
     },
     "metadata": {},
     "output_type": "display_data"
    }
   ],
   "source": [
    "plt.scatter(one_hump_df['x'],one_hump_df['y'])\n",
    "plt.title(\"One Hump DF\");"
   ]
  },
  {
   "cell_type": "code",
   "execution_count": 99,
   "metadata": {},
   "outputs": [
    {
     "data": {
      "image/png": "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\n",
      "text/plain": [
       "<Figure size 432x288 with 1 Axes>"
      ]
     },
     "metadata": {},
     "output_type": "display_data"
    }
   ],
   "source": [
    "plt.scatter(two_hump_df['x'],two_hump_df['y'])\n",
    "plt.title(\"Two Hump DF\");"
   ]
  },
  {
   "cell_type": "markdown",
   "metadata": {},
   "source": [
    "**1.2** Give values to the weights **manually**, perform a forward pass using the data for the **single step** function and a hidden layer of **one** node, and plot the output from the network, in the same plot as the true $y$ values. Adjust the weigths (again manualy) until the plots match as closely as possible."
   ]
  },
  {
   "cell_type": "code",
   "execution_count": 100,
   "metadata": {},
   "outputs": [
    {
     "data": {
      "image/png": "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\n",
      "text/plain": [
       "<Figure size 792x504 with 1 Axes>"
      ]
     },
     "metadata": {},
     "output_type": "display_data"
    }
   ],
   "source": [
    "# your code here\n",
    "def affine(x, w, b):\n",
    "    return w * x + b\n",
    "\n",
    "def sigmoid(z):\n",
    "    return 1.0 / (1.0 + np.exp(-z))\n",
    "\n",
    "x = np.linspace(-5.0, 10.0, 100) # input points\n",
    "sorted_step_df = step_df.sort_values('x') # data\n",
    "\n",
    "w = 5.0\n",
    "b = -10\n",
    "\n",
    "y_step = sigmoid(affine(x, w, b))\n",
    "\n",
    "# Plot\n",
    "fig, ax = plt.subplots(1,1, figsize=(11,7))\n",
    "ax.plot(sorted_step_df['x'],sorted_step_df['y'], ls='-.', lw=4, label='True function')\n",
    "ax.plot(x, y_step, lw=4, label=r'Single Neuron')\n",
    "ax.axhline(y=0.5, linestyle='-.')\n",
    "# Create labels (very important!)\n",
    "ax.set_xlabel('$x$', fontsize=12) # Notice we make the labels big enough to read\n",
    "ax.set_ylabel('$y$', fontsize=12)\n",
    "ax.set_title('Single Step DF', fontsize = 16)\n",
    "ax.legend(fontsize = 12, loc = 2)\n",
    "\n",
    "ax.tick_params(labelsize=12) # Make the tick labels big enough to read\n"
   ]
  },
  {
   "cell_type": "markdown",
   "metadata": {},
   "source": [
    "**1.3** Do the same for the **one hump** function data, this time using a hidden layer consisting of **two** nodes."
   ]
  },
  {
   "cell_type": "code",
   "execution_count": 101,
   "metadata": {},
   "outputs": [],
   "source": [
    "x = np.linspace(-5.0, 10.0, 100) # input points\n",
    "sorted_one_hump_df = one_hump_df.sort_values('x') # data\n",
    "\n",
    "# Set weights\n",
    "w = np.array([-20, -20])\n",
    "b = np.array([40, 120])\n",
    "\n",
    "# Affine transformations\n",
    "z1 = w[0] * x + b[0]\n",
    "z2 = w[1] * x + b[1]\n",
    "\n",
    "# Node outputs\n",
    "h1 = 1.0 / (1.0 + np.exp(-z1))\n",
    "h2 = 1.0 / (1.0 + np.exp(-z2))\n",
    "\n",
    "# Network output\n",
    "wout = np.array([-1, 1])\n",
    "bout = np.array(0)\n",
    "\n",
    "y_one = wout[0] * h1 + wout[1] * h2 + bout"
   ]
  },
  {
   "cell_type": "code",
   "execution_count": 102,
   "metadata": {},
   "outputs": [
    {
     "data": {
      "image/png": "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\n",
      "text/plain": [
       "<Figure size 792x504 with 1 Axes>"
      ]
     },
     "metadata": {},
     "output_type": "display_data"
    }
   ],
   "source": [
    "# Plot\n",
    "fig, ax = plt.subplots(1,1, figsize=(11,7))\n",
    "ax.plot(sorted_one_hump_df['x'],sorted_one_hump_df['y'], ls='-.', lw=4, label='True function')\n",
    "ax.plot(x, y_one, lw=4, label=r'Single Neuron', alpha = 0.8)\n",
    "ax.axhline(y=0.5, linestyle='-.')\n",
    "# Create labels (very important!)\n",
    "ax.set_xlabel('$x$', fontsize=12) # Notice we make the labels big enough to read\n",
    "ax.set_ylabel('$y$', fontsize=12)\n",
    "ax.set_title('One Hump Dataframe with Two Nodes', fontsize = 16)\n",
    "ax.legend(fontsize = 12, loc = 2)\n",
    "\n",
    "ax.tick_params(labelsize=12) # Make the tick labels big enough to read"
   ]
  },
  {
   "cell_type": "markdown",
   "metadata": {},
   "source": [
    "**1.4**"
   ]
  },
  {
   "cell_type": "code",
   "execution_count": 103,
   "metadata": {},
   "outputs": [],
   "source": [
    "x = np.linspace(-5.0, 10.0, 100) # input points\n",
    "sorted_two_hump_df = two_hump_df.sort_values('x') # data\n",
    "\n",
    "# Set weights\n",
    "w = [-20, -20, -20, -20]\n",
    "b = [20, 60, 100, 140]\n",
    "\n",
    "# Affine transformations\n",
    "z1 = w[0] * x + b[0]\n",
    "z2 = w[1] * x + b[1]\n",
    "z3 = w[2] * x + b[2]\n",
    "z4 = w[3] * x + b[3]\n",
    "\n",
    "# Node outputs\n",
    "h1 = 1.0 / (1.0 + np.exp(-z1))\n",
    "h2 = 1.0 / (1.0 + np.exp(-z2))\n",
    "h3 = 1.0 / (1.0 + np.exp(-z3))\n",
    "h4 = 1.0 / (1.0 + np.exp(-z4))\n",
    "\n",
    "# Network output\n",
    "wout = [-1, 1, -1 , 1]\n",
    "bout = [0]\n",
    "\n",
    "y_two = wout[0] * h1 + wout[1] * h2 + wout[2] * h3 + wout[3] * h4 + bout"
   ]
  },
  {
   "cell_type": "code",
   "execution_count": 104,
   "metadata": {},
   "outputs": [
    {
     "data": {
      "image/png": "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\n",
      "text/plain": [
       "<Figure size 792x504 with 1 Axes>"
      ]
     },
     "metadata": {},
     "output_type": "display_data"
    }
   ],
   "source": [
    "fig, ax = plt.subplots(1,1, figsize=(11,7))\n",
    "ax.plot(sorted_two_hump_df['x'],sorted_two_hump_df['y'], ls='-.', lw=4, label='True function')\n",
    "ax.plot(x, y_two, lw=4, label=r'Single Neuron')\n",
    "ax.axhline(y=0.5, linestyle='-.')\n",
    "# Create labels (very important!)\n",
    "ax.set_xlabel('$x$', fontsize=12) # Notice we make the labels big enough to read\n",
    "ax.set_ylabel('$y$', fontsize=12)\n",
    "ax.set_title('Two Hump Dataframe with Four Hidden Nodes', fontsize = 16)\n",
    "ax.legend(fontsize = 12, loc = 2)\n",
    "\n",
    "ax.tick_params(labelsize=12) # Make the tick labels big enough to read"
   ]
  },
  {
   "cell_type": "markdown",
   "metadata": {},
   "source": [
    "**1.5** Choose the appropriate loss function and calculate and report the loss from all three cases. Derive the gradient of the output layer's weights for all three cases (step, one hump and two humps). Use the weights for the hidden layers you found in the previous question and perform gradient descent on the weights of this layer (output layer). What is the optimised weight value and loss you obtained? How many steps did you take to reach this value? What is the threshold value you used to stop? "
   ]
  },
  {
   "cell_type": "markdown",
   "metadata": {},
   "source": [
    "Print MSE for each of the three cases"
   ]
  },
  {
   "cell_type": "code",
   "execution_count": 105,
   "metadata": {},
   "outputs": [
    {
     "name": "stdout",
     "output_type": "stream",
     "text": [
      "MSE for the single step data:  0.5212282026118956\n",
      "MSE for the one hump data:  0.45762761768005944\n",
      "MSE for the two hump data:  0.3048771896664801\n"
     ]
    }
   ],
   "source": [
    "# your code here\n",
    "MSE_step = mean_squared_error(step_df['y'].values, y_step)\n",
    "MSE_one = mean_squared_error(one_hump_df['y'].values, y_one)\n",
    "MSE_two = mean_squared_error(two_hump_df['y'].values, y_two)\n",
    "\n",
    "print(\"MSE for the single step data: \",MSE_step)\n",
    "print(\"MSE for the one hump data: \", MSE_one)\n",
    "print(\"MSE for the two hump data: \",MSE_two)"
   ]
  },
  {
   "cell_type": "markdown",
   "metadata": {},
   "source": [
    "*Calculate the partial derivative of MSE and place into a function*\n",
    "\n",
    "$E(w) = \\frac{1}{n}\\sum_{i=1}^{n}(h_w(x_i)-y_i)^2$  \n",
    "  \n",
    "$\\frac{dE(w)}{dw_j} = \\frac{1}{n}\\sum_{i=1}^{n}2(h_w(x_i)-y_i)h'_w(x_i)$\n",
    "  \n",
    "$\\frac{dE(w)}{dw_j} = \\frac{2}{n}\\sum_{i=1}^{n}2(w_j(x_{ij})-y_i)x_{ij}$\n",
    "\n",
    "We will set out threshold value equal to $10e^{-10}$"
   ]
  },
  {
   "cell_type": "code",
   "execution_count": 106,
   "metadata": {},
   "outputs": [],
   "source": [
    "def MSEgrad(X,Y, start_value, w_i, b_i, eta = 1e-6, thresh = 10e-10):\n",
    "    run = True\n",
    "    cost = 1\n",
    "    step = 0\n",
    "    w_n = start_value[:-1]\n",
    "    b_n = start_value[-1];\n",
    "    try:\n",
    "        n = len(w_i)\n",
    "    except:\n",
    "        n = 1\n",
    "    \n",
    "    #Manipulate the dataframes in order to run them through the loop as arrays    \n",
    "    X = np.array(X); w_i = np.reshape(np.array(w_i),(n,1))\n",
    "    w_n = np.reshape(np.array(w_n), (n,1))\n",
    "    b_i = np.array([b_i]*100).T\n",
    "    Y = np.reshape(np.array(Y), (1,-1))\n",
    "    y_i = np.dot(w_i, np.reshape(X,(1,-1))) + b_i\n",
    "    hw = 1.0/(1.0+np.exp(-y_i))\n",
    "    hw = np.reshape(np.array(hw), (n, -1))\n",
    "    \n",
    "    #Run loss function\n",
    "    while run:\n",
    "        prev = cost\n",
    "        w_n = w_n - eta*np.sum((np.dot(w_n.T, hw)-Y)*hw)\n",
    "        y_new = np.dot(w_n.T, hw) + b_n\n",
    "        cost = mean_squared_error(Y, y_new)\n",
    "        step = step +1\n",
    "        if abs(prev-cost) < thresh:\n",
    "            run = False\n",
    "    return w_n, step, cost"
   ]
  },
  {
   "cell_type": "code",
   "execution_count": 107,
   "metadata": {},
   "outputs": [
    {
     "name": "stdout",
     "output_type": "stream",
     "text": [
      "Single step coefficients: [[-0.99902099]]\n",
      "Number of steps: 19\n",
      "Cost: 1.83546084213659e-06\n"
     ]
    }
   ],
   "source": [
    "w_n_step, step_step, cost_step = MSEgrad(step_df['x'], step_df['y'], start_value = [-1.0001, 0.999], w_i = [-20], b_i = [40])\n",
    "print(\"Single step coefficients:\", w_n_step)\n",
    "print(\"Number of steps:\", step_step)\n",
    "print(\"Cost:\", cost_step)"
   ]
  },
  {
   "cell_type": "code",
   "execution_count": 108,
   "metadata": {},
   "outputs": [
    {
     "name": "stdout",
     "output_type": "stream",
     "text": [
      "One hump coefficients: [[-1.00009971]\n",
      " [ 0.99900029]]\n",
      "One hump steps: 2\n",
      "Cost: 2.1474757062995616e-06\n"
     ]
    }
   ],
   "source": [
    "w_n_one, step_one, cost_one = MSEgrad(one_hump_df['x'], one_hump_df['y'], start_value = [-1.0001, 0.999, 0.0], w_i = [-20, -20], b_i = [40, 120])\n",
    "print(\"One hump coefficients:\",w_n_one)\n",
    "print(\"One hump steps:\", step_one)\n",
    "print(\"Cost:\",cost_one)"
   ]
  },
  {
   "cell_type": "code",
   "execution_count": 109,
   "metadata": {},
   "outputs": [
    {
     "name": "stdout",
     "output_type": "stream",
     "text": [
      "Two hump coefficients: [[-0.98129359]\n",
      " [ 1.01780641]\n",
      " [-0.98219359]\n",
      " [ 1.01780641]]\n",
      "Two hump steps: 5943\n",
      "Cost: 0.024452033257127335\n"
     ]
    }
   ],
   "source": [
    "w_n_two, step_two, cost_two = MSEgrad(two_hump_df['x'], two_hump_df['y'], start_value = [-1.0001, 0.999, -1.001, 0.999, 0], w_i = [-20, -20, -20, -20], b_i = [40, 60, 100, 140])\n",
    "print(\"Two hump coefficients:\" ,w_n_two)\n",
    "print(\"Two hump steps:\", step_two)\n",
    "print(\"Cost:\" ,cost_two)"
   ]
  },
  {
   "cell_type": "markdown",
   "metadata": {},
   "source": [
    "<div class=\"exercise\"> <b> Question 2: Working with missing data. [50 pts]</b> </div>\n",
    "\n",
    "In this exercise we are going to use the **Pima Indians onset of diabetes** dataset found in `pima-indians-diabetes.csv`. This dataset describes patient medical record data for Pima Indians and whether they had an onset of diabetes within five years. It is a binary classification problem (onset of diabetes as 1 or not as 0). The input variables that describe each patient are numerical and have varying scales. The list below shows the eight attributes plus the target variable for the dataset:\n",
    "\n",
    "- Number of times pregnant.\n",
    "- Plasma glucose concentration a 2 hours in an oral glucose tolerance test.\n",
    "- Diastolic blood pressure (mm Hg).\n",
    "- Triceps skin fold thickness (mm).\n",
    "- 2-Hour serum insulin (mu U/ml).\n",
    "-  Body mass index.\n",
    "-  Diabetes pedigree function.\n",
    "- Age (years).<br>\n",
    "- **Outcome** (1 for early onset of diabetes within five years, 0 for not), target class.\n",
    "\n",
    "**2.1**. Load the dataset into a pandas dataframe named `pima_df`. Clean the data by looking at the various features and making sure that their values make sense. Look for missing data including disguised missing data. The problem of disguised missing data arises when missing data values are not explicitly represented as such, but are coded with values that can be misinterpreted as valid data. Comment on your findings.\n",
    "\n",
    "**2.2** Split the dataset into a 75-25 train-test split (use `random_state=9001`). Fit a logistic regression classifier to the training set and report the  accuracy of the classifier on the test set. You should use $L_2$ regularization in logistic regression, with the regularization parameter tuned using cross-validation (`LogisticRegressionCV`).  Report the overall classification rate.\n",
    "\n",
    "**2.3** Restart with a fresh copy of the whole dataset and impute the missing data via mean imputation.  Split the data 75-25 (use `random_state=9001`) and fit a regularized logistic regression model.  Report the overall classification rate.  \n",
    "\n",
    "**2.4** Again restart with a fresh copy of the whole dataset and impute the missing data via a model-based imputation method. Once again split the data 75-25 (same `random_state=9001`) and fit a regularized logistic regression model.  Report the overall classification rate.\n",
    "\n",
    "**2.5** Compare the results in the 3 previous parts of this problem.  Prepare a paragraph (5-6 sentences) discussing the results, the computational complexity of the methods,  and explain why you get the results that you see.\n",
    "\n",
    "**2.6** This question does not have one answer and requires some experimentation. Check which coefficients changed the most between the model in 2.1-2.2 and the models in 2.3 and 2.4. Are they the coefficients you expected to change given the imputation you performed? If not explain why (supporting your explanation using the data is always a good idea).\n"
   ]
  },
  {
   "cell_type": "markdown",
   "metadata": {},
   "source": [
    "### Answers"
   ]
  },
  {
   "cell_type": "markdown",
   "metadata": {},
   "source": [
    "**2.1**. Load the dataset into a pandas dataframe named `pima_df`. Clean the data by looking at the various features and making sure that their values make sense. Look for missing data including disguised missing data. The problem of disguised missing data arises when missing data values are not explicitly represented as such, but are coded with values that can be misinterpreted as valid data. Comment on your findings."
   ]
  },
  {
   "cell_type": "code",
   "execution_count": 128,
   "metadata": {},
   "outputs": [
    {
     "data": {
      "text/html": [
       "<div>\n",
       "<style scoped>\n",
       "    .dataframe tbody tr th:only-of-type {\n",
       "        vertical-align: middle;\n",
       "    }\n",
       "\n",
       "    .dataframe tbody tr th {\n",
       "        vertical-align: top;\n",
       "    }\n",
       "\n",
       "    .dataframe thead th {\n",
       "        text-align: right;\n",
       "    }\n",
       "</style>\n",
       "<table border=\"1\" class=\"dataframe\">\n",
       "  <thead>\n",
       "    <tr style=\"text-align: right;\">\n",
       "      <th></th>\n",
       "      <th>Pregnancies</th>\n",
       "      <th>Glucose</th>\n",
       "      <th>BloodPressure</th>\n",
       "      <th>SkinThickness</th>\n",
       "      <th>Insulin</th>\n",
       "      <th>BMI</th>\n",
       "      <th>DiabetesPedigreeFunction</th>\n",
       "      <th>Age</th>\n",
       "      <th>Outcome</th>\n",
       "    </tr>\n",
       "  </thead>\n",
       "  <tbody>\n",
       "    <tr>\n",
       "      <th>0</th>\n",
       "      <td>6</td>\n",
       "      <td>148</td>\n",
       "      <td>72</td>\n",
       "      <td>35</td>\n",
       "      <td>0</td>\n",
       "      <td>33.6</td>\n",
       "      <td>0.627</td>\n",
       "      <td>50</td>\n",
       "      <td>1</td>\n",
       "    </tr>\n",
       "    <tr>\n",
       "      <th>1</th>\n",
       "      <td>1</td>\n",
       "      <td>85</td>\n",
       "      <td>66</td>\n",
       "      <td>29</td>\n",
       "      <td>0</td>\n",
       "      <td>26.6</td>\n",
       "      <td>0.351</td>\n",
       "      <td>31</td>\n",
       "      <td>0</td>\n",
       "    </tr>\n",
       "    <tr>\n",
       "      <th>2</th>\n",
       "      <td>8</td>\n",
       "      <td>183</td>\n",
       "      <td>64</td>\n",
       "      <td>0</td>\n",
       "      <td>0</td>\n",
       "      <td>23.3</td>\n",
       "      <td>0.672</td>\n",
       "      <td>32</td>\n",
       "      <td>1</td>\n",
       "    </tr>\n",
       "    <tr>\n",
       "      <th>3</th>\n",
       "      <td>1</td>\n",
       "      <td>89</td>\n",
       "      <td>66</td>\n",
       "      <td>23</td>\n",
       "      <td>94</td>\n",
       "      <td>28.1</td>\n",
       "      <td>0.167</td>\n",
       "      <td>21</td>\n",
       "      <td>0</td>\n",
       "    </tr>\n",
       "    <tr>\n",
       "      <th>4</th>\n",
       "      <td>0</td>\n",
       "      <td>137</td>\n",
       "      <td>40</td>\n",
       "      <td>35</td>\n",
       "      <td>168</td>\n",
       "      <td>43.1</td>\n",
       "      <td>2.288</td>\n",
       "      <td>33</td>\n",
       "      <td>1</td>\n",
       "    </tr>\n",
       "  </tbody>\n",
       "</table>\n",
       "</div>"
      ],
      "text/plain": [
       "   Pregnancies  Glucose  BloodPressure  SkinThickness  Insulin   BMI  \\\n",
       "0            6      148             72             35        0  33.6   \n",
       "1            1       85             66             29        0  26.6   \n",
       "2            8      183             64              0        0  23.3   \n",
       "3            1       89             66             23       94  28.1   \n",
       "4            0      137             40             35      168  43.1   \n",
       "\n",
       "   DiabetesPedigreeFunction  Age Outcome  \n",
       "0                     0.627   50       1  \n",
       "1                     0.351   31       0  \n",
       "2                     0.672   32       1  \n",
       "3                     0.167   21       0  \n",
       "4                     2.288   33       1  "
      ]
     },
     "metadata": {},
     "output_type": "display_data"
    },
    {
     "name": "stdout",
     "output_type": "stream",
     "text": [
      "<class 'pandas.core.frame.DataFrame'>\n",
      "RangeIndex: 764 entries, 0 to 763\n",
      "Data columns (total 9 columns):\n",
      "Pregnancies                 764 non-null int64\n",
      "Glucose                     764 non-null int64\n",
      "BloodPressure               764 non-null int64\n",
      "SkinThickness               764 non-null int64\n",
      "Insulin                     764 non-null int64\n",
      "BMI                         764 non-null float64\n",
      "DiabetesPedigreeFunction    764 non-null float64\n",
      "Age                         764 non-null int64\n",
      "Outcome                     764 non-null object\n",
      "dtypes: float64(2), int64(6), object(1)\n",
      "memory usage: 53.8+ KB\n"
     ]
    }
   ],
   "source": [
    "pima_df = pd.read_csv('data/pima-indians-diabetes.csv')\n",
    "display(pima_df.head())\n",
    "pima_df.info()"
   ]
  },
  {
   "cell_type": "code",
   "execution_count": 129,
   "metadata": {},
   "outputs": [
    {
     "data": {
      "text/plain": [
       "Pregnancies                 0\n",
       "Glucose                     0\n",
       "BloodPressure               0\n",
       "SkinThickness               0\n",
       "Insulin                     0\n",
       "BMI                         0\n",
       "DiabetesPedigreeFunction    0\n",
       "Age                         0\n",
       "Outcome                     0\n",
       "dtype: int64"
      ]
     },
     "execution_count": 129,
     "metadata": {},
     "output_type": "execute_result"
    }
   ],
   "source": [
    "pima_df.isnull().sum()"
   ]
  },
  {
   "cell_type": "code",
   "execution_count": 130,
   "metadata": {
    "scrolled": false
   },
   "outputs": [
    {
     "data": {
      "text/html": [
       "<div>\n",
       "<style scoped>\n",
       "    .dataframe tbody tr th:only-of-type {\n",
       "        vertical-align: middle;\n",
       "    }\n",
       "\n",
       "    .dataframe tbody tr th {\n",
       "        vertical-align: top;\n",
       "    }\n",
       "\n",
       "    .dataframe thead th {\n",
       "        text-align: right;\n",
       "    }\n",
       "</style>\n",
       "<table border=\"1\" class=\"dataframe\">\n",
       "  <thead>\n",
       "    <tr style=\"text-align: right;\">\n",
       "      <th></th>\n",
       "      <th>Pregnancies</th>\n",
       "      <th>Glucose</th>\n",
       "      <th>BloodPressure</th>\n",
       "      <th>SkinThickness</th>\n",
       "      <th>Insulin</th>\n",
       "      <th>BMI</th>\n",
       "      <th>DiabetesPedigreeFunction</th>\n",
       "      <th>Age</th>\n",
       "      <th>Outcome</th>\n",
       "    </tr>\n",
       "  </thead>\n",
       "  <tbody>\n",
       "    <tr>\n",
       "      <th>0</th>\n",
       "      <td>6</td>\n",
       "      <td>148</td>\n",
       "      <td>72</td>\n",
       "      <td>35</td>\n",
       "      <td>0</td>\n",
       "      <td>33.6</td>\n",
       "      <td>0.627</td>\n",
       "      <td>50</td>\n",
       "      <td>1</td>\n",
       "    </tr>\n",
       "    <tr>\n",
       "      <th>1</th>\n",
       "      <td>1</td>\n",
       "      <td>85</td>\n",
       "      <td>66</td>\n",
       "      <td>29</td>\n",
       "      <td>0</td>\n",
       "      <td>26.6</td>\n",
       "      <td>0.351</td>\n",
       "      <td>31</td>\n",
       "      <td>0</td>\n",
       "    </tr>\n",
       "    <tr>\n",
       "      <th>2</th>\n",
       "      <td>8</td>\n",
       "      <td>183</td>\n",
       "      <td>64</td>\n",
       "      <td>0</td>\n",
       "      <td>0</td>\n",
       "      <td>23.3</td>\n",
       "      <td>0.672</td>\n",
       "      <td>32</td>\n",
       "      <td>1</td>\n",
       "    </tr>\n",
       "    <tr>\n",
       "      <th>3</th>\n",
       "      <td>1</td>\n",
       "      <td>89</td>\n",
       "      <td>66</td>\n",
       "      <td>23</td>\n",
       "      <td>94</td>\n",
       "      <td>28.1</td>\n",
       "      <td>0.167</td>\n",
       "      <td>21</td>\n",
       "      <td>0</td>\n",
       "    </tr>\n",
       "    <tr>\n",
       "      <th>4</th>\n",
       "      <td>0</td>\n",
       "      <td>137</td>\n",
       "      <td>40</td>\n",
       "      <td>35</td>\n",
       "      <td>168</td>\n",
       "      <td>43.1</td>\n",
       "      <td>2.288</td>\n",
       "      <td>33</td>\n",
       "      <td>1</td>\n",
       "    </tr>\n",
       "  </tbody>\n",
       "</table>\n",
       "</div>"
      ],
      "text/plain": [
       "   Pregnancies  Glucose  BloodPressure  SkinThickness  Insulin   BMI  \\\n",
       "0            6      148             72             35        0  33.6   \n",
       "1            1       85             66             29        0  26.6   \n",
       "2            8      183             64              0        0  23.3   \n",
       "3            1       89             66             23       94  28.1   \n",
       "4            0      137             40             35      168  43.1   \n",
       "\n",
       "   DiabetesPedigreeFunction  Age Outcome  \n",
       "0                     0.627   50       1  \n",
       "1                     0.351   31       0  \n",
       "2                     0.672   32       1  \n",
       "3                     0.167   21       0  \n",
       "4                     2.288   33       1  "
      ]
     },
     "metadata": {},
     "output_type": "display_data"
    },
    {
     "data": {
      "text/html": [
       "<div>\n",
       "<style scoped>\n",
       "    .dataframe tbody tr th:only-of-type {\n",
       "        vertical-align: middle;\n",
       "    }\n",
       "\n",
       "    .dataframe tbody tr th {\n",
       "        vertical-align: top;\n",
       "    }\n",
       "\n",
       "    .dataframe thead th {\n",
       "        text-align: right;\n",
       "    }\n",
       "</style>\n",
       "<table border=\"1\" class=\"dataframe\">\n",
       "  <thead>\n",
       "    <tr style=\"text-align: right;\">\n",
       "      <th></th>\n",
       "      <th>Pregnancies</th>\n",
       "      <th>Glucose</th>\n",
       "      <th>BloodPressure</th>\n",
       "      <th>SkinThickness</th>\n",
       "      <th>Insulin</th>\n",
       "      <th>BMI</th>\n",
       "      <th>DiabetesPedigreeFunction</th>\n",
       "      <th>Age</th>\n",
       "    </tr>\n",
       "  </thead>\n",
       "  <tbody>\n",
       "    <tr>\n",
       "      <th>count</th>\n",
       "      <td>764.000000</td>\n",
       "      <td>764.000000</td>\n",
       "      <td>764.000000</td>\n",
       "      <td>764.000000</td>\n",
       "      <td>764.000000</td>\n",
       "      <td>764.000000</td>\n",
       "      <td>764.000000</td>\n",
       "      <td>764.000000</td>\n",
       "    </tr>\n",
       "    <tr>\n",
       "      <th>mean</th>\n",
       "      <td>3.853403</td>\n",
       "      <td>120.922775</td>\n",
       "      <td>69.111257</td>\n",
       "      <td>20.537958</td>\n",
       "      <td>80.070681</td>\n",
       "      <td>31.998429</td>\n",
       "      <td>0.472712</td>\n",
       "      <td>33.248691</td>\n",
       "    </tr>\n",
       "    <tr>\n",
       "      <th>std</th>\n",
       "      <td>3.374327</td>\n",
       "      <td>32.039835</td>\n",
       "      <td>19.403339</td>\n",
       "      <td>15.970234</td>\n",
       "      <td>115.431087</td>\n",
       "      <td>7.899591</td>\n",
       "      <td>0.331981</td>\n",
       "      <td>11.771901</td>\n",
       "    </tr>\n",
       "    <tr>\n",
       "      <th>min</th>\n",
       "      <td>0.000000</td>\n",
       "      <td>0.000000</td>\n",
       "      <td>0.000000</td>\n",
       "      <td>0.000000</td>\n",
       "      <td>0.000000</td>\n",
       "      <td>0.000000</td>\n",
       "      <td>0.078000</td>\n",
       "      <td>21.000000</td>\n",
       "    </tr>\n",
       "    <tr>\n",
       "      <th>25%</th>\n",
       "      <td>1.000000</td>\n",
       "      <td>99.000000</td>\n",
       "      <td>62.000000</td>\n",
       "      <td>0.000000</td>\n",
       "      <td>0.000000</td>\n",
       "      <td>27.300000</td>\n",
       "      <td>0.242500</td>\n",
       "      <td>24.000000</td>\n",
       "    </tr>\n",
       "    <tr>\n",
       "      <th>50%</th>\n",
       "      <td>3.000000</td>\n",
       "      <td>117.000000</td>\n",
       "      <td>72.000000</td>\n",
       "      <td>23.000000</td>\n",
       "      <td>34.000000</td>\n",
       "      <td>32.000000</td>\n",
       "      <td>0.375500</td>\n",
       "      <td>29.000000</td>\n",
       "    </tr>\n",
       "    <tr>\n",
       "      <th>75%</th>\n",
       "      <td>6.000000</td>\n",
       "      <td>141.000000</td>\n",
       "      <td>80.000000</td>\n",
       "      <td>32.000000</td>\n",
       "      <td>128.250000</td>\n",
       "      <td>36.600000</td>\n",
       "      <td>0.627500</td>\n",
       "      <td>41.000000</td>\n",
       "    </tr>\n",
       "    <tr>\n",
       "      <th>max</th>\n",
       "      <td>17.000000</td>\n",
       "      <td>199.000000</td>\n",
       "      <td>122.000000</td>\n",
       "      <td>99.000000</td>\n",
       "      <td>846.000000</td>\n",
       "      <td>67.100000</td>\n",
       "      <td>2.420000</td>\n",
       "      <td>81.000000</td>\n",
       "    </tr>\n",
       "  </tbody>\n",
       "</table>\n",
       "</div>"
      ],
      "text/plain": [
       "       Pregnancies     Glucose  BloodPressure  SkinThickness     Insulin  \\\n",
       "count   764.000000  764.000000     764.000000     764.000000  764.000000   \n",
       "mean      3.853403  120.922775      69.111257      20.537958   80.070681   \n",
       "std       3.374327   32.039835      19.403339      15.970234  115.431087   \n",
       "min       0.000000    0.000000       0.000000       0.000000    0.000000   \n",
       "25%       1.000000   99.000000      62.000000       0.000000    0.000000   \n",
       "50%       3.000000  117.000000      72.000000      23.000000   34.000000   \n",
       "75%       6.000000  141.000000      80.000000      32.000000  128.250000   \n",
       "max      17.000000  199.000000     122.000000      99.000000  846.000000   \n",
       "\n",
       "              BMI  DiabetesPedigreeFunction         Age  \n",
       "count  764.000000                764.000000  764.000000  \n",
       "mean    31.998429                  0.472712   33.248691  \n",
       "std      7.899591                  0.331981   11.771901  \n",
       "min      0.000000                  0.078000   21.000000  \n",
       "25%     27.300000                  0.242500   24.000000  \n",
       "50%     32.000000                  0.375500   29.000000  \n",
       "75%     36.600000                  0.627500   41.000000  \n",
       "max     67.100000                  2.420000   81.000000  "
      ]
     },
     "metadata": {},
     "output_type": "display_data"
    },
    {
     "data": {
      "text/plain": [
       "<matplotlib.axes._subplots.AxesSubplot at 0x1c2558aa90>"
      ]
     },
     "execution_count": 130,
     "metadata": {},
     "output_type": "execute_result"
    },
    {
     "data": {
      "image/png": "iVBORw0KGgoAAAANSUhEUgAAAYIAAAEPCAYAAABP1MOPAAAABHNCSVQICAgIfAhkiAAAAAlwSFlzAAALEgAACxIB0t1+/AAAADl0RVh0U29mdHdhcmUAbWF0cGxvdGxpYiB2ZXJzaW9uIDIuMi4zLCBodHRwOi8vbWF0cGxvdGxpYi5vcmcvIxREBQAAIABJREFUeJzt3Xt8XFW99/HPzCTNPW2STm5N06Yt/dHSltIbFAoUykW5iiAoKCAiB1Ffj57zHD2vB0TBh/OInqMcFThHUVGxiqdHEOQOLVBKofR+g9X7LU2bNOktSZM2mXn+mAkZIpCZ3CbJ/r5f7avZe68185vVyfxmr73W2r5wOIyIiHiXP9kBiIhIcikRiIh4nBKBiIjHKRGIiHicEoGIiMcpEYiIeJwSgYiIxykRiIh4nBKBiIjHKRGIiHicEoGIiMelJDuAj5AGzASqgNYkxyIiMlAEgBLgHaA53kr9NRHMBBYnOwgRkQHqbOCNeAv310RQBXDwYAOh0OBaHbWgIJva2vpkh9EvqC3aqS3aqS3aJdoWfr+PvLwsiH6Gxqu/JoJWgFAoPOgSATAoX1NXqS3aqS3aqS3adbEtEupS18ViERGPUyIQEfE4JQIREY9TIhAR8bi4Lhab2fXAXUAq8IBz7sEOx68C7iEyhvUd4Dbn3HEzKwceAwoBB9zgnNNwABGRfqTTMwIzGwHcB8wBpgK3mdnEmONZwM+BC51zpwDpwM3Rww8BDznnTgaWA9/p0ehFRKTb4ukaugBY6Jyrc841AAuAa9oORveNds7tN7NMIt/+D5pZKnBOtDzAo8BnejJ4ERHpvni6hkr54OSEKmBWbAHn3Akz+ySRbqBK4EVgOHDEOdcSU6+s2xEPcEcbj9PQ3NJ5wQ7SUlNI0RUdEekF8SQCPxA7o8EHhDoWcs49BxSY2b8CDwP/3KEeH1bv4xQUZCdSfECormvkvd2HE643zQoJ5mf2QkTJFQzmJDuEfkNt0U5t0a4v2iKeRLCHyLoVbYqBvW0bZpYPzHDOvRjd9QfgcaAaGGpmAedcK5GFkPaSgNra+sE3wzAQ4Gh9U8LVGhubqWkdXOvvBYM51NQcTXYY/YLaop3aol2ibeH3+7r0BTqezoaXgXlmFoxeA7gaeD7muA94LDpCCCLXAd5wzp0gsnDcddH9NwLPJRyhiIj0qk4TgXOuErgTWASsBuY755aZ2bNmNsM5VwvcBvzNzNYABnw7Wv0OIqOMNhI5q7irN16EiIh0nS8c7pddL6OB7YOxaygcCPDail0J15s5oYistP66RmDXqAugndqindqiXTe6hiqAHXHXSzgyEREZVJQIREQ8TolARMTjlAhERDxOiUBExOOUCEREPE6JQETE45QIREQ8TolARMTjlAhERDxOiUBExOOUCEREPE6JQETE45QIREQ8TolARMTjlAhERDxOiUBExOOUCEREPE6JQETE45QIREQ8TolARMTjlAhERDxOiUBExOOUCEREPE6JQETE41LiKWRm1wN3AanAA865BzscvxK4B/AB24EvOucOmtlNwA+A/dGizzjn7uyp4EVEpPs6TQRmNgK4D5gONANvmtki59zG6PFc4GFgpnOu0szuBb4H/C9gBvCPzrk/9lL8IiLSTfF0DV0ALHTO1TnnGoAFwDUxx1OBrzrnKqPba4Hy6M8zgZvMbJ2ZPWZmeT0VuIiI9Ix4EkEpUBWzXQWUtW0452qdc08AmFkG8C/AkzFlvw9MAXYDP++BmEVEpAfFc43AD4Rjtn1AqGMhMxsKPAGscc79FsA5d1XM8R8CWxMJrqAgO5HiA0J1XSM52ekJ18vMTCOYn9kLESVXMJiT7BD6DbVFO7VFu75oi3gSwR7g7JjtYmBvbAEzKwFeABYC34zuGwrc4pz7SbSYD2hJJLja2npCoXDnBQeSQICj9U0JV2tsbKamtbUXAkqeYDCHmpqjyQ6jX1BbtFNbtEu0Lfx+X5e+QMfTNfQyMM/MgmaWCVwNPN920MwCwNPAn51z33DOtX1y1wPfMrPTo9tfI3LGICIi/UinZwTRkUB3AouAIcAjzrllZvYscDcwEpgGpJhZ20Xk5c65W83sWuDh6LWDTcCNvfIqRESky+KaR+Ccmw/M77DvkuiPy/mIMwvn3GIiSUJERPopzSwWEfE4JQIREY9TIhAR8TglAhERj1MiEBHxOCUCERGPUyIQEfE4JQIREY9TIhAR8TglAhERj1MiEBHxOCUCERGPUyIQEfE4JQIREY9TIhAR8TglAhERj1MiEBHxOCUCERGPUyIQEfE4JQIREY9TIhAR8TglAhERj1MiEBHxOCUCERGPUyIQEfE4JQIREY9LiaeQmV0P3AWkAg845x7scPxK4B7AB2wHvuicO2hm5cBjQCHggBucc/U9GL+IiHRTp2cEZjYCuA+YA0wFbjOziTHHc4GHgUudc6cCa4HvRQ8/BDzknDsZWA58p0ejFxGRbouna+gCYKFzrs451wAsAK6JOZ4KfNU5VxndXguUm1kqcE60PMCjwGd6JGoREekx8XQNlQJVMdtVwKy2DedcLfAEgJllAP8C/AwYDhxxzrXE1CvrgZhFRKQHxZMI/EA4ZtsHhDoWMrOhRBLCGufcb6NdSuEOxf6u3scpKMhOpPiAUF3XSE52esL1MjPTCOZn9kJEyRUM5iQ7hH5DbdFObdGuL9oinkSwBzg7ZrsY2BtbwMxKgBeAhcA3o7urgaFmFnDOtQIlHet1pra2nlCoYy4Z4AIBjtY3JVytsbGZmtbWXggoeYLBHGpqjiY7jH5BbdFObdEu0bbw+31d+gIdzzWCl4F5ZhY0s0zgauD5toNmFgCeBv7snPuGcy4M4Jw7ASwGrosWvRF4LuEIRUSkV3V6RuCcqzSzO4FFwBDgEefcMjN7FrgbGAlMA1LMrO0i8nLn3K3AHcBvzewuYBfwud54ESIi0nVxzSNwzs0H5nfYd0n0x+V8xJmFc24nMLcb8YmISC/TzGIREY9TIhAR8TglAhERj1MiEBHxOCUCERGPUyIQEfE4JQIREY9TIhAR8TglAhERj1MiEBHxOCUCERGPUyIQEfE4JQIREY9TIhAR8TglAhERj1MiEBHxOCUCERGPUyIQEfE4JQIREY9TIhAR8TglAhERj1MiEBHxOCUCERGPUyIQEfE4JQIREY9LiaeQmV0P3AWkAg845x78iHK/AxY65x6Nbt8E/ADYHy3yjHPuzu4GLSIiPafTRGBmI4D7gOlAM/CmmS1yzm2MKVMK/BcwD1gYU30G8I/OuT/2aNQiItJj4ukauoDIt/w651wDsAC4pkOZG4C/An/usH8mcJOZrTOzx8wsr9sRi4hIj4onEZQCVTHbVUBZbAHn3I+cc498SN0q4PvAFGA38PMuxikiIr0knmsEfiAcs+0DQvE8uHPuqrafzeyHwNZEgisoyE6k+IBQXddITnZ6wvUyM9MI5mf2QkTJFQzmJDuEfkNt0U5t0a4v2iKeRLAHODtmuxjY21klMxsK3OKc+0l0lw9oSSS42tp6QqFw5wUHkkCAo/VNCVdrbGymprW1FwJKnmAwh5qao8kOo19QW7RTW7RLtC38fl+XvkDHkwheBr5nZkGgAbgauC2OevXAt8zsTefc28DXgCcSjtDjWkMhdu2rZ++BRrIzUshKT2Xa+CB5OWnJDk1EBolOE4FzrtLM7gQWAUOAR5xzy8zsWeBu59zyj6jXambXAg+bWQawCbixB2Mf1EKhMGu31rJp9yGajrfi90HbydGfXtnMrAmFXDp7NKXDs5IbqIgMeL5wuF92vYwGtg/GrqFwIMBrK3Z9bJmW1hCvr97LnpoGRhZmY+XDuHxOBRmpAQ4cbmLhyj0sXltFOBTmCxcbZ00u6aPoe5a6ANqpLdqpLdp1o2uoAtgRb724JpRJ3zl+opVXVlRSc+gYsyYWcnJ5ZMSt3+cjJeCnOD+T6y8Yz6VnjOK/ntrAr555ly2Vh/n8ReMJ+DVRXEQSp0+OfiQcDvPm+n0cOHyMc6aWvp8EPszQ7DT+6bNTueSMUby2ei+P/O3dQXf2JCJ9Q2cE/ci2vUfYtb+eaeOHM7q48yFjAb+fa+aOJTM9hQWvbsXv8/GlSyfg9/v6IFoRGSyUCPqJ+sYTLNtYTWFeBhMr8hOqe8kZo2htDfHE4u1kpadw/YXjeylKERmMlAj6iaUb9gEwZ3IJfl/i3+gvP6uChqYWXnxnN6XBLOZOHdHTIYrIIKVrBP3AvtpGqmobOfWkArIzU7v8ONeeN47JYwr4w4ubeHfnwR6MUEQGMyWCJAuHw6zafIDMtBRs5LBuPZbf7+MfrjiFwrwMHn5yPXVHEp/BLCLeo0SQZFW1jdQcOsbksfkEAt3/78hMT+Frn57MiZYQv3hqA62huJaFEhEPUyJIonA4zOrNB8hKT2Fc2dAee9ySgiy+cPF4Nu05zFNv7OixxxWRwUmJIIn21TVy4HATk8cW9PhksDMnlTBncgl/e3MHG3fU9ehji8jgokSQRJt2HWJIqp+xpbm98vg3XDie4oJMfvH0Rg43HO+V5xCRgU+JIEkam1rYVV3PuBFDe+TawIdJGxLgK5+axLHmFn759AZC/XNdKRFJMiWCJNlSeZhwGMbHOVLI5/fR0NyS8N/igmxuuHA8G3cc5JmlO3v5VYnIQKQJZUkQCofZvPsQJQWZ5GYNiatO84lW1myqSfi5Zk4o4uwpJby78yB/Xbydk8uHcVJZ94apisjgojOCJNhb00BDU0vcZwPd5fP5uPFio2BoGr94agP1x070yfOKyMCgRJAEWyoPkz4kwMjCvrsnc0ZaCrdfOYlD9cd59Ln36Kf3oRCRJFAi6GONTSfYU9PA6JKcPl8ltKIkl6vPHcvKTTW8uqqyT59bRPovJYI+tmpTDaFQmIqS3hky2pmLZo1k8pgC/vjKFnZX1yclBhHpX5QI+tiyDfvIzkhl+ND0pDx/2z0LstJT+M+/rqf5eGtS4hCR/kOJoA8daTzOxu11jC7OwdeFpaZ7Sm7WEL58+UT21TbyuxecrheIeJwSQR9a4WoIhcOMLun87mO9beLofK6cU8HSDft0vUDE45QI+tDbG/dTMjyLvJy0ZIcCwGVnjWbK2ALmv7yZrZWHkx2OiCSJEkEfOdxwnM27DzFzQlFSu4Vi+X0+br1sInk5aTz4xDoOHm1OdkgikgRKBH1kzZYDhIFpVpjsUD4gOyOVr189hWPNrfzsf9bSfEIXj0W8Romgj6zcVMPwoemU9eEksniNLMzmtismsnPfUX79zLu6eCziMUoEfaDpeAsbdxxk6knD+023UEennRTkmrljeee9aha8tjXZ4YhIH4pr0Tkzux64C0gFHnDOPfgR5X4HLHTOPRrdLgceAwoBB9zgnPPcLKYN2+toaQ1x2knBZIfysT5xejk1h5t47q1dDMtK48KZI5Mdkoj0gU7PCMxsBHAfMAeYCtxmZhM7lCk1s6eBazpUfwh4yDl3MrAc+E6PRD3ArIrejnL8yJ67HWVv8Pl8fP7C8UwfH+SPr2zmrQ37kh2SiPSBeLqGLiDyLb/OOdcALODvP/BvAP4K/Llth5mlAudEywM8CnymuwEPNK2hEGu2HGBKL9yOsjf4/T5uu2IiJ5cP45G/vcvy96qTHZKI9LJ4uoZKgaqY7SpgVmwB59yPAMxsTszu4cAR51xLTL2yRIIrKOh/F1YTtW7rARqaWjh3RjnBYA7VdY3kZCe+vERqakqX6mVmphHMz0y43r23n8V3f7GU/3pqA8OGZTB7cmnCjxGPYDD5k+v6C7VFO7VFu75oi3gSgR+IHUbiA0JdqEec9d5XW1tPKDSwR7C8vmI3Ab+PkfkZ1NQchUCAo/VNCT/OiRMtXarX2NhMTWvXhoR+7apJ/PjPq7n/d8v50mUTOGNicZce56MEgzmRNhG1RQy1RbtE28Lv93XpC3Q8fRV7gJKY7WJgbxz1qoGhZhaIbpfEWW9QWbe1lvEjh5GRNvBuBpeRlsI/XjuVcSOG8sunNrJo5Z5khyQivSCeRPAyMM/MgmaWCVwNPN9ZJefcCWAxcF10143Ac10NdCCqO9JE5YEGJo8pSHYoXZaRlsI3rz2VU8cN5/cvbuLJxds0z0BkkOk0ETjnKoE7gUXAamC+c26ZmT1rZjM6qX4HkVFGG4GziQxB9Yy122oBmDx24CYCgCGpAe64ahJnTS7mqSU7+OXfNnKiJaFePhHpx+Lqr3DOzQfmd9h3yYeUu7nD9k5gbtfDG9jWba2lIDeN0oLEL9b2NykBP7dcMoGivEz+8vo2Dhxq4iufmtRvFtATka4beB3XA0RLa4iNOw8ye2JyF5nz+X00NLd0XrCDtNQUUjqcL/p8Pi47czSFeRn85tn3uOc3y/iHK05hwuj8HopWRJJBiaCXbN5zmObjrUm/PtB8opU1m2oSrjdzQhEpH3GBe9aEIsqC2Tz4xDr+7fHVXHX2GC6ZPQp/P10+Q0Q+Xv+f4TRArdtWS8Dv4+RReckOpVeUDs/iOzfNYNaEIv7y+jZ+umAt9cdOJDssEekCJYJeMpCHjcYrfUgKt10+kS9cNJ6NO+q4+1dvsz56gVxEBg4lgl4wGIaNxsvn83HetDLu/MIMMtNT+fGf1/C759+j6Xji1yVEJDmUCHrBYBk2mohRxTl89+YZfGJWOa+t3st3f72MTbsPJTssEYnD4O23SKLBMGy0q6ONLj1rNJPHDuc3z27k/j+sZN70Mq46Z8yg7iITGej029nD+suw0e7q6mgjiIw4uvdLs1jw6lZeWbGH5a6a6y8Yz3QLDug2ERms1DXUw/rLsNFkSx+SwucvMv7PjdPJyRzCQ0+u5z8WrOXAoWPJDk1EOlAi6GHrtg7uYaOJGls6lLtvnsF154/jvV0HuetXb/PUku00n+jaiqgi0vPUNdTD1m0b/MNGExXw+7l4VjkzrJA/LdzMk4u389rqvdxy+SlMGDlUE9FEkkxnBD3IS8NGu6JgaDpfvWoy377+NHIyU/n3+Sv519+vYEvl4WSHJuJpSgQ96P1ho2O09s7HsfI87r55Jv/rutOoPdzEv/5+BT9dsJZd+3UzEpFkUP9FD3p/2OjwrGSH0u/5fT4umFWOjcjhpeV7eP7tXXzvN+8w8+RCrpxToTYU6UNKBD1ksAwb7WvpQ1K4/MzRnD9tBC8s281Ly3ez3FVz+sQiLjl9FGWFA/++1SL9nRJBD9m8+5CGjXZDVnoqnz5nDBfMKOP5t3axaFUlb23Yz5SxBXzy9HLGjxymBCvSS5QIesi6bXUaNhoV76zkcF0jjTHl0lJTyM0cwrXnj+OS2aNYtHIPL6/Yw/3zVzG2NJeLZ5Vz2vjhBPy6tCXSk5QIeoiGjbaLd1ZyTnY6R+ub3t+OvQdCdkYql59VwUWzylmyrorn397FQ0+uJy8njfNOG8E5U0vJzRzSa69BxEv0qdUD2oaNnjW5JNmhDDppqQHOn1bG3KkjWLPlAK+s3MNfXt/GU0t2cPqEQs6fXkZFSW6ywxQZ0JQIeoCGjfY+v9/HaeODnDY+yN4DDSxcuYcl6/exZP0+xpbmcv70MmaeXEhKQN1GIolSIugBa7do2GhfKh2execvMj59zliWrK9i4Yo9/PLpjTy+cAtzp5Zy7tQR5OWkJTtMkQFDiaCbjp9oZeOOOuZMKdGolm5KeOlrH5w5uYRzTytj0846Xl6xh6eX7OCZpTuZbkHmTS9j3Iih+n8R6YQSQTdt3HmQ4y0hpo4bnuxQBryuLn09c0IRk8YUMGlMAdUHG1m4spLFa6tY9m415YXZzJtexukTixiSGuiFqEUGPiWCblqz5QBpQwJYuYaN9geFeZl8dt5JXHX2GJZu2McrK/fwm+fe48+LtnDOqaXMm15Gfm56ssMU6VeUCLohHA6zZssBJlXkk5qii5T9SdqQAHNPG8G5U0txuw7xyoo9PL9sFy++s5szJxXzyTNGUZw/cO8gJ9KT4koEZnY9cBeQCjzgnHuww/GpwCNALvA6cLtzrsXMbgJ+AOyPFn3GOXdnTwWfbDv3H+VQ/XF1CyVZZ9cWRhbncPOlE7js8GgWrtjD0vX7eGNtFdOskMtmj2JUcU4fRivS/3SaCMxsBHAfMB1oBt40s0XOuY0xxR4DbnXOvWVmvwK+DDwMzAD+0Tn3x54PPflWbz6AD2/dpL4/SuTaQkVJLsX5mby74yAbtteywlUzqSKfS2eP0jIW4lnx9GdcACx0ztU55xqABcA1bQfNbBSQ4Zx7K7rrUeAz0Z9nAjeZ2Toze8zMBlVH+uotBxhbNlQzXAeYjLQUplmQe289navPHcPO/Ue5f/4q7p+/CrfrYLLDE+lz8SSCUqAqZrsKKIvzeBXwfWAKsBv4eZcj7WcOHDrGrv31nKZuoQErIy2FS2eP5kdfOZPrLziJ/QcbuX/+Kv79T6vYulc3yxHviOcagR8Ix2z7gFA8x51zV7XtNLMfAlsTCa6goP8uQfzGhshlj4vOrCBYEP9Esuq6RnKyEx+1kpqaMiDqJVo3tlxfx5qZmUYwesH4c6XD+PQFxnNvbue/X9nMfb9bwcyJRdxw8cmMLRuW8GN3RTCoaxVt1Bbt+qIt4kkEe4CzY7aLgb0djpd0PG5mQ4FbnHM/ie73AQnMFoLa2npCoXDnBZPg1RW7GVWUQyAUoqYmgTtrBQIfWGgtXidOtAyIeonU7bjoXF/H2tjYTE1r6wf2nTWxiOnjCng5erOcb/zkNWZYkCvPHsOIXpw5HgzmJPY+GsTUFu0SbQu/39elL9DxdA29DMwzs6CZZQJXA8+3HXTO7QSazOys6K4vAM8B9cC3zOz06P6vAU8kHGE/VHu4iW17jzDj5GCyQ5FuaBtt1PFvaxjOm17Gd2+ZxSdOL2f99jrufuRtHnpyPdv3HaWhuYWWUOePLzJQdHpG4JyrNLM7gUXAEOAR59wyM3sWuNs5txy4AfilmeUCK4GfOudazexa4GEzywA2ATf22ivpQytcNQAzTi5MciTSHfGMNirMy+CKOaPZsP0gqzbVsMJVM6Y0ly9cfDLlunuaDBJxzSNwzs0H5nfYd0nMz2uAWR9SbzEwrZsx9jvvuMjSBUV5mpDkBelDUphuQSaOzmP9tjrc7kPc++g7nHNqKZfNHqWZyjLgaWZxguqONLG18gifPmdMskORPpaRlsLMCYVMrMhjf90xFq/Zyxtrq5g7tZRLZ49iaLZWPJWBSYkgQcvejXQLzVS3kGdlpady3bwyrjhzNE+/uYOFKyt5fc1ezp9WxifOKNe8EhlwlAgSEA6HWbK+irGluRRpnRrPGz4sgy9eMoFLZo/iqTd28MI7u1i0qpILZpTxidPLyUpPTXaIInHRSmkJ2Ln/KJU1uiWlfFBRXiZfvnwi3//S6Zw6roBnlu7kWw8v5ak3tnMskfsriCSJzggSsGTtPlJT/MyaoG4h+Xulw7O4/cpJXDq7nicXb+PJN7bz0vLdfOL0cuZNLyN9iH7dpH/SOzNOJ1pCvLVxH9PGB8nUKb98jJGF2Xz96ins2HeEJxdv539e28aL7+zmkjNGMfe0EaTpBjnSzygRxGnNlgM0NLVw1uTiZIci/UA8t9UM5mXy5StOYfveIzyzdAePL9zCc2/v4tIzRjH3tFJSU5QQpH9QIojT4rVV5OWkMXFUfrJDkX4g0dtqnj6xiNHFOWyrOsIfX9nMc2/v5NLZoznn1FLd1EiSTokgDlW1DazbVsuVcyrw+7VevXRNUX4ml51Vwa59R3ly8Tb+8NImnnt7J5fNHs2nzh+f7PDEw5QI4vDS8j2kBPycd9qIZIciA5zP76O8OIevXzMFt+sQzy7dye9ecDzz1k4unjWSWROKCAT+/gwhLTUFnThIb1Ei6ET9sRO8ua6K2acUkZuliULSPR27lOZMKWZMaS7rttUx/6XNPPXGDqaMLWBMae4Hzj5nTigiJU2/rtI79M7qxKurKjneEuKimSOTHYoMQj6fjxHBLGx0Pu9tr2X1lgO8uX4f67bVcuq4AkaX5OLX7TOllykRfIwTLSFeWbmHUyryGRHUSpPSe3w+H2WF2YwIZrG7up41W2p5Y+0+1m6t49RxBUw3zV2R3qNE8DFeXV3J4frj3HppebJDEY/w+XyUF+UwsjCbXfvrWbPlAIvXVLF592GuOmcM0y2oMwTpcUoEH6GxqYWnl+xgwqg8Jo7OS3Y44jE+n49RxTmUF2WzY99RNu0+xMNPrqcsmMWVc8YwbfxwfEoI0kOUCD7Cc2/vpP7YCT5z3lj9wknS+Hw+KkpyuWbuODZsq+WvS3bw4BPrKCnI5JxTSzlzUjE5Wu1UukmJ4EMcPNrMS+/sjk4Cyk12OCL4/T7OOKWYmRMKeXvjfhatquTxhVtY8OpWpo0Pcs7UUiaU52mei3SJEsGHeHzhZlpDYd18RvqdgN/PmZNKOHNSCXtq6nl9zV6Wrt/HO+9Vk5OZypSxBZw6djinVOSToeGmEie9Uzp4a+M+lr1bzVVnVxAclpHscEQ+Ulkwm+svGM9n5o5l1eYDkb+bDrBk3T4Cfh9WPozxI4cxtnQoFSW5ZKbr110+nN4ZMeqONPHYC5sYW5rLJbNHJTsckbikpgSYNaGIWROKaA2F2LLnMKu3HGD9tjqeXLwdAB9QMjyLipIcygtzKCvMZmRhNtkZWklXlAje1xoK8atn3qUlFOLWyyYS8Gs+v/Qf8ax22qasKIeyohwuO6uC1tYwu/cfZdvew2zde4S1W2tZsm7f+2XzctIoC2ZTVpjFyMJsRgazKcrPJOVDlrmQwUuJgMgtKB999j3e3XmQL37yZN2GUvqdRFc7bTNzQhGnVORzSkX7qrmH65vZXVPPnuoGdlcfZXd1Axt31NEaCgOQEvBROjyLEcFsigsyGTE8i9LhWXGPTtK6SAOPEgHw34u2smT9Pq6cU8HZp5YmOxyRHvNhZxIpqQEqSodSUTr0/X0trSH21zWy90ADlTUNVB5oYMO2Opaubz97yM5IpTAvg8K8DIryMsjNGvKhQ6u1LtLA4+n/rZbWEI+/soVXVu7h/GkjuOKs0ckOSaRHdeVMYkQwixHBLE69Mshb66rYgMteAAAKFUlEQVQ4eLSZg0ebqTl0jL0HGti29wgAaamB9xNDYV4GBbnpGr46QHk2ERxuOM7DT65n0+5DXDhjJNfNG6eJYyIdZKSlkJGWQunwLCDSjXq08QT7DzZSffAY1QePsbu6HoCA30dwWAbVB49xSkU+Y0tzdZ/mAcJz/0strSEWrqzk6SXbOdES4suXT2T2Kbr9pEg8fD4fuVlDyM0awkllw4DIciw1h469nxxeWLaL59/ehd/no7wom7EjhjK6OIfyohxKCnQhuj+KKxGY2fXAXUAq8IBz7sEOx6cCjwC5wOvA7c65FjMrBx4DCgEH3OCcq+/B+ON28GgzSzfs47XVldQcauKUinw+e/44rSoq0k2Z6SmMKs5hVHEOAJPGFLCvtoFNuw+zefch3lhbxSsr9gCQEvAzsjCLEcOzKcrPoCgvk+L8TArzMhiSqns4J0unicDMRgD3AdOBZuBNM1vknNsYU+wx4Fbn3Ftm9ivgy8DDwEPAQ865P5nZd4DvAN/u6RfRUWsoxIHDTVTVNrK18jBu1yG27j1MOAzjyoby+YuMyWMKejsMEU/KSEthUkUBkyoiv2OhUJj9BxvZue8oO/cfZee+o6zbVssb645/oF5OZirDstMozM8kc0iAodlDyEpPJTM9hcy0VLLSI91UqSn+D/4N+ElJ8WtV1m6I54zgAmChc64OwMwWANcA90a3RwEZzrm3ouUfBe4xs0eAc4BPxex/jfgSQQDo0oWn6kPH+NmCtTSfaI08kN9HWTCb6+adxPTxwaTPFg77fWSmJz6JJyXgHxD1EqmbkZZCa0t7ucH4GuOt17Etevv5erNuSmqA5pbQB/blD80gf2gGp8XcV6HpeAt1R5qoPdJE3eFmjh47weGGZhqOtVBZ28imPYcIh+N/3oDfh8/nw+cHPz78Ph8+vw+fD/w+H36/Dx9Etv2+9/f5fW0/R8rh9+H3gZ9IV5g/+rj+tnrElIn++/7x6HP6fb4P7PP7fRD5QzgMraEwoXCYUMy/raEQzcdDHG8JceGMMsqLImdYiXwOxpRN6PQqnkRQClTFbFcBszo5XgYMB44451o67I9HCUBeXlacxdsVFGTz0LfnJVyvL1169tgu1RtT1rXlsPu6XjKeU6+x5+t1t670jIKCLnVflwBb4y0cTyLwA7F52QeE4jjecT8d6n2cd4CziSSP1jjriIh4XYBIEngnkUrxJII9RD6U2xQDezscL/mQ49XAUDMLOOdao2Vi632cZuCNOMuKiEi7uM8E2sQzjutlYJ6ZBc0sE7gaeL7toHNuJ9BkZmdFd30BeM45dwJYDFwX3X8j8FyiAYqISO/qNBE45yqBO4FFwGpgvnNumZk9a2YzosVuAH5iZu8B2cBPo/vvAG4zs41Eziru6ukXICIi3eMLJ3JZXkREBh1N8RMR8TglAhERj1MiEBHxOCUCERGP89zqo8nS2cJ9XmJmi4gsRHgiuusfnHNvJzGkPmdmucCbwGXOuR1mdgHwYyADeNw555kRdh/SFr8B5gAN0SL3OOeeSFqAfcTMvgtcG918xjn3rb56X2jUUB+ILtz3BjEL9wGf67BwnyeYmY/IJMRRMcuPeIqZnQ78EjgZGA/sJ7I677nAbuAZIl8WBv28m45tEU0E64CLnHNVH1978Ih+4N8DnEdkRYbniazofD998L5Q11DfeH/hPudcA9C2cJ8XWfTfF81sjZl9LanRJMeXga/SPtN+FrDZObc9mhwfAz6TrOD62AfaIjpptRz4tZmtNbN7zMwLn1NVwD85545HJ+O+S+RLQp+8L7zQwP3BRy3M50V5wCvAVcA84HYzuzC5IfUt59ytzrnFMbs8+/74kLYoBhYCtwBnEJmI+qVkxNaXnHMb2lZwNrOTiHQRheij94WuEfSNzhbu8wzn3FJgadt29P4VlwAvJS2o5NP7I8o5t43IlwQAzOxnRJan+WXSgupDZnYKkS6gfwZaiJwVtOm194XOCPrGRy3M5zlmNsfMYtcJ99F+0dir9P6IMrPJZnZ1zC7PvD+i67W9AvyLc+639OH7QmcEfeNl4HtmFiQyEuJq4LbkhpQ0w4B7zexMIiOobgJuT25ISfc2YGY2DtgOXA/8OrkhJY0PeMDMFgL1RH5PfpvckHqfmY0EngSuc84tjO7us/eFzgj6wEct3JfcqJLDOfc3Iqe+q4AVwK+j3UWe5ZxrAm4G/gfYCLxHZECB5zjn1gL/D1hCpC1WO+f+mNyo+sT/BtKBH5vZajNbTeQ9cTN98L7Q8FEREY/TGYGIiMcpEYiIeJwSgYiIxykRiIh4nBKBiIjHaR6BDDhmNhrYCqyL2e0D/sM5N2DG35tZKbDAOXdmsmMRb9PwURlwoolgvXMuO2bfCGA9cG50LLqIxElnBDIoOOcqzWwzcJGZPQhkAYedc+eZ2ZeAO4h0hdYCX3POvRed6f0bYGx0/z4iCeZ7ZtYE/AC4iMg0/x865x42syzgYeAkoAA4ClzvnHNm9iqRdZTOIrKC5svAbc65kJldBvzfaAwNRGZTHyYmoZnZnURmnfuBHcAdzrm9ZvZpIveyCAGtwD87517vnZYUL9I1AhkUzGw2MI7IDTxOAeZGk8C5RJaxONs5dxrwQ6DtJic/BTY45yYQWd43tosmDTgQ7ba5BviJmaUDnwQOOedmO+fGA+8AsUtpjwXmAlOiZc81syIiSwh/0Tk3BfgRkSQTG/+NwGRglnNuKvAskfXoiZa/wzk3A/hO9PFFeozOCGSgyohOw4fI+/gAcANQBKx1zh2JHruUSIJ406ztVgjkmVk+kVVPpwE456rMrOP0/b9G/11JJDFkOecWmNk2M/t69HHnErOaKvC0cy4EHDGzLUA+kTOE9c65VdHn+gvwl2gXV5vLiNyXYHk0zgCQGT32J+AJM3uGyCqtP4y7lUTioEQgA9Wx6DfnDzCzm4ksVtYmAPzeOfft6HE/kfX/DxJZ5tcXU7a143MAOOfC0Q9nn5l9hchCaD8H5gN1QEXHOlFh2lfPfP9iXPQubZOBIzFlA8D9zrmHo2XSiNy7AefcnWb2a+BCImvP/BORpCHSI9Q1JIPdC8DnzKxtOd/biSz1C5HF774EYGYFRNbB72z0xMXAo865XxG5veTlRD7EP87bwIToWvMAVxLpKuoY563R+/cC3Av83sxSzGwHkOmc+08i1zqmRBOFSI/QGYEMas65F83sfuAlMwsR+Rb+6ei3/G8Cj0TvkVsL7AQaO3nIfwN+Eb0A7SPSLTS5kxj2m9kNwG/NLCUaw2c7FHsEGAG8ZWZhYBdws3Ouxcy+Acw3sxNELhjf4pxrjrsRRDqh4aPiWWZ2B7DKObc0+g17MfBdL9w0XiSWzgjEyzYCPzOzADAE+G8lAfEinRGIiHicLhaLiHicEoGIiMcpEYiIeJwSgYiIxykRiIh4nBKBiIjH/X/3XbMvwMmmNgAAAABJRU5ErkJggg==\n",
      "text/plain": [
       "<Figure size 432x288 with 1 Axes>"
      ]
     },
     "metadata": {
      "needs_background": "light"
     },
     "output_type": "display_data"
    }
   ],
   "source": [
    "display(pima_df.head())\n",
    "display(pima_df.describe())\n",
    "sns.distplot(pima_df.Pregnancies)"
   ]
  },
  {
   "cell_type": "code",
   "execution_count": 131,
   "metadata": {},
   "outputs": [
    {
     "data": {
      "text/plain": [
       "<matplotlib.axes._subplots.AxesSubplot at 0x1c255cd2e8>"
      ]
     },
     "execution_count": 131,
     "metadata": {},
     "output_type": "execute_result"
    },
    {
     "data": {
      "image/png": "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\n",
      "text/plain": [
       "<Figure size 432x288 with 1 Axes>"
      ]
     },
     "metadata": {
      "needs_background": "light"
     },
     "output_type": "display_data"
    }
   ],
   "source": [
    "sns.distplot(pima_df.Glucose)"
   ]
  },
  {
   "cell_type": "code",
   "execution_count": 132,
   "metadata": {},
   "outputs": [
    {
     "data": {
      "text/plain": [
       "<matplotlib.axes._subplots.AxesSubplot at 0x1c25580d68>"
      ]
     },
     "execution_count": 132,
     "metadata": {},
     "output_type": "execute_result"
    },
    {
     "data": {
      "image/png": "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\n",
      "text/plain": [
       "<Figure size 432x288 with 1 Axes>"
      ]
     },
     "metadata": {
      "needs_background": "light"
     },
     "output_type": "display_data"
    }
   ],
   "source": [
    "sns.distplot(pima_df.BloodPressure)"
   ]
  },
  {
   "cell_type": "code",
   "execution_count": 133,
   "metadata": {},
   "outputs": [
    {
     "data": {
      "text/plain": [
       "<matplotlib.axes._subplots.AxesSubplot at 0x1c256e7eb8>"
      ]
     },
     "execution_count": 133,
     "metadata": {},
     "output_type": "execute_result"
    },
    {
     "data": {
      "image/png": "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\n",
      "text/plain": [
       "<Figure size 432x288 with 1 Axes>"
      ]
     },
     "metadata": {
      "needs_background": "light"
     },
     "output_type": "display_data"
    }
   ],
   "source": [
    "sns.distplot(pima_df.SkinThickness)"
   ]
  },
  {
   "cell_type": "code",
   "execution_count": 134,
   "metadata": {},
   "outputs": [
    {
     "data": {
      "text/plain": [
       "<matplotlib.axes._subplots.AxesSubplot at 0x1c25885dd8>"
      ]
     },
     "execution_count": 134,
     "metadata": {},
     "output_type": "execute_result"
    },
    {
     "data": {
      "image/png": "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\n",
      "text/plain": [
       "<Figure size 432x288 with 1 Axes>"
      ]
     },
     "metadata": {
      "needs_background": "light"
     },
     "output_type": "display_data"
    }
   ],
   "source": [
    "sns.distplot(pima_df.Insulin)"
   ]
  },
  {
   "cell_type": "code",
   "execution_count": 135,
   "metadata": {},
   "outputs": [
    {
     "data": {
      "text/plain": [
       "<matplotlib.axes._subplots.AxesSubplot at 0x1c25925be0>"
      ]
     },
     "execution_count": 135,
     "metadata": {},
     "output_type": "execute_result"
    },
    {
     "data": {
      "image/png": "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\n",
      "text/plain": [
       "<Figure size 432x288 with 1 Axes>"
      ]
     },
     "metadata": {
      "needs_background": "light"
     },
     "output_type": "display_data"
    }
   ],
   "source": [
    "sns.distplot(pima_df.BMI)"
   ]
  },
  {
   "cell_type": "code",
   "execution_count": 136,
   "metadata": {},
   "outputs": [
    {
     "data": {
      "text/plain": [
       "<matplotlib.axes._subplots.AxesSubplot at 0x1c25a37a20>"
      ]
     },
     "execution_count": 136,
     "metadata": {},
     "output_type": "execute_result"
    },
    {
     "data": {
      "image/png": "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\n",
      "text/plain": [
       "<Figure size 432x288 with 1 Axes>"
      ]
     },
     "metadata": {
      "needs_background": "light"
     },
     "output_type": "display_data"
    }
   ],
   "source": [
    "sns.distplot(pima_df.DiabetesPedigreeFunction)"
   ]
  },
  {
   "cell_type": "code",
   "execution_count": 137,
   "metadata": {},
   "outputs": [
    {
     "data": {
      "text/plain": [
       "<matplotlib.axes._subplots.AxesSubplot at 0x1c25b4cb00>"
      ]
     },
     "execution_count": 137,
     "metadata": {},
     "output_type": "execute_result"
    },
    {
     "data": {
      "image/png": "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\n",
      "text/plain": [
       "<Figure size 432x288 with 1 Axes>"
      ]
     },
     "metadata": {
      "needs_background": "light"
     },
     "output_type": "display_data"
    }
   ],
   "source": [
    "sns.distplot(pima_df.Age)"
   ]
  },
  {
   "cell_type": "code",
   "execution_count": 138,
   "metadata": {
    "scrolled": true
   },
   "outputs": [
    {
     "name": "stdout",
     "output_type": "stream",
     "text": [
      "The number of zeros (or disguised missing data) in the Insulin column is:\n",
      "371\n",
      "The number of zeros (or disguised missing data) in the Glucose column is:\n",
      "5\n",
      "The number of zeros (or disguised missing data) in the Blood Pressure column is:\n",
      "35\n",
      "The number of zeros (or disguised missing data) in the SkinThickness column is:\n",
      "226\n",
      "The number of zeros (or disguised missing data) in the BMI column is:\n",
      "11\n",
      "The number of zeros (or disguised missing data) in the Diabetes Pedigree Function column is:\n",
      "0\n"
     ]
    }
   ],
   "source": [
    "print('The number of zeros (or disguised missing data) in the Insulin column is:')\n",
    "print((pima_df['Insulin'] == 0).astype(int).sum())\n",
    "\n",
    "print('The number of zeros (or disguised missing data) in the Glucose column is:')\n",
    "print((pima_df['Glucose'] == 0).astype(int).sum())\n",
    "\n",
    "print('The number of zeros (or disguised missing data) in the Blood Pressure column is:')\n",
    "print((pima_df['BloodPressure'] == 0).astype(int).sum())\n",
    "\n",
    "print('The number of zeros (or disguised missing data) in the SkinThickness column is:')\n",
    "print((pima_df['SkinThickness'] == 0).astype(int).sum())\n",
    "\n",
    "print('The number of zeros (or disguised missing data) in the BMI column is:')\n",
    "print((pima_df['BMI'] == 0).astype(int).sum())\n",
    "\n",
    "print('The number of zeros (or disguised missing data) in the Diabetes Pedigree Function column is:')\n",
    "print((pima_df['DiabetesPedigreeFunction'] == 0).astype(int).sum())"
   ]
  },
  {
   "cell_type": "code",
   "execution_count": 139,
   "metadata": {},
   "outputs": [],
   "source": [
    "pima_df['Outcome'] = pima_df['Outcome'].astype(str).str[0].astype(int)"
   ]
  },
  {
   "cell_type": "code",
   "execution_count": 140,
   "metadata": {},
   "outputs": [
    {
     "data": {
      "text/html": [
       "<div>\n",
       "<style scoped>\n",
       "    .dataframe tbody tr th:only-of-type {\n",
       "        vertical-align: middle;\n",
       "    }\n",
       "\n",
       "    .dataframe tbody tr th {\n",
       "        vertical-align: top;\n",
       "    }\n",
       "\n",
       "    .dataframe thead th {\n",
       "        text-align: right;\n",
       "    }\n",
       "</style>\n",
       "<table border=\"1\" class=\"dataframe\">\n",
       "  <thead>\n",
       "    <tr style=\"text-align: right;\">\n",
       "      <th></th>\n",
       "      <th>Pregnancies</th>\n",
       "      <th>Glucose</th>\n",
       "      <th>BloodPressure</th>\n",
       "      <th>SkinThickness</th>\n",
       "      <th>Insulin</th>\n",
       "      <th>BMI</th>\n",
       "      <th>DiabetesPedigreeFunction</th>\n",
       "      <th>Age</th>\n",
       "      <th>Outcome</th>\n",
       "    </tr>\n",
       "  </thead>\n",
       "  <tbody>\n",
       "    <tr>\n",
       "      <th>0</th>\n",
       "      <td>6</td>\n",
       "      <td>148</td>\n",
       "      <td>72</td>\n",
       "      <td>35</td>\n",
       "      <td>0</td>\n",
       "      <td>33.6</td>\n",
       "      <td>0.627</td>\n",
       "      <td>50</td>\n",
       "      <td>1</td>\n",
       "    </tr>\n",
       "    <tr>\n",
       "      <th>1</th>\n",
       "      <td>1</td>\n",
       "      <td>85</td>\n",
       "      <td>66</td>\n",
       "      <td>29</td>\n",
       "      <td>0</td>\n",
       "      <td>26.6</td>\n",
       "      <td>0.351</td>\n",
       "      <td>31</td>\n",
       "      <td>0</td>\n",
       "    </tr>\n",
       "    <tr>\n",
       "      <th>2</th>\n",
       "      <td>8</td>\n",
       "      <td>183</td>\n",
       "      <td>64</td>\n",
       "      <td>0</td>\n",
       "      <td>0</td>\n",
       "      <td>23.3</td>\n",
       "      <td>0.672</td>\n",
       "      <td>32</td>\n",
       "      <td>1</td>\n",
       "    </tr>\n",
       "    <tr>\n",
       "      <th>3</th>\n",
       "      <td>1</td>\n",
       "      <td>89</td>\n",
       "      <td>66</td>\n",
       "      <td>23</td>\n",
       "      <td>94</td>\n",
       "      <td>28.1</td>\n",
       "      <td>0.167</td>\n",
       "      <td>21</td>\n",
       "      <td>0</td>\n",
       "    </tr>\n",
       "    <tr>\n",
       "      <th>4</th>\n",
       "      <td>0</td>\n",
       "      <td>137</td>\n",
       "      <td>40</td>\n",
       "      <td>35</td>\n",
       "      <td>168</td>\n",
       "      <td>43.1</td>\n",
       "      <td>2.288</td>\n",
       "      <td>33</td>\n",
       "      <td>1</td>\n",
       "    </tr>\n",
       "  </tbody>\n",
       "</table>\n",
       "</div>"
      ],
      "text/plain": [
       "   Pregnancies  Glucose  BloodPressure  SkinThickness  Insulin   BMI  \\\n",
       "0            6      148             72             35        0  33.6   \n",
       "1            1       85             66             29        0  26.6   \n",
       "2            8      183             64              0        0  23.3   \n",
       "3            1       89             66             23       94  28.1   \n",
       "4            0      137             40             35      168  43.1   \n",
       "\n",
       "   DiabetesPedigreeFunction  Age  Outcome  \n",
       "0                     0.627   50        1  \n",
       "1                     0.351   31        0  \n",
       "2                     0.672   32        1  \n",
       "3                     0.167   21        0  \n",
       "4                     2.288   33        1  "
      ]
     },
     "metadata": {},
     "output_type": "display_data"
    },
    {
     "name": "stdout",
     "output_type": "stream",
     "text": [
      "<class 'pandas.core.frame.DataFrame'>\n",
      "RangeIndex: 764 entries, 0 to 763\n",
      "Data columns (total 9 columns):\n",
      "Pregnancies                 764 non-null int64\n",
      "Glucose                     764 non-null int64\n",
      "BloodPressure               764 non-null int64\n",
      "SkinThickness               764 non-null int64\n",
      "Insulin                     764 non-null int64\n",
      "BMI                         764 non-null float64\n",
      "DiabetesPedigreeFunction    764 non-null float64\n",
      "Age                         764 non-null int64\n",
      "Outcome                     764 non-null int64\n",
      "dtypes: float64(2), int64(7)\n",
      "memory usage: 53.8 KB\n"
     ]
    }
   ],
   "source": [
    "display(pima_df.head())\n",
    "pima_df.info()"
   ]
  },
  {
   "cell_type": "markdown",
   "metadata": {},
   "source": [
    "**Answer Comments** It seems that there are no missing (Null) values at first glance; however, upon closer inspection, one can see that several columns have many zeros where zero wouldn't make sense (for example, someone's skin thickness cannot be zero). Additionally, the outcome variable needed to be cleaned because there were some values that were not 0 or 1, which didn't make sense either. Finally, when looking at the distributions of the predictors, some look bimodal, but will probably not be after we treat the zero values as Null values, and it'll be important to recognize that the distributions of the variables are not all normal."
   ]
  },
  {
   "cell_type": "markdown",
   "metadata": {},
   "source": [
    "**2.2** Split the dataset into a 75-25 train-test split (use `random_state=9001`). Fit a logistic regression classifier to the training set and report the  accuracy of the classifier on the test set. You should use $L_2$ regularization in logistic regression, with the regularization parameter tuned using cross-validation (`LogisticRegressionCV`).  Report the overall classification rate."
   ]
  },
  {
   "cell_type": "code",
   "execution_count": 141,
   "metadata": {},
   "outputs": [
    {
     "name": "stdout",
     "output_type": "stream",
     "text": [
      "(396, 8) (133, 8) (396,) (133,)\n"
     ]
    }
   ],
   "source": [
    "#drop the missing values\n",
    "cols = [\"Glucose\",\"BloodPressure\",\"SkinThickness\",\"BMI\"]\n",
    "pima_df[cols] = pima_df[cols].replace({0:np.nan})\n",
    "pima_df = pima_df.dropna()\n",
    "\n",
    "#define X & Y\n",
    "X = pima_df.drop('Outcome', axis=1)\n",
    "Y = pima_df['Outcome']\n",
    "\n",
    "# Splitting into train and test\n",
    "x_train, x_test, y_train, y_test = train_test_split(X, Y, test_size=0.25, random_state=9001)\n",
    "\n",
    "# Re-shaping data\n",
    "#x_train, y_train = x_train.values.reshape(-1,1), y_train.values\n",
    "#x_test, y_test = x_test.values.reshape(-1,1), y_test.values\n",
    "print(x_train.shape, x_test.shape, y_train.shape, y_test.shape)"
   ]
  },
  {
   "cell_type": "code",
   "execution_count": 142,
   "metadata": {},
   "outputs": [],
   "source": [
    "#from sklearn.preprocessing import MinMaxScaler\n",
    "#def scale_data(df):\n",
    "#    scaler = MinMaxScaler()\n",
    "#    df_fit = scaler.fit(x_train)\n",
    "#    df_transform = scaler.transform(df)\n",
    "#    scaled_df = pd.DataFrame(df_transform, columns = df.columns.values)\n",
    "#    return scaled_df"
   ]
  },
  {
   "cell_type": "code",
   "execution_count": 143,
   "metadata": {},
   "outputs": [],
   "source": [
    "#x_train = scale_data(x_train)\n",
    "#x_test = scale_data(x_test)\n",
    "#display(x_train.describe())\n",
    "#display(y_train.describe())"
   ]
  },
  {
   "cell_type": "code",
   "execution_count": 144,
   "metadata": {
    "scrolled": false
   },
   "outputs": [
    {
     "name": "stdout",
     "output_type": "stream",
     "text": [
      "Training Set Accuracy: 80.8080808080808%\n",
      "Testing Set Accuracy: 73.68421052631578%\n",
      "Model Coefficients:\n",
      "[[-5.24894415e+00  1.33947030e-01  4.01245657e-02  7.32528901e-04\n",
      "   1.00541641e-02  2.29345509e-04  6.75711781e-02  1.71187665e+00\n",
      "   2.06553385e-02]]\n"
     ]
    }
   ],
   "source": [
    "import statsmodels.api as sm\n",
    "from sklearn.linear_model import LogisticRegression\n",
    "from sklearn.linear_model import LogisticRegressionCV\n",
    "\n",
    "#Add constant to x_train and x_test\n",
    "x_train_cst = sm.add_constant(x_train)\n",
    "x_test_cst = sm.add_constant(x_test)\n",
    "\n",
    "y_train = list(y_train)\n",
    "y_test = list(y_test)\n",
    "\n",
    "#training\n",
    "logreg = LogisticRegression(C=1000000)\n",
    "logreg.fit(x_train_cst, y_train)\n",
    "\n",
    "#Predict\n",
    "y_pred_train = logreg.predict(x_train_cst)\n",
    "y_pred_test = logreg.predict(x_test_cst)\n",
    "\n",
    "#Perfromance Evaluation\n",
    "train_score = accuracy_score(y_train, y_pred_train)*100\n",
    "test_score = accuracy_score(y_test, y_pred_test)*100\n",
    "\n",
    "print(\"Training Set Accuracy:\",str(train_score)+'%')\n",
    "print(\"Testing Set Accuracy:\",str(test_score)+'%')\n",
    "print(\"Model Coefficients:\")\n",
    "print(logreg.coef_)"
   ]
  },
  {
   "cell_type": "code",
   "execution_count": 145,
   "metadata": {},
   "outputs": [
    {
     "name": "stdout",
     "output_type": "stream",
     "text": [
      "Training Set Accuracy of Model: 81.81818181818183%\n",
      "Testing Set Accuracy of Model: 66.9172932330827%\n",
      "Model Coefficients: [[0.00648657 0.01747151 0.00430215 0.00799617 0.00070832 0.00910086\n",
      "  0.00085338 0.01216845]]\n"
     ]
    }
   ],
   "source": [
    "clf = LogisticRegressionCV(cv=5, random_state=9001,\n",
    "                            multi_class='multinomial').fit(x_train, y_train)\n",
    "\n",
    "clf_y_pred_train = clf.predict(x_train)\n",
    "clf_y_pred_test = clf.predict(x_test)\n",
    "clf_train_score = accuracy_score(y_train, clf_y_pred_train)*100\n",
    "clf_test_score = accuracy_score(y_test, clf_y_pred_test)*100\n",
    "\n",
    "print(\"Training Set Accuracy of Model:\",str(clf_train_score)+'%')\n",
    "print(\"Testing Set Accuracy of Model:\",str(clf_test_score)+'%')\n",
    "print(\"Model Coefficients:\", str(clf.coef_))"
   ]
  },
  {
   "cell_type": "markdown",
   "metadata": {},
   "source": [
    "**2.3** Restart with a fresh copy of the whole dataset and impute the missing data via mean imputation.  Split the data 75-25 (use `random_state=9001`) and fit a regularized logistic regression model.  Report the overall classification rate. "
   ]
  },
  {
   "cell_type": "code",
   "execution_count": 147,
   "metadata": {
    "scrolled": true
   },
   "outputs": [
    {
     "data": {
      "text/html": [
       "<div>\n",
       "<style scoped>\n",
       "    .dataframe tbody tr th:only-of-type {\n",
       "        vertical-align: middle;\n",
       "    }\n",
       "\n",
       "    .dataframe tbody tr th {\n",
       "        vertical-align: top;\n",
       "    }\n",
       "\n",
       "    .dataframe thead th {\n",
       "        text-align: right;\n",
       "    }\n",
       "</style>\n",
       "<table border=\"1\" class=\"dataframe\">\n",
       "  <thead>\n",
       "    <tr style=\"text-align: right;\">\n",
       "      <th></th>\n",
       "      <th>Pregnancies</th>\n",
       "      <th>Glucose</th>\n",
       "      <th>BloodPressure</th>\n",
       "      <th>SkinThickness</th>\n",
       "      <th>Insulin</th>\n",
       "      <th>BMI</th>\n",
       "      <th>DiabetesPedigreeFunction</th>\n",
       "      <th>Age</th>\n",
       "      <th>Outcome</th>\n",
       "    </tr>\n",
       "  </thead>\n",
       "  <tbody>\n",
       "    <tr>\n",
       "      <th>0</th>\n",
       "      <td>6</td>\n",
       "      <td>148.0</td>\n",
       "      <td>72.0</td>\n",
       "      <td>35.0</td>\n",
       "      <td>0</td>\n",
       "      <td>33.6</td>\n",
       "      <td>0.627</td>\n",
       "      <td>50</td>\n",
       "      <td>1</td>\n",
       "    </tr>\n",
       "    <tr>\n",
       "      <th>1</th>\n",
       "      <td>1</td>\n",
       "      <td>85.0</td>\n",
       "      <td>66.0</td>\n",
       "      <td>29.0</td>\n",
       "      <td>0</td>\n",
       "      <td>26.6</td>\n",
       "      <td>0.351</td>\n",
       "      <td>31</td>\n",
       "      <td>0</td>\n",
       "    </tr>\n",
       "    <tr>\n",
       "      <th>2</th>\n",
       "      <td>8</td>\n",
       "      <td>183.0</td>\n",
       "      <td>64.0</td>\n",
       "      <td>NaN</td>\n",
       "      <td>0</td>\n",
       "      <td>23.3</td>\n",
       "      <td>0.672</td>\n",
       "      <td>32</td>\n",
       "      <td>1</td>\n",
       "    </tr>\n",
       "    <tr>\n",
       "      <th>3</th>\n",
       "      <td>1</td>\n",
       "      <td>89.0</td>\n",
       "      <td>66.0</td>\n",
       "      <td>23.0</td>\n",
       "      <td>94</td>\n",
       "      <td>28.1</td>\n",
       "      <td>0.167</td>\n",
       "      <td>21</td>\n",
       "      <td>0</td>\n",
       "    </tr>\n",
       "    <tr>\n",
       "      <th>4</th>\n",
       "      <td>0</td>\n",
       "      <td>137.0</td>\n",
       "      <td>40.0</td>\n",
       "      <td>35.0</td>\n",
       "      <td>168</td>\n",
       "      <td>43.1</td>\n",
       "      <td>2.288</td>\n",
       "      <td>33</td>\n",
       "      <td>1</td>\n",
       "    </tr>\n",
       "  </tbody>\n",
       "</table>\n",
       "</div>"
      ],
      "text/plain": [
       "   Pregnancies  Glucose  BloodPressure  SkinThickness  Insulin   BMI  \\\n",
       "0            6    148.0           72.0           35.0        0  33.6   \n",
       "1            1     85.0           66.0           29.0        0  26.6   \n",
       "2            8    183.0           64.0            NaN        0  23.3   \n",
       "3            1     89.0           66.0           23.0       94  28.1   \n",
       "4            0    137.0           40.0           35.0      168  43.1   \n",
       "\n",
       "   DiabetesPedigreeFunction  Age  Outcome  \n",
       "0                     0.627   50        1  \n",
       "1                     0.351   31        0  \n",
       "2                     0.672   32        1  \n",
       "3                     0.167   21        0  \n",
       "4                     2.288   33        1  "
      ]
     },
     "execution_count": 147,
     "metadata": {},
     "output_type": "execute_result"
    }
   ],
   "source": [
    "pima_df = pd.read_csv('data/pima-indians-diabetes.csv')\n",
    "pima_df['Outcome'] = pima_df['Outcome'].astype(str).str[0].astype(int)\n",
    "\n",
    "cols = [\"Glucose\",\"BloodPressure\",\"SkinThickness\",\"BMI\"]\n",
    "pima_df[cols] = pima_df[cols].replace({0:np.nan})\n",
    "\n",
    "pima_df.head()"
   ]
  },
  {
   "cell_type": "code",
   "execution_count": 148,
   "metadata": {},
   "outputs": [],
   "source": [
    "#Impute missing data via mean imputation\n",
    "from sklearn.impute import SimpleImputer\n",
    "\n",
    "imp = SimpleImputer(copy=True, missing_values=np.nan, strategy='mean')"
   ]
  },
  {
   "cell_type": "code",
   "execution_count": 149,
   "metadata": {},
   "outputs": [
    {
     "data": {
      "text/plain": [
       "array([[6.00e+00, 1.48e+02, 7.20e+01, ..., 6.27e-01, 5.00e+01, 1.00e+00],\n",
       "       [1.00e+00, 8.50e+01, 6.60e+01, ..., 3.51e-01, 3.10e+01, 0.00e+00],\n",
       "       [8.00e+00, 1.83e+02, 6.40e+01, ..., 6.72e-01, 3.20e+01, 1.00e+00],\n",
       "       ...,\n",
       "       [9.00e+00, 1.70e+02, 7.40e+01, ..., 4.03e-01, 4.30e+01, 1.00e+00],\n",
       "       [9.00e+00, 8.90e+01, 6.20e+01, ..., 1.42e-01, 3.30e+01, 0.00e+00],\n",
       "       [1.00e+01, 1.01e+02, 7.60e+01, ..., 1.71e-01, 6.30e+01, 0.00e+00]])"
      ]
     },
     "execution_count": 149,
     "metadata": {},
     "output_type": "execute_result"
    }
   ],
   "source": [
    "imp.fit(pima_df) \n",
    "pima_df = imp.transform(pima_df)\n",
    "pima_df"
   ]
  },
  {
   "cell_type": "code",
   "execution_count": 150,
   "metadata": {
    "scrolled": true
   },
   "outputs": [
    {
     "data": {
      "text/html": [
       "<div>\n",
       "<style scoped>\n",
       "    .dataframe tbody tr th:only-of-type {\n",
       "        vertical-align: middle;\n",
       "    }\n",
       "\n",
       "    .dataframe tbody tr th {\n",
       "        vertical-align: top;\n",
       "    }\n",
       "\n",
       "    .dataframe thead th {\n",
       "        text-align: right;\n",
       "    }\n",
       "</style>\n",
       "<table border=\"1\" class=\"dataframe\">\n",
       "  <thead>\n",
       "    <tr style=\"text-align: right;\">\n",
       "      <th></th>\n",
       "      <th>0</th>\n",
       "      <th>1</th>\n",
       "      <th>2</th>\n",
       "      <th>3</th>\n",
       "      <th>4</th>\n",
       "      <th>5</th>\n",
       "      <th>6</th>\n",
       "      <th>7</th>\n",
       "      <th>8</th>\n",
       "    </tr>\n",
       "  </thead>\n",
       "  <tbody>\n",
       "    <tr>\n",
       "      <th>0</th>\n",
       "      <td>6.0</td>\n",
       "      <td>148.0</td>\n",
       "      <td>72.0</td>\n",
       "      <td>35.000000</td>\n",
       "      <td>0.0</td>\n",
       "      <td>33.6</td>\n",
       "      <td>0.627</td>\n",
       "      <td>50.0</td>\n",
       "      <td>1.0</td>\n",
       "    </tr>\n",
       "    <tr>\n",
       "      <th>1</th>\n",
       "      <td>1.0</td>\n",
       "      <td>85.0</td>\n",
       "      <td>66.0</td>\n",
       "      <td>29.000000</td>\n",
       "      <td>0.0</td>\n",
       "      <td>26.6</td>\n",
       "      <td>0.351</td>\n",
       "      <td>31.0</td>\n",
       "      <td>0.0</td>\n",
       "    </tr>\n",
       "    <tr>\n",
       "      <th>2</th>\n",
       "      <td>8.0</td>\n",
       "      <td>183.0</td>\n",
       "      <td>64.0</td>\n",
       "      <td>29.165428</td>\n",
       "      <td>0.0</td>\n",
       "      <td>23.3</td>\n",
       "      <td>0.672</td>\n",
       "      <td>32.0</td>\n",
       "      <td>1.0</td>\n",
       "    </tr>\n",
       "    <tr>\n",
       "      <th>3</th>\n",
       "      <td>1.0</td>\n",
       "      <td>89.0</td>\n",
       "      <td>66.0</td>\n",
       "      <td>23.000000</td>\n",
       "      <td>94.0</td>\n",
       "      <td>28.1</td>\n",
       "      <td>0.167</td>\n",
       "      <td>21.0</td>\n",
       "      <td>0.0</td>\n",
       "    </tr>\n",
       "    <tr>\n",
       "      <th>4</th>\n",
       "      <td>0.0</td>\n",
       "      <td>137.0</td>\n",
       "      <td>40.0</td>\n",
       "      <td>35.000000</td>\n",
       "      <td>168.0</td>\n",
       "      <td>43.1</td>\n",
       "      <td>2.288</td>\n",
       "      <td>33.0</td>\n",
       "      <td>1.0</td>\n",
       "    </tr>\n",
       "  </tbody>\n",
       "</table>\n",
       "</div>"
      ],
      "text/plain": [
       "     0      1     2          3      4     5      6     7    8\n",
       "0  6.0  148.0  72.0  35.000000    0.0  33.6  0.627  50.0  1.0\n",
       "1  1.0   85.0  66.0  29.000000    0.0  26.6  0.351  31.0  0.0\n",
       "2  8.0  183.0  64.0  29.165428    0.0  23.3  0.672  32.0  1.0\n",
       "3  1.0   89.0  66.0  23.000000   94.0  28.1  0.167  21.0  0.0\n",
       "4  0.0  137.0  40.0  35.000000  168.0  43.1  2.288  33.0  1.0"
      ]
     },
     "metadata": {},
     "output_type": "display_data"
    }
   ],
   "source": [
    "pima_df = pd.DataFrame(data=pima_df)\n",
    "display(pima_df.head())"
   ]
  },
  {
   "cell_type": "code",
   "execution_count": 151,
   "metadata": {},
   "outputs": [],
   "source": [
    "X = pima_df.drop(8, axis=1)\n",
    "Y = pima_df[8]\n",
    "\n",
    "# Splitting into train and test\n",
    "x_train, x_test, y_train, y_test = train_test_split(X, Y, test_size=0.25, random_state=9001)"
   ]
  },
  {
   "cell_type": "code",
   "execution_count": 153,
   "metadata": {},
   "outputs": [
    {
     "name": "stdout",
     "output_type": "stream",
     "text": [
      "Training Set Accuracy of Model: 77.13787085514834%\n",
      "Testing Set Accuracy of Model: 76.96335078534031%\n",
      "CLF2 Model Coefficients: [[ 0.07533423  0.02041884 -0.00649523 -0.00431183 -0.00084446  0.05415994\n",
      "   0.54068273  0.00726895]]\n"
     ]
    }
   ],
   "source": [
    "#Add constant to x_train and x_test\n",
    "x_train_cst = sm.add_constant(x_train)\n",
    "x_test_cst = sm.add_constant(x_test)\n",
    "\n",
    "#Training\n",
    "clf2 = LogisticRegressionCV(cv=5, random_state=9001,\n",
    "                            multi_class='multinomial').fit(x_train, y_train)\n",
    "\n",
    "clf2_y_pred_train = clf2.predict(x_train)\n",
    "clf2_y_pred_test = clf2.predict(x_test)\n",
    "clf2_train_score = accuracy_score(y_train, clf2_y_pred_train)*100\n",
    "clf2_test_score = accuracy_score(y_test, clf2_y_pred_test)*100\n",
    "\n",
    "print(\"Training Set Accuracy of Model:\",str(clf2_train_score)+'%')\n",
    "print(\"Testing Set Accuracy of Model:\",str(clf2_test_score)+'%')\n",
    "print(\"CLF2 Model Coefficients:\", str(clf2.coef_))"
   ]
  },
  {
   "cell_type": "markdown",
   "metadata": {},
   "source": [
    "**2.4** Again restart with a fresh copy of the whole dataset and impute the missing data via a model-based imputation method. Once again split the data 75-25 (same `random_state=9001`) and fit a regularized logistic regression model.  Report the overall classification rate."
   ]
  },
  {
   "cell_type": "code",
   "execution_count": 154,
   "metadata": {},
   "outputs": [
    {
     "data": {
      "text/html": [
       "<div>\n",
       "<style scoped>\n",
       "    .dataframe tbody tr th:only-of-type {\n",
       "        vertical-align: middle;\n",
       "    }\n",
       "\n",
       "    .dataframe tbody tr th {\n",
       "        vertical-align: top;\n",
       "    }\n",
       "\n",
       "    .dataframe thead th {\n",
       "        text-align: right;\n",
       "    }\n",
       "</style>\n",
       "<table border=\"1\" class=\"dataframe\">\n",
       "  <thead>\n",
       "    <tr style=\"text-align: right;\">\n",
       "      <th></th>\n",
       "      <th>Pregnancies</th>\n",
       "      <th>Glucose</th>\n",
       "      <th>BloodPressure</th>\n",
       "      <th>SkinThickness</th>\n",
       "      <th>Insulin</th>\n",
       "      <th>BMI</th>\n",
       "      <th>DiabetesPedigreeFunction</th>\n",
       "      <th>Age</th>\n",
       "      <th>Outcome</th>\n",
       "    </tr>\n",
       "  </thead>\n",
       "  <tbody>\n",
       "    <tr>\n",
       "      <th>0</th>\n",
       "      <td>6</td>\n",
       "      <td>148.0</td>\n",
       "      <td>72.0</td>\n",
       "      <td>35.0</td>\n",
       "      <td>0</td>\n",
       "      <td>33.6</td>\n",
       "      <td>0.627</td>\n",
       "      <td>50</td>\n",
       "      <td>1</td>\n",
       "    </tr>\n",
       "    <tr>\n",
       "      <th>1</th>\n",
       "      <td>1</td>\n",
       "      <td>85.0</td>\n",
       "      <td>66.0</td>\n",
       "      <td>29.0</td>\n",
       "      <td>0</td>\n",
       "      <td>26.6</td>\n",
       "      <td>0.351</td>\n",
       "      <td>31</td>\n",
       "      <td>0</td>\n",
       "    </tr>\n",
       "    <tr>\n",
       "      <th>2</th>\n",
       "      <td>8</td>\n",
       "      <td>183.0</td>\n",
       "      <td>64.0</td>\n",
       "      <td>NaN</td>\n",
       "      <td>0</td>\n",
       "      <td>23.3</td>\n",
       "      <td>0.672</td>\n",
       "      <td>32</td>\n",
       "      <td>1</td>\n",
       "    </tr>\n",
       "    <tr>\n",
       "      <th>3</th>\n",
       "      <td>1</td>\n",
       "      <td>89.0</td>\n",
       "      <td>66.0</td>\n",
       "      <td>23.0</td>\n",
       "      <td>94</td>\n",
       "      <td>28.1</td>\n",
       "      <td>0.167</td>\n",
       "      <td>21</td>\n",
       "      <td>0</td>\n",
       "    </tr>\n",
       "    <tr>\n",
       "      <th>4</th>\n",
       "      <td>0</td>\n",
       "      <td>137.0</td>\n",
       "      <td>40.0</td>\n",
       "      <td>35.0</td>\n",
       "      <td>168</td>\n",
       "      <td>43.1</td>\n",
       "      <td>2.288</td>\n",
       "      <td>33</td>\n",
       "      <td>1</td>\n",
       "    </tr>\n",
       "  </tbody>\n",
       "</table>\n",
       "</div>"
      ],
      "text/plain": [
       "   Pregnancies  Glucose  BloodPressure  SkinThickness  Insulin   BMI  \\\n",
       "0            6    148.0           72.0           35.0        0  33.6   \n",
       "1            1     85.0           66.0           29.0        0  26.6   \n",
       "2            8    183.0           64.0            NaN        0  23.3   \n",
       "3            1     89.0           66.0           23.0       94  28.1   \n",
       "4            0    137.0           40.0           35.0      168  43.1   \n",
       "\n",
       "   DiabetesPedigreeFunction  Age  Outcome  \n",
       "0                     0.627   50        1  \n",
       "1                     0.351   31        0  \n",
       "2                     0.672   32        1  \n",
       "3                     0.167   21        0  \n",
       "4                     2.288   33        1  "
      ]
     },
     "execution_count": 154,
     "metadata": {},
     "output_type": "execute_result"
    }
   ],
   "source": [
    "pima_df = pd.read_csv('data/pima-indians-diabetes.csv')\n",
    "pima_df['Outcome'] = pima_df['Outcome'].astype(str).str[0].astype(int)\n",
    "\n",
    "cols = [\"Glucose\",\"BloodPressure\",\"SkinThickness\",\"BMI\"]\n",
    "pima_df[cols] = pima_df[cols].replace({0:np.nan})\n",
    "\n",
    "pima_df.head()"
   ]
  },
  {
   "cell_type": "code",
   "execution_count": 155,
   "metadata": {
    "scrolled": true
   },
   "outputs": [
    {
     "data": {
      "text/html": [
       "<div>\n",
       "<style scoped>\n",
       "    .dataframe tbody tr th:only-of-type {\n",
       "        vertical-align: middle;\n",
       "    }\n",
       "\n",
       "    .dataframe tbody tr th {\n",
       "        vertical-align: top;\n",
       "    }\n",
       "\n",
       "    .dataframe thead th {\n",
       "        text-align: right;\n",
       "    }\n",
       "</style>\n",
       "<table border=\"1\" class=\"dataframe\">\n",
       "  <thead>\n",
       "    <tr style=\"text-align: right;\">\n",
       "      <th></th>\n",
       "      <th>Pregnancies</th>\n",
       "      <th>Glucose</th>\n",
       "      <th>BloodPressure</th>\n",
       "      <th>SkinThickness</th>\n",
       "      <th>Insulin</th>\n",
       "      <th>BMI</th>\n",
       "      <th>DiabetesPedigreeFunction</th>\n",
       "      <th>Age</th>\n",
       "      <th>Outcome</th>\n",
       "    </tr>\n",
       "  </thead>\n",
       "  <tbody>\n",
       "    <tr>\n",
       "      <th>0</th>\n",
       "      <td>6</td>\n",
       "      <td>148.0</td>\n",
       "      <td>72.0</td>\n",
       "      <td>35.0</td>\n",
       "      <td>0</td>\n",
       "      <td>33.6</td>\n",
       "      <td>0.627</td>\n",
       "      <td>50</td>\n",
       "      <td>1</td>\n",
       "    </tr>\n",
       "    <tr>\n",
       "      <th>1</th>\n",
       "      <td>1</td>\n",
       "      <td>85.0</td>\n",
       "      <td>66.0</td>\n",
       "      <td>29.0</td>\n",
       "      <td>0</td>\n",
       "      <td>26.6</td>\n",
       "      <td>0.351</td>\n",
       "      <td>31</td>\n",
       "      <td>0</td>\n",
       "    </tr>\n",
       "    <tr>\n",
       "      <th>3</th>\n",
       "      <td>1</td>\n",
       "      <td>89.0</td>\n",
       "      <td>66.0</td>\n",
       "      <td>23.0</td>\n",
       "      <td>94</td>\n",
       "      <td>28.1</td>\n",
       "      <td>0.167</td>\n",
       "      <td>21</td>\n",
       "      <td>0</td>\n",
       "    </tr>\n",
       "    <tr>\n",
       "      <th>4</th>\n",
       "      <td>0</td>\n",
       "      <td>137.0</td>\n",
       "      <td>40.0</td>\n",
       "      <td>35.0</td>\n",
       "      <td>168</td>\n",
       "      <td>43.1</td>\n",
       "      <td>2.288</td>\n",
       "      <td>33</td>\n",
       "      <td>1</td>\n",
       "    </tr>\n",
       "    <tr>\n",
       "      <th>6</th>\n",
       "      <td>3</td>\n",
       "      <td>78.0</td>\n",
       "      <td>50.0</td>\n",
       "      <td>32.0</td>\n",
       "      <td>88</td>\n",
       "      <td>31.0</td>\n",
       "      <td>0.248</td>\n",
       "      <td>26</td>\n",
       "      <td>1</td>\n",
       "    </tr>\n",
       "  </tbody>\n",
       "</table>\n",
       "</div>"
      ],
      "text/plain": [
       "   Pregnancies  Glucose  BloodPressure  SkinThickness  Insulin   BMI  \\\n",
       "0            6    148.0           72.0           35.0        0  33.6   \n",
       "1            1     85.0           66.0           29.0        0  26.6   \n",
       "3            1     89.0           66.0           23.0       94  28.1   \n",
       "4            0    137.0           40.0           35.0      168  43.1   \n",
       "6            3     78.0           50.0           32.0       88  31.0   \n",
       "\n",
       "   DiabetesPedigreeFunction  Age  Outcome  \n",
       "0                     0.627   50        1  \n",
       "1                     0.351   31        0  \n",
       "3                     0.167   21        0  \n",
       "4                     2.288   33        1  \n",
       "6                     0.248   26        1  "
      ]
     },
     "execution_count": 155,
     "metadata": {},
     "output_type": "execute_result"
    }
   ],
   "source": [
    "fullcols = ['Pregnancies','Age','Outcome', 'DiabetesPedigreeFunction']\n",
    "notnans = pima_df[cols].notnull().all(axis=1)\n",
    "df_notnans = pima_df[notnans]\n",
    "\n",
    "df_notnans.head()"
   ]
  },
  {
   "cell_type": "code",
   "execution_count": 156,
   "metadata": {},
   "outputs": [],
   "source": [
    "# Split into 75% train and 25% test\n",
    "X_train, X_test, y_train, y_test = train_test_split(df_notnans[fullcols], df_notnans[cols],\n",
    "                                                    train_size=0.75,\n",
    "                                                    random_state=4)"
   ]
  },
  {
   "cell_type": "code",
   "execution_count": 157,
   "metadata": {},
   "outputs": [
    {
     "data": {
      "text/plain": [
       "MultiOutputRegressor(estimator=RandomForestRegressor(bootstrap=True, criterion='mse', max_depth=30,\n",
       "           max_features='auto', max_leaf_nodes=None,\n",
       "           min_impurity_decrease=0.0, min_impurity_split=None,\n",
       "           min_samples_leaf=1, min_samples_split=2,\n",
       "           min_weight_fraction_leaf=0.0, n_estimators='warn', n_jobs=None,\n",
       "           oob_score=False, random_state=0, verbose=0, warm_start=False),\n",
       "           n_jobs=None)"
      ]
     },
     "execution_count": 157,
     "metadata": {},
     "output_type": "execute_result"
    }
   ],
   "source": [
    "from sklearn.ensemble import RandomForestRegressor\n",
    "from sklearn.multioutput import MultiOutputRegressor\n",
    "\n",
    "regr_multirf = MultiOutputRegressor(RandomForestRegressor(max_depth=30,\n",
    "                                                          random_state=0))\n",
    "\n",
    "# Fit on the train data\n",
    "regr_multirf.fit(X_train, y_train)\n",
    "\n",
    "# Check the prediction score\n",
    "#score = regr_multirf.score(X_test, y_test)\n",
    "#print(\"The prediction score on the test data is {:.2f}%\".format(score*100))"
   ]
  },
  {
   "cell_type": "code",
   "execution_count": 158,
   "metadata": {
    "scrolled": true
   },
   "outputs": [
    {
     "data": {
      "text/html": [
       "<div>\n",
       "<style scoped>\n",
       "    .dataframe tbody tr th:only-of-type {\n",
       "        vertical-align: middle;\n",
       "    }\n",
       "\n",
       "    .dataframe tbody tr th {\n",
       "        vertical-align: top;\n",
       "    }\n",
       "\n",
       "    .dataframe thead th {\n",
       "        text-align: right;\n",
       "    }\n",
       "</style>\n",
       "<table border=\"1\" class=\"dataframe\">\n",
       "  <thead>\n",
       "    <tr style=\"text-align: right;\">\n",
       "      <th></th>\n",
       "      <th>Pregnancies</th>\n",
       "      <th>Glucose</th>\n",
       "      <th>BloodPressure</th>\n",
       "      <th>SkinThickness</th>\n",
       "      <th>Insulin</th>\n",
       "      <th>BMI</th>\n",
       "      <th>DiabetesPedigreeFunction</th>\n",
       "      <th>Age</th>\n",
       "      <th>Outcome</th>\n",
       "    </tr>\n",
       "  </thead>\n",
       "  <tbody>\n",
       "    <tr>\n",
       "      <th>2</th>\n",
       "      <td>8</td>\n",
       "      <td>111.7</td>\n",
       "      <td>72.0</td>\n",
       "      <td>33.2</td>\n",
       "      <td>0</td>\n",
       "      <td>38.55</td>\n",
       "      <td>0.672</td>\n",
       "      <td>32</td>\n",
       "      <td>1</td>\n",
       "    </tr>\n",
       "    <tr>\n",
       "      <th>5</th>\n",
       "      <td>5</td>\n",
       "      <td>105.3</td>\n",
       "      <td>72.4</td>\n",
       "      <td>32.1</td>\n",
       "      <td>0</td>\n",
       "      <td>34.09</td>\n",
       "      <td>0.201</td>\n",
       "      <td>30</td>\n",
       "      <td>0</td>\n",
       "    </tr>\n",
       "    <tr>\n",
       "      <th>7</th>\n",
       "      <td>10</td>\n",
       "      <td>106.9</td>\n",
       "      <td>77.4</td>\n",
       "      <td>31.9</td>\n",
       "      <td>0</td>\n",
       "      <td>33.32</td>\n",
       "      <td>0.134</td>\n",
       "      <td>29</td>\n",
       "      <td>0</td>\n",
       "    </tr>\n",
       "    <tr>\n",
       "      <th>9</th>\n",
       "      <td>8</td>\n",
       "      <td>182.8</td>\n",
       "      <td>81.2</td>\n",
       "      <td>34.3</td>\n",
       "      <td>0</td>\n",
       "      <td>35.52</td>\n",
       "      <td>0.232</td>\n",
       "      <td>54</td>\n",
       "      <td>1</td>\n",
       "    </tr>\n",
       "    <tr>\n",
       "      <th>10</th>\n",
       "      <td>4</td>\n",
       "      <td>135.7</td>\n",
       "      <td>71.6</td>\n",
       "      <td>33.3</td>\n",
       "      <td>0</td>\n",
       "      <td>36.69</td>\n",
       "      <td>0.191</td>\n",
       "      <td>30</td>\n",
       "      <td>0</td>\n",
       "    </tr>\n",
       "  </tbody>\n",
       "</table>\n",
       "</div>"
      ],
      "text/plain": [
       "    Pregnancies  Glucose  BloodPressure  SkinThickness  Insulin    BMI  \\\n",
       "2             8    111.7           72.0           33.2        0  38.55   \n",
       "5             5    105.3           72.4           32.1        0  34.09   \n",
       "7            10    106.9           77.4           31.9        0  33.32   \n",
       "9             8    182.8           81.2           34.3        0  35.52   \n",
       "10            4    135.7           71.6           33.3        0  36.69   \n",
       "\n",
       "    DiabetesPedigreeFunction  Age  Outcome  \n",
       "2                      0.672   32        1  \n",
       "5                      0.201   30        0  \n",
       "7                      0.134   29        0  \n",
       "9                      0.232   54        1  \n",
       "10                     0.191   30        0  "
      ]
     },
     "execution_count": 158,
     "metadata": {},
     "output_type": "execute_result"
    }
   ],
   "source": [
    "df_nans = pima_df.loc[~notnans].copy()\n",
    "df_nans[cols] = regr_multirf.predict(df_nans[fullcols])\n",
    "df_nans.head()"
   ]
  },
  {
   "cell_type": "code",
   "execution_count": 159,
   "metadata": {
    "scrolled": true
   },
   "outputs": [
    {
     "data": {
      "text/html": [
       "<div>\n",
       "<style scoped>\n",
       "    .dataframe tbody tr th:only-of-type {\n",
       "        vertical-align: middle;\n",
       "    }\n",
       "\n",
       "    .dataframe tbody tr th {\n",
       "        vertical-align: top;\n",
       "    }\n",
       "\n",
       "    .dataframe thead th {\n",
       "        text-align: right;\n",
       "    }\n",
       "</style>\n",
       "<table border=\"1\" class=\"dataframe\">\n",
       "  <thead>\n",
       "    <tr style=\"text-align: right;\">\n",
       "      <th></th>\n",
       "      <th>Pregnancies</th>\n",
       "      <th>Glucose</th>\n",
       "      <th>BloodPressure</th>\n",
       "      <th>SkinThickness</th>\n",
       "      <th>Insulin</th>\n",
       "      <th>BMI</th>\n",
       "      <th>DiabetesPedigreeFunction</th>\n",
       "      <th>Age</th>\n",
       "      <th>Outcome</th>\n",
       "    </tr>\n",
       "  </thead>\n",
       "  <tbody>\n",
       "    <tr>\n",
       "      <th>0</th>\n",
       "      <td>6</td>\n",
       "      <td>148.0</td>\n",
       "      <td>72.0</td>\n",
       "      <td>35.0</td>\n",
       "      <td>0</td>\n",
       "      <td>33.6</td>\n",
       "      <td>0.627</td>\n",
       "      <td>50</td>\n",
       "      <td>1</td>\n",
       "    </tr>\n",
       "    <tr>\n",
       "      <th>1</th>\n",
       "      <td>1</td>\n",
       "      <td>85.0</td>\n",
       "      <td>66.0</td>\n",
       "      <td>29.0</td>\n",
       "      <td>0</td>\n",
       "      <td>26.6</td>\n",
       "      <td>0.351</td>\n",
       "      <td>31</td>\n",
       "      <td>0</td>\n",
       "    </tr>\n",
       "    <tr>\n",
       "      <th>3</th>\n",
       "      <td>1</td>\n",
       "      <td>89.0</td>\n",
       "      <td>66.0</td>\n",
       "      <td>23.0</td>\n",
       "      <td>94</td>\n",
       "      <td>28.1</td>\n",
       "      <td>0.167</td>\n",
       "      <td>21</td>\n",
       "      <td>0</td>\n",
       "    </tr>\n",
       "    <tr>\n",
       "      <th>4</th>\n",
       "      <td>0</td>\n",
       "      <td>137.0</td>\n",
       "      <td>40.0</td>\n",
       "      <td>35.0</td>\n",
       "      <td>168</td>\n",
       "      <td>43.1</td>\n",
       "      <td>2.288</td>\n",
       "      <td>33</td>\n",
       "      <td>1</td>\n",
       "    </tr>\n",
       "    <tr>\n",
       "      <th>6</th>\n",
       "      <td>3</td>\n",
       "      <td>78.0</td>\n",
       "      <td>50.0</td>\n",
       "      <td>32.0</td>\n",
       "      <td>88</td>\n",
       "      <td>31.0</td>\n",
       "      <td>0.248</td>\n",
       "      <td>26</td>\n",
       "      <td>1</td>\n",
       "    </tr>\n",
       "  </tbody>\n",
       "</table>\n",
       "</div>"
      ],
      "text/plain": [
       "   Pregnancies  Glucose  BloodPressure  SkinThickness  Insulin   BMI  \\\n",
       "0            6    148.0           72.0           35.0        0  33.6   \n",
       "1            1     85.0           66.0           29.0        0  26.6   \n",
       "3            1     89.0           66.0           23.0       94  28.1   \n",
       "4            0    137.0           40.0           35.0      168  43.1   \n",
       "6            3     78.0           50.0           32.0       88  31.0   \n",
       "\n",
       "   DiabetesPedigreeFunction  Age  Outcome  \n",
       "0                     0.627   50        1  \n",
       "1                     0.351   31        0  \n",
       "3                     0.167   21        0  \n",
       "4                     2.288   33        1  \n",
       "6                     0.248   26        1  "
      ]
     },
     "execution_count": 159,
     "metadata": {},
     "output_type": "execute_result"
    }
   ],
   "source": [
    "frames = [df_notnans, df_nans]\n",
    "new_df = pd.concat(frames)\n",
    "new_df.head()"
   ]
  },
  {
   "cell_type": "code",
   "execution_count": 160,
   "metadata": {},
   "outputs": [
    {
     "name": "stdout",
     "output_type": "stream",
     "text": [
      "Training Set Accuracy of Model: 81.15183246073299%\n",
      "Testing Set Accuracy of Model: 75.91623036649214%\n",
      "CLF3 Model Coefficients: [[ 0.04380797  0.02468731 -0.00885319  0.01307462 -0.00053005  0.03261905\n",
      "   0.00645488  0.00094916]]\n"
     ]
    }
   ],
   "source": [
    "X = new_df.drop('Outcome', axis=1)\n",
    "Y = new_df['Outcome']\n",
    "\n",
    "# Splitting into train and test\n",
    "x_train, x_test, y_train, y_test = train_test_split(X, Y, test_size=0.25, random_state=9001)\n",
    "\n",
    "#Add constant to x_train and x_test\n",
    "x_train_cst = sm.add_constant(x_train)\n",
    "x_test_cst = sm.add_constant(x_test)\n",
    "\n",
    "#Training\n",
    "clf3 = LogisticRegressionCV(cv=5, random_state=0,\n",
    "                            multi_class='multinomial').fit(x_train, y_train)\n",
    "\n",
    "clf3_y_pred_train = clf3.predict(x_train)\n",
    "clf3_y_pred_test = clf3.predict(x_test)\n",
    "clf3_train_score = accuracy_score(y_train, clf3_y_pred_train)*100\n",
    "clf3_test_score = accuracy_score(y_test, clf3_y_pred_test)*100\n",
    "\n",
    "print(\"Training Set Accuracy of Model:\",str(clf3_train_score)+'%')\n",
    "print(\"Testing Set Accuracy of Model:\",str(clf3_test_score)+'%')\n",
    "print(\"CLF3 Model Coefficients:\", str(clf3.coef_))"
   ]
  },
  {
   "cell_type": "markdown",
   "metadata": {},
   "source": [
    "**2.5** Compare the results in the 3 previous parts of this problem.  Prepare a paragraph (5-6 sentences) discussing the results, the computational complexity of the methods,  and explain why you get the results that you see."
   ]
  },
  {
   "cell_type": "markdown",
   "metadata": {},
   "source": [
    "With the model-based imputation is more computationally complex, and because it doesn't have an error term associated with it you can bias the model -- suggesting greater precision with the imputed values than is warranted. You could improve this by adding in stochastic noise into the imputation regression. With the mean imputation, you get the highest testing set accuracy, although it's not much higher than the model-based imputation. Similar to the model-based imputation, you're biasing your data, but this time toward the mean. We would've expected that the testing set accuracy for the cross validation model would be higher than the straight forwrad logistic model, because CV is supposed to curb over-fitting, so we're not quite sure why our testing set accuracy is higher for the CV model."
   ]
  },
  {
   "cell_type": "markdown",
   "metadata": {},
   "source": [
    "**2.6** This question does not have one answer and requires some experimentation. Check which coefficients changed the most between the model in 2.1-2.2 and the models in 2.3 and 2.4. Are they the coefficients you expected to change given the imputation you performed? If not explain why (supporting your explanation using the data is always a good idea)."
   ]
  },
  {
   "cell_type": "code",
   "execution_count": 162,
   "metadata": {},
   "outputs": [
    {
     "name": "stdout",
     "output_type": "stream",
     "text": [
      "Logit Model Coefficients: [[0.00648657 0.01747151 0.00430215 0.00799617 0.00070832 0.00910086\n",
      "  0.00085338 0.01216845]]\n",
      "CLF Model Coefficients: [[0.00648657 0.01747151 0.00430215 0.00799617 0.00070832 0.00910086\n",
      "  0.00085338 0.01216845]]\n",
      "CLF2 Model Coefficients: [[ 0.07533423  0.02041884 -0.00649523 -0.00431183 -0.00084446  0.05415994\n",
      "   0.54068273  0.00726895]]\n",
      "CLF3 Model Coefficients: [[ 0.04380797  0.02468731 -0.00885319  0.01307462 -0.00053005  0.03261905\n",
      "   0.00645488  0.00094916]]\n"
     ]
    }
   ],
   "source": [
    "#Get the coefficients of each model\n",
    "print(\"Logit Model Coefficients:\", str(clf.coef_))\n",
    "print(\"CLF Model Coefficients:\", str(clf.coef_))\n",
    "print(\"CLF2 Model Coefficients:\", str(clf2.coef_))\n",
    "print(\"CLF3 Model Coefficients:\", str(clf3.coef_))"
   ]
  },
  {
   "cell_type": "markdown",
   "metadata": {},
   "source": [
    "The coefficients that we want to pay attention to are the ones that we imputed, so `Glucose` `BloodPressure` `SkinThickness` and `BMI`. The coefficients see the most drastic changes after imputation, and there really aren't any differences in the coefficients in the first two models. We expected the coefficients to change between the models in 2.3 and 2.4 because of the imputation we performed. However, some of the coefficients change by several orders of magnitude across the two models, because we haven't normalized the data. With the variables that changed positive or negative depending on the imputation, they clearly didn't have a lot of predictive power on the model because they were so easily influenced."
   ]
  },
  {
   "cell_type": "code",
   "execution_count": null,
   "metadata": {},
   "outputs": [],
   "source": []
  }
 ],
 "metadata": {
  "anaconda-cloud": {},
  "kernelspec": {
   "display_name": "Python 3",
   "language": "python",
   "name": "python3"
  },
  "language_info": {
   "codemirror_mode": {
    "name": "ipython",
    "version": 3
   },
   "file_extension": ".py",
   "mimetype": "text/x-python",
   "name": "python",
   "nbconvert_exporter": "python",
   "pygments_lexer": "ipython3",
   "version": "3.6.6"
  }
 },
 "nbformat": 4,
 "nbformat_minor": 2
}
||||||| merged common ancestors
=======
{
 "cells": [
  {
   "cell_type": "markdown",
   "metadata": {},
   "source": [
    "# <img style=\"float: left; padding-right: 10px; width: 45px\" src=\"https://raw.githubusercontent.com/Harvard-IACS/2018-CS109A/master/content/styles/iacs.png\"> CS109A Introduction to Data Science \n",
    "\n",
    "\n",
    "\n",
    "## Homework 6: Multilayer Feedforward Network - Dealing with Missing Data\n",
    "\n",
    "\n",
    "**Harvard University**<br/>\n",
    "**Fall 2018**<br/>\n",
    "**Instructors**: Pavlos Protopapas, Kevin Rader\n",
    "\n",
    "<hr style=\"height:2pt\">"
   ]
  },
  {
   "cell_type": "code",
   "execution_count": 2,
   "metadata": {},
   "outputs": [
    {
     "data": {
      "text/html": [
       "<style>\n",
       "h1 { \n",
       "    padding-top: 25px;\n",
       "    padding-bottom: 25px;\n",
       "    text-align: left; \n",
       "    padding-left: 10px;\n",
       "    background-color: #DDDDDD; \n",
       "    color: black;\n",
       "}\n",
       "h2 { \n",
       "    padding-top: 10px;\n",
       "    padding-bottom: 10px;\n",
       "    text-align: left; \n",
       "    padding-left: 5px;\n",
       "    background-color: #EEEEEE; \n",
       "    color: black;\n",
       "}\n",
       "\n",
       "div.exercise {\n",
       "\tbackground-color: #ffcccc;\n",
       "\tborder-color: #E9967A; \t\n",
       "\tborder-left: 5px solid #800080; \n",
       "\tpadding: 0.5em;\n",
       "}\n",
       "div.theme {\n",
       "\tbackground-color: #DDDDDD;\n",
       "\tborder-color: #E9967A; \t\n",
       "\tborder-left: 5px solid #800080; \n",
       "\tpadding: 0.5em;\n",
       "\tfont-size: 18pt;\n",
       "}\n",
       "p.q1 { \n",
       "    padding-top: 5px;\n",
       "    padding-bottom: 5px;\n",
       "    text-align: left; \n",
       "    padding-left: 5px;\n",
       "    background-color: #EEEEEE; \n",
       "    color: black;\n",
       "}\n",
       "header {\n",
       "   padding-top: 35px;\n",
       "    padding-bottom: 35px;\n",
       "    text-align: left; \n",
       "    padding-left: 10px;\n",
       "    background-color: #DDDDDD; \n",
       "    color: black;\n",
       "}\n",
       "</style>\n",
       "\n"
      ],
      "text/plain": [
       "<IPython.core.display.HTML object>"
      ]
     },
     "execution_count": 2,
     "metadata": {},
     "output_type": "execute_result"
    }
   ],
   "source": [
    "#RUN THIS CELL \n",
    "import requests\n",
    "from IPython.core.display import HTML\n",
    "styles = requests.get(\"https://raw.githubusercontent.com/Harvard-IACS/2018-CS109A/master/content/styles/cs109.css\").text\n",
    "HTML(styles)"
   ]
  },
  {
   "cell_type": "markdown",
   "metadata": {},
   "source": [
    "### INSTRUCTIONS\n",
    "\n",
    "- To submit your assignment follow the [instructions given in canvas](https://canvas.harvard.edu/courses/42693/pages/homework-policies-and-submission-instructions).\n",
    "\n",
    "- This homework can be submitted in pairs.\n",
    "\n",
    "- If you submit individually but you have worked with someone, please include the name of your **one** partner below. \n",
    "\n",
    "\n",
    "**Names of person you have worked with goes here:**\n",
    "<br><BR>"
   ]
  },
  {
   "cell_type": "code",
   "execution_count": 3,
   "metadata": {},
   "outputs": [],
   "source": [
    "%matplotlib inline\n",
    "import numpy as np\n",
    "import numpy.random as nd\n",
    "import pandas as pd\n",
    "import math\n",
    "import matplotlib.pyplot as plt\n",
    "\n",
    "import os\n",
    "import seaborn as sns\n",
    "sns.set(style=\"darkgrid\")\n",
    "\n",
    "from sklearn.linear_model import LogisticRegressionCV\n",
    "from sklearn.model_selection import cross_val_score\n",
    "from sklearn.metrics import accuracy_score\n",
    "from sklearn.metrics import confusion_matrix\n",
    "from sklearn.preprocessing import Imputer\n",
    "from sklearn.metrics import mean_squared_error\n",
    "from sklearn.model_selection import train_test_split\n",
    "from IPython.display import display\n",
    "import sklearn\n",
    "sklearn.__version__\n",
    "\n",
    "import warnings\n",
    "warnings.filterwarnings(\"ignore\")"
   ]
  },
  {
   "cell_type": "markdown",
   "metadata": {},
   "source": [
    "<div class=\"theme\"> Overview </div>\n",
    "\n",
    "In this homework, you are free to explore different ways of solving the problems -within the restrictions of the questions. Your solutions should read like a report with figures to support your statements. Please include your code cells as usual but augment your solutions with written answers. We will also check for code readability and efficiency as we feel you have some experience now. In particular, for Q1, we expect you to write appropriate functions, such as your code can be generalized beyond the specified network architectures of his homework.\n",
    "\n",
    "For this homework you may **not** use a machine learning library such as `keras` or `tensorflow` to build and fit the network. The objective is to build the network equations from scratch.\n",
    "\n",
    "- Q1 explores approximating a function using a **Multilayer Feedforward Network** with one input layer, one hidden layer, and one output layer. \n",
    "\n",
    "- Q2 deals with missing data in a medical dataset."
   ]
  },
  {
   "cell_type": "markdown",
   "metadata": {},
   "source": [
    "<div class=\"exercise\"> <b> Question 1: Construct a feed forward neural network [50 pts]</b> </div>\n",
    "    \n",
    "In this part of the homework you are to construct three feed forward neural networks consisting of an input layer, one hidden layer with 1, 2 and 4 nodes respectively, and an output layer.  The hidden layer uses the sigmoid as the activation function and use a linear  output node. \n",
    "You should code the equations from scratch. \n",
    "\n",
    "You are given three datasets containing ($x,y$) points where $y=f(x)$:\n",
    "\n",
    "- In the first dataset, $f(x)$ is a **single step** function (data in`data/step_df.csv`), \n",
    "- In the second dataset, $f(x)$ is a **one hump** function (data in `data/one_hump_df.csv`),\n",
    "- In the third dataset, $f(x)$ is a **two equal humps** function (data in `data/two_hump_df.csv`).\n",
    "\n",
    "**1.1** Create a plot of each dataset and explore the structure of the data. \n",
    "\n",
    "**1.2**  Give values to the weights **manually**, perform a forward pass using the data for the **single step** function and a hidden layer of **one** node, and plot the output from the network, in the same plot as the true $y$ values. Adjust the weigths (again manualy) until the plots match as closely as possible.\n",
    "\n",
    "**1.3** Do the same for the **one hump** function data, this time using a hidden layer consisting of **two** nodes.\n",
    "\n",
    "**1.4** Do the same for the **two hump** function data but this time increase the number of hidden nodes to **four**.  \n",
    "\n",
    "**1.5** Choose the appropriate loss function and calculate and report the loss from all three cases. Derive the gradient of the output layer's weights for all three cases (step, one hump and two humps). Use the weights for the hidden layers you found in the previous question and perform gradient descent on the weights of this layer (output layer). What is the optimised weight value and loss you obtained? How many steps did you take to reach this value? What is the threshold value you used to stop? "
   ]
  },
  {
   "cell_type": "markdown",
   "metadata": {},
   "source": [
    "### Answers"
   ]
  },
  {
   "cell_type": "markdown",
   "metadata": {},
   "source": [
    "**1.1** "
   ]
  },
  {
   "cell_type": "code",
   "execution_count": 96,
   "metadata": {},
   "outputs": [
    {
     "data": {
      "text/html": [
       "<div>\n",
       "<style scoped>\n",
       "    .dataframe tbody tr th:only-of-type {\n",
       "        vertical-align: middle;\n",
       "    }\n",
       "\n",
       "    .dataframe tbody tr th {\n",
       "        vertical-align: top;\n",
       "    }\n",
       "\n",
       "    .dataframe thead th {\n",
       "        text-align: right;\n",
       "    }\n",
       "</style>\n",
       "<table border=\"1\" class=\"dataframe\">\n",
       "  <thead>\n",
       "    <tr style=\"text-align: right;\">\n",
       "      <th></th>\n",
       "      <th>x</th>\n",
       "      <th>y</th>\n",
       "    </tr>\n",
       "  </thead>\n",
       "  <tbody>\n",
       "    <tr>\n",
       "      <th>0</th>\n",
       "      <td>3.734197</td>\n",
       "      <td>1.000226</td>\n",
       "    </tr>\n",
       "    <tr>\n",
       "      <th>1</th>\n",
       "      <td>6.890217</td>\n",
       "      <td>-0.000877</td>\n",
       "    </tr>\n",
       "    <tr>\n",
       "      <th>2</th>\n",
       "      <td>3.330365</td>\n",
       "      <td>0.999072</td>\n",
       "    </tr>\n",
       "    <tr>\n",
       "      <th>3</th>\n",
       "      <td>-4.250132</td>\n",
       "      <td>-0.000071</td>\n",
       "    </tr>\n",
       "    <tr>\n",
       "      <th>4</th>\n",
       "      <td>3.700311</td>\n",
       "      <td>1.002423</td>\n",
       "    </tr>\n",
       "  </tbody>\n",
       "</table>\n",
       "</div>"
      ],
      "text/plain": [
       "          x         y\n",
       "0  3.734197  1.000226\n",
       "1  6.890217 -0.000877\n",
       "2  3.330365  0.999072\n",
       "3 -4.250132 -0.000071\n",
       "4  3.700311  1.002423"
      ]
     },
     "metadata": {},
     "output_type": "display_data"
    }
   ],
   "source": [
    "# your code here\n",
    "step_df = pd.read_csv('data/step_df.csv')\n",
    "one_hump_df = pd.read_csv('data/one_hump_df.csv')\n",
    "two_hump_df = pd.read_csv('data/two_hump_df.csv')\n",
    "display(one_hump_df.head())"
   ]
  },
  {
   "cell_type": "code",
   "execution_count": 97,
   "metadata": {},
   "outputs": [
    {
     "data": {
      "image/png": "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\n",
      "text/plain": [
       "<Figure size 432x288 with 1 Axes>"
      ]
     },
     "metadata": {},
     "output_type": "display_data"
    }
   ],
   "source": [
    "plt.scatter(step_df['x'],step_df['y'])\n",
    "plt.title(\"Single Step DF\");"
   ]
  },
  {
   "cell_type": "code",
   "execution_count": 98,
   "metadata": {},
   "outputs": [
    {
     "data": {
      "image/png": "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\n",
      "text/plain": [
       "<Figure size 432x288 with 1 Axes>"
      ]
     },
     "metadata": {},
     "output_type": "display_data"
    }
   ],
   "source": [
    "plt.scatter(one_hump_df['x'],one_hump_df['y'])\n",
    "plt.title(\"One Hump DF\");"
   ]
  },
  {
   "cell_type": "code",
   "execution_count": 99,
   "metadata": {},
   "outputs": [
    {
     "data": {
      "image/png": "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\n",
      "text/plain": [
       "<Figure size 432x288 with 1 Axes>"
      ]
     },
     "metadata": {},
     "output_type": "display_data"
    }
   ],
   "source": [
    "plt.scatter(two_hump_df['x'],two_hump_df['y'])\n",
    "plt.title(\"Two Hump DF\");"
   ]
  },
  {
   "cell_type": "markdown",
   "metadata": {},
   "source": [
    "**1.2** Give values to the weights **manually**, perform a forward pass using the data for the **single step** function and a hidden layer of **one** node, and plot the output from the network, in the same plot as the true $y$ values. Adjust the weigths (again manualy) until the plots match as closely as possible."
   ]
  },
  {
   "cell_type": "code",
   "execution_count": 100,
   "metadata": {},
   "outputs": [
    {
     "data": {
      "image/png": "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\n",
      "text/plain": [
       "<Figure size 792x504 with 1 Axes>"
      ]
     },
     "metadata": {},
     "output_type": "display_data"
    }
   ],
   "source": [
    "# your code here\n",
    "def affine(x, w, b):\n",
    "    return w * x + b\n",
    "\n",
    "def sigmoid(z):\n",
    "    return 1.0 / (1.0 + np.exp(-z))\n",
    "\n",
    "x = np.linspace(-5.0, 10.0, 100) # input points\n",
    "sorted_step_df = step_df.sort_values('x') # data\n",
    "\n",
    "w = 5.0\n",
    "b = -10\n",
    "\n",
    "y_step = sigmoid(affine(x, w, b))\n",
    "\n",
    "# Plot\n",
    "fig, ax = plt.subplots(1,1, figsize=(11,7))\n",
    "ax.plot(sorted_step_df['x'],sorted_step_df['y'], ls='-.', lw=4, label='True function')\n",
    "ax.plot(x, y_step, lw=4, label=r'Single Neuron')\n",
    "ax.axhline(y=0.5, linestyle='-.')\n",
    "# Create labels (very important!)\n",
    "ax.set_xlabel('$x$', fontsize=12) # Notice we make the labels big enough to read\n",
    "ax.set_ylabel('$y$', fontsize=12)\n",
    "ax.set_title('Single Step DF', fontsize = 16)\n",
    "ax.legend(fontsize = 12, loc = 2)\n",
    "\n",
    "ax.tick_params(labelsize=12) # Make the tick labels big enough to read\n"
   ]
  },
  {
   "cell_type": "markdown",
   "metadata": {},
   "source": [
    "**1.3** Do the same for the **one hump** function data, this time using a hidden layer consisting of **two** nodes."
   ]
  },
  {
   "cell_type": "code",
   "execution_count": 101,
   "metadata": {},
   "outputs": [],
   "source": [
    "x = np.linspace(-5.0, 10.0, 100) # input points\n",
    "sorted_one_hump_df = one_hump_df.sort_values('x') # data\n",
    "\n",
    "# Set weights\n",
    "w = np.array([-20, -20])\n",
    "b = np.array([40, 120])\n",
    "\n",
    "# Affine transformations\n",
    "z1 = w[0] * x + b[0]\n",
    "z2 = w[1] * x + b[1]\n",
    "\n",
    "# Node outputs\n",
    "h1 = 1.0 / (1.0 + np.exp(-z1))\n",
    "h2 = 1.0 / (1.0 + np.exp(-z2))\n",
    "\n",
    "# Network output\n",
    "wout = np.array([-1, 1])\n",
    "bout = np.array(0)\n",
    "\n",
    "y_one = wout[0] * h1 + wout[1] * h2 + bout"
   ]
  },
  {
   "cell_type": "code",
   "execution_count": 102,
   "metadata": {},
   "outputs": [
    {
     "data": {
      "image/png": "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\n",
      "text/plain": [
       "<Figure size 792x504 with 1 Axes>"
      ]
     },
     "metadata": {},
     "output_type": "display_data"
    }
   ],
   "source": [
    "# Plot\n",
    "fig, ax = plt.subplots(1,1, figsize=(11,7))\n",
    "ax.plot(sorted_one_hump_df['x'],sorted_one_hump_df['y'], ls='-.', lw=4, label='True function')\n",
    "ax.plot(x, y_one, lw=4, label=r'Single Neuron', alpha = 0.8)\n",
    "ax.axhline(y=0.5, linestyle='-.')\n",
    "# Create labels (very important!)\n",
    "ax.set_xlabel('$x$', fontsize=12) # Notice we make the labels big enough to read\n",
    "ax.set_ylabel('$y$', fontsize=12)\n",
    "ax.set_title('One Hump Dataframe with Two Nodes', fontsize = 16)\n",
    "ax.legend(fontsize = 12, loc = 2)\n",
    "\n",
    "ax.tick_params(labelsize=12) # Make the tick labels big enough to read"
   ]
  },
  {
   "cell_type": "markdown",
   "metadata": {},
   "source": [
    "**1.4**"
   ]
  },
  {
   "cell_type": "code",
   "execution_count": 103,
   "metadata": {},
   "outputs": [],
   "source": [
    "x = np.linspace(-5.0, 10.0, 100) # input points\n",
    "sorted_two_hump_df = two_hump_df.sort_values('x') # data\n",
    "\n",
    "# Set weights\n",
    "w = [-20, -20, -20, -20]\n",
    "b = [20, 60, 100, 140]\n",
    "\n",
    "# Affine transformations\n",
    "z1 = w[0] * x + b[0]\n",
    "z2 = w[1] * x + b[1]\n",
    "z3 = w[2] * x + b[2]\n",
    "z4 = w[3] * x + b[3]\n",
    "\n",
    "# Node outputs\n",
    "h1 = 1.0 / (1.0 + np.exp(-z1))\n",
    "h2 = 1.0 / (1.0 + np.exp(-z2))\n",
    "h3 = 1.0 / (1.0 + np.exp(-z3))\n",
    "h4 = 1.0 / (1.0 + np.exp(-z4))\n",
    "\n",
    "# Network output\n",
    "wout = [-1, 1, -1 , 1]\n",
    "bout = [0]\n",
    "\n",
    "y_two = wout[0] * h1 + wout[1] * h2 + wout[2] * h3 + wout[3] * h4 + bout"
   ]
  },
  {
   "cell_type": "code",
   "execution_count": 104,
   "metadata": {},
   "outputs": [
    {
     "data": {
      "image/png": "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\n",
      "text/plain": [
       "<Figure size 792x504 with 1 Axes>"
      ]
     },
     "metadata": {},
     "output_type": "display_data"
    }
   ],
   "source": [
    "fig, ax = plt.subplots(1,1, figsize=(11,7))\n",
    "ax.plot(sorted_two_hump_df['x'],sorted_two_hump_df['y'], ls='-.', lw=4, label='True function')\n",
    "ax.plot(x, y_two, lw=4, label=r'Single Neuron')\n",
    "ax.axhline(y=0.5, linestyle='-.')\n",
    "# Create labels (very important!)\n",
    "ax.set_xlabel('$x$', fontsize=12) # Notice we make the labels big enough to read\n",
    "ax.set_ylabel('$y$', fontsize=12)\n",
    "ax.set_title('Two Hump Dataframe with Four Hidden Nodes', fontsize = 16)\n",
    "ax.legend(fontsize = 12, loc = 2)\n",
    "\n",
    "ax.tick_params(labelsize=12) # Make the tick labels big enough to read"
   ]
  },
  {
   "cell_type": "markdown",
   "metadata": {},
   "source": [
    "**1.5** Choose the appropriate loss function and calculate and report the loss from all three cases. Derive the gradient of the output layer's weights for all three cases (step, one hump and two humps). Use the weights for the hidden layers you found in the previous question and perform gradient descent on the weights of this layer (output layer). What is the optimised weight value and loss you obtained? How many steps did you take to reach this value? What is the threshold value you used to stop? "
   ]
  },
  {
   "cell_type": "markdown",
   "metadata": {},
   "source": [
    "Print MSE for each of the three cases"
   ]
  },
  {
   "cell_type": "code",
   "execution_count": 105,
   "metadata": {},
   "outputs": [
    {
     "name": "stdout",
     "output_type": "stream",
     "text": [
      "MSE for the single step data:  0.5212282026118956\n",
      "MSE for the one hump data:  0.45762761768005944\n",
      "MSE for the two hump data:  0.3048771896664801\n"
     ]
    }
   ],
   "source": [
    "# your code here\n",
    "MSE_step = mean_squared_error(step_df['y'].values, y_step)\n",
    "MSE_one = mean_squared_error(one_hump_df['y'].values, y_one)\n",
    "MSE_two = mean_squared_error(two_hump_df['y'].values, y_two)\n",
    "\n",
    "print(\"MSE for the single step data: \",MSE_step)\n",
    "print(\"MSE for the one hump data: \", MSE_one)\n",
    "print(\"MSE for the two hump data: \",MSE_two)"
   ]
  },
  {
   "cell_type": "markdown",
   "metadata": {},
   "source": [
    "*Calculate the partial derivative of MSE and place into a function*\n",
    "\n",
    "$E(w) = \\frac{1}{n}\\sum_{i=1}^{n}(h_w(x_i)-y_i)^2$  \n",
    "  \n",
    "$\\frac{dE(w)}{dw_j} = \\frac{1}{n}\\sum_{i=1}^{n}2(h_w(x_i)-y_i)h'_w(x_i)$\n",
    "  \n",
    "$\\frac{dE(w)}{dw_j} = \\frac{2}{n}\\sum_{i=1}^{n}2(w_j(x_{ij})-y_i)x_{ij}$\n",
    "\n",
    "We will set out threshold value equal to $10e^{-10}$"
   ]
  },
  {
   "cell_type": "code",
   "execution_count": 106,
   "metadata": {},
   "outputs": [],
   "source": [
    "def MSEgrad(X,Y, start_value, w_i, b_i, eta = 1e-6, thresh = 10e-10):\n",
    "    run = True\n",
    "    cost = 1\n",
    "    step = 0\n",
    "    w_n = start_value[:-1]\n",
    "    b_n = start_value[-1];\n",
    "    try:\n",
    "        n = len(w_i)\n",
    "    except:\n",
    "        n = 1\n",
    "    \n",
    "    #Manipulate the dataframes in order to run them through the loop as arrays    \n",
    "    X = np.array(X); w_i = np.reshape(np.array(w_i),(n,1))\n",
    "    w_n = np.reshape(np.array(w_n), (n,1))\n",
    "    b_i = np.array([b_i]*100).T\n",
    "    Y = np.reshape(np.array(Y), (1,-1))\n",
    "    y_i = np.dot(w_i, np.reshape(X,(1,-1))) + b_i\n",
    "    hw = 1.0/(1.0+np.exp(-y_i))\n",
    "    hw = np.reshape(np.array(hw), (n, -1))\n",
    "    \n",
    "    #Run loss function\n",
    "    while run:\n",
    "        prev = cost\n",
    "        w_n = w_n - eta*np.sum((np.dot(w_n.T, hw)-Y)*hw)\n",
    "        y_new = np.dot(w_n.T, hw) + b_n\n",
    "        cost = mean_squared_error(Y, y_new)\n",
    "        step = step +1\n",
    "        if abs(prev-cost) < thresh:\n",
    "            run = False\n",
    "    return w_n, step, cost"
   ]
  },
  {
   "cell_type": "code",
   "execution_count": 107,
   "metadata": {},
   "outputs": [
    {
     "name": "stdout",
     "output_type": "stream",
     "text": [
      "Single step coefficients: [[-0.99902099]]\n",
      "Number of steps: 19\n",
      "Cost: 1.83546084213659e-06\n"
     ]
    }
   ],
   "source": [
    "w_n_step, step_step, cost_step = MSEgrad(step_df['x'], step_df['y'], start_value = [-1.0001, 0.999], w_i = [-20], b_i = [40])\n",
    "print(\"Single step coefficients:\", w_n_step)\n",
    "print(\"Number of steps:\", step_step)\n",
    "print(\"Cost:\", cost_step)"
   ]
  },
  {
   "cell_type": "code",
   "execution_count": 108,
   "metadata": {},
   "outputs": [
    {
     "name": "stdout",
     "output_type": "stream",
     "text": [
      "One hump coefficients: [[-1.00009971]\n",
      " [ 0.99900029]]\n",
      "One hump steps: 2\n",
      "Cost: 2.1474757062995616e-06\n"
     ]
    }
   ],
   "source": [
    "w_n_one, step_one, cost_one = MSEgrad(one_hump_df['x'], one_hump_df['y'], start_value = [-1.0001, 0.999, 0.0], w_i = [-20, -20], b_i = [40, 120])\n",
    "print(\"One hump coefficients:\",w_n_one)\n",
    "print(\"One hump steps:\", step_one)\n",
    "print(\"Cost:\",cost_one)"
   ]
  },
  {
   "cell_type": "code",
   "execution_count": 109,
   "metadata": {},
   "outputs": [
    {
     "name": "stdout",
     "output_type": "stream",
     "text": [
      "Two hump coefficients: [[-0.98129359]\n",
      " [ 1.01780641]\n",
      " [-0.98219359]\n",
      " [ 1.01780641]]\n",
      "Two hump steps: 5943\n",
      "Cost: 0.024452033257127335\n"
     ]
    }
   ],
   "source": [
    "w_n_two, step_two, cost_two = MSEgrad(two_hump_df['x'], two_hump_df['y'], start_value = [-1.0001, 0.999, -1.001, 0.999, 0], w_i = [-20, -20, -20, -20], b_i = [40, 60, 100, 140])\n",
    "print(\"Two hump coefficients:\" ,w_n_two)\n",
    "print(\"Two hump steps:\", step_two)\n",
    "print(\"Cost:\" ,cost_two)"
   ]
  },
  {
   "cell_type": "markdown",
   "metadata": {},
   "source": [
    "<div class=\"exercise\"> <b> Question 2: Working with missing data. [50 pts]</b> </div>\n",
    "\n",
    "In this exercise we are going to use the **Pima Indians onset of diabetes** dataset found in `pima-indians-diabetes.csv`. This dataset describes patient medical record data for Pima Indians and whether they had an onset of diabetes within five years. It is a binary classification problem (onset of diabetes as 1 or not as 0). The input variables that describe each patient are numerical and have varying scales. The list below shows the eight attributes plus the target variable for the dataset:\n",
    "\n",
    "- Number of times pregnant.\n",
    "- Plasma glucose concentration a 2 hours in an oral glucose tolerance test.\n",
    "- Diastolic blood pressure (mm Hg).\n",
    "- Triceps skin fold thickness (mm).\n",
    "- 2-Hour serum insulin (mu U/ml).\n",
    "-  Body mass index.\n",
    "-  Diabetes pedigree function.\n",
    "- Age (years).<br>\n",
    "- **Outcome** (1 for early onset of diabetes within five years, 0 for not), target class.\n",
    "\n",
    "**2.1**. Load the dataset into a pandas dataframe named `pima_df`. Clean the data by looking at the various features and making sure that their values make sense. Look for missing data including disguised missing data. The problem of disguised missing data arises when missing data values are not explicitly represented as such, but are coded with values that can be misinterpreted as valid data. Comment on your findings.\n",
    "\n",
    "**2.2** Split the dataset into a 75-25 train-test split (use `random_state=9001`). Fit a logistic regression classifier to the training set and report the  accuracy of the classifier on the test set. You should use $L_2$ regularization in logistic regression, with the regularization parameter tuned using cross-validation (`LogisticRegressionCV`).  Report the overall classification rate.\n",
    "\n",
    "**2.3** Restart with a fresh copy of the whole dataset and impute the missing data via mean imputation.  Split the data 75-25 (use `random_state=9001`) and fit a regularized logistic regression model.  Report the overall classification rate.  \n",
    "\n",
    "**2.4** Again restart with a fresh copy of the whole dataset and impute the missing data via a model-based imputation method. Once again split the data 75-25 (same `random_state=9001`) and fit a regularized logistic regression model.  Report the overall classification rate.\n",
    "\n",
    "**2.5** Compare the results in the 3 previous parts of this problem.  Prepare a paragraph (5-6 sentences) discussing the results, the computational complexity of the methods,  and explain why you get the results that you see.\n",
    "\n",
    "**2.6** This question does not have one answer and requires some experimentation. Check which coefficients changed the most between the model in 2.1-2.2 and the models in 2.3 and 2.4. Are they the coefficients you expected to change given the imputation you performed? If not explain why (supporting your explanation using the data is always a good idea).\n"
   ]
  },
  {
   "cell_type": "markdown",
   "metadata": {},
   "source": [
    "### Answers"
   ]
  },
  {
   "cell_type": "markdown",
   "metadata": {},
   "source": [
    "**2.1**. Load the dataset into a pandas dataframe named `pima_df`. Clean the data by looking at the various features and making sure that their values make sense. Look for missing data including disguised missing data. The problem of disguised missing data arises when missing data values are not explicitly represented as such, but are coded with values that can be misinterpreted as valid data. Comment on your findings."
   ]
  },
  {
   "cell_type": "code",
   "execution_count": 128,
   "metadata": {},
   "outputs": [
    {
     "data": {
      "text/html": [
       "<div>\n",
       "<style scoped>\n",
       "    .dataframe tbody tr th:only-of-type {\n",
       "        vertical-align: middle;\n",
       "    }\n",
       "\n",
       "    .dataframe tbody tr th {\n",
       "        vertical-align: top;\n",
       "    }\n",
       "\n",
       "    .dataframe thead th {\n",
       "        text-align: right;\n",
       "    }\n",
       "</style>\n",
       "<table border=\"1\" class=\"dataframe\">\n",
       "  <thead>\n",
       "    <tr style=\"text-align: right;\">\n",
       "      <th></th>\n",
       "      <th>Pregnancies</th>\n",
       "      <th>Glucose</th>\n",
       "      <th>BloodPressure</th>\n",
       "      <th>SkinThickness</th>\n",
       "      <th>Insulin</th>\n",
       "      <th>BMI</th>\n",
       "      <th>DiabetesPedigreeFunction</th>\n",
       "      <th>Age</th>\n",
       "      <th>Outcome</th>\n",
       "    </tr>\n",
       "  </thead>\n",
       "  <tbody>\n",
       "    <tr>\n",
       "      <th>0</th>\n",
       "      <td>6</td>\n",
       "      <td>148</td>\n",
       "      <td>72</td>\n",
       "      <td>35</td>\n",
       "      <td>0</td>\n",
       "      <td>33.6</td>\n",
       "      <td>0.627</td>\n",
       "      <td>50</td>\n",
       "      <td>1</td>\n",
       "    </tr>\n",
       "    <tr>\n",
       "      <th>1</th>\n",
       "      <td>1</td>\n",
       "      <td>85</td>\n",
       "      <td>66</td>\n",
       "      <td>29</td>\n",
       "      <td>0</td>\n",
       "      <td>26.6</td>\n",
       "      <td>0.351</td>\n",
       "      <td>31</td>\n",
       "      <td>0</td>\n",
       "    </tr>\n",
       "    <tr>\n",
       "      <th>2</th>\n",
       "      <td>8</td>\n",
       "      <td>183</td>\n",
       "      <td>64</td>\n",
       "      <td>0</td>\n",
       "      <td>0</td>\n",
       "      <td>23.3</td>\n",
       "      <td>0.672</td>\n",
       "      <td>32</td>\n",
       "      <td>1</td>\n",
       "    </tr>\n",
       "    <tr>\n",
       "      <th>3</th>\n",
       "      <td>1</td>\n",
       "      <td>89</td>\n",
       "      <td>66</td>\n",
       "      <td>23</td>\n",
       "      <td>94</td>\n",
       "      <td>28.1</td>\n",
       "      <td>0.167</td>\n",
       "      <td>21</td>\n",
       "      <td>0</td>\n",
       "    </tr>\n",
       "    <tr>\n",
       "      <th>4</th>\n",
       "      <td>0</td>\n",
       "      <td>137</td>\n",
       "      <td>40</td>\n",
       "      <td>35</td>\n",
       "      <td>168</td>\n",
       "      <td>43.1</td>\n",
       "      <td>2.288</td>\n",
       "      <td>33</td>\n",
       "      <td>1</td>\n",
       "    </tr>\n",
       "  </tbody>\n",
       "</table>\n",
       "</div>"
      ],
      "text/plain": [
       "   Pregnancies  Glucose  BloodPressure  SkinThickness  Insulin   BMI  \\\n",
       "0            6      148             72             35        0  33.6   \n",
       "1            1       85             66             29        0  26.6   \n",
       "2            8      183             64              0        0  23.3   \n",
       "3            1       89             66             23       94  28.1   \n",
       "4            0      137             40             35      168  43.1   \n",
       "\n",
       "   DiabetesPedigreeFunction  Age Outcome  \n",
       "0                     0.627   50       1  \n",
       "1                     0.351   31       0  \n",
       "2                     0.672   32       1  \n",
       "3                     0.167   21       0  \n",
       "4                     2.288   33       1  "
      ]
     },
     "metadata": {},
     "output_type": "display_data"
    },
    {
     "name": "stdout",
     "output_type": "stream",
     "text": [
      "<class 'pandas.core.frame.DataFrame'>\n",
      "RangeIndex: 764 entries, 0 to 763\n",
      "Data columns (total 9 columns):\n",
      "Pregnancies                 764 non-null int64\n",
      "Glucose                     764 non-null int64\n",
      "BloodPressure               764 non-null int64\n",
      "SkinThickness               764 non-null int64\n",
      "Insulin                     764 non-null int64\n",
      "BMI                         764 non-null float64\n",
      "DiabetesPedigreeFunction    764 non-null float64\n",
      "Age                         764 non-null int64\n",
      "Outcome                     764 non-null object\n",
      "dtypes: float64(2), int64(6), object(1)\n",
      "memory usage: 53.8+ KB\n"
     ]
    }
   ],
   "source": [
    "pima_df = pd.read_csv('data/pima-indians-diabetes.csv')\n",
    "display(pima_df.head())\n",
    "pima_df.info()"
   ]
  },
  {
   "cell_type": "code",
   "execution_count": 129,
   "metadata": {},
   "outputs": [
    {
     "data": {
      "text/plain": [
       "Pregnancies                 0\n",
       "Glucose                     0\n",
       "BloodPressure               0\n",
       "SkinThickness               0\n",
       "Insulin                     0\n",
       "BMI                         0\n",
       "DiabetesPedigreeFunction    0\n",
       "Age                         0\n",
       "Outcome                     0\n",
       "dtype: int64"
      ]
     },
     "execution_count": 129,
     "metadata": {},
     "output_type": "execute_result"
    }
   ],
   "source": [
    "pima_df.isnull().sum()"
   ]
  },
  {
   "cell_type": "code",
   "execution_count": 130,
   "metadata": {
    "scrolled": false
   },
   "outputs": [
    {
     "data": {
      "text/html": [
       "<div>\n",
       "<style scoped>\n",
       "    .dataframe tbody tr th:only-of-type {\n",
       "        vertical-align: middle;\n",
       "    }\n",
       "\n",
       "    .dataframe tbody tr th {\n",
       "        vertical-align: top;\n",
       "    }\n",
       "\n",
       "    .dataframe thead th {\n",
       "        text-align: right;\n",
       "    }\n",
       "</style>\n",
       "<table border=\"1\" class=\"dataframe\">\n",
       "  <thead>\n",
       "    <tr style=\"text-align: right;\">\n",
       "      <th></th>\n",
       "      <th>Pregnancies</th>\n",
       "      <th>Glucose</th>\n",
       "      <th>BloodPressure</th>\n",
       "      <th>SkinThickness</th>\n",
       "      <th>Insulin</th>\n",
       "      <th>BMI</th>\n",
       "      <th>DiabetesPedigreeFunction</th>\n",
       "      <th>Age</th>\n",
       "      <th>Outcome</th>\n",
       "    </tr>\n",
       "  </thead>\n",
       "  <tbody>\n",
       "    <tr>\n",
       "      <th>0</th>\n",
       "      <td>6</td>\n",
       "      <td>148</td>\n",
       "      <td>72</td>\n",
       "      <td>35</td>\n",
       "      <td>0</td>\n",
       "      <td>33.6</td>\n",
       "      <td>0.627</td>\n",
       "      <td>50</td>\n",
       "      <td>1</td>\n",
       "    </tr>\n",
       "    <tr>\n",
       "      <th>1</th>\n",
       "      <td>1</td>\n",
       "      <td>85</td>\n",
       "      <td>66</td>\n",
       "      <td>29</td>\n",
       "      <td>0</td>\n",
       "      <td>26.6</td>\n",
       "      <td>0.351</td>\n",
       "      <td>31</td>\n",
       "      <td>0</td>\n",
       "    </tr>\n",
       "    <tr>\n",
       "      <th>2</th>\n",
       "      <td>8</td>\n",
       "      <td>183</td>\n",
       "      <td>64</td>\n",
       "      <td>0</td>\n",
       "      <td>0</td>\n",
       "      <td>23.3</td>\n",
       "      <td>0.672</td>\n",
       "      <td>32</td>\n",
       "      <td>1</td>\n",
       "    </tr>\n",
       "    <tr>\n",
       "      <th>3</th>\n",
       "      <td>1</td>\n",
       "      <td>89</td>\n",
       "      <td>66</td>\n",
       "      <td>23</td>\n",
       "      <td>94</td>\n",
       "      <td>28.1</td>\n",
       "      <td>0.167</td>\n",
       "      <td>21</td>\n",
       "      <td>0</td>\n",
       "    </tr>\n",
       "    <tr>\n",
       "      <th>4</th>\n",
       "      <td>0</td>\n",
       "      <td>137</td>\n",
       "      <td>40</td>\n",
       "      <td>35</td>\n",
       "      <td>168</td>\n",
       "      <td>43.1</td>\n",
       "      <td>2.288</td>\n",
       "      <td>33</td>\n",
       "      <td>1</td>\n",
       "    </tr>\n",
       "  </tbody>\n",
       "</table>\n",
       "</div>"
      ],
      "text/plain": [
       "   Pregnancies  Glucose  BloodPressure  SkinThickness  Insulin   BMI  \\\n",
       "0            6      148             72             35        0  33.6   \n",
       "1            1       85             66             29        0  26.6   \n",
       "2            8      183             64              0        0  23.3   \n",
       "3            1       89             66             23       94  28.1   \n",
       "4            0      137             40             35      168  43.1   \n",
       "\n",
       "   DiabetesPedigreeFunction  Age Outcome  \n",
       "0                     0.627   50       1  \n",
       "1                     0.351   31       0  \n",
       "2                     0.672   32       1  \n",
       "3                     0.167   21       0  \n",
       "4                     2.288   33       1  "
      ]
     },
     "metadata": {},
     "output_type": "display_data"
    },
    {
     "data": {
      "text/html": [
       "<div>\n",
       "<style scoped>\n",
       "    .dataframe tbody tr th:only-of-type {\n",
       "        vertical-align: middle;\n",
       "    }\n",
       "\n",
       "    .dataframe tbody tr th {\n",
       "        vertical-align: top;\n",
       "    }\n",
       "\n",
       "    .dataframe thead th {\n",
       "        text-align: right;\n",
       "    }\n",
       "</style>\n",
       "<table border=\"1\" class=\"dataframe\">\n",
       "  <thead>\n",
       "    <tr style=\"text-align: right;\">\n",
       "      <th></th>\n",
       "      <th>Pregnancies</th>\n",
       "      <th>Glucose</th>\n",
       "      <th>BloodPressure</th>\n",
       "      <th>SkinThickness</th>\n",
       "      <th>Insulin</th>\n",
       "      <th>BMI</th>\n",
       "      <th>DiabetesPedigreeFunction</th>\n",
       "      <th>Age</th>\n",
       "    </tr>\n",
       "  </thead>\n",
       "  <tbody>\n",
       "    <tr>\n",
       "      <th>count</th>\n",
       "      <td>764.000000</td>\n",
       "      <td>764.000000</td>\n",
       "      <td>764.000000</td>\n",
       "      <td>764.000000</td>\n",
       "      <td>764.000000</td>\n",
       "      <td>764.000000</td>\n",
       "      <td>764.000000</td>\n",
       "      <td>764.000000</td>\n",
       "    </tr>\n",
       "    <tr>\n",
       "      <th>mean</th>\n",
       "      <td>3.853403</td>\n",
       "      <td>120.922775</td>\n",
       "      <td>69.111257</td>\n",
       "      <td>20.537958</td>\n",
       "      <td>80.070681</td>\n",
       "      <td>31.998429</td>\n",
       "      <td>0.472712</td>\n",
       "      <td>33.248691</td>\n",
       "    </tr>\n",
       "    <tr>\n",
       "      <th>std</th>\n",
       "      <td>3.374327</td>\n",
       "      <td>32.039835</td>\n",
       "      <td>19.403339</td>\n",
       "      <td>15.970234</td>\n",
       "      <td>115.431087</td>\n",
       "      <td>7.899591</td>\n",
       "      <td>0.331981</td>\n",
       "      <td>11.771901</td>\n",
       "    </tr>\n",
       "    <tr>\n",
       "      <th>min</th>\n",
       "      <td>0.000000</td>\n",
       "      <td>0.000000</td>\n",
       "      <td>0.000000</td>\n",
       "      <td>0.000000</td>\n",
       "      <td>0.000000</td>\n",
       "      <td>0.000000</td>\n",
       "      <td>0.078000</td>\n",
       "      <td>21.000000</td>\n",
       "    </tr>\n",
       "    <tr>\n",
       "      <th>25%</th>\n",
       "      <td>1.000000</td>\n",
       "      <td>99.000000</td>\n",
       "      <td>62.000000</td>\n",
       "      <td>0.000000</td>\n",
       "      <td>0.000000</td>\n",
       "      <td>27.300000</td>\n",
       "      <td>0.242500</td>\n",
       "      <td>24.000000</td>\n",
       "    </tr>\n",
       "    <tr>\n",
       "      <th>50%</th>\n",
       "      <td>3.000000</td>\n",
       "      <td>117.000000</td>\n",
       "      <td>72.000000</td>\n",
       "      <td>23.000000</td>\n",
       "      <td>34.000000</td>\n",
       "      <td>32.000000</td>\n",
       "      <td>0.375500</td>\n",
       "      <td>29.000000</td>\n",
       "    </tr>\n",
       "    <tr>\n",
       "      <th>75%</th>\n",
       "      <td>6.000000</td>\n",
       "      <td>141.000000</td>\n",
       "      <td>80.000000</td>\n",
       "      <td>32.000000</td>\n",
       "      <td>128.250000</td>\n",
       "      <td>36.600000</td>\n",
       "      <td>0.627500</td>\n",
       "      <td>41.000000</td>\n",
       "    </tr>\n",
       "    <tr>\n",
       "      <th>max</th>\n",
       "      <td>17.000000</td>\n",
       "      <td>199.000000</td>\n",
       "      <td>122.000000</td>\n",
       "      <td>99.000000</td>\n",
       "      <td>846.000000</td>\n",
       "      <td>67.100000</td>\n",
       "      <td>2.420000</td>\n",
       "      <td>81.000000</td>\n",
       "    </tr>\n",
       "  </tbody>\n",
       "</table>\n",
       "</div>"
      ],
      "text/plain": [
       "       Pregnancies     Glucose  BloodPressure  SkinThickness     Insulin  \\\n",
       "count   764.000000  764.000000     764.000000     764.000000  764.000000   \n",
       "mean      3.853403  120.922775      69.111257      20.537958   80.070681   \n",
       "std       3.374327   32.039835      19.403339      15.970234  115.431087   \n",
       "min       0.000000    0.000000       0.000000       0.000000    0.000000   \n",
       "25%       1.000000   99.000000      62.000000       0.000000    0.000000   \n",
       "50%       3.000000  117.000000      72.000000      23.000000   34.000000   \n",
       "75%       6.000000  141.000000      80.000000      32.000000  128.250000   \n",
       "max      17.000000  199.000000     122.000000      99.000000  846.000000   \n",
       "\n",
       "              BMI  DiabetesPedigreeFunction         Age  \n",
       "count  764.000000                764.000000  764.000000  \n",
       "mean    31.998429                  0.472712   33.248691  \n",
       "std      7.899591                  0.331981   11.771901  \n",
       "min      0.000000                  0.078000   21.000000  \n",
       "25%     27.300000                  0.242500   24.000000  \n",
       "50%     32.000000                  0.375500   29.000000  \n",
       "75%     36.600000                  0.627500   41.000000  \n",
       "max     67.100000                  2.420000   81.000000  "
      ]
     },
     "metadata": {},
     "output_type": "display_data"
    },
    {
     "data": {
      "text/plain": [
       "<matplotlib.axes._subplots.AxesSubplot at 0x1c2558aa90>"
      ]
     },
     "execution_count": 130,
     "metadata": {},
     "output_type": "execute_result"
    },
    {
     "data": {
      "image/png": "iVBORw0KGgoAAAANSUhEUgAAAYIAAAEPCAYAAABP1MOPAAAABHNCSVQICAgIfAhkiAAAAAlwSFlzAAALEgAACxIB0t1+/AAAADl0RVh0U29mdHdhcmUAbWF0cGxvdGxpYiB2ZXJzaW9uIDIuMi4zLCBodHRwOi8vbWF0cGxvdGxpYi5vcmcvIxREBQAAIABJREFUeJzt3Xt8XFW99/HPzCTNPW2STm5N06Yt/dHSltIbFAoUykW5iiAoKCAiB1Ffj57zHD2vB0TBh/OInqMcFThHUVGxiqdHEOQOLVBKofR+g9X7LU2bNOktSZM2mXn+mAkZIpCZ3CbJ/r5f7avZe68185vVyfxmr73W2r5wOIyIiHiXP9kBiIhIcikRiIh4nBKBiIjHKRGIiHicEoGIiMcpEYiIeJwSgYiIxykRiIh4nBKBiIjHKRGIiHicEoGIiMelJDuAj5AGzASqgNYkxyIiMlAEgBLgHaA53kr9NRHMBBYnOwgRkQHqbOCNeAv310RQBXDwYAOh0OBaHbWgIJva2vpkh9EvqC3aqS3aqS3aJdoWfr+PvLwsiH6Gxqu/JoJWgFAoPOgSATAoX1NXqS3aqS3aqS3adbEtEupS18ViERGPUyIQEfE4JQIREY9TIhAR8bi4Lhab2fXAXUAq8IBz7sEOx68C7iEyhvUd4Dbn3HEzKwceAwoBB9zgnNNwABGRfqTTMwIzGwHcB8wBpgK3mdnEmONZwM+BC51zpwDpwM3Rww8BDznnTgaWA9/p0ehFRKTb4ukaugBY6Jyrc841AAuAa9oORveNds7tN7NMIt/+D5pZKnBOtDzAo8BnejJ4ERHpvni6hkr54OSEKmBWbAHn3Akz+ySRbqBK4EVgOHDEOdcSU6+s2xEPcEcbj9PQ3NJ5wQ7SUlNI0RUdEekF8SQCPxA7o8EHhDoWcs49BxSY2b8CDwP/3KEeH1bv4xQUZCdSfECormvkvd2HE643zQoJ5mf2QkTJFQzmJDuEfkNt0U5t0a4v2iKeRLCHyLoVbYqBvW0bZpYPzHDOvRjd9QfgcaAaGGpmAedcK5GFkPaSgNra+sE3wzAQ4Gh9U8LVGhubqWkdXOvvBYM51NQcTXYY/YLaop3aol2ibeH3+7r0BTqezoaXgXlmFoxeA7gaeD7muA94LDpCCCLXAd5wzp0gsnDcddH9NwLPJRyhiIj0qk4TgXOuErgTWASsBuY755aZ2bNmNsM5VwvcBvzNzNYABnw7Wv0OIqOMNhI5q7irN16EiIh0nS8c7pddL6OB7YOxaygcCPDail0J15s5oYistP66RmDXqAugndqindqiXTe6hiqAHXHXSzgyEREZVJQIREQ8TolARMTjlAhERDxOiUBExOOUCEREPE6JQETE45QIREQ8TolARMTjlAhERDxOiUBExOOUCEREPE6JQETE45QIREQ8TolARMTjlAhERDxOiUBExOOUCEREPE6JQETE45QIREQ8TolARMTjlAhERDxOiUBExOOUCEREPE6JQETE41LiKWRm1wN3AanAA865BzscvxK4B/AB24EvOucOmtlNwA+A/dGizzjn7uyp4EVEpPs6TQRmNgK4D5gONANvmtki59zG6PFc4GFgpnOu0szuBb4H/C9gBvCPzrk/9lL8IiLSTfF0DV0ALHTO1TnnGoAFwDUxx1OBrzrnKqPba4Hy6M8zgZvMbJ2ZPWZmeT0VuIiI9Ix4EkEpUBWzXQWUtW0452qdc08AmFkG8C/AkzFlvw9MAXYDP++BmEVEpAfFc43AD4Rjtn1AqGMhMxsKPAGscc79FsA5d1XM8R8CWxMJrqAgO5HiA0J1XSM52ekJ18vMTCOYn9kLESVXMJiT7BD6DbVFO7VFu75oi3gSwR7g7JjtYmBvbAEzKwFeABYC34zuGwrc4pz7SbSYD2hJJLja2npCoXDnBQeSQICj9U0JV2tsbKamtbUXAkqeYDCHmpqjyQ6jX1BbtFNbtEu0Lfx+X5e+QMfTNfQyMM/MgmaWCVwNPN920MwCwNPAn51z33DOtX1y1wPfMrPTo9tfI3LGICIi/UinZwTRkUB3AouAIcAjzrllZvYscDcwEpgGpJhZ20Xk5c65W83sWuDh6LWDTcCNvfIqRESky+KaR+Ccmw/M77DvkuiPy/mIMwvn3GIiSUJERPopzSwWEfE4JQIREY9TIhAR8TglAhERj1MiEBHxOCUCERGPUyIQEfE4JQIREY9TIhAR8TglAhERj1MiEBHxOCUCERGPUyIQEfE4JQIREY9TIhAR8TglAhERj1MiEBHxOCUCERGPUyIQEfE4JQIREY9TIhAR8TglAhERj1MiEBHxOCUCERGPUyIQEfE4JQIREY9LiaeQmV0P3AWkAg845x7scPxK4B7AB2wHvuicO2hm5cBjQCHggBucc/U9GL+IiHRTp2cEZjYCuA+YA0wFbjOziTHHc4GHgUudc6cCa4HvRQ8/BDzknDsZWA58p0ejFxGRbouna+gCYKFzrs451wAsAK6JOZ4KfNU5VxndXguUm1kqcE60PMCjwGd6JGoREekx8XQNlQJVMdtVwKy2DedcLfAEgJllAP8C/AwYDhxxzrXE1CvrgZhFRKQHxZMI/EA4ZtsHhDoWMrOhRBLCGufcb6NdSuEOxf6u3scpKMhOpPiAUF3XSE52esL1MjPTCOZn9kJEyRUM5iQ7hH5DbdFObdGuL9oinkSwBzg7ZrsY2BtbwMxKgBeAhcA3o7urgaFmFnDOtQIlHet1pra2nlCoYy4Z4AIBjtY3JVytsbGZmtbWXggoeYLBHGpqjiY7jH5BbdFObdEu0bbw+31d+gIdzzWCl4F5ZhY0s0zgauD5toNmFgCeBv7snPuGcy4M4Jw7ASwGrosWvRF4LuEIRUSkV3V6RuCcqzSzO4FFwBDgEefcMjN7FrgbGAlMA1LMrO0i8nLn3K3AHcBvzewuYBfwud54ESIi0nVxzSNwzs0H5nfYd0n0x+V8xJmFc24nMLcb8YmISC/TzGIREY9TIhAR8TglAhERj1MiEBHxOCUCERGPUyIQEfE4JQIREY9TIhAR8TglAhERj1MiEBHxOCUCERGPUyIQEfE4JQIREY9TIhAR8TglAhERj1MiEBHxOCUCERGPUyIQEfE4JQIREY9TIhAR8TglAhERj1MiEBHxOCUCERGPUyIQEfE4JQIREY9LiaeQmV0P3AWkAg845x78iHK/AxY65x6Nbt8E/ADYHy3yjHPuzu4GLSIiPafTRGBmI4D7gOlAM/CmmS1yzm2MKVMK/BcwD1gYU30G8I/OuT/2aNQiItJj4ukauoDIt/w651wDsAC4pkOZG4C/An/usH8mcJOZrTOzx8wsr9sRi4hIj4onEZQCVTHbVUBZbAHn3I+cc498SN0q4PvAFGA38PMuxikiIr0knmsEfiAcs+0DQvE8uHPuqrafzeyHwNZEgisoyE6k+IBQXddITnZ6wvUyM9MI5mf2QkTJFQzmJDuEfkNt0U5t0a4v2iKeRLAHODtmuxjY21klMxsK3OKc+0l0lw9oSSS42tp6QqFw5wUHkkCAo/VNCVdrbGymprW1FwJKnmAwh5qao8kOo19QW7RTW7RLtC38fl+XvkDHkwheBr5nZkGgAbgauC2OevXAt8zsTefc28DXgCcSjtDjWkMhdu2rZ++BRrIzUshKT2Xa+CB5OWnJDk1EBolOE4FzrtLM7gQWAUOAR5xzy8zsWeBu59zyj6jXambXAg+bWQawCbixB2Mf1EKhMGu31rJp9yGajrfi90HbydGfXtnMrAmFXDp7NKXDs5IbqIgMeL5wuF92vYwGtg/GrqFwIMBrK3Z9bJmW1hCvr97LnpoGRhZmY+XDuHxOBRmpAQ4cbmLhyj0sXltFOBTmCxcbZ00u6aPoe5a6ANqpLdqpLdp1o2uoAtgRb724JpRJ3zl+opVXVlRSc+gYsyYWcnJ5ZMSt3+cjJeCnOD+T6y8Yz6VnjOK/ntrAr555ly2Vh/n8ReMJ+DVRXEQSp0+OfiQcDvPm+n0cOHyMc6aWvp8EPszQ7DT+6bNTueSMUby2ei+P/O3dQXf2JCJ9Q2cE/ci2vUfYtb+eaeOHM7q48yFjAb+fa+aOJTM9hQWvbsXv8/GlSyfg9/v6IFoRGSyUCPqJ+sYTLNtYTWFeBhMr8hOqe8kZo2htDfHE4u1kpadw/YXjeylKERmMlAj6iaUb9gEwZ3IJfl/i3+gvP6uChqYWXnxnN6XBLOZOHdHTIYrIIKVrBP3AvtpGqmobOfWkArIzU7v8ONeeN47JYwr4w4ubeHfnwR6MUEQGMyWCJAuHw6zafIDMtBRs5LBuPZbf7+MfrjiFwrwMHn5yPXVHEp/BLCLeo0SQZFW1jdQcOsbksfkEAt3/78hMT+Frn57MiZYQv3hqA62huJaFEhEPUyJIonA4zOrNB8hKT2Fc2dAee9ySgiy+cPF4Nu05zFNv7OixxxWRwUmJIIn21TVy4HATk8cW9PhksDMnlTBncgl/e3MHG3fU9ehji8jgokSQRJt2HWJIqp+xpbm98vg3XDie4oJMfvH0Rg43HO+V5xCRgU+JIEkam1rYVV3PuBFDe+TawIdJGxLgK5+axLHmFn759AZC/XNdKRFJMiWCJNlSeZhwGMbHOVLI5/fR0NyS8N/igmxuuHA8G3cc5JmlO3v5VYnIQKQJZUkQCofZvPsQJQWZ5GYNiatO84lW1myqSfi5Zk4o4uwpJby78yB/Xbydk8uHcVJZ94apisjgojOCJNhb00BDU0vcZwPd5fP5uPFio2BoGr94agP1x070yfOKyMCgRJAEWyoPkz4kwMjCvrsnc0ZaCrdfOYlD9cd59Ln36Kf3oRCRJFAi6GONTSfYU9PA6JKcPl8ltKIkl6vPHcvKTTW8uqqyT59bRPovJYI+tmpTDaFQmIqS3hky2pmLZo1k8pgC/vjKFnZX1yclBhHpX5QI+tiyDfvIzkhl+ND0pDx/2z0LstJT+M+/rqf5eGtS4hCR/kOJoA8daTzOxu11jC7OwdeFpaZ7Sm7WEL58+UT21TbyuxecrheIeJwSQR9a4WoIhcOMLun87mO9beLofK6cU8HSDft0vUDE45QI+tDbG/dTMjyLvJy0ZIcCwGVnjWbK2ALmv7yZrZWHkx2OiCSJEkEfOdxwnM27DzFzQlFSu4Vi+X0+br1sInk5aTz4xDoOHm1OdkgikgRKBH1kzZYDhIFpVpjsUD4gOyOVr189hWPNrfzsf9bSfEIXj0W8Romgj6zcVMPwoemU9eEksniNLMzmtismsnPfUX79zLu6eCziMUoEfaDpeAsbdxxk6knD+023UEennRTkmrljeee9aha8tjXZ4YhIH4pr0Tkzux64C0gFHnDOPfgR5X4HLHTOPRrdLgceAwoBB9zgnPPcLKYN2+toaQ1x2knBZIfysT5xejk1h5t47q1dDMtK48KZI5Mdkoj0gU7PCMxsBHAfMAeYCtxmZhM7lCk1s6eBazpUfwh4yDl3MrAc+E6PRD3ArIrejnL8yJ67HWVv8Pl8fP7C8UwfH+SPr2zmrQ37kh2SiPSBeLqGLiDyLb/OOdcALODvP/BvAP4K/Llth5mlAudEywM8CnymuwEPNK2hEGu2HGBKL9yOsjf4/T5uu2IiJ5cP45G/vcvy96qTHZKI9LJ4uoZKgaqY7SpgVmwB59yPAMxsTszu4cAR51xLTL2yRIIrKOh/F1YTtW7rARqaWjh3RjnBYA7VdY3kZCe+vERqakqX6mVmphHMz0y43r23n8V3f7GU/3pqA8OGZTB7cmnCjxGPYDD5k+v6C7VFO7VFu75oi3gSgR+IHUbiA0JdqEec9d5XW1tPKDSwR7C8vmI3Ab+PkfkZ1NQchUCAo/VNCT/OiRMtXarX2NhMTWvXhoR+7apJ/PjPq7n/d8v50mUTOGNicZce56MEgzmRNhG1RQy1RbtE28Lv93XpC3Q8fRV7gJKY7WJgbxz1qoGhZhaIbpfEWW9QWbe1lvEjh5GRNvBuBpeRlsI/XjuVcSOG8sunNrJo5Z5khyQivSCeRPAyMM/MgmaWCVwNPN9ZJefcCWAxcF10143Ac10NdCCqO9JE5YEGJo8pSHYoXZaRlsI3rz2VU8cN5/cvbuLJxds0z0BkkOk0ETjnKoE7gUXAamC+c26ZmT1rZjM6qX4HkVFGG4GziQxB9Yy122oBmDx24CYCgCGpAe64ahJnTS7mqSU7+OXfNnKiJaFePhHpx+Lqr3DOzQfmd9h3yYeUu7nD9k5gbtfDG9jWba2lIDeN0oLEL9b2NykBP7dcMoGivEz+8vo2Dhxq4iufmtRvFtATka4beB3XA0RLa4iNOw8ye2JyF5nz+X00NLd0XrCDtNQUUjqcL/p8Pi47czSFeRn85tn3uOc3y/iHK05hwuj8HopWRJJBiaCXbN5zmObjrUm/PtB8opU1m2oSrjdzQhEpH3GBe9aEIsqC2Tz4xDr+7fHVXHX2GC6ZPQp/P10+Q0Q+Xv+f4TRArdtWS8Dv4+RReckOpVeUDs/iOzfNYNaEIv7y+jZ+umAt9cdOJDssEekCJYJeMpCHjcYrfUgKt10+kS9cNJ6NO+q4+1dvsz56gVxEBg4lgl4wGIaNxsvn83HetDLu/MIMMtNT+fGf1/C759+j6Xji1yVEJDmUCHrBYBk2mohRxTl89+YZfGJWOa+t3st3f72MTbsPJTssEYnD4O23SKLBMGy0q6ONLj1rNJPHDuc3z27k/j+sZN70Mq46Z8yg7iITGej029nD+suw0e7q6mgjiIw4uvdLs1jw6lZeWbGH5a6a6y8Yz3QLDug2ERms1DXUw/rLsNFkSx+SwucvMv7PjdPJyRzCQ0+u5z8WrOXAoWPJDk1EOlAi6GHrtg7uYaOJGls6lLtvnsF154/jvV0HuetXb/PUku00n+jaiqgi0vPUNdTD1m0b/MNGExXw+7l4VjkzrJA/LdzMk4u389rqvdxy+SlMGDlUE9FEkkxnBD3IS8NGu6JgaDpfvWoy377+NHIyU/n3+Sv519+vYEvl4WSHJuJpSgQ96P1ho2O09s7HsfI87r55Jv/rutOoPdzEv/5+BT9dsJZd+3UzEpFkUP9FD3p/2OjwrGSH0u/5fT4umFWOjcjhpeV7eP7tXXzvN+8w8+RCrpxToTYU6UNKBD1ksAwb7WvpQ1K4/MzRnD9tBC8s281Ly3ez3FVz+sQiLjl9FGWFA/++1SL9nRJBD9m8+5CGjXZDVnoqnz5nDBfMKOP5t3axaFUlb23Yz5SxBXzy9HLGjxymBCvSS5QIesi6bXUaNhoV76zkcF0jjTHl0lJTyM0cwrXnj+OS2aNYtHIPL6/Yw/3zVzG2NJeLZ5Vz2vjhBPy6tCXSk5QIeoiGjbaLd1ZyTnY6R+ub3t+OvQdCdkYql59VwUWzylmyrorn397FQ0+uJy8njfNOG8E5U0vJzRzSa69BxEv0qdUD2oaNnjW5JNmhDDppqQHOn1bG3KkjWLPlAK+s3MNfXt/GU0t2cPqEQs6fXkZFSW6ywxQZ0JQIeoCGjfY+v9/HaeODnDY+yN4DDSxcuYcl6/exZP0+xpbmcv70MmaeXEhKQN1GIolSIugBa7do2GhfKh2execvMj59zliWrK9i4Yo9/PLpjTy+cAtzp5Zy7tQR5OWkJTtMkQFDiaCbjp9oZeOOOuZMKdGolm5KeOlrH5w5uYRzTytj0846Xl6xh6eX7OCZpTuZbkHmTS9j3Iih+n8R6YQSQTdt3HmQ4y0hpo4bnuxQBryuLn09c0IRk8YUMGlMAdUHG1m4spLFa6tY9m415YXZzJtexukTixiSGuiFqEUGPiWCblqz5QBpQwJYuYaN9geFeZl8dt5JXHX2GJZu2McrK/fwm+fe48+LtnDOqaXMm15Gfm56ssMU6VeUCLohHA6zZssBJlXkk5qii5T9SdqQAHNPG8G5U0txuw7xyoo9PL9sFy++s5szJxXzyTNGUZw/cO8gJ9KT4koEZnY9cBeQCjzgnHuww/GpwCNALvA6cLtzrsXMbgJ+AOyPFn3GOXdnTwWfbDv3H+VQ/XF1CyVZZ9cWRhbncPOlE7js8GgWrtjD0vX7eGNtFdOskMtmj2JUcU4fRivS/3SaCMxsBHAfMB1oBt40s0XOuY0xxR4DbnXOvWVmvwK+DDwMzAD+0Tn3x54PPflWbz6AD2/dpL4/SuTaQkVJLsX5mby74yAbtteywlUzqSKfS2eP0jIW4lnx9GdcACx0ztU55xqABcA1bQfNbBSQ4Zx7K7rrUeAz0Z9nAjeZ2Toze8zMBlVH+uotBxhbNlQzXAeYjLQUplmQe289navPHcPO/Ue5f/4q7p+/CrfrYLLDE+lz8SSCUqAqZrsKKIvzeBXwfWAKsBv4eZcj7WcOHDrGrv31nKZuoQErIy2FS2eP5kdfOZPrLziJ/QcbuX/+Kv79T6vYulc3yxHviOcagR8Ix2z7gFA8x51zV7XtNLMfAlsTCa6goP8uQfzGhshlj4vOrCBYEP9Esuq6RnKyEx+1kpqaMiDqJVo3tlxfx5qZmUYwesH4c6XD+PQFxnNvbue/X9nMfb9bwcyJRdxw8cmMLRuW8GN3RTCoaxVt1Bbt+qIt4kkEe4CzY7aLgb0djpd0PG5mQ4FbnHM/ie73AQnMFoLa2npCoXDnBZPg1RW7GVWUQyAUoqYmgTtrBQIfWGgtXidOtAyIeonU7bjoXF/H2tjYTE1r6wf2nTWxiOnjCng5erOcb/zkNWZYkCvPHsOIXpw5HgzmJPY+GsTUFu0SbQu/39elL9DxdA29DMwzs6CZZQJXA8+3HXTO7QSazOys6K4vAM8B9cC3zOz06P6vAU8kHGE/VHu4iW17jzDj5GCyQ5FuaBtt1PFvaxjOm17Gd2+ZxSdOL2f99jrufuRtHnpyPdv3HaWhuYWWUOePLzJQdHpG4JyrNLM7gUXAEOAR59wyM3sWuNs5txy4AfilmeUCK4GfOudazexa4GEzywA2ATf22ivpQytcNQAzTi5MciTSHfGMNirMy+CKOaPZsP0gqzbVsMJVM6Y0ly9cfDLlunuaDBJxzSNwzs0H5nfYd0nMz2uAWR9SbzEwrZsx9jvvuMjSBUV5mpDkBelDUphuQSaOzmP9tjrc7kPc++g7nHNqKZfNHqWZyjLgaWZxguqONLG18gifPmdMskORPpaRlsLMCYVMrMhjf90xFq/Zyxtrq5g7tZRLZ49iaLZWPJWBSYkgQcvejXQLzVS3kGdlpady3bwyrjhzNE+/uYOFKyt5fc1ezp9WxifOKNe8EhlwlAgSEA6HWbK+irGluRRpnRrPGz4sgy9eMoFLZo/iqTd28MI7u1i0qpILZpTxidPLyUpPTXaIInHRSmkJ2Ln/KJU1uiWlfFBRXiZfvnwi3//S6Zw6roBnlu7kWw8v5ak3tnMskfsriCSJzggSsGTtPlJT/MyaoG4h+Xulw7O4/cpJXDq7nicXb+PJN7bz0vLdfOL0cuZNLyN9iH7dpH/SOzNOJ1pCvLVxH9PGB8nUKb98jJGF2Xz96ins2HeEJxdv539e28aL7+zmkjNGMfe0EaTpBjnSzygRxGnNlgM0NLVw1uTiZIci/UA8t9UM5mXy5StOYfveIzyzdAePL9zCc2/v4tIzRjH3tFJSU5QQpH9QIojT4rVV5OWkMXFUfrJDkX4g0dtqnj6xiNHFOWyrOsIfX9nMc2/v5NLZoznn1FLd1EiSTokgDlW1DazbVsuVcyrw+7VevXRNUX4ml51Vwa59R3ly8Tb+8NImnnt7J5fNHs2nzh+f7PDEw5QI4vDS8j2kBPycd9qIZIciA5zP76O8OIevXzMFt+sQzy7dye9ecDzz1k4unjWSWROKCAT+/gwhLTUFnThIb1Ei6ET9sRO8ua6K2acUkZuliULSPR27lOZMKWZMaS7rttUx/6XNPPXGDqaMLWBMae4Hzj5nTigiJU2/rtI79M7qxKurKjneEuKimSOTHYoMQj6fjxHBLGx0Pu9tr2X1lgO8uX4f67bVcuq4AkaX5OLX7TOllykRfIwTLSFeWbmHUyryGRHUSpPSe3w+H2WF2YwIZrG7up41W2p5Y+0+1m6t49RxBUw3zV2R3qNE8DFeXV3J4frj3HppebJDEY/w+XyUF+UwsjCbXfvrWbPlAIvXVLF592GuOmcM0y2oMwTpcUoEH6GxqYWnl+xgwqg8Jo7OS3Y44jE+n49RxTmUF2WzY99RNu0+xMNPrqcsmMWVc8YwbfxwfEoI0kOUCD7Cc2/vpP7YCT5z3lj9wknS+Hw+KkpyuWbuODZsq+WvS3bw4BPrKCnI5JxTSzlzUjE5Wu1UukmJ4EMcPNrMS+/sjk4Cyk12OCL4/T7OOKWYmRMKeXvjfhatquTxhVtY8OpWpo0Pcs7UUiaU52mei3SJEsGHeHzhZlpDYd18RvqdgN/PmZNKOHNSCXtq6nl9zV6Wrt/HO+9Vk5OZypSxBZw6djinVOSToeGmEie9Uzp4a+M+lr1bzVVnVxAclpHscEQ+Ulkwm+svGM9n5o5l1eYDkb+bDrBk3T4Cfh9WPozxI4cxtnQoFSW5ZKbr110+nN4ZMeqONPHYC5sYW5rLJbNHJTsckbikpgSYNaGIWROKaA2F2LLnMKu3HGD9tjqeXLwdAB9QMjyLipIcygtzKCvMZmRhNtkZWklXlAje1xoK8atn3qUlFOLWyyYS8Gs+v/Qf8ax22qasKIeyohwuO6uC1tYwu/cfZdvew2zde4S1W2tZsm7f+2XzctIoC2ZTVpjFyMJsRgazKcrPJOVDlrmQwUuJgMgtKB999j3e3XmQL37yZN2GUvqdRFc7bTNzQhGnVORzSkX7qrmH65vZXVPPnuoGdlcfZXd1Axt31NEaCgOQEvBROjyLEcFsigsyGTE8i9LhWXGPTtK6SAOPEgHw34u2smT9Pq6cU8HZp5YmOxyRHvNhZxIpqQEqSodSUTr0/X0trSH21zWy90ADlTUNVB5oYMO2Opaubz97yM5IpTAvg8K8DIryMsjNGvKhQ6u1LtLA4+n/rZbWEI+/soVXVu7h/GkjuOKs0ckOSaRHdeVMYkQwixHBLE69Mshb66rYgMteAAAKFUlEQVQ4eLSZg0ebqTl0jL0HGti29wgAaamB9xNDYV4GBbnpGr46QHk2ERxuOM7DT65n0+5DXDhjJNfNG6eJYyIdZKSlkJGWQunwLCDSjXq08QT7DzZSffAY1QePsbu6HoCA30dwWAbVB49xSkU+Y0tzdZ/mAcJz/0strSEWrqzk6SXbOdES4suXT2T2Kbr9pEg8fD4fuVlDyM0awkllw4DIciw1h469nxxeWLaL59/ehd/no7wom7EjhjK6OIfyohxKCnQhuj+KKxGY2fXAXUAq8IBz7sEOx6cCjwC5wOvA7c65FjMrBx4DCgEH3OCcq+/B+ON28GgzSzfs47XVldQcauKUinw+e/44rSoq0k2Z6SmMKs5hVHEOAJPGFLCvtoFNuw+zefch3lhbxSsr9gCQEvAzsjCLEcOzKcrPoCgvk+L8TArzMhiSqns4J0unicDMRgD3AdOBZuBNM1vknNsYU+wx4Fbn3Ftm9ivgy8DDwEPAQ865P5nZd4DvAN/u6RfRUWsoxIHDTVTVNrK18jBu1yG27j1MOAzjyoby+YuMyWMKejsMEU/KSEthUkUBkyoiv2OhUJj9BxvZue8oO/cfZee+o6zbVssb645/oF5OZirDstMozM8kc0iAodlDyEpPJTM9hcy0VLLSI91UqSn+D/4N+ElJ8WtV1m6I54zgAmChc64OwMwWANcA90a3RwEZzrm3ouUfBe4xs0eAc4BPxex/jfgSQQDo0oWn6kPH+NmCtTSfaI08kN9HWTCb6+adxPTxwaTPFg77fWSmJz6JJyXgHxD1EqmbkZZCa0t7ucH4GuOt17Etevv5erNuSmqA5pbQB/blD80gf2gGp8XcV6HpeAt1R5qoPdJE3eFmjh47weGGZhqOtVBZ28imPYcIh+N/3oDfh8/nw+cHPz78Ph8+vw+fD/w+H36/Dx9Etv2+9/f5fW0/R8rh9+H3gZ9IV5g/+rj+tnrElIn++/7x6HP6fb4P7PP7fRD5QzgMraEwoXCYUMy/raEQzcdDHG8JceGMMsqLImdYiXwOxpRN6PQqnkRQClTFbFcBszo5XgYMB44451o67I9HCUBeXlacxdsVFGTz0LfnJVyvL1169tgu1RtT1rXlsPu6XjKeU6+x5+t1t670jIKCLnVflwBb4y0cTyLwA7F52QeE4jjecT8d6n2cd4CziSSP1jjriIh4XYBIEngnkUrxJII9RD6U2xQDezscL/mQ49XAUDMLOOdao2Vi632cZuCNOMuKiEi7uM8E2sQzjutlYJ6ZBc0sE7gaeL7toHNuJ9BkZmdFd30BeM45dwJYDFwX3X8j8FyiAYqISO/qNBE45yqBO4FFwGpgvnNumZk9a2YzosVuAH5iZu8B2cBPo/vvAG4zs41Eziru6ukXICIi3eMLJ3JZXkREBh1N8RMR8TglAhERj1MiEBHxOCUCERGP89zqo8nS2cJ9XmJmi4gsRHgiuusfnHNvJzGkPmdmucCbwGXOuR1mdgHwYyADeNw555kRdh/SFr8B5gAN0SL3OOeeSFqAfcTMvgtcG918xjn3rb56X2jUUB+ILtz3BjEL9wGf67BwnyeYmY/IJMRRMcuPeIqZnQ78EjgZGA/sJ7I677nAbuAZIl8WBv28m45tEU0E64CLnHNVH1978Ih+4N8DnEdkRYbniazofD998L5Q11DfeH/hPudcA9C2cJ8XWfTfF81sjZl9LanRJMeXga/SPtN+FrDZObc9mhwfAz6TrOD62AfaIjpptRz4tZmtNbN7zMwLn1NVwD85545HJ+O+S+RLQp+8L7zQwP3BRy3M50V5wCvAVcA84HYzuzC5IfUt59ytzrnFMbs8+/74kLYoBhYCtwBnEJmI+qVkxNaXnHMb2lZwNrOTiHQRheij94WuEfSNzhbu8wzn3FJgadt29P4VlwAvJS2o5NP7I8o5t43IlwQAzOxnRJan+WXSgupDZnYKkS6gfwZaiJwVtOm194XOCPrGRy3M5zlmNsfMYtcJ99F+0dir9P6IMrPJZnZ1zC7PvD+i67W9AvyLc+639OH7QmcEfeNl4HtmFiQyEuJq4LbkhpQ0w4B7zexMIiOobgJuT25ISfc2YGY2DtgOXA/8OrkhJY0PeMDMFgL1RH5PfpvckHqfmY0EngSuc84tjO7us/eFzgj6wEct3JfcqJLDOfc3Iqe+q4AVwK+j3UWe5ZxrAm4G/gfYCLxHZECB5zjn1gL/D1hCpC1WO+f+mNyo+sT/BtKBH5vZajNbTeQ9cTN98L7Q8FEREY/TGYGIiMcpEYiIeJwSgYiIxykRiIh4nBKBiIjHaR6BDDhmNhrYCqyL2e0D/sM5N2DG35tZKbDAOXdmsmMRb9PwURlwoolgvXMuO2bfCGA9cG50LLqIxElnBDIoOOcqzWwzcJGZPQhkAYedc+eZ2ZeAO4h0hdYCX3POvRed6f0bYGx0/z4iCeZ7ZtYE/AC4iMg0/x865x42syzgYeAkoAA4ClzvnHNm9iqRdZTOIrKC5svAbc65kJldBvzfaAwNRGZTHyYmoZnZnURmnfuBHcAdzrm9ZvZpIveyCAGtwD87517vnZYUL9I1AhkUzGw2MI7IDTxOAeZGk8C5RJaxONs5dxrwQ6DtJic/BTY45yYQWd43tosmDTgQ7ba5BviJmaUDnwQOOedmO+fGA+8AsUtpjwXmAlOiZc81syIiSwh/0Tk3BfgRkSQTG/+NwGRglnNuKvAskfXoiZa/wzk3A/hO9PFFeozOCGSgyohOw4fI+/gAcANQBKx1zh2JHruUSIJ406ztVgjkmVk+kVVPpwE456rMrOP0/b9G/11JJDFkOecWmNk2M/t69HHnErOaKvC0cy4EHDGzLUA+kTOE9c65VdHn+gvwl2gXV5vLiNyXYHk0zgCQGT32J+AJM3uGyCqtP4y7lUTioEQgA9Wx6DfnDzCzm4ksVtYmAPzeOfft6HE/kfX/DxJZ5tcXU7a143MAOOfC0Q9nn5l9hchCaD8H5gN1QEXHOlFh2lfPfP9iXPQubZOBIzFlA8D9zrmHo2XSiNy7AefcnWb2a+BCImvP/BORpCHSI9Q1JIPdC8DnzKxtOd/biSz1C5HF774EYGYFRNbB72z0xMXAo865XxG5veTlRD7EP87bwIToWvMAVxLpKuoY563R+/cC3Av83sxSzGwHkOmc+08i1zqmRBOFSI/QGYEMas65F83sfuAlMwsR+Rb+6ei3/G8Cj0TvkVsL7AQaO3nIfwN+Eb0A7SPSLTS5kxj2m9kNwG/NLCUaw2c7FHsEGAG8ZWZhYBdws3Ouxcy+Acw3sxNELhjf4pxrjrsRRDqh4aPiWWZ2B7DKObc0+g17MfBdL9w0XiSWzgjEyzYCPzOzADAE+G8lAfEinRGIiHicLhaLiHicEoGIiMcpEYiIeJwSgYiIxykRiIh4nBKBiIjH/X/3XbMvwMmmNgAAAABJRU5ErkJggg==\n",
      "text/plain": [
       "<Figure size 432x288 with 1 Axes>"
      ]
     },
     "metadata": {
      "needs_background": "light"
     },
     "output_type": "display_data"
    }
   ],
   "source": [
    "display(pima_df.head())\n",
    "display(pima_df.describe())\n",
    "sns.distplot(pima_df.Pregnancies)"
   ]
  },
  {
   "cell_type": "code",
   "execution_count": 131,
   "metadata": {},
   "outputs": [
    {
     "data": {
      "text/plain": [
       "<matplotlib.axes._subplots.AxesSubplot at 0x1c255cd2e8>"
      ]
     },
     "execution_count": 131,
     "metadata": {},
     "output_type": "execute_result"
    },
    {
     "data": {
      "image/png": "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\n",
      "text/plain": [
       "<Figure size 432x288 with 1 Axes>"
      ]
     },
     "metadata": {
      "needs_background": "light"
     },
     "output_type": "display_data"
    }
   ],
   "source": [
    "sns.distplot(pima_df.Glucose)"
   ]
  },
  {
   "cell_type": "code",
   "execution_count": 132,
   "metadata": {},
   "outputs": [
    {
     "data": {
      "text/plain": [
       "<matplotlib.axes._subplots.AxesSubplot at 0x1c25580d68>"
      ]
     },
     "execution_count": 132,
     "metadata": {},
     "output_type": "execute_result"
    },
    {
     "data": {
      "image/png": "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\n",
      "text/plain": [
       "<Figure size 432x288 with 1 Axes>"
      ]
     },
     "metadata": {
      "needs_background": "light"
     },
     "output_type": "display_data"
    }
   ],
   "source": [
    "sns.distplot(pima_df.BloodPressure)"
   ]
  },
  {
   "cell_type": "code",
   "execution_count": 133,
   "metadata": {},
   "outputs": [
    {
     "data": {
      "text/plain": [
       "<matplotlib.axes._subplots.AxesSubplot at 0x1c256e7eb8>"
      ]
     },
     "execution_count": 133,
     "metadata": {},
     "output_type": "execute_result"
    },
    {
     "data": {
      "image/png": "iVBORw0KGgoAAAANSUhEUgAAAYIAAAEPCAYAAABP1MOPAAAABHNCSVQICAgIfAhkiAAAAAlwSFlzAAALEgAACxIB0t1+/AAAADl0RVh0U29mdHdhcmUAbWF0cGxvdGxpYiB2ZXJzaW9uIDIuMi4zLCBodHRwOi8vbWF0cGxvdGxpYi5vcmcvIxREBQAAIABJREFUeJzt3XmY3FWd7/H3r5be9yW9JOnOfpKwBRIQCAERxBFBdEBRXMcr6uNl7vWZUefOo3Ovs+jMnTsqD46z6gwqIiiOjigwEhbZDCRAEshysnfS6SWd3ruru7q2+0dVx6bppbq7uquqf5/X8+Sh67dUfX/VTX3r/M453+PEYjFERMS9POkOQERE0kuJQETE5ZQIRERcTolARMTllAhERFxOiUBExOWUCEREXE6JQETE5ZQIRERcTolARMTllAhERFzOl+4AJpELXAq0ApE0xyIiki28QB2wEwgme1KmJoJLgWfTHYSISJbaBjyX7MGZmghaAbq7B4lGs7M6amVlEZ2dA+kOY9ayPX7I/mtQ/OmXbdfg8TiUlxdC4jM0WZmaCCIA0WgsaxMBkNWxQ/bHD9l/DYo//bL0GmZ0S12dxSIiLqdEICLickoEIiIup0QgIuJySgQiIi6nRCAi4nJKBCIiLpep8wiyXn9ghMFgeNbn5/p9+JSmRWQBKBHMk6HhMDsPtM/6/Es31ODL1a9HROafvnOKiLicEoGIiMspEYiIuJwSgYiIyykRiIi4nBKBiIjLKRGIiLicEoGIiMspEYiIuJwSgYiIyykRiIi4nBKBiIjLKRGIiLicEoGIiMspEYiIuJwSgYiIyykRiIi4XFJLYBlj7gC+DPiBu6213x63fxPwHaAEeAb4jLU2PGb/xcAOa21uqgIXEZHUmLZFYIxZCnwVuArYBHzKGLNx3GH3AXdZa9cBDnDnmPMLgG8BOakKWkREUieZW0PXA09aa7ustYPAQ8BtozuNMY1AvrV2R2LTvcD7xpz/deDu1IQrIiKplsytoXqgdczjVuCyafYvAzDGvBsosNY+ZIyZcXCVlUUzPidTnOkKUFyUN+vzCwpyqa4oSGFEM1ddXZzW10+FbL8GxZ9+i+EappNMIvAAsTGPHSA63X5jTC3xfoXrZxtcZ+cA0Whs+gMzkddL/8DwrE8PBIJ0RCIpDGhmqquL6ejoT9vrp0K2X4PiT79suwaPx5nVF+hkbg01A3VjHtcCLUnsvwmoBJ4xxuwGMMbsNsYs/vQqIpJFkmkRbAe+YoypBgaBW4FPje601jYZY4aNMVuttc8DHwEetdZ+h/hIIgCMMTFr7abUhi8iInM1bYvAWnsa+BLwFLAbuN9a+5Ix5hFjzJbEYR8CvmmMOQgUAffMV8AiIpJaSc0jsNbeD9w/btuNY37ewxs7kCd6Dmc2AYqIyPzSzGIREZdTIhARcTklAhERl1MiEBFxOSUCERGXUyIQEXE5JQIREZdTIhARcTklAhERl1MiEBFxOSUCERGXUyIQEXE5JQIREZdTIhARcTklAhERl1MiEBFxOSUCERGXUyIQEXE5JQIREZdTIhARcTklAhERl1MiEBFxOSUCERGXUyIQEXE5JQIREZdTIhARcTklAhERl1MiEBFxOSUCERGXUyIQEXE5JQIREZdTIhARcTklAhERl1MiEBFxOSUCERGXUyIQEXE5JQIREZfzJXOQMeYO4MuAH7jbWvvtcfs3Ad8BSoBngM9Ya8PGmG3A3UAOcBz4mLW2O4Xxi4jIHE3bIjDGLAW+ClwFbAI+ZYzZOO6w+4C7rLXrAAe4M7H934GPWGsvAPYDX0hV4CIikhrJ3Bq6HnjSWttlrR0EHgJuG91pjGkE8q21OxKb7gXel/h5g7V2vzHGDywF1BoQEckwySSCeqB1zONWYFky+621IWPMBUAzcC3wwJyiFRGRlEumj8ADxMY8doBosvutta8BNcaYTwMPAlcmG1xlZVGyh2acM10BiovyZn1+QUEu1RUFKYxo5qqri9P6+qmQ7deg+NNvMVzDdJJJBM3AtjGPa4GWcfvrxu83xuQBv2et/Xli+33A12cSXGfnANFobPoDM5HXS//A8KxPDwSCdEQiKQxoZqqri+no6E/b66dCtl+D4k+/bLsGj8eZ1RfoZG4NbQeuM8ZUG2MKgFuBx0Z3WmubgGFjzNbEpo8AjwIh4NvGmM2J7e8HnptxhCIiMq+mTQTW2tPAl4CngN3A/dbal4wxjxhjtiQO+xDwTWPMQaAIuMdaGwFuB/7FGLObeAfzJ+fjIkREZPaSmkdgrb0fuH/cthvH/LwHuGyC854DNo/fLiIimUMzi0VEXE6JQETE5ZQIRERcTolARMTllAhERFxOiUBExOWUCEREXE6JQETE5ZQIRERcTolARMTlkioxITJT4SgEQ+FZn5/r9+HT1xSRBaFEkGLRaIx9J7p4Zm8rfQNBLj+vBsdx0h3WgguGwuw80D7r8y/dUIMvV3+eIgtB/6el0Egowl99fxfNHYPk+DyMhKM01BSztLow3aGJiExKje8UeuVQB80dg3zo7ev4xueuoSjfzyuHOojFsnRxHRFxBSWCFHrutVaqSvO49pKl5Of6uHhtFd39QY619KU7NBGRSSkRpEhn7zAHTnSz9YI6PIk+gRV1xVSW5LL78Fkikeg0zyAikh5KBCny/OutxIArz689t81xHDatrWJwOMzps4PpC05EZApKBCkQi8V4/rVW1jeUUV2W/4Z9dZWF+LwOrZ2BNEUnIjI1JYIUOHSqh46eYa66sO5N+zweh5qKAlrUIhCRDKVEkAJ7j3bi9ThsXrdkwv11lQX0B0IMDIUWODIRkelpHkEKHG3po7G2mNwc74T76yoLgQ5aOwdZu6xsYYPLANFojNbOACfb+2ntDOD3eSjI81FTns/6xnJ8Xn0fEUknJYI5ikSjnGjt4+pN9ZMeU1aUQ36ul9azAdclgu7+IM/tbaW7P4jP61BXWUgsFmNwOMwrh85ysKmHi9dVsaq+xJUzsEUygRLBHDWfGWQkHGV1femkxzhO/AOw5ewgsVjMFR94sViM/ce7eOXQWXL8HrZdWEdDTRHeMd/+27sCvGw7eP61Nrr7g2w21a54b0Qyjdrkc3SspReA1fUlUx5XV1nA8EiE7v7gQoSVVrFYjP989ji7bAdLqwt591UrWFlf8oYkAFBTUcA7L2/ANJSx/0Q3Ow+c0SxskTRQi2COjrb0UVKYQ2Vp3pTH1VUWANDaGaCiZOpjs1ksFuNHTxzmiZebMQ1lXLZhyZTf8h3H4bINS/B6HPaf6Mbn83DJuuoFjFhE1CKYo6MtfaxO4v52QZ6fkgI/7V2Lez7Bz549xvZdzVx7ydJpk8Aox3HYbKpZs6yU1491cbpjYAEiFZFRSgRzMDAUor0rwKppbguNqizNo7Nv8d4aev61Vn75QhNXX1THe69eNaP7/aMtg/LiXJ7b20bPwOJ9n0QyjRLBHIwWk5uqo3isypI8hoJhhoKzX7AlU9mT3dz76EE2NJbz4RvMrDp9fV4PV19UTyQa5XuPHiSq/gKRBaFEMAfHWnpxnHhxuWRUJPoROvuG5zOsBdfVN8y3f/Y6S8rz+ex7z5/TvIDSohwu3VDDkeZentvbmsIoRWQySgRzcLSlj2XVReTlJNfnXlGSC0DXIro9FI5E+af/3EcoEuWu37+Awjz/nJ9zzdISVi8t4SdPHaE/MJKCKEVkKkoEsxSLxWhq62dFbXKtAYAcn5fiAj+dvYunRfCTp45y5HQvf/DO9YkZ1HPnOA63v20twyMRfvLU0ZQ8p4hMTolglvoStYOWVhfN6LzKkrxFc2vo1cMdPL7rFNdtXsZlG2pS+tx1VYXccNlynnutlSPNvSl9bhF5IyWCWWpJDHGc6XrElaV5BIbDDI9kd4dxz0CQf3/kIA01Rbz/2jXz8hrvvnIlZUU5PPjUYU00E5lHSgSzNLrQzNKqmSWC0X6Czt7s7SeIxmJ891cHGAlF+PS7z8Pvm58/o9wcL+/Ztoqjp/t45VDHvLyGiCgRzFrL2UEK83yUFubM6LzKxKziriy+PbR95yn2He/iA9etTVm/wGS2XlBLfVUhDz19lLCW+xSZF0oEs3T67CD1VYUzHi+f4/dSlO/P2n6Ck+39PPSbo2xaU8U1U1RcTRWvx8Ntb11Ne/cQz+xpmffXE3EjJYJZiMVitJwdnPFtoVGVpXlZOYR0JBThXx7eT2Gen4/fuH7BKoVetLqSdcvLePiFE4yEIgvymiJuktQAeGPMHcCXAT9wt7X22+P2bwK+A5QAzwCfsdaGjTFbgW8COUAn8AlrbVMK40+L3sERBofD1M8yEVSU5NLU1k8wFCHXP/FiNpnox08doeXsIH90+0WUFMzslthcOI7De65ayd/+6FV+s6eFt29ZvmCvLeIG07YIjDFLga8CVwGbgE8ZYzaOO+w+4C5r7TrAAe5MbP8h8Elr7abEz/ekKvB0Ot0xu47iURXF8Q7jngwuSd0fGGEwGD7375XDHTz5ymneevFSVtaXvmHfRP+iKR7ks76xHLO8jEd2NBEKq1UgkkrJtAiuB5601nYBGGMeAm4D/iLxuBHIt9buSBx/L/Dnxph/A75srd2b2L4X+MMUxp4250YMzXAOwajyRCLo7g9SU1GQsrhSaWg4zM4D7QCEwlEefv4ExQV+6qsKzm2fykXzUEr6ltFWwe4WrlerQCRlkukjqAfGFn1pBZZNt99aG7TW3gdgjPEAXwF+PqdoM0TL2QGK8v2UzHDE0Kj8XB85fk/WLFKz+/BZBoZCXHl+bVrXF17fWM665WX8Sq0CkZRKpkXgAcY29B0gmux+Y0wO8L3Ea31tJsFVVs7uG/d8O9MzzIr6EqqrJy8vcaYrQHHR5AvQVJfl0xcITXpMQUEu1WlsLYzG33p2kANN3VywupI1DRVJn+/3+6a8/ulMdv0fu2kjX/rHF3j5SBc3b1s17fNM9TvKBoo//RbDNUwnmUTQDGwb87gWaBm3v26i/caYIuAXxDuKb7HWhmYSXGfnANFU32yeo3iNoT4uP6+Wjo7+yQ/0eukfmHyIaHGBnyPNvfT1D004+iYQCNIRSeO3Xq+X7t4A219qojDPx/krK6a8nvFCofCMjh9vsuuvLcll3fIyfrzdsnlNBX7f5J3t1dXFU/+OMpziT79suwaPx5nVF+hk2vnbgeuMMdXGmALgVuCx0Z2JUUDDiRFCAB8BHk38fB9wBLjdWpsd90Gm0d0fZCgYmXVH8ajy4lzCkRj9gRnlxgW150gnfYEQV5xfO2+zh2fKcRxu2bqCnoERntmjMtUiqTDt/93W2tPAl4CngN3A/dbal4wxjxhjtiQO+xDwTWPMQaAIuMcYczFwC7AVeMUYs9sY88i8XMUCaumMdxTXz3FG7dgO40x0vKWX/ce7WLOsdNbDZOfC8TiTjkhaXlvM6qUl/PKFE/QMjkx4TFiTkEWSltQ8Amvt/cD947bdOObnPcBl4057lXh/waLS1hlfc3h0MfrZKiv6XSJonEEp64UQjcb43iMHyMv1scWkZyH5YCjCninqC62qL+Ho6T4e2H6I9Y3lb9p/aYqroYosZpnR3s8ibV0B8nO9sx4xNMrn9VBS4M/ItXmfevU0p9r7uXTDEnIydMJbbUUB1WV57DvelXH9SCLZRolghtq6AtRWFKSkvEJ5cW7G3RrqC4zws2eOsWFFBY01mTlqC+J9BeevqmRwOMyJtuzpzBPJREoEM9TeFUjZJLDy4lz6AyFCGXRD+6dPHyUYinDHLBegX0jLqgspLcrh9WOdWq9AZA6UCGYgGIrQ2RekNkWJoGy01ESG3B5qauvn2b2tXL9lGfWznDW9kBzH4fyVFfQMjJyb7S0iM6dEMAPtXfGO4lQlgkwaORSLxfjxU0coyvdz85Ur0x1O0lbUlVCQ5+P1Y13pDkUkaykRzEBbihNBUb4fvzczSk3sO97FgaZubr5yBQV5SQ0mywhej8N5Kyo40z3Eme6hdIcjkpWUCGZgNBGkqo/AcRzKinPSXoU0Go3x46eOUl2Wx7WXLE1rLLOxZlkpOX4Prx9Xq0BkNpQIZqCtK0BlSW5K1xAYHTmUzs7OHfvbaO4Y4NZrVqe1qNxs+X0e1jeU03xmIGP6W0SySfb9X59GqRwxNKq8OJeRcJTAcDilz5usSDTKL547QUNNEVvWL0lLDKmwvrEMr8dhn/oKRGZMiSBJsVjs3ByCVEp3h/GOfe2c6RnilqtW4snw4aJTycvxsXZ5Kcda+xgcytz6TSKZSIkgSX2DIwwFIylPBGNLTSy0SDS+4ExDTRGb1lQt+Oun2sYV8TLZB092pzkSkeyiRJCkcyOG5lhjaLwcv5eifH9aEsHY1kCmTx5LRlG+n4aaYg6d6iU4ooVrRJKlRJCk1hQPHR2rrDiX7gXu5IxGYzz8wuJpDYza2FhOKBzlxf3TL6cpInFKBElq7wrg93moKJn9qluTKS/OpW9whEhk4UpN7DlyljPdQ7zrihWLojUwqqosj6rSPJ5+9bSK0YkkSYkgSW2dAWrK8+elQ7W8OJdYDHoGR1L+3JP59c5TVJbkcsm6xdMagPjcjA0ryunoGWLXQbUKRJKhRJCk+RgxNKo80WG8UBPLmtr6sad6uG7zcryexfcn0FhTTFlRDr945mi6QxHJCtlTSyCNwpEoHT3DXLphfsbZFxf68XqclHYYh6MQDE08N+HRF5vI8XvYvH4Jg8GJj/H6UxbKgvN4HLZdVM/Dz5/g1JkBli/J/AJ6IumkRJCEjp4horHYvLUIPI5DWVEuXSlMBMFQmJ0H3nxrZCgYZtfBM6xdXsa+452Tnr/lvLqUxZIOWy+s479eOsXju07xiRs3pDsckYy2+O4LzIPfFZubv7V7y0ty6eobnvdSE/ZkD9EYbJhgecfFpDDPz3VblrNjXzt9C9j3IpKNlAiS8LtEkD9vr1FVmsdIKMrAPM6KjUSi2JM9LKsunPNSm9ng5m2rCEeiPP3q6XSHIpLRlAiS0NYZoKTAT0He/N04ryqND0s92zM8b69xrLWfYCjChhWLuzUwanlNMResquTJV09n1CpwIplGiSAJ8zliaFRZUS5ej8PZ3vlJBLFYjAMnuigvzp33a8kkb9+yjL7BEXbZM+kORSRjKREkoa0rkPLSEuN5PA4VJXmc7Z2fxVXaugL0DIywobF8UU0gm87GlRXUVBTwxMvN6Q5FJGMpEUxjcDhEfyA0rx3Fo6pK8+jqC87LjNj9J7rJy/Gysq445c+dyTyOw9suWcqxlj6Ot/alOxyRjKREMI3frUo2fx3Fo6rK8ohEYylfXKVvcITTHYOsW16GNwsXnpmrqy6oIzfHy5NqFYhMyH2fCjPU1jl/xebGO9dhnOJ+ggNN3XgcB9NQltLnzRb5uT6uPL+WFw+coS+goaQi4ykRTKOtK4DX41BdNv8tgqJ8P7l+b0oTQTAU4ejpXlbWF5Of6575g47H4UxXgMFgmMFgmCvOryUcifLEy83ntk31T4OMxE3c88kwS21dAarK8hdkLV/HcagqzeNsT+o6jA+f6iEciS36CWTjBUMRDjSdoX/gd0m1NtFpXFqYg8czdYf5pRtq8LkocYq7qUUwjbauAHULONyysjSP3oGRlCysEo3GOHiyh9qKgnkpn51t1jeWERgO09wxkO5QRDKKEsEUorEY7V1DC9JRPKqqLI8YcKJt7iNcTrb3ExgOu2YC2XSWVRdRmOfjYFNPukMRyShKBFM42ztMOBKlrnL+h46OqikvwHFIyYfV/hPdFBf4WVa9cPFnMo/HYV1DWXxORRqWBhXJVEoEU2jpGASgvmrhPkj9Pg9LyvI52NQ1p+c53trH2d5h100gm87aZaV4PA4HT6pVIDJKiWAKLZ2JRLCALQKIJ57mjkF651A18+lXTuP3eVi9tDSFkWW/vBwfK2uLOdbSy0hIC9yLgBLBlFrODlJenEtB3sKOHhltgew/PrtWQVffMLsPd7B2WSl+n37F461vLCcciXH0tGYai4ASwZROnx2kfp5rDE2koiSXonw/r0+xcMxUHt91ihjxDzx5s8rS+AL39mT3vK//IJINlAgmEY3FaO0cpL5q4Zc5dBKzgPed6CY6ww+qgaEQT7/awmazhKL8LF5vcp6tbyynLxCi5Wwg3aGIpJ0SwSQ6e4cZCUWpr0pPyeYNjeX0DY7QfGZmY94f33mKYCjCDZcun6fIFofG2iLycrzYk93pDkUk7ZK6+W2MuQP4MuAH7rbWfnvc/k3Ad4AS4BngM9ba8Jj9fwlErLVfSVHc867l7MKPGBpr9LbO68e7aKhJrmJoYDjM9pebuWRdNXVVhZo4NQWvx8O65WXsPdpJf2CE4oLFv2KbyGSmbREYY5YCXwWuAjYBnzLGbBx32H3AXdbadYAD3Jk4t9QY813gj1Ma9QI4N2IoTYmgtCiXFbXF/Pb1tqTvYz/1ajNDwTA3Xdk4z9EtDuuWl+I48XWcRdwsmVtD1wNPWmu7rLWDwEPAbaM7jTGNQL61dkdi073A+xI/3wIcBr6esogXSEvHIKVFORTO4/KU03nbJcs4fXaQg03T374YGArx2IsnOX9VBStqSxYguuxXkOenoaaYI6d7CUdUZU7cK5lEUA+0jnncCixLZr+19vvW2r8Bsm7Adkvn4ILPHxjvLRvjHb6P75q+jv5//OYoQ8EI73vrmgWIbPFY31DGSCjK8RYNJRX3SqaPwAOMvTfhANEZ7J+1ysqFH7ED8fV9WzsDvP0tjVRXz25FrzNdAYqLZl/oraAglyUVBdy4dSU/eeIQEY+H2kkS0+FT3fxmTws3b1vFJefVxa9hjq8PzOl8v9+X9vNh+msoKsyl0nZwqLmXi9fXnJuFXVCQS3UGrO0827+/TJHt8cPiuIbpJJMImoFtYx7XAi3j9tdNsX/WOjsH5mXZxumc7R1ieCRCeYGfjo7+2T2J1/uGEsgzFQgE6YhEeIup5qdPHuYnj1s+cN3aNx0XjcX41oOvUlKQww2XLDsXbyAYntPrA3M6PxSa2+un4nxI7hrWLitlx752jjZ3U1Me//Afff/Tqbq6ePZ/fxkg2+OH7LsGj8eZ1RfoZG4NbQeuM8ZUG2MKgFuBx0Z3WmubgGFjzNbEpo8Aj844kgwyOrY8XR3FY5UX57LZVPPMnpY3jQKKxWI88MRhjrf28/5r1yz4DOjFYmVdCTk+j6qSimtNmwistaeBLwFPAbuB+621LxljHjHGbEkc9iHgm8aYg0ARcM98BbwQTp+Nf+BmQiIAuPWa1eTlePm7B3bTmhjNFE8CR9i+q5m3b1nO5efVpDnK7OX3eVizrDRRtjuU7nBEFlxSXyGttfcD94/bduOYn/cAl01x/ldmGV9aNLX1U5ko85AJqsvy+cIHL+b//vAV/t+PXmV9Yzlnuoc41tLH9VuW8YHr1qjC6ByZhjL2n+jm0KleNq2tSnc4IgtKM4sncLJ9IOlJXAulrrKQz3/wYvJzfRxp7sXjcXjv1av44HVrlQRSoLggh6XVhRw61UMkDf1SIumkm8rjDAXDtHcFMvJWy7LqIr565+XpDmPRWt9QzhMvN9PU1s/l59WmOxyRBaMWwTinzgwQg4xrEcj8q68qoLjAr/pD4jpKBOM0tceHijUqEbiO4zisbyino2eY462aYCbuoUQwzsn2fkoKcygrUhEyN1qzrJQcv4ftO0+lOxSRBaNEME5T2wCNNcXqgHUpv8/D+oZy9h7tPFeBVmSxUyIYIxSO0HJ2kMba9JS2kMywvrEMv8/DYy+eTHcoIgtCiWCM5o5BorEYDUvUP+BmeTk+rjy/lt/ua6Orb25lOkSygRLBGE1tiY7iWiUCt3vb5niB3UfVKhAXUCIY42R7PwW5PqpK51a1U7JfRUkeWy+o5Te7W9QqkEVPiWCME239NNQUqaNYALjpihXEYjF+taMp3aGIzCvNLE4YCoY52T7AjVc0pDsUAByPw2AwPP2Bk1CVhLmrKstn24V1PLO7hRvf0kilWoqySCkRJBxt6SUai7FueVm6QwEgGIqw51DHrM+/aF11CqNxr3ddsYLnXmvl4RdO8PF3rk93OCLzQreGEuzJHjyOw5qlpekORTJIZWke11y0lOf2tmpegSxaSgQJ9lQPK+qKyctRI0ne6OarVpDj9/DQ00fTHYrIvFAiAEZCEY639GXMbSHJLCUFObzrikZ2HznLgSYVpJPFR4kAONrSRyQawygRyCRuuHQ5lSW5PPjkYaIx9cTL4qJEANiT3TgOrF2mRCAT8/u83HrNak62D/DsnpZ0hyOSUkoEwKFTPTQsKdbi7zKlt2ysYd3yMh56+ih9gyPpDkckZVyfCELhKEfVPyBJcByHj77DMDwS4cEnD6c7HJGUcX0iOHq6l1A4imlQIpDp1VcVcuPljfx2Xzv7TnSlOxyRlHB9Inj5UAd+n4eNK8rTHYpkiZuubKSmPJ97HzlIYHj2s79FMoWrE0E0FuNle4YLVlVq/oAkze/z8smbNtLdH+SHj9t0hyMyZ65OBMdO99EzMMIWo3IMMjOrl5Zy89YV/HZfOy/ub093OCJz4upEsMuewed1uGhNVbpDkSx005WNrF5awvf/y9LeHUh3OCKz5tpEEIvF2GXPcP7KSvJzdVtIZs7r8fDpm8/D63G456G9DM2hWqxIOrk2ERxv7aerL8hm3RaSCYyWAZ/uX36+n4/fuJ72rgD/9J/76B8OMRgME46m+wpEkufar8IvHWjH63HYtFa3heTNZloGfPP6Jew8cIZ//vnrbDbVXLaxFp9ampIlXPmXOhQM8+zeVi5eV01hnj/d4cgisL6hjL7BEfaf6Mbv83DZxtp0hySSNFfeGnp692mGgmFuvDwzViOT7Oc4DpdtWMLqpSXsOdLJE7tOpTskkaS5rkUQCkf59c5TbGgsZ0VtSbrDkUXEcRyuOK+WcCTGz589TjAU4dZrVuPRGtiS4VzXIvjtvjZ6B0a48YrGdIcii5DH47DtwjquurCOR3ec5Lu/3E8oHEl3WCJTclWLIByJ8uiOJhpritnYqJISMj88Hof3v20NS8ry+Y9njnG6Y5BP33IedZWRBQWYAAALY0lEQVSF6Q5NZEKuahH8/NnjtHcP8Z5tK3HUXJd55DgON125gv9x24V09Qf5i3t38fSrp7WojWQk1ySCQ6d6eHRHE1dfVKeZxLJgNq2p4s8/cRmr6uMzkL/6/V0ca+lLd1gib+CKRBAYDvOvD++nuiyfD1y3Nt3hiMuUF+fy+Q9s4s6bN9LVF+Svvr+Lu3+yh8PNPekOTQRwQR9B3+AId/9kD939Qf70w5eoyqikxeiIok1rqtj+cjOP7zzFX9/3Cg1Lith6QR2XbayhtDAn3WGKSy3qT8X27gDffHAPPQNB7rr1AlYvLU13SOJy+bk+br5yBTdsWc7zr7fy3N5WfvTEYR544jAr6kq4YFUFZnkZK+s1tFkWTlKJwBhzB/BlwA/cba399rj9m4DvACXAM8BnrLVhY0wDcB+wBLDAh6y1AymMf0KB4RCPvniSx3eeIsfv5Qt3XMzqeiUByRy5OV7edsky3nbJMpo7BnjlUAd7j3by8PMn+AXgOLC0uoglZfnUVRZQX1lIXVUBFSV5FOf7NdhBUmraRGCMWQp8FdgMBIEXjDFPWWv3jznsPuCT1todxpjvAncC/wj8A/AP1toHjDF/BvwZ8CepvoixBodDfOlfdtAXCHH5xhp+/+pVVJXlz+dLirzJaNG6ZJSX5HHdluVct2U5geEQJ9r6aWoboLVzkOaOAXYf7iA6ZrCRz+tQUphDaWEuZUU5lBblUlqUQ3G+n4I8P4V5PsqK8ygt8FOQ58PndUVX4KIQiUbp7B2moiRvQX9vybQIrgeetNZ2ARhjHgJuA/4i8bgRyLfW7kgcfy/w58aY7wBXA+8Zs/03JJcIvBAfjz1ThXl+3nvNaszyMuqr0jduO+ZxKJhDHSOf15Pm87M9fg/5uT4i4dk9x1xfPxKNceD47Nc0fsflDZw6M8jAYJBoNMbA8Aj9gyGGghGGR8IMj0QYCobpDYRo6w4QiUw+LDXX7yUv10eOz0OOz4vf7zn3c47fg8/rwetx8DgOjsfB48T/3/M4Dh5P4mccZtoIyS/IYSgwMuv3ACAWgygxotEYsVjicSx27r/RWAxGt0VjhKMxItEYoXCUaDRGOBr/byQaIxolvi0SjZ8bjRGJRolESeyPEY1GicRiRCMxcBz8Xg8eB7yJ98jrcfB6HTweD77Ez16Pg8/j4PF68Hk857Z5PM6593Z8Cy5GjFAowvBIlOFQmOBIlMBwiK6+YSLRGNdevIx3zqIEzpjPTO9MzksmEdQDrWMetwKXTbN/GVAF9Flrw+O2J6MOoLx8dh/kt11vZnVeqr1r2+o5nb9q2dwmvc31/OU1c7tPne743X6+uFodcDTZg5NJBB5g7NcNB4gmsX/8dsadN5WdwDbiyUPz80VEkuMlngR2zuSkZBJBM/EP5VG1QMu4/XUT7D8DlBpjvNbaSOKYsedNJQg8l+SxIiLyO0m3BEYl0xuxHbjOGFNtjCkAbgUeG91prW0Cho0xWxObPgI8aq0NAc8Ctye2fxR4dKYBiojI/Jo2EVhrTwNfAp4CdgP3W2tfMsY8YozZkjjsQ8A3jTEHgSLgnsT2zwKfMsbsJ96q+HKqL0BERObGiakIloiIq2mAsYiIyykRiIi4nBKBiIjLKRGIiLjcoq4+mg7TFejLVMaY/wO8P/HwV9baLxpjrge+AeQDD1prM37UlzHm74Aqa+3HJyuGmNYAJ2GMuRn4P0Ah8Gtr7f/MtvffGPNh4E8TDx+11n4+G34HxpgS4AXgJmvticne92y4ltlSiyCFxhTouwrYRHzo7Mb0RjW9xB/+DcDFxOPebIz5IPBvwC3ABuBSY8w70xfl9Iwx1wEfG7PpPuAua+064jPe70xLYNMwxqwC/ol4Xa4LgUsS73XWvP+JOUb3ANcAFwHbEn9XGf07MMa8hfjk1XWJx/lM/r5n9LXMhRJBap0r0GetHQRGC/Rlulbgj621I4mJgAeI/49x2Fp7PPGt5z7gfekMcirGmAriSfhriccTFUPM1PjfS/ybZ3Pi/b8dCJBF7z/x0gYe4i0af+JfiMz/HdwJ/Hd+V/XgMiZ437Ps72nGdGsotaYr0JeRrLX7Rn82xqwlfovoW0xcTDBT/TPxiY/LE48nK4aYidYAI8aYXwANwC+BfWRP/Fhr+xOl5g8ST2K/AUbI8Guw1n4SwJhzhSon+7vJpr+nGVOLILWmK9CX0Ywx5wGPA18AjpEl12KM+SRwylr7xJjN2fS78BFvTf434ArgLcAqsid+jDEXAp8AGol/aEaI327MmmtISLaIZjZcS9LUIkit6Qr0ZaxEraifAp9LLCR0DRMXE8xEtwN1xpjdQAXxMicxsif+NmC7tbYDwBjzM+K3HcZW3s3k+AHeATxhrT0DYIy5F/g82fM7GDVZEc3Jti8KahGk1pQF+jKVMWY58HPgDmvtA4nNL8Z3mTXGGC9wBxlaNNBa+3Zr7fnW2k3A/wZ+Ya39AyYohpi2IKf2S+AdxpiyxHv9TuL9S1nx/ifsAa43xhQaYxzgZuK3h7LldzBqwr/7yYprpivIVFMiSKHJCvSlN6qkfB7IA75hjNmd+Gb98cS/nwL7id/7fShdAc7SZMUQM4q19kXgb4mPXtkPNBFf6vXjZMn7b639NfAj4GVgL/HO4r8hS34Ho6y1w0z+vmfVtcyEis6JiLicWgQiIi6nRCAi4nJKBCIiLqdEICLickoEIiIupwllkvGMMZcDfw1UEv/ycor4kNdq4O+tteePO34L8L+stZPWeTLGfBT4o8TDBmAI6Eg8/kPgLxPP/dC48+qBh6y1V07x3F8hXgH1rmSvUSSdlAgkoxljcolPuLrBWvtKYtuHiU/m+YOJzrHW7mKaYn/W2u8D3088373A69bavxvzupOd1wJMmgREspESgWS6AqCM+ASeUT8E+ohXvATAGHMVcD/wASCHREsh8SHfB1xAvCDdXuCj1tqBJF77FmPMF4iXE9hOvFJlA/GkUWSM8RGfCHYTECZe0/6zY5/AGPM54gnrHcBngBXESxU0AqeBD1trWxMlzP8+8fx+4AFr7dcSr/EtYCvxap7HEs83PNH2JK9L5A3URyAZzVrbDXwReMwYc8wY8wPiH4TbiVe3xBhzLfGywDdZa1+Y4Gk2A79HvL78CpIvH1xM/Nv/BuJlH7aO2//ZxHNfBJyfOP720Z3GmC8mXusaa21bYvM24H3W2vXAIPHkAPAD4N+stZuJV6y93hjzfuJF6N4KXJTYd4z4mgWTbReZMbUIJONZa79hjPlX4oueXA38SeLfF4mXAv4l8I/W2r2TPMVj1toggDHmNeKF6ZLxoLU2AgSMMYeBJcT7J0ZdD/zAWjuUeHx74jW+Avw+8W/+N1tre8ac87S1ti/x86tAhTGmMHFtFcaYv0zsKyK+SNCviRefe9EY81/AT621LxljyibanuR1ibyBWgSS0YwxW40xX7DW9ltrf2mt/SJwHvHqon7it2TeDnwssdrURIbG/BwjXkI4GaFpzgszpjSxMabGGDNaofII8X6Kf0h8aE8Vizfx3yuttZsSxfMuB76WSCIXEe8cjwAPGmM+O9n2JK9L5A2UCCTTdQBfTvQBjKoDSomPImpL3A76PPCDRNXXhbIduMMYk2uM8RAvFPfBxL691tqfAk8AU65bnWgh7CAxiimROJ4n3kdxU+I5XrDWfoV4B/elk21P7eWJWygRSEaz1h4ivpbv1xJ9BPuBHxPvJ7Bjjvse8UqRX1/A8P6ZeLXNl4HXiK9aNb4i5eeAqxP3+6dyB3B54tbVi8CPrLU/JD46ah/wujFmF/E+iz+fYrvIjKn6qIiIy6lFICLickoEIiIup0QgIuJySgQiIi6nRCAi4nJKBCIiLqdEICLickoEIiIu9/8BbqkiqQQoQwkAAAAASUVORK5CYII=\n",
      "text/plain": [
       "<Figure size 432x288 with 1 Axes>"
      ]
     },
     "metadata": {
      "needs_background": "light"
     },
     "output_type": "display_data"
    }
   ],
   "source": [
    "sns.distplot(pima_df.SkinThickness)"
   ]
  },
  {
   "cell_type": "code",
   "execution_count": 134,
   "metadata": {},
   "outputs": [
    {
     "data": {
      "text/plain": [
       "<matplotlib.axes._subplots.AxesSubplot at 0x1c25885dd8>"
      ]
     },
     "execution_count": 134,
     "metadata": {},
     "output_type": "execute_result"
    },
    {
     "data": {
      "image/png": "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\n",
      "text/plain": [
       "<Figure size 432x288 with 1 Axes>"
      ]
     },
     "metadata": {
      "needs_background": "light"
     },
     "output_type": "display_data"
    }
   ],
   "source": [
    "sns.distplot(pima_df.Insulin)"
   ]
  },
  {
   "cell_type": "code",
   "execution_count": 135,
   "metadata": {},
   "outputs": [
    {
     "data": {
      "text/plain": [
       "<matplotlib.axes._subplots.AxesSubplot at 0x1c25925be0>"
      ]
     },
     "execution_count": 135,
     "metadata": {},
     "output_type": "execute_result"
    },
    {
     "data": {
      "image/png": "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\n",
      "text/plain": [
       "<Figure size 432x288 with 1 Axes>"
      ]
     },
     "metadata": {
      "needs_background": "light"
     },
     "output_type": "display_data"
    }
   ],
   "source": [
    "sns.distplot(pima_df.BMI)"
   ]
  },
  {
   "cell_type": "code",
   "execution_count": 136,
   "metadata": {},
   "outputs": [
    {
     "data": {
      "text/plain": [
       "<matplotlib.axes._subplots.AxesSubplot at 0x1c25a37a20>"
      ]
     },
     "execution_count": 136,
     "metadata": {},
     "output_type": "execute_result"
    },
    {
     "data": {
      "image/png": "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\n",
      "text/plain": [
       "<Figure size 432x288 with 1 Axes>"
      ]
     },
     "metadata": {
      "needs_background": "light"
     },
     "output_type": "display_data"
    }
   ],
   "source": [
    "sns.distplot(pima_df.DiabetesPedigreeFunction)"
   ]
  },
  {
   "cell_type": "code",
   "execution_count": 137,
   "metadata": {},
   "outputs": [
    {
     "data": {
      "text/plain": [
       "<matplotlib.axes._subplots.AxesSubplot at 0x1c25b4cb00>"
      ]
     },
     "execution_count": 137,
     "metadata": {},
     "output_type": "execute_result"
    },
    {
     "data": {
      "image/png": "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\n",
      "text/plain": [
       "<Figure size 432x288 with 1 Axes>"
      ]
     },
     "metadata": {
      "needs_background": "light"
     },
     "output_type": "display_data"
    }
   ],
   "source": [
    "sns.distplot(pima_df.Age)"
   ]
  },
  {
   "cell_type": "code",
   "execution_count": 138,
   "metadata": {
    "scrolled": true
   },
   "outputs": [
    {
     "name": "stdout",
     "output_type": "stream",
     "text": [
      "The number of zeros (or disguised missing data) in the Insulin column is:\n",
      "371\n",
      "The number of zeros (or disguised missing data) in the Glucose column is:\n",
      "5\n",
      "The number of zeros (or disguised missing data) in the Blood Pressure column is:\n",
      "35\n",
      "The number of zeros (or disguised missing data) in the SkinThickness column is:\n",
      "226\n",
      "The number of zeros (or disguised missing data) in the BMI column is:\n",
      "11\n",
      "The number of zeros (or disguised missing data) in the Diabetes Pedigree Function column is:\n",
      "0\n"
     ]
    }
   ],
   "source": [
    "print('The number of zeros (or disguised missing data) in the Insulin column is:')\n",
    "print((pima_df['Insulin'] == 0).astype(int).sum())\n",
    "\n",
    "print('The number of zeros (or disguised missing data) in the Glucose column is:')\n",
    "print((pima_df['Glucose'] == 0).astype(int).sum())\n",
    "\n",
    "print('The number of zeros (or disguised missing data) in the Blood Pressure column is:')\n",
    "print((pima_df['BloodPressure'] == 0).astype(int).sum())\n",
    "\n",
    "print('The number of zeros (or disguised missing data) in the SkinThickness column is:')\n",
    "print((pima_df['SkinThickness'] == 0).astype(int).sum())\n",
    "\n",
    "print('The number of zeros (or disguised missing data) in the BMI column is:')\n",
    "print((pima_df['BMI'] == 0).astype(int).sum())\n",
    "\n",
    "print('The number of zeros (or disguised missing data) in the Diabetes Pedigree Function column is:')\n",
    "print((pima_df['DiabetesPedigreeFunction'] == 0).astype(int).sum())"
   ]
  },
  {
   "cell_type": "code",
   "execution_count": 139,
   "metadata": {},
   "outputs": [],
   "source": [
    "pima_df['Outcome'] = pima_df['Outcome'].astype(str).str[0].astype(int)"
   ]
  },
  {
   "cell_type": "code",
   "execution_count": 140,
   "metadata": {},
   "outputs": [
    {
     "data": {
      "text/html": [
       "<div>\n",
       "<style scoped>\n",
       "    .dataframe tbody tr th:only-of-type {\n",
       "        vertical-align: middle;\n",
       "    }\n",
       "\n",
       "    .dataframe tbody tr th {\n",
       "        vertical-align: top;\n",
       "    }\n",
       "\n",
       "    .dataframe thead th {\n",
       "        text-align: right;\n",
       "    }\n",
       "</style>\n",
       "<table border=\"1\" class=\"dataframe\">\n",
       "  <thead>\n",
       "    <tr style=\"text-align: right;\">\n",
       "      <th></th>\n",
       "      <th>Pregnancies</th>\n",
       "      <th>Glucose</th>\n",
       "      <th>BloodPressure</th>\n",
       "      <th>SkinThickness</th>\n",
       "      <th>Insulin</th>\n",
       "      <th>BMI</th>\n",
       "      <th>DiabetesPedigreeFunction</th>\n",
       "      <th>Age</th>\n",
       "      <th>Outcome</th>\n",
       "    </tr>\n",
       "  </thead>\n",
       "  <tbody>\n",
       "    <tr>\n",
       "      <th>0</th>\n",
       "      <td>6</td>\n",
       "      <td>148</td>\n",
       "      <td>72</td>\n",
       "      <td>35</td>\n",
       "      <td>0</td>\n",
       "      <td>33.6</td>\n",
       "      <td>0.627</td>\n",
       "      <td>50</td>\n",
       "      <td>1</td>\n",
       "    </tr>\n",
       "    <tr>\n",
       "      <th>1</th>\n",
       "      <td>1</td>\n",
       "      <td>85</td>\n",
       "      <td>66</td>\n",
       "      <td>29</td>\n",
       "      <td>0</td>\n",
       "      <td>26.6</td>\n",
       "      <td>0.351</td>\n",
       "      <td>31</td>\n",
       "      <td>0</td>\n",
       "    </tr>\n",
       "    <tr>\n",
       "      <th>2</th>\n",
       "      <td>8</td>\n",
       "      <td>183</td>\n",
       "      <td>64</td>\n",
       "      <td>0</td>\n",
       "      <td>0</td>\n",
       "      <td>23.3</td>\n",
       "      <td>0.672</td>\n",
       "      <td>32</td>\n",
       "      <td>1</td>\n",
       "    </tr>\n",
       "    <tr>\n",
       "      <th>3</th>\n",
       "      <td>1</td>\n",
       "      <td>89</td>\n",
       "      <td>66</td>\n",
       "      <td>23</td>\n",
       "      <td>94</td>\n",
       "      <td>28.1</td>\n",
       "      <td>0.167</td>\n",
       "      <td>21</td>\n",
       "      <td>0</td>\n",
       "    </tr>\n",
       "    <tr>\n",
       "      <th>4</th>\n",
       "      <td>0</td>\n",
       "      <td>137</td>\n",
       "      <td>40</td>\n",
       "      <td>35</td>\n",
       "      <td>168</td>\n",
       "      <td>43.1</td>\n",
       "      <td>2.288</td>\n",
       "      <td>33</td>\n",
       "      <td>1</td>\n",
       "    </tr>\n",
       "  </tbody>\n",
       "</table>\n",
       "</div>"
      ],
      "text/plain": [
       "   Pregnancies  Glucose  BloodPressure  SkinThickness  Insulin   BMI  \\\n",
       "0            6      148             72             35        0  33.6   \n",
       "1            1       85             66             29        0  26.6   \n",
       "2            8      183             64              0        0  23.3   \n",
       "3            1       89             66             23       94  28.1   \n",
       "4            0      137             40             35      168  43.1   \n",
       "\n",
       "   DiabetesPedigreeFunction  Age  Outcome  \n",
       "0                     0.627   50        1  \n",
       "1                     0.351   31        0  \n",
       "2                     0.672   32        1  \n",
       "3                     0.167   21        0  \n",
       "4                     2.288   33        1  "
      ]
     },
     "metadata": {},
     "output_type": "display_data"
    },
    {
     "name": "stdout",
     "output_type": "stream",
     "text": [
      "<class 'pandas.core.frame.DataFrame'>\n",
      "RangeIndex: 764 entries, 0 to 763\n",
      "Data columns (total 9 columns):\n",
      "Pregnancies                 764 non-null int64\n",
      "Glucose                     764 non-null int64\n",
      "BloodPressure               764 non-null int64\n",
      "SkinThickness               764 non-null int64\n",
      "Insulin                     764 non-null int64\n",
      "BMI                         764 non-null float64\n",
      "DiabetesPedigreeFunction    764 non-null float64\n",
      "Age                         764 non-null int64\n",
      "Outcome                     764 non-null int64\n",
      "dtypes: float64(2), int64(7)\n",
      "memory usage: 53.8 KB\n"
     ]
    }
   ],
   "source": [
    "display(pima_df.head())\n",
    "pima_df.info()"
   ]
  },
  {
   "cell_type": "markdown",
   "metadata": {},
   "source": [
    "**Answer Comments** It seems that there are no missing (Null) values at first glance; however, upon closer inspection, one can see that several columns have many zeros where zero wouldn't make sense (for example, someone's skin thickness cannot be zero). Additionally, the outcome variable needed to be cleaned because there were some values that were not 0 or 1, which didn't make sense either. Finally, when looking at the distributions of the predictors, some look bimodal, but will probably not be after we treat the zero values as Null values, and it'll be important to recognize that the distributions of the variables are not all normal."
   ]
  },
  {
   "cell_type": "markdown",
   "metadata": {},
   "source": [
    "**2.2** Split the dataset into a 75-25 train-test split (use `random_state=9001`). Fit a logistic regression classifier to the training set and report the  accuracy of the classifier on the test set. You should use $L_2$ regularization in logistic regression, with the regularization parameter tuned using cross-validation (`LogisticRegressionCV`).  Report the overall classification rate."
   ]
  },
  {
   "cell_type": "code",
   "execution_count": 141,
   "metadata": {},
   "outputs": [
    {
     "name": "stdout",
     "output_type": "stream",
     "text": [
      "(396, 8) (133, 8) (396,) (133,)\n"
     ]
    }
   ],
   "source": [
    "#drop the missing values\n",
    "cols = [\"Glucose\",\"BloodPressure\",\"SkinThickness\",\"BMI\"]\n",
    "pima_df[cols] = pima_df[cols].replace({0:np.nan})\n",
    "pima_df = pima_df.dropna()\n",
    "\n",
    "#define X & Y\n",
    "X = pima_df.drop('Outcome', axis=1)\n",
    "Y = pima_df['Outcome']\n",
    "\n",
    "# Splitting into train and test\n",
    "x_train, x_test, y_train, y_test = train_test_split(X, Y, test_size=0.25, random_state=9001)\n",
    "\n",
    "# Re-shaping data\n",
    "#x_train, y_train = x_train.values.reshape(-1,1), y_train.values\n",
    "#x_test, y_test = x_test.values.reshape(-1,1), y_test.values\n",
    "print(x_train.shape, x_test.shape, y_train.shape, y_test.shape)"
   ]
  },
  {
   "cell_type": "code",
   "execution_count": 142,
   "metadata": {},
   "outputs": [],
   "source": [
    "#from sklearn.preprocessing import MinMaxScaler\n",
    "#def scale_data(df):\n",
    "#    scaler = MinMaxScaler()\n",
    "#    df_fit = scaler.fit(x_train)\n",
    "#    df_transform = scaler.transform(df)\n",
    "#    scaled_df = pd.DataFrame(df_transform, columns = df.columns.values)\n",
    "#    return scaled_df"
   ]
  },
  {
   "cell_type": "code",
   "execution_count": 143,
   "metadata": {},
   "outputs": [],
   "source": [
    "#x_train = scale_data(x_train)\n",
    "#x_test = scale_data(x_test)\n",
    "#display(x_train.describe())\n",
    "#display(y_train.describe())"
   ]
  },
  {
   "cell_type": "code",
   "execution_count": 144,
   "metadata": {
    "scrolled": false
   },
   "outputs": [
    {
     "name": "stdout",
     "output_type": "stream",
     "text": [
      "Training Set Accuracy: 80.8080808080808%\n",
      "Testing Set Accuracy: 73.68421052631578%\n",
      "Model Coefficients:\n",
      "[[-5.24894415e+00  1.33947030e-01  4.01245657e-02  7.32528901e-04\n",
      "   1.00541641e-02  2.29345509e-04  6.75711781e-02  1.71187665e+00\n",
      "   2.06553385e-02]]\n"
     ]
    }
   ],
   "source": [
    "import statsmodels.api as sm\n",
    "from sklearn.linear_model import LogisticRegression\n",
    "from sklearn.linear_model import LogisticRegressionCV\n",
    "\n",
    "#Add constant to x_train and x_test\n",
    "x_train_cst = sm.add_constant(x_train)\n",
    "x_test_cst = sm.add_constant(x_test)\n",
    "\n",
    "y_train = list(y_train)\n",
    "y_test = list(y_test)\n",
    "\n",
    "#training\n",
    "logreg = LogisticRegression(C=1000000)\n",
    "logreg.fit(x_train_cst, y_train)\n",
    "\n",
    "#Predict\n",
    "y_pred_train = logreg.predict(x_train_cst)\n",
    "y_pred_test = logreg.predict(x_test_cst)\n",
    "\n",
    "#Perfromance Evaluation\n",
    "train_score = accuracy_score(y_train, y_pred_train)*100\n",
    "test_score = accuracy_score(y_test, y_pred_test)*100\n",
    "\n",
    "print(\"Training Set Accuracy:\",str(train_score)+'%')\n",
    "print(\"Testing Set Accuracy:\",str(test_score)+'%')\n",
    "print(\"Model Coefficients:\")\n",
    "print(logreg.coef_)"
   ]
  },
  {
   "cell_type": "code",
   "execution_count": 145,
   "metadata": {},
   "outputs": [
    {
     "name": "stdout",
     "output_type": "stream",
     "text": [
      "Training Set Accuracy of Model: 81.81818181818183%\n",
      "Testing Set Accuracy of Model: 66.9172932330827%\n",
      "Model Coefficients: [[0.00648657 0.01747151 0.00430215 0.00799617 0.00070832 0.00910086\n",
      "  0.00085338 0.01216845]]\n"
     ]
    }
   ],
   "source": [
    "clf = LogisticRegressionCV(cv=5, random_state=9001,\n",
    "                            multi_class='multinomial').fit(x_train, y_train)\n",
    "\n",
    "clf_y_pred_train = clf.predict(x_train)\n",
    "clf_y_pred_test = clf.predict(x_test)\n",
    "clf_train_score = accuracy_score(y_train, clf_y_pred_train)*100\n",
    "clf_test_score = accuracy_score(y_test, clf_y_pred_test)*100\n",
    "\n",
    "print(\"Training Set Accuracy of Model:\",str(clf_train_score)+'%')\n",
    "print(\"Testing Set Accuracy of Model:\",str(clf_test_score)+'%')\n",
    "print(\"Model Coefficients:\", str(clf.coef_))"
   ]
  },
  {
   "cell_type": "markdown",
   "metadata": {},
   "source": [
    "**2.3** Restart with a fresh copy of the whole dataset and impute the missing data via mean imputation.  Split the data 75-25 (use `random_state=9001`) and fit a regularized logistic regression model.  Report the overall classification rate. "
   ]
  },
  {
   "cell_type": "code",
   "execution_count": 147,
   "metadata": {
    "scrolled": true
   },
   "outputs": [
    {
     "data": {
      "text/html": [
       "<div>\n",
       "<style scoped>\n",
       "    .dataframe tbody tr th:only-of-type {\n",
       "        vertical-align: middle;\n",
       "    }\n",
       "\n",
       "    .dataframe tbody tr th {\n",
       "        vertical-align: top;\n",
       "    }\n",
       "\n",
       "    .dataframe thead th {\n",
       "        text-align: right;\n",
       "    }\n",
       "</style>\n",
       "<table border=\"1\" class=\"dataframe\">\n",
       "  <thead>\n",
       "    <tr style=\"text-align: right;\">\n",
       "      <th></th>\n",
       "      <th>Pregnancies</th>\n",
       "      <th>Glucose</th>\n",
       "      <th>BloodPressure</th>\n",
       "      <th>SkinThickness</th>\n",
       "      <th>Insulin</th>\n",
       "      <th>BMI</th>\n",
       "      <th>DiabetesPedigreeFunction</th>\n",
       "      <th>Age</th>\n",
       "      <th>Outcome</th>\n",
       "    </tr>\n",
       "  </thead>\n",
       "  <tbody>\n",
       "    <tr>\n",
       "      <th>0</th>\n",
       "      <td>6</td>\n",
       "      <td>148.0</td>\n",
       "      <td>72.0</td>\n",
       "      <td>35.0</td>\n",
       "      <td>0</td>\n",
       "      <td>33.6</td>\n",
       "      <td>0.627</td>\n",
       "      <td>50</td>\n",
       "      <td>1</td>\n",
       "    </tr>\n",
       "    <tr>\n",
       "      <th>1</th>\n",
       "      <td>1</td>\n",
       "      <td>85.0</td>\n",
       "      <td>66.0</td>\n",
       "      <td>29.0</td>\n",
       "      <td>0</td>\n",
       "      <td>26.6</td>\n",
       "      <td>0.351</td>\n",
       "      <td>31</td>\n",
       "      <td>0</td>\n",
       "    </tr>\n",
       "    <tr>\n",
       "      <th>2</th>\n",
       "      <td>8</td>\n",
       "      <td>183.0</td>\n",
       "      <td>64.0</td>\n",
       "      <td>NaN</td>\n",
       "      <td>0</td>\n",
       "      <td>23.3</td>\n",
       "      <td>0.672</td>\n",
       "      <td>32</td>\n",
       "      <td>1</td>\n",
       "    </tr>\n",
       "    <tr>\n",
       "      <th>3</th>\n",
       "      <td>1</td>\n",
       "      <td>89.0</td>\n",
       "      <td>66.0</td>\n",
       "      <td>23.0</td>\n",
       "      <td>94</td>\n",
       "      <td>28.1</td>\n",
       "      <td>0.167</td>\n",
       "      <td>21</td>\n",
       "      <td>0</td>\n",
       "    </tr>\n",
       "    <tr>\n",
       "      <th>4</th>\n",
       "      <td>0</td>\n",
       "      <td>137.0</td>\n",
       "      <td>40.0</td>\n",
       "      <td>35.0</td>\n",
       "      <td>168</td>\n",
       "      <td>43.1</td>\n",
       "      <td>2.288</td>\n",
       "      <td>33</td>\n",
       "      <td>1</td>\n",
       "    </tr>\n",
       "  </tbody>\n",
       "</table>\n",
       "</div>"
      ],
      "text/plain": [
       "   Pregnancies  Glucose  BloodPressure  SkinThickness  Insulin   BMI  \\\n",
       "0            6    148.0           72.0           35.0        0  33.6   \n",
       "1            1     85.0           66.0           29.0        0  26.6   \n",
       "2            8    183.0           64.0            NaN        0  23.3   \n",
       "3            1     89.0           66.0           23.0       94  28.1   \n",
       "4            0    137.0           40.0           35.0      168  43.1   \n",
       "\n",
       "   DiabetesPedigreeFunction  Age  Outcome  \n",
       "0                     0.627   50        1  \n",
       "1                     0.351   31        0  \n",
       "2                     0.672   32        1  \n",
       "3                     0.167   21        0  \n",
       "4                     2.288   33        1  "
      ]
     },
     "execution_count": 147,
     "metadata": {},
     "output_type": "execute_result"
    }
   ],
   "source": [
    "pima_df = pd.read_csv('data/pima-indians-diabetes.csv')\n",
    "pima_df['Outcome'] = pima_df['Outcome'].astype(str).str[0].astype(int)\n",
    "\n",
    "cols = [\"Glucose\",\"BloodPressure\",\"SkinThickness\",\"BMI\"]\n",
    "pima_df[cols] = pima_df[cols].replace({0:np.nan})\n",
    "\n",
    "pima_df.head()"
   ]
  },
  {
   "cell_type": "code",
   "execution_count": 148,
   "metadata": {},
   "outputs": [],
   "source": [
    "#Impute missing data via mean imputation\n",
    "from sklearn.impute import SimpleImputer\n",
    "\n",
    "imp = SimpleImputer(copy=True, missing_values=np.nan, strategy='mean')"
   ]
  },
  {
   "cell_type": "code",
   "execution_count": 149,
   "metadata": {},
   "outputs": [
    {
     "data": {
      "text/plain": [
       "array([[6.00e+00, 1.48e+02, 7.20e+01, ..., 6.27e-01, 5.00e+01, 1.00e+00],\n",
       "       [1.00e+00, 8.50e+01, 6.60e+01, ..., 3.51e-01, 3.10e+01, 0.00e+00],\n",
       "       [8.00e+00, 1.83e+02, 6.40e+01, ..., 6.72e-01, 3.20e+01, 1.00e+00],\n",
       "       ...,\n",
       "       [9.00e+00, 1.70e+02, 7.40e+01, ..., 4.03e-01, 4.30e+01, 1.00e+00],\n",
       "       [9.00e+00, 8.90e+01, 6.20e+01, ..., 1.42e-01, 3.30e+01, 0.00e+00],\n",
       "       [1.00e+01, 1.01e+02, 7.60e+01, ..., 1.71e-01, 6.30e+01, 0.00e+00]])"
      ]
     },
     "execution_count": 149,
     "metadata": {},
     "output_type": "execute_result"
    }
   ],
   "source": [
    "imp.fit(pima_df) \n",
    "pima_df = imp.transform(pima_df)\n",
    "pima_df"
   ]
  },
  {
   "cell_type": "code",
   "execution_count": 150,
   "metadata": {
    "scrolled": true
   },
   "outputs": [
    {
     "data": {
      "text/html": [
       "<div>\n",
       "<style scoped>\n",
       "    .dataframe tbody tr th:only-of-type {\n",
       "        vertical-align: middle;\n",
       "    }\n",
       "\n",
       "    .dataframe tbody tr th {\n",
       "        vertical-align: top;\n",
       "    }\n",
       "\n",
       "    .dataframe thead th {\n",
       "        text-align: right;\n",
       "    }\n",
       "</style>\n",
       "<table border=\"1\" class=\"dataframe\">\n",
       "  <thead>\n",
       "    <tr style=\"text-align: right;\">\n",
       "      <th></th>\n",
       "      <th>0</th>\n",
       "      <th>1</th>\n",
       "      <th>2</th>\n",
       "      <th>3</th>\n",
       "      <th>4</th>\n",
       "      <th>5</th>\n",
       "      <th>6</th>\n",
       "      <th>7</th>\n",
       "      <th>8</th>\n",
       "    </tr>\n",
       "  </thead>\n",
       "  <tbody>\n",
       "    <tr>\n",
       "      <th>0</th>\n",
       "      <td>6.0</td>\n",
       "      <td>148.0</td>\n",
       "      <td>72.0</td>\n",
       "      <td>35.000000</td>\n",
       "      <td>0.0</td>\n",
       "      <td>33.6</td>\n",
       "      <td>0.627</td>\n",
       "      <td>50.0</td>\n",
       "      <td>1.0</td>\n",
       "    </tr>\n",
       "    <tr>\n",
       "      <th>1</th>\n",
       "      <td>1.0</td>\n",
       "      <td>85.0</td>\n",
       "      <td>66.0</td>\n",
       "      <td>29.000000</td>\n",
       "      <td>0.0</td>\n",
       "      <td>26.6</td>\n",
       "      <td>0.351</td>\n",
       "      <td>31.0</td>\n",
       "      <td>0.0</td>\n",
       "    </tr>\n",
       "    <tr>\n",
       "      <th>2</th>\n",
       "      <td>8.0</td>\n",
       "      <td>183.0</td>\n",
       "      <td>64.0</td>\n",
       "      <td>29.165428</td>\n",
       "      <td>0.0</td>\n",
       "      <td>23.3</td>\n",
       "      <td>0.672</td>\n",
       "      <td>32.0</td>\n",
       "      <td>1.0</td>\n",
       "    </tr>\n",
       "    <tr>\n",
       "      <th>3</th>\n",
       "      <td>1.0</td>\n",
       "      <td>89.0</td>\n",
       "      <td>66.0</td>\n",
       "      <td>23.000000</td>\n",
       "      <td>94.0</td>\n",
       "      <td>28.1</td>\n",
       "      <td>0.167</td>\n",
       "      <td>21.0</td>\n",
       "      <td>0.0</td>\n",
       "    </tr>\n",
       "    <tr>\n",
       "      <th>4</th>\n",
       "      <td>0.0</td>\n",
       "      <td>137.0</td>\n",
       "      <td>40.0</td>\n",
       "      <td>35.000000</td>\n",
       "      <td>168.0</td>\n",
       "      <td>43.1</td>\n",
       "      <td>2.288</td>\n",
       "      <td>33.0</td>\n",
       "      <td>1.0</td>\n",
       "    </tr>\n",
       "  </tbody>\n",
       "</table>\n",
       "</div>"
      ],
      "text/plain": [
       "     0      1     2          3      4     5      6     7    8\n",
       "0  6.0  148.0  72.0  35.000000    0.0  33.6  0.627  50.0  1.0\n",
       "1  1.0   85.0  66.0  29.000000    0.0  26.6  0.351  31.0  0.0\n",
       "2  8.0  183.0  64.0  29.165428    0.0  23.3  0.672  32.0  1.0\n",
       "3  1.0   89.0  66.0  23.000000   94.0  28.1  0.167  21.0  0.0\n",
       "4  0.0  137.0  40.0  35.000000  168.0  43.1  2.288  33.0  1.0"
      ]
     },
     "metadata": {},
     "output_type": "display_data"
    }
   ],
   "source": [
    "pima_df = pd.DataFrame(data=pima_df)\n",
    "display(pima_df.head())"
   ]
  },
  {
   "cell_type": "code",
   "execution_count": 151,
   "metadata": {},
   "outputs": [],
   "source": [
    "X = pima_df.drop(8, axis=1)\n",
    "Y = pima_df[8]\n",
    "\n",
    "# Splitting into train and test\n",
    "x_train, x_test, y_train, y_test = train_test_split(X, Y, test_size=0.25, random_state=9001)"
   ]
  },
  {
   "cell_type": "code",
   "execution_count": 153,
   "metadata": {},
   "outputs": [
    {
     "name": "stdout",
     "output_type": "stream",
     "text": [
      "Training Set Accuracy of Model: 77.13787085514834%\n",
      "Testing Set Accuracy of Model: 76.96335078534031%\n",
      "CLF2 Model Coefficients: [[ 0.07533423  0.02041884 -0.00649523 -0.00431183 -0.00084446  0.05415994\n",
      "   0.54068273  0.00726895]]\n"
     ]
    }
   ],
   "source": [
    "#Add constant to x_train and x_test\n",
    "x_train_cst = sm.add_constant(x_train)\n",
    "x_test_cst = sm.add_constant(x_test)\n",
    "\n",
    "#Training\n",
    "clf2 = LogisticRegressionCV(cv=5, random_state=9001,\n",
    "                            multi_class='multinomial').fit(x_train, y_train)\n",
    "\n",
    "clf2_y_pred_train = clf2.predict(x_train)\n",
    "clf2_y_pred_test = clf2.predict(x_test)\n",
    "clf2_train_score = accuracy_score(y_train, clf2_y_pred_train)*100\n",
    "clf2_test_score = accuracy_score(y_test, clf2_y_pred_test)*100\n",
    "\n",
    "print(\"Training Set Accuracy of Model:\",str(clf2_train_score)+'%')\n",
    "print(\"Testing Set Accuracy of Model:\",str(clf2_test_score)+'%')\n",
    "print(\"CLF2 Model Coefficients:\", str(clf2.coef_))"
   ]
  },
  {
   "cell_type": "markdown",
   "metadata": {},
   "source": [
    "**2.4** Again restart with a fresh copy of the whole dataset and impute the missing data via a model-based imputation method. Once again split the data 75-25 (same `random_state=9001`) and fit a regularized logistic regression model.  Report the overall classification rate."
   ]
  },
  {
   "cell_type": "code",
   "execution_count": 154,
   "metadata": {},
   "outputs": [
    {
     "data": {
      "text/html": [
       "<div>\n",
       "<style scoped>\n",
       "    .dataframe tbody tr th:only-of-type {\n",
       "        vertical-align: middle;\n",
       "    }\n",
       "\n",
       "    .dataframe tbody tr th {\n",
       "        vertical-align: top;\n",
       "    }\n",
       "\n",
       "    .dataframe thead th {\n",
       "        text-align: right;\n",
       "    }\n",
       "</style>\n",
       "<table border=\"1\" class=\"dataframe\">\n",
       "  <thead>\n",
       "    <tr style=\"text-align: right;\">\n",
       "      <th></th>\n",
       "      <th>Pregnancies</th>\n",
       "      <th>Glucose</th>\n",
       "      <th>BloodPressure</th>\n",
       "      <th>SkinThickness</th>\n",
       "      <th>Insulin</th>\n",
       "      <th>BMI</th>\n",
       "      <th>DiabetesPedigreeFunction</th>\n",
       "      <th>Age</th>\n",
       "      <th>Outcome</th>\n",
       "    </tr>\n",
       "  </thead>\n",
       "  <tbody>\n",
       "    <tr>\n",
       "      <th>0</th>\n",
       "      <td>6</td>\n",
       "      <td>148.0</td>\n",
       "      <td>72.0</td>\n",
       "      <td>35.0</td>\n",
       "      <td>0</td>\n",
       "      <td>33.6</td>\n",
       "      <td>0.627</td>\n",
       "      <td>50</td>\n",
       "      <td>1</td>\n",
       "    </tr>\n",
       "    <tr>\n",
       "      <th>1</th>\n",
       "      <td>1</td>\n",
       "      <td>85.0</td>\n",
       "      <td>66.0</td>\n",
       "      <td>29.0</td>\n",
       "      <td>0</td>\n",
       "      <td>26.6</td>\n",
       "      <td>0.351</td>\n",
       "      <td>31</td>\n",
       "      <td>0</td>\n",
       "    </tr>\n",
       "    <tr>\n",
       "      <th>2</th>\n",
       "      <td>8</td>\n",
       "      <td>183.0</td>\n",
       "      <td>64.0</td>\n",
       "      <td>NaN</td>\n",
       "      <td>0</td>\n",
       "      <td>23.3</td>\n",
       "      <td>0.672</td>\n",
       "      <td>32</td>\n",
       "      <td>1</td>\n",
       "    </tr>\n",
       "    <tr>\n",
       "      <th>3</th>\n",
       "      <td>1</td>\n",
       "      <td>89.0</td>\n",
       "      <td>66.0</td>\n",
       "      <td>23.0</td>\n",
       "      <td>94</td>\n",
       "      <td>28.1</td>\n",
       "      <td>0.167</td>\n",
       "      <td>21</td>\n",
       "      <td>0</td>\n",
       "    </tr>\n",
       "    <tr>\n",
       "      <th>4</th>\n",
       "      <td>0</td>\n",
       "      <td>137.0</td>\n",
       "      <td>40.0</td>\n",
       "      <td>35.0</td>\n",
       "      <td>168</td>\n",
       "      <td>43.1</td>\n",
       "      <td>2.288</td>\n",
       "      <td>33</td>\n",
       "      <td>1</td>\n",
       "    </tr>\n",
       "  </tbody>\n",
       "</table>\n",
       "</div>"
      ],
      "text/plain": [
       "   Pregnancies  Glucose  BloodPressure  SkinThickness  Insulin   BMI  \\\n",
       "0            6    148.0           72.0           35.0        0  33.6   \n",
       "1            1     85.0           66.0           29.0        0  26.6   \n",
       "2            8    183.0           64.0            NaN        0  23.3   \n",
       "3            1     89.0           66.0           23.0       94  28.1   \n",
       "4            0    137.0           40.0           35.0      168  43.1   \n",
       "\n",
       "   DiabetesPedigreeFunction  Age  Outcome  \n",
       "0                     0.627   50        1  \n",
       "1                     0.351   31        0  \n",
       "2                     0.672   32        1  \n",
       "3                     0.167   21        0  \n",
       "4                     2.288   33        1  "
      ]
     },
     "execution_count": 154,
     "metadata": {},
     "output_type": "execute_result"
    }
   ],
   "source": [
    "pima_df = pd.read_csv('data/pima-indians-diabetes.csv')\n",
    "pima_df['Outcome'] = pima_df['Outcome'].astype(str).str[0].astype(int)\n",
    "\n",
    "cols = [\"Glucose\",\"BloodPressure\",\"SkinThickness\",\"BMI\"]\n",
    "pima_df[cols] = pima_df[cols].replace({0:np.nan})\n",
    "\n",
    "pima_df.head()"
   ]
  },
  {
   "cell_type": "code",
   "execution_count": 155,
   "metadata": {
    "scrolled": true
   },
   "outputs": [
    {
     "data": {
      "text/html": [
       "<div>\n",
       "<style scoped>\n",
       "    .dataframe tbody tr th:only-of-type {\n",
       "        vertical-align: middle;\n",
       "    }\n",
       "\n",
       "    .dataframe tbody tr th {\n",
       "        vertical-align: top;\n",
       "    }\n",
       "\n",
       "    .dataframe thead th {\n",
       "        text-align: right;\n",
       "    }\n",
       "</style>\n",
       "<table border=\"1\" class=\"dataframe\">\n",
       "  <thead>\n",
       "    <tr style=\"text-align: right;\">\n",
       "      <th></th>\n",
       "      <th>Pregnancies</th>\n",
       "      <th>Glucose</th>\n",
       "      <th>BloodPressure</th>\n",
       "      <th>SkinThickness</th>\n",
       "      <th>Insulin</th>\n",
       "      <th>BMI</th>\n",
       "      <th>DiabetesPedigreeFunction</th>\n",
       "      <th>Age</th>\n",
       "      <th>Outcome</th>\n",
       "    </tr>\n",
       "  </thead>\n",
       "  <tbody>\n",
       "    <tr>\n",
       "      <th>0</th>\n",
       "      <td>6</td>\n",
       "      <td>148.0</td>\n",
       "      <td>72.0</td>\n",
       "      <td>35.0</td>\n",
       "      <td>0</td>\n",
       "      <td>33.6</td>\n",
       "      <td>0.627</td>\n",
       "      <td>50</td>\n",
       "      <td>1</td>\n",
       "    </tr>\n",
       "    <tr>\n",
       "      <th>1</th>\n",
       "      <td>1</td>\n",
       "      <td>85.0</td>\n",
       "      <td>66.0</td>\n",
       "      <td>29.0</td>\n",
       "      <td>0</td>\n",
       "      <td>26.6</td>\n",
       "      <td>0.351</td>\n",
       "      <td>31</td>\n",
       "      <td>0</td>\n",
       "    </tr>\n",
       "    <tr>\n",
       "      <th>3</th>\n",
       "      <td>1</td>\n",
       "      <td>89.0</td>\n",
       "      <td>66.0</td>\n",
       "      <td>23.0</td>\n",
       "      <td>94</td>\n",
       "      <td>28.1</td>\n",
       "      <td>0.167</td>\n",
       "      <td>21</td>\n",
       "      <td>0</td>\n",
       "    </tr>\n",
       "    <tr>\n",
       "      <th>4</th>\n",
       "      <td>0</td>\n",
       "      <td>137.0</td>\n",
       "      <td>40.0</td>\n",
       "      <td>35.0</td>\n",
       "      <td>168</td>\n",
       "      <td>43.1</td>\n",
       "      <td>2.288</td>\n",
       "      <td>33</td>\n",
       "      <td>1</td>\n",
       "    </tr>\n",
       "    <tr>\n",
       "      <th>6</th>\n",
       "      <td>3</td>\n",
       "      <td>78.0</td>\n",
       "      <td>50.0</td>\n",
       "      <td>32.0</td>\n",
       "      <td>88</td>\n",
       "      <td>31.0</td>\n",
       "      <td>0.248</td>\n",
       "      <td>26</td>\n",
       "      <td>1</td>\n",
       "    </tr>\n",
       "  </tbody>\n",
       "</table>\n",
       "</div>"
      ],
      "text/plain": [
       "   Pregnancies  Glucose  BloodPressure  SkinThickness  Insulin   BMI  \\\n",
       "0            6    148.0           72.0           35.0        0  33.6   \n",
       "1            1     85.0           66.0           29.0        0  26.6   \n",
       "3            1     89.0           66.0           23.0       94  28.1   \n",
       "4            0    137.0           40.0           35.0      168  43.1   \n",
       "6            3     78.0           50.0           32.0       88  31.0   \n",
       "\n",
       "   DiabetesPedigreeFunction  Age  Outcome  \n",
       "0                     0.627   50        1  \n",
       "1                     0.351   31        0  \n",
       "3                     0.167   21        0  \n",
       "4                     2.288   33        1  \n",
       "6                     0.248   26        1  "
      ]
     },
     "execution_count": 155,
     "metadata": {},
     "output_type": "execute_result"
    }
   ],
   "source": [
    "fullcols = ['Pregnancies','Age','Outcome', 'DiabetesPedigreeFunction']\n",
    "notnans = pima_df[cols].notnull().all(axis=1)\n",
    "df_notnans = pima_df[notnans]\n",
    "\n",
    "df_notnans.head()"
   ]
  },
  {
   "cell_type": "code",
   "execution_count": 156,
   "metadata": {},
   "outputs": [],
   "source": [
    "# Split into 75% train and 25% test\n",
    "X_train, X_test, y_train, y_test = train_test_split(df_notnans[fullcols], df_notnans[cols],\n",
    "                                                    train_size=0.75,\n",
    "                                                    random_state=4)"
   ]
  },
  {
   "cell_type": "code",
   "execution_count": 157,
   "metadata": {},
   "outputs": [
    {
     "data": {
      "text/plain": [
       "MultiOutputRegressor(estimator=RandomForestRegressor(bootstrap=True, criterion='mse', max_depth=30,\n",
       "           max_features='auto', max_leaf_nodes=None,\n",
       "           min_impurity_decrease=0.0, min_impurity_split=None,\n",
       "           min_samples_leaf=1, min_samples_split=2,\n",
       "           min_weight_fraction_leaf=0.0, n_estimators='warn', n_jobs=None,\n",
       "           oob_score=False, random_state=0, verbose=0, warm_start=False),\n",
       "           n_jobs=None)"
      ]
     },
     "execution_count": 157,
     "metadata": {},
     "output_type": "execute_result"
    }
   ],
   "source": [
    "from sklearn.ensemble import RandomForestRegressor\n",
    "from sklearn.multioutput import MultiOutputRegressor\n",
    "\n",
    "regr_multirf = MultiOutputRegressor(RandomForestRegressor(max_depth=30,\n",
    "                                                          random_state=0))\n",
    "\n",
    "# Fit on the train data\n",
    "regr_multirf.fit(X_train, y_train)\n",
    "\n",
    "# Check the prediction score\n",
    "#score = regr_multirf.score(X_test, y_test)\n",
    "#print(\"The prediction score on the test data is {:.2f}%\".format(score*100))"
   ]
  },
  {
   "cell_type": "code",
   "execution_count": 158,
   "metadata": {
    "scrolled": true
   },
   "outputs": [
    {
     "data": {
      "text/html": [
       "<div>\n",
       "<style scoped>\n",
       "    .dataframe tbody tr th:only-of-type {\n",
       "        vertical-align: middle;\n",
       "    }\n",
       "\n",
       "    .dataframe tbody tr th {\n",
       "        vertical-align: top;\n",
       "    }\n",
       "\n",
       "    .dataframe thead th {\n",
       "        text-align: right;\n",
       "    }\n",
       "</style>\n",
       "<table border=\"1\" class=\"dataframe\">\n",
       "  <thead>\n",
       "    <tr style=\"text-align: right;\">\n",
       "      <th></th>\n",
       "      <th>Pregnancies</th>\n",
       "      <th>Glucose</th>\n",
       "      <th>BloodPressure</th>\n",
       "      <th>SkinThickness</th>\n",
       "      <th>Insulin</th>\n",
       "      <th>BMI</th>\n",
       "      <th>DiabetesPedigreeFunction</th>\n",
       "      <th>Age</th>\n",
       "      <th>Outcome</th>\n",
       "    </tr>\n",
       "  </thead>\n",
       "  <tbody>\n",
       "    <tr>\n",
       "      <th>2</th>\n",
       "      <td>8</td>\n",
       "      <td>111.7</td>\n",
       "      <td>72.0</td>\n",
       "      <td>33.2</td>\n",
       "      <td>0</td>\n",
       "      <td>38.55</td>\n",
       "      <td>0.672</td>\n",
       "      <td>32</td>\n",
       "      <td>1</td>\n",
       "    </tr>\n",
       "    <tr>\n",
       "      <th>5</th>\n",
       "      <td>5</td>\n",
       "      <td>105.3</td>\n",
       "      <td>72.4</td>\n",
       "      <td>32.1</td>\n",
       "      <td>0</td>\n",
       "      <td>34.09</td>\n",
       "      <td>0.201</td>\n",
       "      <td>30</td>\n",
       "      <td>0</td>\n",
       "    </tr>\n",
       "    <tr>\n",
       "      <th>7</th>\n",
       "      <td>10</td>\n",
       "      <td>106.9</td>\n",
       "      <td>77.4</td>\n",
       "      <td>31.9</td>\n",
       "      <td>0</td>\n",
       "      <td>33.32</td>\n",
       "      <td>0.134</td>\n",
       "      <td>29</td>\n",
       "      <td>0</td>\n",
       "    </tr>\n",
       "    <tr>\n",
       "      <th>9</th>\n",
       "      <td>8</td>\n",
       "      <td>182.8</td>\n",
       "      <td>81.2</td>\n",
       "      <td>34.3</td>\n",
       "      <td>0</td>\n",
       "      <td>35.52</td>\n",
       "      <td>0.232</td>\n",
       "      <td>54</td>\n",
       "      <td>1</td>\n",
       "    </tr>\n",
       "    <tr>\n",
       "      <th>10</th>\n",
       "      <td>4</td>\n",
       "      <td>135.7</td>\n",
       "      <td>71.6</td>\n",
       "      <td>33.3</td>\n",
       "      <td>0</td>\n",
       "      <td>36.69</td>\n",
       "      <td>0.191</td>\n",
       "      <td>30</td>\n",
       "      <td>0</td>\n",
       "    </tr>\n",
       "  </tbody>\n",
       "</table>\n",
       "</div>"
      ],
      "text/plain": [
       "    Pregnancies  Glucose  BloodPressure  SkinThickness  Insulin    BMI  \\\n",
       "2             8    111.7           72.0           33.2        0  38.55   \n",
       "5             5    105.3           72.4           32.1        0  34.09   \n",
       "7            10    106.9           77.4           31.9        0  33.32   \n",
       "9             8    182.8           81.2           34.3        0  35.52   \n",
       "10            4    135.7           71.6           33.3        0  36.69   \n",
       "\n",
       "    DiabetesPedigreeFunction  Age  Outcome  \n",
       "2                      0.672   32        1  \n",
       "5                      0.201   30        0  \n",
       "7                      0.134   29        0  \n",
       "9                      0.232   54        1  \n",
       "10                     0.191   30        0  "
      ]
     },
     "execution_count": 158,
     "metadata": {},
     "output_type": "execute_result"
    }
   ],
   "source": [
    "df_nans = pima_df.loc[~notnans].copy()\n",
    "df_nans[cols] = regr_multirf.predict(df_nans[fullcols])\n",
    "df_nans.head()"
   ]
  },
  {
   "cell_type": "code",
   "execution_count": 159,
   "metadata": {
    "scrolled": true
   },
   "outputs": [
    {
     "data": {
      "text/html": [
       "<div>\n",
       "<style scoped>\n",
       "    .dataframe tbody tr th:only-of-type {\n",
       "        vertical-align: middle;\n",
       "    }\n",
       "\n",
       "    .dataframe tbody tr th {\n",
       "        vertical-align: top;\n",
       "    }\n",
       "\n",
       "    .dataframe thead th {\n",
       "        text-align: right;\n",
       "    }\n",
       "</style>\n",
       "<table border=\"1\" class=\"dataframe\">\n",
       "  <thead>\n",
       "    <tr style=\"text-align: right;\">\n",
       "      <th></th>\n",
       "      <th>Pregnancies</th>\n",
       "      <th>Glucose</th>\n",
       "      <th>BloodPressure</th>\n",
       "      <th>SkinThickness</th>\n",
       "      <th>Insulin</th>\n",
       "      <th>BMI</th>\n",
       "      <th>DiabetesPedigreeFunction</th>\n",
       "      <th>Age</th>\n",
       "      <th>Outcome</th>\n",
       "    </tr>\n",
       "  </thead>\n",
       "  <tbody>\n",
       "    <tr>\n",
       "      <th>0</th>\n",
       "      <td>6</td>\n",
       "      <td>148.0</td>\n",
       "      <td>72.0</td>\n",
       "      <td>35.0</td>\n",
       "      <td>0</td>\n",
       "      <td>33.6</td>\n",
       "      <td>0.627</td>\n",
       "      <td>50</td>\n",
       "      <td>1</td>\n",
       "    </tr>\n",
       "    <tr>\n",
       "      <th>1</th>\n",
       "      <td>1</td>\n",
       "      <td>85.0</td>\n",
       "      <td>66.0</td>\n",
       "      <td>29.0</td>\n",
       "      <td>0</td>\n",
       "      <td>26.6</td>\n",
       "      <td>0.351</td>\n",
       "      <td>31</td>\n",
       "      <td>0</td>\n",
       "    </tr>\n",
       "    <tr>\n",
       "      <th>3</th>\n",
       "      <td>1</td>\n",
       "      <td>89.0</td>\n",
       "      <td>66.0</td>\n",
       "      <td>23.0</td>\n",
       "      <td>94</td>\n",
       "      <td>28.1</td>\n",
       "      <td>0.167</td>\n",
       "      <td>21</td>\n",
       "      <td>0</td>\n",
       "    </tr>\n",
       "    <tr>\n",
       "      <th>4</th>\n",
       "      <td>0</td>\n",
       "      <td>137.0</td>\n",
       "      <td>40.0</td>\n",
       "      <td>35.0</td>\n",
       "      <td>168</td>\n",
       "      <td>43.1</td>\n",
       "      <td>2.288</td>\n",
       "      <td>33</td>\n",
       "      <td>1</td>\n",
       "    </tr>\n",
       "    <tr>\n",
       "      <th>6</th>\n",
       "      <td>3</td>\n",
       "      <td>78.0</td>\n",
       "      <td>50.0</td>\n",
       "      <td>32.0</td>\n",
       "      <td>88</td>\n",
       "      <td>31.0</td>\n",
       "      <td>0.248</td>\n",
       "      <td>26</td>\n",
       "      <td>1</td>\n",
       "    </tr>\n",
       "  </tbody>\n",
       "</table>\n",
       "</div>"
      ],
      "text/plain": [
       "   Pregnancies  Glucose  BloodPressure  SkinThickness  Insulin   BMI  \\\n",
       "0            6    148.0           72.0           35.0        0  33.6   \n",
       "1            1     85.0           66.0           29.0        0  26.6   \n",
       "3            1     89.0           66.0           23.0       94  28.1   \n",
       "4            0    137.0           40.0           35.0      168  43.1   \n",
       "6            3     78.0           50.0           32.0       88  31.0   \n",
       "\n",
       "   DiabetesPedigreeFunction  Age  Outcome  \n",
       "0                     0.627   50        1  \n",
       "1                     0.351   31        0  \n",
       "3                     0.167   21        0  \n",
       "4                     2.288   33        1  \n",
       "6                     0.248   26        1  "
      ]
     },
     "execution_count": 159,
     "metadata": {},
     "output_type": "execute_result"
    }
   ],
   "source": [
    "frames = [df_notnans, df_nans]\n",
    "new_df = pd.concat(frames)\n",
    "new_df.head()"
   ]
  },
  {
   "cell_type": "code",
   "execution_count": 160,
   "metadata": {},
   "outputs": [
    {
     "name": "stdout",
     "output_type": "stream",
     "text": [
      "Training Set Accuracy of Model: 81.15183246073299%\n",
      "Testing Set Accuracy of Model: 75.91623036649214%\n",
      "CLF3 Model Coefficients: [[ 0.04380797  0.02468731 -0.00885319  0.01307462 -0.00053005  0.03261905\n",
      "   0.00645488  0.00094916]]\n"
     ]
    }
   ],
   "source": [
    "X = new_df.drop('Outcome', axis=1)\n",
    "Y = new_df['Outcome']\n",
    "\n",
    "# Splitting into train and test\n",
    "x_train, x_test, y_train, y_test = train_test_split(X, Y, test_size=0.25, random_state=9001)\n",
    "\n",
    "#Add constant to x_train and x_test\n",
    "x_train_cst = sm.add_constant(x_train)\n",
    "x_test_cst = sm.add_constant(x_test)\n",
    "\n",
    "#Training\n",
    "clf3 = LogisticRegressionCV(cv=5, random_state=0,\n",
    "                            multi_class='multinomial').fit(x_train, y_train)\n",
    "\n",
    "clf3_y_pred_train = clf3.predict(x_train)\n",
    "clf3_y_pred_test = clf3.predict(x_test)\n",
    "clf3_train_score = accuracy_score(y_train, clf3_y_pred_train)*100\n",
    "clf3_test_score = accuracy_score(y_test, clf3_y_pred_test)*100\n",
    "\n",
    "print(\"Training Set Accuracy of Model:\",str(clf3_train_score)+'%')\n",
    "print(\"Testing Set Accuracy of Model:\",str(clf3_test_score)+'%')\n",
    "print(\"CLF3 Model Coefficients:\", str(clf3.coef_))"
   ]
  },
  {
   "cell_type": "markdown",
   "metadata": {},
   "source": [
    "**2.5** Compare the results in the 3 previous parts of this problem.  Prepare a paragraph (5-6 sentences) discussing the results, the computational complexity of the methods,  and explain why you get the results that you see."
   ]
  },
  {
   "cell_type": "markdown",
   "metadata": {},
   "source": [
    "With the model-based imputation is more computationally complex, and because it doesn't have an error term associated with it you can bias the model -- suggesting greater precision with the imputed values than is warranted. You could improve this by adding in stochastic noise into the imputation regression. With the mean imputation, you get the highest testing set accuracy, although it's not much higher than the model-based imputation. Similar to the model-based imputation, you're biasing your data, but this time toward the mean. We would've expected that the testing set accuracy for the cross validation model would be higher than the straight forwrad logistic model, because CV is supposed to curb over-fitting, so we're not quite sure why our testing set accuracy is higher for the CV model."
   ]
  },
  {
   "cell_type": "markdown",
   "metadata": {},
   "source": [
    "**2.6** This question does not have one answer and requires some experimentation. Check which coefficients changed the most between the model in 2.1-2.2 and the models in 2.3 and 2.4. Are they the coefficients you expected to change given the imputation you performed? If not explain why (supporting your explanation using the data is always a good idea)."
   ]
  },
  {
   "cell_type": "code",
   "execution_count": 162,
   "metadata": {},
   "outputs": [
    {
     "name": "stdout",
     "output_type": "stream",
     "text": [
      "Logit Model Coefficients: [[0.00648657 0.01747151 0.00430215 0.00799617 0.00070832 0.00910086\n",
      "  0.00085338 0.01216845]]\n",
      "CLF Model Coefficients: [[0.00648657 0.01747151 0.00430215 0.00799617 0.00070832 0.00910086\n",
      "  0.00085338 0.01216845]]\n",
      "CLF2 Model Coefficients: [[ 0.07533423  0.02041884 -0.00649523 -0.00431183 -0.00084446  0.05415994\n",
      "   0.54068273  0.00726895]]\n",
      "CLF3 Model Coefficients: [[ 0.04380797  0.02468731 -0.00885319  0.01307462 -0.00053005  0.03261905\n",
      "   0.00645488  0.00094916]]\n"
     ]
    }
   ],
   "source": [
    "#Get the coefficients of each model\n",
    "print(\"Logit Model Coefficients:\", str(clf.coef_))\n",
    "print(\"CLF Model Coefficients:\", str(clf.coef_))\n",
    "print(\"CLF2 Model Coefficients:\", str(clf2.coef_))\n",
    "print(\"CLF3 Model Coefficients:\", str(clf3.coef_))"
   ]
  },
  {
   "cell_type": "markdown",
   "metadata": {},
   "source": [
    "The coefficients that we want to pay attention to are the ones that we imputed, so `Glucose` `BloodPressure` `SkinThickness` and `BMI`. The coefficients see the most drastic changes after imputation, and there really aren't any differences in the coefficients in the first two models. We expected the coefficients to change between the models in 2.3 and 2.4 because of the imputation we performed. However, some of the coefficients change by several orders of magnitude across the two models, because we haven't normalized the data. With the variables that changed positive or negative depending on the imputation, they clearly didn't have a lot of predictive power on the model because they were so easily influenced."
   ]
  },
  {
   "cell_type": "code",
   "execution_count": null,
   "metadata": {},
   "outputs": [],
   "source": []
  }
 ],
 "metadata": {
  "anaconda-cloud": {},
  "kernelspec": {
   "display_name": "Python 3",
   "language": "python",
   "name": "python3"
  },
  "language_info": {
   "codemirror_mode": {
    "name": "ipython",
    "version": 3
   },
   "file_extension": ".py",
   "mimetype": "text/x-python",
   "name": "python",
   "nbconvert_exporter": "python",
   "pygments_lexer": "ipython3",
   "version": "3.6.5"
  }
 },
 "nbformat": 4,
 "nbformat_minor": 2
}
>>>>>>> 3f30364fbf1cf1f1b17cea006d2651671a307860
